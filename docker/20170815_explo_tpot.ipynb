{
 "cells": [
  {
   "cell_type": "code",
   "execution_count": 53,
   "metadata": {},
   "outputs": [],
   "source": [
    "import pandas as pd\n",
    "import numpy as np\n",
    "from tpot import TPOTRegressor\n",
    "from sklearn.model_selection import train_test_split\n",
    "from sklearn.preprocessing import LabelBinarizer, MultiLabelBinarizer, OneHotEncoder, Imputer\n",
    "from sklearn.metrics import mean_squared_log_error"
   ]
  },
  {
   "cell_type": "markdown",
   "metadata": {},
   "source": [
    "## read data"
   ]
  },
  {
   "cell_type": "code",
   "execution_count": 92,
   "metadata": {},
   "outputs": [],
   "source": [
    "train_df = pd.read_csv('/var/data/train.csv')\n",
    "test_df = pd.read_csv('/var/data/test.csv')"
   ]
  },
  {
   "cell_type": "code",
   "execution_count": 48,
   "metadata": {},
   "outputs": [
    {
     "name": "stdout",
     "output_type": "stream",
     "text": [
      "(1460, 81)\n",
      "(1459, 80)\n"
     ]
    }
   ],
   "source": [
    "print(train_df.shape)\n",
    "print(test_df.shape)"
   ]
  },
  {
   "cell_type": "markdown",
   "metadata": {},
   "source": [
    "## data preprocessing"
   ]
  },
  {
   "cell_type": "markdown",
   "metadata": {},
   "source": [
    "### use IDs as index"
   ]
  },
  {
   "cell_type": "code",
   "execution_count": 93,
   "metadata": {},
   "outputs": [],
   "source": [
    "train_df.set_index('Id', inplace=True, verify_integrity=True)\n",
    "test_df.set_index('Id', inplace=True, verify_integrity=True)"
   ]
  },
  {
   "cell_type": "markdown",
   "metadata": {},
   "source": [
    "### cleaning"
   ]
  },
  {
   "cell_type": "markdown",
   "metadata": {},
   "source": [
    "The target variable has to be called **class** (tpot internal constraint)"
   ]
  },
  {
   "cell_type": "code",
   "execution_count": 94,
   "metadata": {},
   "outputs": [],
   "source": [
    "train_df.rename(columns={'SalePrice': 'class'}, inplace=True)"
   ]
  },
  {
   "cell_type": "markdown",
   "metadata": {},
   "source": [
    "### missing values imputation\n",
    "\n",
    "Based on [kaggle doc](https://www.kaggle.com/c/house-prices-advanced-regression-techniques/data)"
   ]
  },
  {
   "cell_type": "code",
   "execution_count": 95,
   "metadata": {},
   "outputs": [],
   "source": [
    "# on train set\n",
    "train_df.LotFrontage.fillna(value=0.0, inplace=True)\n",
    "train_df.Alley.fillna(value='No alley', inplace=True)\n",
    "train_df[['BsmtQual', 'BsmtCond', 'BsmtExposure', 'BsmtFinType1', 'BsmtFinType2']] = train_df[['BsmtQual', 'BsmtCond', 'BsmtExposure', 'BsmtFinType1', 'BsmtFinType2']].fillna(value='No basement')\n",
    "train_df.FireplaceQu.fillna(value='No fireplace', inplace=True)\n",
    "train_df[['GarageType', 'GarageFinish', 'GarageQual', 'GarageCond']] = train_df[['GarageType', 'GarageFinish', 'GarageQual', 'GarageCond']].fillna(value='No garage')\n",
    "train_df.PoolQC.fillna(value='No pool', inplace=True)\n",
    "train_df.Fence.fillna(value='No fence', inplace=True)\n",
    "train_df.MiscFeature.fillna(value='No extra', inplace=True)\n",
    "\n",
    "train_df.MasVnrType.fillna(value='Unknown', inplace=True)\n",
    "train_df.drop(['MasVnrArea', 'GarageYrBlt', 'MiscVal'], axis=1, inplace=True)"
   ]
  },
  {
   "cell_type": "markdown",
   "metadata": {},
   "source": [
    "Fill missing value for variable _Electrical_ with a possible value"
   ]
  },
  {
   "cell_type": "code",
   "execution_count": 8,
   "metadata": {},
   "outputs": [
    {
     "name": "stdout",
     "output_type": "stream",
     "text": [
      "Id\n",
      "1380    NaN\n",
      "Name: Electrical, dtype: object\n"
     ]
    }
   ],
   "source": [
    "print(train_df.loc[train_df.Electrical.isnull(), 'Electrical'])"
   ]
  },
  {
   "cell_type": "code",
   "execution_count": 9,
   "metadata": {},
   "outputs": [
    {
     "data": {
      "text/plain": [
       "count      1459\n",
       "unique        5\n",
       "top       SBrkr\n",
       "freq       1334\n",
       "Name: Electrical, dtype: object"
      ]
     },
     "execution_count": 9,
     "metadata": {},
     "output_type": "execute_result"
    }
   ],
   "source": [
    "train_df.Electrical.describe()"
   ]
  },
  {
   "cell_type": "code",
   "execution_count": 96,
   "metadata": {},
   "outputs": [],
   "source": [
    "train_df.Electrical.fillna(value='SBrkr', inplace=True)"
   ]
  },
  {
   "cell_type": "code",
   "execution_count": 97,
   "metadata": {},
   "outputs": [],
   "source": [
    "# on test set\n",
    "test_df.LotFrontage.fillna(value=0.0, inplace=True)\n",
    "test_df.Alley.fillna(value='No alley', inplace=True)\n",
    "test_df[['BsmtQual', 'BsmtCond', 'BsmtExposure', 'BsmtFinType1', 'BsmtFinType2']] = test_df[['BsmtQual', 'BsmtCond', 'BsmtExposure', 'BsmtFinType1', 'BsmtFinType2']].fillna(value='No basement')\n",
    "test_df.FireplaceQu.fillna(value='No fireplace', inplace=True)\n",
    "test_df[['GarageType', 'GarageFinish', 'GarageQual', 'GarageCond']] = test_df[['GarageType', 'GarageFinish', 'GarageQual', 'GarageCond']].fillna(value='No garage')\n",
    "test_df.PoolQC.fillna(value='No pool', inplace=True)\n",
    "test_df.Fence.fillna(value='No fence', inplace=True)\n",
    "test_df.MiscFeature.fillna(value='No extra', inplace=True)\n",
    "\n",
    "test_df.MasVnrType.fillna(value='Unknown', inplace=True)\n",
    "test_df.drop(['MasVnrArea', 'GarageYrBlt', 'MiscVal'], axis=1, inplace=True)"
   ]
  },
  {
   "cell_type": "code",
   "execution_count": 98,
   "metadata": {},
   "outputs": [],
   "source": [
    "test_df.Electrical.fillna(value='SBrkr', inplace=True)"
   ]
  },
  {
   "cell_type": "code",
   "execution_count": 75,
   "metadata": {},
   "outputs": [
    {
     "data": {
      "text/plain": [
       "count     1455\n",
       "unique       5\n",
       "top         RL\n",
       "freq      1114\n",
       "Name: MSZoning, dtype: object"
      ]
     },
     "execution_count": 75,
     "metadata": {},
     "output_type": "execute_result"
    }
   ],
   "source": [
    "test_df.MSZoning.describe()"
   ]
  },
  {
   "cell_type": "code",
   "execution_count": 74,
   "metadata": {},
   "outputs": [
    {
     "name": "stdout",
     "output_type": "stream",
     "text": [
      "Id\n",
      "1916    NaN\n",
      "2217    NaN\n",
      "2251    NaN\n",
      "2905    NaN\n",
      "Name: MSZoning, dtype: object\n"
     ]
    }
   ],
   "source": [
    "print(test_df.loc[test_df.MSZoning.isnull(), 'MSZoning'])"
   ]
  },
  {
   "cell_type": "code",
   "execution_count": 101,
   "metadata": {},
   "outputs": [],
   "source": [
    "test_df.MSZoning.fillna(value='RL', inplace=True)"
   ]
  },
  {
   "cell_type": "code",
   "execution_count": 79,
   "metadata": {},
   "outputs": [
    {
     "data": {
      "text/plain": [
       "count       1457\n",
       "unique         1\n",
       "top       AllPub\n",
       "freq        1457\n",
       "Name: Utilities, dtype: object"
      ]
     },
     "execution_count": 79,
     "metadata": {},
     "output_type": "execute_result"
    }
   ],
   "source": [
    "test_df.Utilities.describe()"
   ]
  },
  {
   "cell_type": "code",
   "execution_count": 102,
   "metadata": {},
   "outputs": [],
   "source": [
    "test_df.Utilities.fillna(value='AllPub', inplace=True)"
   ]
  },
  {
   "cell_type": "code",
   "execution_count": 83,
   "metadata": {},
   "outputs": [
    {
     "data": {
      "text/plain": [
       "count        1458\n",
       "unique         13\n",
       "top       VinylSd\n",
       "freq          510\n",
       "Name: Exterior1st, dtype: object"
      ]
     },
     "execution_count": 83,
     "metadata": {},
     "output_type": "execute_result"
    }
   ],
   "source": [
    "test_df.Exterior1st.describe()"
   ]
  },
  {
   "cell_type": "code",
   "execution_count": 103,
   "metadata": {},
   "outputs": [],
   "source": [
    "test_df.Exterior1st.fillna(value='VinylSd', inplace=True)"
   ]
  },
  {
   "cell_type": "code",
   "execution_count": 87,
   "metadata": {},
   "outputs": [
    {
     "data": {
      "text/plain": [
       "count        1458\n",
       "unique         15\n",
       "top       VinylSd\n",
       "freq          510\n",
       "Name: Exterior2nd, dtype: object"
      ]
     },
     "execution_count": 87,
     "metadata": {},
     "output_type": "execute_result"
    }
   ],
   "source": [
    "test_df.Exterior2nd.describe()"
   ]
  },
  {
   "cell_type": "code",
   "execution_count": 104,
   "metadata": {},
   "outputs": [],
   "source": [
    "test_df.Exterior2nd.fillna(value='VinylSd', inplace=True)"
   ]
  },
  {
   "cell_type": "code",
   "execution_count": 108,
   "metadata": {},
   "outputs": [
    {
     "data": {
      "text/plain": [
       "count     1458\n",
       "unique       4\n",
       "top         TA\n",
       "freq       757\n",
       "Name: KitchenQual, dtype: object"
      ]
     },
     "execution_count": 108,
     "metadata": {},
     "output_type": "execute_result"
    }
   ],
   "source": [
    "test_df.KitchenQual.describe()"
   ]
  },
  {
   "cell_type": "code",
   "execution_count": 109,
   "metadata": {},
   "outputs": [],
   "source": [
    "test_df.KitchenQual.fillna(value='TA', inplace=True)"
   ]
  },
  {
   "cell_type": "code",
   "execution_count": 112,
   "metadata": {},
   "outputs": [
    {
     "data": {
      "text/plain": [
       "count     1457\n",
       "unique       7\n",
       "top        Typ\n",
       "freq      1357\n",
       "Name: Functional, dtype: object"
      ]
     },
     "execution_count": 112,
     "metadata": {},
     "output_type": "execute_result"
    }
   ],
   "source": [
    "test_df.Functional.describe()"
   ]
  },
  {
   "cell_type": "code",
   "execution_count": 114,
   "metadata": {},
   "outputs": [],
   "source": [
    "test_df.Functional.fillna(value='Typ', inplace=True)"
   ]
  },
  {
   "cell_type": "code",
   "execution_count": 117,
   "metadata": {},
   "outputs": [
    {
     "data": {
      "text/plain": [
       "count     1458\n",
       "unique       9\n",
       "top         WD\n",
       "freq      1258\n",
       "Name: SaleType, dtype: object"
      ]
     },
     "execution_count": 117,
     "metadata": {},
     "output_type": "execute_result"
    }
   ],
   "source": [
    "test_df.SaleType.describe()"
   ]
  },
  {
   "cell_type": "code",
   "execution_count": 118,
   "metadata": {},
   "outputs": [],
   "source": [
    "test_df.SaleType.fillna(value='WD', inplace=True)"
   ]
  },
  {
   "cell_type": "markdown",
   "metadata": {},
   "source": [
    "### transform categorical variables into numerical (scikit-learn requirement)"
   ]
  },
  {
   "cell_type": "markdown",
   "metadata": {},
   "source": [
    "#### Label Binariser\n",
    "Transform categorical variables into one-hot-encoded variables"
   ]
  },
  {
   "cell_type": "code",
   "execution_count": 119,
   "metadata": {},
   "outputs": [],
   "source": [
    "lb_var_list = ['MSZoning', 'Street', 'Alley', 'LotShape', 'LandContour', 'Utilities', 'LotConfig', 'LandSlope', \n",
    "               'Neighborhood', 'Condition1', 'Condition2', 'BldgType', 'HouseStyle', 'RoofStyle', 'RoofMatl',\n",
    "               'Exterior1st', 'Exterior2nd', 'MasVnrType', 'ExterQual', 'ExterCond', 'Foundation', 'BsmtQual', \n",
    "               'BsmtCond', 'BsmtExposure', 'BsmtFinType1', 'BsmtFinType2', 'Heating', 'HeatingQC', 'CentralAir', \n",
    "               'Electrical', 'KitchenQual', 'Functional', 'FireplaceQu', 'GarageType', 'GarageFinish', 'GarageQual', \n",
    "               'GarageCond', 'PavedDrive', 'PoolQC', 'Fence', 'MiscFeature', 'SaleType', 'SaleCondition']\n",
    "lb_transfo_list = ['lb_' + var for var in lb_var_list]\n",
    "lb_model_list = ['lb_' + var + '_model' for var in lb_var_list]\n",
    "lb_train_list = [var + '_train' for var in lb_var_list]\n",
    "\n",
    "lb_transfo_dict = {}\n",
    "for transfo in lb_transfo_list:\n",
    "    lb_transfo_dict[transfo] = LabelBinarizer()\n",
    "\n",
    "lb_model_dict = {}\n",
    "lb_train_dict = {}\n",
    "lb_test_dict = {}\n",
    "for i in range(len(lb_var_list)):\n",
    "    lb_model_dict[lb_model_list[i]] = lb_transfo_dict[lb_transfo_list[i]].fit(train_df[lb_var_list[i]])\n",
    "    lb_train_dict[lb_train_list[i]] = lb_model_dict[lb_model_list[i]].transform(train_df[lb_var_list[i]])\n",
    "    # transform test set\n",
    "    lb_test_dict[lb_train_list[i]] = lb_model_dict[lb_model_list[i]].transform(test_df[lb_var_list[i]])"
   ]
  },
  {
   "cell_type": "code",
   "execution_count": 12,
   "metadata": {},
   "outputs": [
    {
     "data": {
      "text/plain": [
       "43"
      ]
     },
     "execution_count": 12,
     "metadata": {},
     "output_type": "execute_result"
    }
   ],
   "source": [
    "len(lb_train_dict)"
   ]
  },
  {
   "cell_type": "markdown",
   "metadata": {
    "collapsed": true
   },
   "source": [
    "#### One Hot Encoder\n",
    "Transform numerical variables into one-hot-encoded variables"
   ]
  },
  {
   "cell_type": "code",
   "execution_count": 120,
   "metadata": {},
   "outputs": [],
   "source": [
    "ohe_var_list = ['MSSubClass', 'MoSold']\n",
    "ohe_transfo_list = ['ohe_' + var for var in ohe_var_list]\n",
    "ohe_model_list = ['ohe_' + var + '_model' for var in ohe_var_list]\n",
    "ohe_train_list = [var + '_train' for var in ohe_var_list]\n",
    "\n",
    "ohe_transfo_dict = {}\n",
    "for transfo in ohe_transfo_list:\n",
    "    ohe_transfo_dict[transfo] = OneHotEncoder(sparse=False)\n",
    "\n",
    "ohe_model_dict = {}\n",
    "ohe_train_dict = {}\n",
    "ohe_test_dict = {}\n",
    "for i in range(len(ohe_var_list)):\n",
    "    ohe_model_dict[ohe_model_list[i]] = ohe_transfo_dict[ohe_transfo_list[i]].fit(train_df[ohe_var_list[i]].values.reshape(-1, 1))\n",
    "    ohe_train_dict[ohe_train_list[i]] = ohe_model_dict[ohe_model_list[i]].transform(train_df[ohe_var_list[i]].values.reshape(-1, 1))\n",
    "    # transform test set\n",
    "    ohe_test_dict[ohe_train_list[i]] = ohe_model_dict[ohe_model_list[i]].transform(test_df[ohe_var_list[i]].values.reshape(-1, 1))\n",
    "    "
   ]
  },
  {
   "cell_type": "code",
   "execution_count": 15,
   "metadata": {},
   "outputs": [
    {
     "data": {
      "text/plain": [
       "2"
      ]
     },
     "execution_count": 15,
     "metadata": {},
     "output_type": "execute_result"
    }
   ],
   "source": [
    "len(ohe_train_dict)"
   ]
  },
  {
   "cell_type": "markdown",
   "metadata": {},
   "source": [
    "#### Concatenate transformed features into numpy array"
   ]
  },
  {
   "cell_type": "code",
   "execution_count": 61,
   "metadata": {},
   "outputs": [],
   "source": [
    "# Untouched variables\n",
    "unt_var_list = list(set(train_df.columns) - set(lb_var_list) - set(ohe_var_list) - {'class'})"
   ]
  },
  {
   "cell_type": "code",
   "execution_count": 62,
   "metadata": {},
   "outputs": [],
   "source": [
    "array_unt = train_df.as_matrix(columns=unt_var_list)\n",
    "array_lb = np.hstack(tuple([value[1] for value in lb_train_dict.items()]))\n",
    "array_ohe = np.hstack(tuple([value[1] for value in ohe_train_dict.items()]))"
   ]
  },
  {
   "cell_type": "code",
   "execution_count": 63,
   "metadata": {},
   "outputs": [],
   "source": [
    "train_array = np.hstack((array_unt, array_lb, array_ohe))"
   ]
  },
  {
   "cell_type": "code",
   "execution_count": 39,
   "metadata": {},
   "outputs": [
    {
     "data": {
      "text/plain": [
       "(1460, 322)"
      ]
     },
     "execution_count": 39,
     "metadata": {},
     "output_type": "execute_result"
    }
   ],
   "source": [
    "train_array.shape"
   ]
  },
  {
   "cell_type": "code",
   "execution_count": 121,
   "metadata": {},
   "outputs": [],
   "source": [
    "# create test_array\n",
    "array_unt = test_df.as_matrix(columns=unt_var_list)\n",
    "array_lb = np.hstack(tuple([value[1] for value in lb_test_dict.items()]))\n",
    "array_ohe = np.hstack(tuple([value[1] for value in ohe_test_dict.items()]))\n",
    "\n",
    "test_array = np.hstack((array_unt, array_lb, array_ohe))"
   ]
  },
  {
   "cell_type": "markdown",
   "metadata": {
    "collapsed": true
   },
   "source": [
    "## tpot "
   ]
  },
  {
   "cell_type": "markdown",
   "metadata": {},
   "source": [
    "### customised scoring function\n",
    "\n",
    "Kaggle requirement: Submissions are evaluated on Root-Mean-Squared-Error (RMSE) between the logarithm of the predicted value and the logarithm of the observed sales price."
   ]
  },
  {
   "cell_type": "code",
   "execution_count": 65,
   "metadata": {},
   "outputs": [],
   "source": [
    "def log_rmse(y_true, y_pred):\n",
    "    return mean_squared_log_error(y_true, y_pred)"
   ]
  },
  {
   "cell_type": "markdown",
   "metadata": {},
   "source": [
    "### fit"
   ]
  },
  {
   "cell_type": "code",
   "execution_count": 66,
   "metadata": {
    "scrolled": true
   },
   "outputs": [
    {
     "name": "stderr",
     "output_type": "stream",
     "text": [
      "Optimization Progress:   2%|▏         | 20/1010 [00:26<1:25:30,  5.18s/pipeline]"
     ]
    },
    {
     "name": "stdout",
     "output_type": "stream",
     "text": [
      "Generation 1 - Current best internal CV score: 0.1257970211387605\n"
     ]
    },
    {
     "name": "stderr",
     "output_type": "stream",
     "text": [
      "Optimization Progress:   3%|▎         | 30/1010 [01:11<1:20:36,  4.94s/pipeline]"
     ]
    },
    {
     "name": "stdout",
     "output_type": "stream",
     "text": [
      "Generation 2 - Current best internal CV score: 0.1257970211387605\n"
     ]
    },
    {
     "name": "stderr",
     "output_type": "stream",
     "text": [
      "Optimization Progress:   4%|▍         | 40/1010 [01:23<57:58,  3.59s/pipeline]  "
     ]
    },
    {
     "name": "stdout",
     "output_type": "stream",
     "text": [
      "Generation 3 - Current best internal CV score: 0.1272284492287556\n"
     ]
    },
    {
     "name": "stderr",
     "output_type": "stream",
     "text": [
      "Optimization Progress:   5%|▍         | 50/1010 [01:26<31:27,  1.97s/pipeline]"
     ]
    },
    {
     "name": "stdout",
     "output_type": "stream",
     "text": [
      "Generation 4 - Current best internal CV score: 0.16800958532208238\n"
     ]
    },
    {
     "name": "stderr",
     "output_type": "stream",
     "text": [
      "Optimization Progress:   6%|▌         | 60/1010 [01:28<18:12,  1.15s/pipeline]"
     ]
    },
    {
     "name": "stdout",
     "output_type": "stream",
     "text": [
      "Generation 5 - Current best internal CV score: 0.16804950561722615\n"
     ]
    },
    {
     "name": "stderr",
     "output_type": "stream",
     "text": [
      "Optimization Progress:   7%|▋         | 70/1010 [01:30<14:16,  1.10pipeline/s]"
     ]
    },
    {
     "name": "stdout",
     "output_type": "stream",
     "text": [
      "Generation 6 - Current best internal CV score: 0.16804950561722615\n"
     ]
    },
    {
     "name": "stderr",
     "output_type": "stream",
     "text": [
      "Optimization Progress:   8%|▊         | 80/1010 [01:32<10:06,  1.53pipeline/s]"
     ]
    },
    {
     "name": "stdout",
     "output_type": "stream",
     "text": [
      "Generation 7 - Current best internal CV score: 0.16805180132169442\n"
     ]
    },
    {
     "name": "stderr",
     "output_type": "stream",
     "text": [
      "Optimization Progress:   9%|▉         | 90/1010 [01:39<15:00,  1.02pipeline/s]"
     ]
    },
    {
     "name": "stdout",
     "output_type": "stream",
     "text": [
      "Generation 8 - Current best internal CV score: 0.17216167317413428\n"
     ]
    },
    {
     "name": "stderr",
     "output_type": "stream",
     "text": [
      "Optimization Progress:  10%|█         | 101/1010 [39:54<60:55:41, 241.30s/pipeline]"
     ]
    },
    {
     "name": "stdout",
     "output_type": "stream",
     "text": [
      "Generation 9 - Current best internal CV score: 0.17216167317413428\n"
     ]
    },
    {
     "name": "stderr",
     "output_type": "stream",
     "text": [
      "Optimization Progress:  11%|█         | 111/1010 [40:03<29:44:50, 119.12s/pipeline]"
     ]
    },
    {
     "name": "stdout",
     "output_type": "stream",
     "text": [
      "Generation 10 - Current best internal CV score: 0.17216167317413428\n"
     ]
    },
    {
     "name": "stderr",
     "output_type": "stream",
     "text": [
      "Optimization Progress:  12%|█▏        | 121/1010 [40:08<20:41:46, 83.81s/pipeline] "
     ]
    },
    {
     "name": "stdout",
     "output_type": "stream",
     "text": [
      "Generation 11 - Current best internal CV score: 0.20835816422084955\n"
     ]
    },
    {
     "name": "stderr",
     "output_type": "stream",
     "text": [
      "Optimization Progress:  13%|█▎        | 131/1010 [40:21<7:19:46, 30.02s/pipeline] "
     ]
    },
    {
     "name": "stdout",
     "output_type": "stream",
     "text": [
      "Generation 12 - Current best internal CV score: 0.20835816422084955\n"
     ]
    },
    {
     "name": "stderr",
     "output_type": "stream",
     "text": [
      "Optimization Progress:  14%|█▍        | 141/1010 [40:39<4:00:29, 16.60s/pipeline]"
     ]
    },
    {
     "name": "stdout",
     "output_type": "stream",
     "text": [
      "Generation 13 - Current best internal CV score: 0.3314262056479383\n"
     ]
    },
    {
     "name": "stderr",
     "output_type": "stream",
     "text": [
      "Optimization Progress:  15%|█▍        | 151/1010 [40:46<2:07:13,  8.89s/pipeline]"
     ]
    },
    {
     "name": "stdout",
     "output_type": "stream",
     "text": [
      "Generation 14 - Current best internal CV score: 0.3314262056479383\n"
     ]
    },
    {
     "name": "stderr",
     "output_type": "stream",
     "text": [
      "Optimization Progress:  16%|█▌        | 161/1010 [40:49<1:32:28,  6.54s/pipeline]"
     ]
    },
    {
     "name": "stdout",
     "output_type": "stream",
     "text": [
      "Generation 15 - Current best internal CV score: 0.3314262056479383\n"
     ]
    },
    {
     "name": "stderr",
     "output_type": "stream",
     "text": [
      "Optimization Progress:  17%|█▋        | 171/1010 [41:01<42:48,  3.06s/pipeline]  "
     ]
    },
    {
     "name": "stdout",
     "output_type": "stream",
     "text": [
      "Generation 16 - Current best internal CV score: 0.3314262056479383\n"
     ]
    },
    {
     "name": "stderr",
     "output_type": "stream",
     "text": [
      "Optimization Progress:  18%|█▊        | 181/1010 [41:17<1:34:19,  6.83s/pipeline]"
     ]
    },
    {
     "name": "stdout",
     "output_type": "stream",
     "text": [
      "Generation 17 - Current best internal CV score: 0.3314262056479383\n"
     ]
    },
    {
     "name": "stderr",
     "output_type": "stream",
     "text": [
      "Optimization Progress:  19%|█▉        | 191/1010 [41:33<1:36:48,  7.09s/pipeline]"
     ]
    },
    {
     "name": "stdout",
     "output_type": "stream",
     "text": [
      "Generation 18 - Current best internal CV score: 0.3314262056479383\n"
     ]
    },
    {
     "name": "stderr",
     "output_type": "stream",
     "text": [
      "Optimization Progress:  20%|█▉        | 201/1010 [41:51<1:56:11,  8.62s/pipeline]"
     ]
    },
    {
     "name": "stdout",
     "output_type": "stream",
     "text": [
      "Generation 19 - Current best internal CV score: 0.3314262056479383\n"
     ]
    },
    {
     "name": "stderr",
     "output_type": "stream",
     "text": [
      "Optimization Progress:  21%|██        | 211/1010 [42:31<3:35:06, 16.15s/pipeline]"
     ]
    },
    {
     "name": "stdout",
     "output_type": "stream",
     "text": [
      "Generation 20 - Current best internal CV score: 0.3314262056479383\n"
     ]
    },
    {
     "name": "stderr",
     "output_type": "stream",
     "text": [
      "Optimization Progress:  22%|██▏       | 221/1010 [42:44<2:37:20, 11.96s/pipeline]"
     ]
    },
    {
     "name": "stdout",
     "output_type": "stream",
     "text": [
      "Generation 21 - Current best internal CV score: 0.348724143550921\n"
     ]
    },
    {
     "name": "stderr",
     "output_type": "stream",
     "text": [
      "Optimization Progress:  23%|██▎       | 231/1010 [42:58<2:05:11,  9.64s/pipeline]"
     ]
    },
    {
     "name": "stdout",
     "output_type": "stream",
     "text": [
      "Generation 22 - Current best internal CV score: 0.348724143550921\n"
     ]
    },
    {
     "name": "stderr",
     "output_type": "stream",
     "text": [
      "Optimization Progress:  24%|██▍       | 241/1010 [43:13<1:21:45,  6.38s/pipeline]"
     ]
    },
    {
     "name": "stdout",
     "output_type": "stream",
     "text": [
      "Generation 23 - Current best internal CV score: 0.348724143550921\n"
     ]
    },
    {
     "name": "stderr",
     "output_type": "stream",
     "text": [
      "Optimization Progress:  25%|██▍       | 251/1010 [43:24<53:45,  4.25s/pipeline]  "
     ]
    },
    {
     "name": "stdout",
     "output_type": "stream",
     "text": [
      "Generation 24 - Current best internal CV score: 0.348724143550921\n"
     ]
    },
    {
     "name": "stderr",
     "output_type": "stream",
     "text": [
      "Optimization Progress:  26%|██▌       | 261/1010 [43:37<43:20,  3.47s/pipeline]  "
     ]
    },
    {
     "name": "stdout",
     "output_type": "stream",
     "text": [
      "Generation 25 - Current best internal CV score: 0.348724143550921\n"
     ]
    },
    {
     "name": "stderr",
     "output_type": "stream",
     "text": [
      "Optimization Progress:  27%|██▋       | 271/1010 [44:07<59:14,  4.81s/pipeline]  "
     ]
    },
    {
     "name": "stdout",
     "output_type": "stream",
     "text": [
      "Generation 26 - Current best internal CV score: 0.348724143550921\n"
     ]
    },
    {
     "name": "stderr",
     "output_type": "stream",
     "text": [
      "Optimization Progress:  28%|██▊       | 281/1010 [44:24<1:13:04,  6.01s/pipeline]"
     ]
    },
    {
     "name": "stdout",
     "output_type": "stream",
     "text": [
      "Generation 27 - Current best internal CV score: 0.348724143550921\n"
     ]
    },
    {
     "name": "stderr",
     "output_type": "stream",
     "text": [
      "Optimization Progress:  29%|██▉       | 291/1010 [45:57<6:07:44, 30.69s/pipeline]"
     ]
    },
    {
     "name": "stdout",
     "output_type": "stream",
     "text": [
      "Generation 28 - Current best internal CV score: 0.348724143550921\n"
     ]
    },
    {
     "name": "stderr",
     "output_type": "stream",
     "text": [
      "Optimization Progress:  30%|██▉       | 301/1010 [46:15<2:18:49, 11.75s/pipeline]"
     ]
    },
    {
     "name": "stdout",
     "output_type": "stream",
     "text": [
      "Generation 29 - Current best internal CV score: 0.35192681532719805\n"
     ]
    },
    {
     "name": "stderr",
     "output_type": "stream",
     "text": [
      "Optimization Progress:  31%|███       | 311/1010 [48:56<7:40:48, 39.55s/pipeline] "
     ]
    },
    {
     "name": "stdout",
     "output_type": "stream",
     "text": [
      "Generation 30 - Current best internal CV score: 0.35192681532719805\n"
     ]
    },
    {
     "name": "stderr",
     "output_type": "stream",
     "text": [
      "Optimization Progress:  32%|███▏      | 321/1010 [49:02<5:24:35, 28.27s/pipeline]"
     ]
    },
    {
     "name": "stdout",
     "output_type": "stream",
     "text": [
      "Generation 31 - Current best internal CV score: 0.35192681532719805\n"
     ]
    },
    {
     "name": "stderr",
     "output_type": "stream",
     "text": [
      "Optimization Progress:  33%|███▎      | 331/1010 [49:13<2:49:16, 14.96s/pipeline]"
     ]
    },
    {
     "name": "stdout",
     "output_type": "stream",
     "text": [
      "Generation 32 - Current best internal CV score: 0.35192681532719805\n"
     ]
    },
    {
     "name": "stderr",
     "output_type": "stream",
     "text": [
      "Optimization Progress:  34%|███▍      | 341/1010 [50:23<3:17:35, 17.72s/pipeline]"
     ]
    },
    {
     "name": "stdout",
     "output_type": "stream",
     "text": [
      "Generation 33 - Current best internal CV score: 0.36301900646018603\n"
     ]
    },
    {
     "name": "stderr",
     "output_type": "stream",
     "text": [
      "Optimization Progress:  35%|███▍      | 351/1010 [50:32<1:37:40,  8.89s/pipeline]"
     ]
    },
    {
     "name": "stdout",
     "output_type": "stream",
     "text": [
      "Generation 34 - Current best internal CV score: 0.36301900646018603\n"
     ]
    },
    {
     "name": "stderr",
     "output_type": "stream",
     "text": [
      "Optimization Progress:  36%|███▌      | 361/1010 [50:39<1:19:07,  7.32s/pipeline]"
     ]
    },
    {
     "name": "stdout",
     "output_type": "stream",
     "text": [
      "Generation 35 - Current best internal CV score: 0.36301900646018603\n"
     ]
    },
    {
     "name": "stderr",
     "output_type": "stream",
     "text": [
      "Optimization Progress:  37%|███▋      | 371/1010 [51:01<1:14:57,  7.04s/pipeline]"
     ]
    },
    {
     "name": "stdout",
     "output_type": "stream",
     "text": [
      "Generation 36 - Current best internal CV score: 0.665858571449524\n"
     ]
    },
    {
     "name": "stderr",
     "output_type": "stream",
     "text": [
      "Optimization Progress:  38%|███▊      | 381/1010 [51:26<2:10:28, 12.45s/pipeline]"
     ]
    },
    {
     "name": "stdout",
     "output_type": "stream",
     "text": [
      "Generation 37 - Current best internal CV score: 0.665858571449524\n"
     ]
    },
    {
     "name": "stderr",
     "output_type": "stream",
     "text": [
      "Optimization Progress:  39%|███▊      | 391/1010 [51:57<1:16:43,  7.44s/pipeline]"
     ]
    },
    {
     "name": "stdout",
     "output_type": "stream",
     "text": [
      "Generation 38 - Current best internal CV score: 0.665858571449524\n"
     ]
    },
    {
     "name": "stderr",
     "output_type": "stream",
     "text": [
      "Optimization Progress:  40%|███▉      | 401/1010 [54:44<5:07:54, 30.34s/pipeline]"
     ]
    },
    {
     "name": "stdout",
     "output_type": "stream",
     "text": [
      "Generation 39 - Current best internal CV score: 5.523208452237935\n"
     ]
    },
    {
     "name": "stderr",
     "output_type": "stream",
     "text": [
      "Optimization Progress:  41%|████      | 411/1010 [57:34<7:37:23, 45.82s/pipeline] "
     ]
    },
    {
     "name": "stdout",
     "output_type": "stream",
     "text": [
      "Generation 40 - Current best internal CV score: 5.523208452237935\n"
     ]
    },
    {
     "name": "stderr",
     "output_type": "stream",
     "text": [
      "Optimization Progress:  42%|████▏     | 421/1010 [57:53<4:20:57, 26.58s/pipeline]"
     ]
    },
    {
     "name": "stdout",
     "output_type": "stream",
     "text": [
      "Generation 41 - Current best internal CV score: 5.523208452237935\n"
     ]
    },
    {
     "name": "stderr",
     "output_type": "stream",
     "text": [
      "Optimization Progress:  43%|████▎     | 431/1010 [58:09<3:22:00, 20.93s/pipeline]"
     ]
    },
    {
     "name": "stdout",
     "output_type": "stream",
     "text": [
      "Generation 42 - Current best internal CV score: 5.619466328713469\n"
     ]
    },
    {
     "name": "stderr",
     "output_type": "stream",
     "text": [
      "Optimization Progress:  44%|████▎     | 441/1010 [58:30<2:37:03, 16.56s/pipeline]"
     ]
    },
    {
     "name": "stdout",
     "output_type": "stream",
     "text": [
      "Generation 43 - Current best internal CV score: 5.619466328713469\n"
     ]
    },
    {
     "name": "stderr",
     "output_type": "stream",
     "text": [
      "Optimization Progress:  45%|████▍     | 451/1010 [1:01:13<6:11:39, 39.89s/pipeline]"
     ]
    },
    {
     "name": "stdout",
     "output_type": "stream",
     "text": [
      "Generation 44 - Current best internal CV score: 5.619884548769443\n"
     ]
    },
    {
     "name": "stderr",
     "output_type": "stream",
     "text": [
      "Optimization Progress:  46%|████▌     | 461/1010 [1:01:34<5:11:08, 34.01s/pipeline]"
     ]
    },
    {
     "name": "stdout",
     "output_type": "stream",
     "text": [
      "Generation 45 - Current best internal CV score: 5.620308835534726\n"
     ]
    },
    {
     "name": "stderr",
     "output_type": "stream",
     "text": [
      "Optimization Progress:  47%|████▋     | 472/1010 [1:06:35<15:57:57, 106.84s/pipeline]"
     ]
    },
    {
     "name": "stdout",
     "output_type": "stream",
     "text": [
      "Generation 46 - Current best internal CV score: 5.631804670996543\n"
     ]
    },
    {
     "name": "stderr",
     "output_type": "stream",
     "text": [
      "Optimization Progress:  48%|████▊     | 482/1010 [1:07:09<9:11:22, 62.66s/pipeline]  "
     ]
    },
    {
     "name": "stdout",
     "output_type": "stream",
     "text": [
      "Generation 47 - Current best internal CV score: 5.657557421797219\n"
     ]
    },
    {
     "name": "stderr",
     "output_type": "stream",
     "text": [
      "Optimization Progress:  49%|████▊     | 492/1010 [1:07:33<3:26:18, 23.90s/pipeline]"
     ]
    },
    {
     "name": "stdout",
     "output_type": "stream",
     "text": [
      "Generation 48 - Current best internal CV score: 5.657557421797219\n"
     ]
    },
    {
     "name": "stderr",
     "output_type": "stream",
     "text": [
      "Optimization Progress:  50%|████▉     | 502/1010 [1:07:54<2:17:09, 16.20s/pipeline]"
     ]
    },
    {
     "name": "stdout",
     "output_type": "stream",
     "text": [
      "Generation 49 - Current best internal CV score: 5.659718348040328\n"
     ]
    },
    {
     "name": "stderr",
     "output_type": "stream",
     "text": [
      "Optimization Progress:  51%|█████     | 512/1010 [1:08:04<1:47:00, 12.89s/pipeline]"
     ]
    },
    {
     "name": "stdout",
     "output_type": "stream",
     "text": [
      "Generation 50 - Current best internal CV score: 5.659718348040328\n"
     ]
    },
    {
     "name": "stderr",
     "output_type": "stream",
     "text": [
      "Optimization Progress:  52%|█████▏    | 522/1010 [1:08:17<1:06:29,  8.18s/pipeline]"
     ]
    },
    {
     "name": "stdout",
     "output_type": "stream",
     "text": [
      "Generation 51 - Current best internal CV score: 5.659718348040328\n"
     ]
    },
    {
     "name": "stderr",
     "output_type": "stream",
     "text": [
      "Optimization Progress:  53%|█████▎    | 533/1010 [1:13:18<6:30:25, 49.11s/pipeline]"
     ]
    },
    {
     "name": "stdout",
     "output_type": "stream",
     "text": [
      "Generation 52 - Current best internal CV score: 5.66015092865084\n"
     ]
    },
    {
     "name": "stderr",
     "output_type": "stream",
     "text": [
      "Optimization Progress:  54%|█████▍    | 543/1010 [1:13:30<3:33:36, 27.44s/pipeline]"
     ]
    },
    {
     "name": "stdout",
     "output_type": "stream",
     "text": [
      "Generation 53 - Current best internal CV score: 5.66015092865084\n"
     ]
    },
    {
     "name": "stderr",
     "output_type": "stream",
     "text": [
      "Optimization Progress:  55%|█████▍    | 553/1010 [1:13:55<2:38:09, 20.77s/pipeline]"
     ]
    },
    {
     "name": "stdout",
     "output_type": "stream",
     "text": [
      "Generation 54 - Current best internal CV score: 5.6742636492086955\n"
     ]
    },
    {
     "name": "stderr",
     "output_type": "stream",
     "text": [
      "Optimization Progress:  56%|█████▌    | 563/1010 [1:14:19<1:42:09, 13.71s/pipeline]"
     ]
    },
    {
     "name": "stdout",
     "output_type": "stream",
     "text": [
      "Generation 55 - Current best internal CV score: 5.706256122575477\n"
     ]
    },
    {
     "name": "stderr",
     "output_type": "stream",
     "text": [
      "Optimization Progress:  57%|█████▋    | 573/1010 [1:14:46<1:18:20, 10.76s/pipeline]"
     ]
    },
    {
     "name": "stdout",
     "output_type": "stream",
     "text": [
      "Generation 56 - Current best internal CV score: 5.706547087479816\n"
     ]
    },
    {
     "name": "stderr",
     "output_type": "stream",
     "text": [
      "Optimization Progress:  58%|█████▊    | 583/1010 [1:15:10<1:02:45,  8.82s/pipeline]"
     ]
    },
    {
     "name": "stdout",
     "output_type": "stream",
     "text": [
      "Generation 57 - Current best internal CV score: 5.706547087479816\n"
     ]
    },
    {
     "name": "stderr",
     "output_type": "stream",
     "text": [
      "Optimization Progress:  59%|█████▊    | 593/1010 [1:15:40<1:04:15,  9.25s/pipeline]"
     ]
    },
    {
     "name": "stdout",
     "output_type": "stream",
     "text": [
      "Generation 58 - Current best internal CV score: 5.706547087479816\n"
     ]
    },
    {
     "name": "stderr",
     "output_type": "stream",
     "text": [
      "Optimization Progress:  60%|█████▉    | 604/1010 [1:20:41<10:54:27, 96.72s/pipeline]"
     ]
    },
    {
     "name": "stdout",
     "output_type": "stream",
     "text": [
      "Generation 59 - Current best internal CV score: 5.706547087479816\n"
     ]
    },
    {
     "name": "stderr",
     "output_type": "stream",
     "text": [
      "Optimization Progress:  61%|██████    | 614/1010 [1:21:29<4:45:08, 43.20s/pipeline] "
     ]
    },
    {
     "name": "stdout",
     "output_type": "stream",
     "text": [
      "Generation 60 - Current best internal CV score: 5.756633982039264\n"
     ]
    },
    {
     "name": "stderr",
     "output_type": "stream",
     "text": [
      "Optimization Progress:  62%|██████▏   | 624/1010 [1:22:06<3:05:57, 28.91s/pipeline]"
     ]
    },
    {
     "name": "stdout",
     "output_type": "stream",
     "text": [
      "Generation 61 - Current best internal CV score: 5.756633982039264\n"
     ]
    },
    {
     "name": "stderr",
     "output_type": "stream",
     "text": [
      "Optimization Progress:  63%|██████▎   | 634/1010 [1:22:40<2:13:13, 21.26s/pipeline]"
     ]
    },
    {
     "name": "stdout",
     "output_type": "stream",
     "text": [
      "Generation 62 - Current best internal CV score: 5.756633982039264\n"
     ]
    },
    {
     "name": "stderr",
     "output_type": "stream",
     "text": [
      "Optimization Progress:  64%|██████▍   | 644/1010 [1:23:59<2:44:08, 26.91s/pipeline]"
     ]
    },
    {
     "name": "stdout",
     "output_type": "stream",
     "text": [
      "Generation 63 - Current best internal CV score: 5.756633982039264\n"
     ]
    },
    {
     "name": "stderr",
     "output_type": "stream",
     "text": [
      "Optimization Progress:  65%|██████▍   | 654/1010 [1:24:11<1:34:07, 15.86s/pipeline]"
     ]
    },
    {
     "name": "stdout",
     "output_type": "stream",
     "text": [
      "Generation 64 - Current best internal CV score: 5.756633982039264\n"
     ]
    },
    {
     "name": "stderr",
     "output_type": "stream",
     "text": [
      "Optimization Progress:  66%|██████▌   | 665/1010 [1:29:16<9:48:39, 102.37s/pipeline] "
     ]
    },
    {
     "name": "stdout",
     "output_type": "stream",
     "text": [
      "Generation 65 - Current best internal CV score: 5.756633982039264\n"
     ]
    },
    {
     "name": "stderr",
     "output_type": "stream",
     "text": [
      "Optimization Progress:  67%|██████▋   | 675/1010 [1:29:35<3:38:12, 39.08s/pipeline] "
     ]
    },
    {
     "name": "stdout",
     "output_type": "stream",
     "text": [
      "Generation 66 - Current best internal CV score: 5.756633982039264\n"
     ]
    },
    {
     "name": "stderr",
     "output_type": "stream",
     "text": [
      "Optimization Progress:  68%|██████▊   | 685/1010 [1:29:52<2:55:32, 32.41s/pipeline]"
     ]
    },
    {
     "name": "stdout",
     "output_type": "stream",
     "text": [
      "Generation 67 - Current best internal CV score: 5.756633982039264\n"
     ]
    },
    {
     "name": "stderr",
     "output_type": "stream",
     "text": [
      "Optimization Progress:  69%|██████▉   | 695/1010 [1:30:04<1:04:53, 12.36s/pipeline]"
     ]
    },
    {
     "name": "stdout",
     "output_type": "stream",
     "text": [
      "Generation 68 - Current best internal CV score: 5.756633982039264\n"
     ]
    },
    {
     "name": "stderr",
     "output_type": "stream",
     "text": [
      "Optimization Progress:  70%|██████▉   | 705/1010 [1:30:12<35:14,  6.93s/pipeline]  "
     ]
    },
    {
     "name": "stdout",
     "output_type": "stream",
     "text": [
      "Generation 69 - Current best internal CV score: 5.770793188846037\n"
     ]
    },
    {
     "name": "stderr",
     "output_type": "stream",
     "text": [
      "Optimization Progress:  71%|███████   | 715/1010 [1:30:31<50:35, 10.29s/pipeline]"
     ]
    },
    {
     "name": "stdout",
     "output_type": "stream",
     "text": [
      "Generation 70 - Current best internal CV score: 5.770793188846037\n"
     ]
    },
    {
     "name": "stderr",
     "output_type": "stream",
     "text": [
      "Optimization Progress:  72%|███████▏  | 725/1010 [1:31:02<47:21,  9.97s/pipeline]  "
     ]
    },
    {
     "name": "stdout",
     "output_type": "stream",
     "text": [
      "Generation 71 - Current best internal CV score: 5.770793188846037\n"
     ]
    },
    {
     "name": "stderr",
     "output_type": "stream",
     "text": [
      "Optimization Progress:  73%|███████▎  | 735/1010 [1:31:11<26:49,  5.85s/pipeline]"
     ]
    },
    {
     "name": "stdout",
     "output_type": "stream",
     "text": [
      "Generation 72 - Current best internal CV score: 5.770793188846037\n"
     ]
    },
    {
     "name": "stderr",
     "output_type": "stream",
     "text": [
      "Optimization Progress:  74%|███████▍  | 745/1010 [1:32:22<1:52:05, 25.38s/pipeline]"
     ]
    },
    {
     "name": "stdout",
     "output_type": "stream",
     "text": [
      "Generation 73 - Current best internal CV score: 5.770793188846037\n"
     ]
    },
    {
     "name": "stderr",
     "output_type": "stream",
     "text": [
      "Optimization Progress:  75%|███████▍  | 756/1010 [1:37:25<1:19:33, 18.79s/pipeline]"
     ]
    },
    {
     "name": "stdout",
     "output_type": "stream",
     "text": [
      "Generation 74 - Current best internal CV score: 5.770793188846037\n"
     ]
    },
    {
     "name": "stderr",
     "output_type": "stream",
     "text": [
      "Optimization Progress:  76%|███████▌  | 767/1010 [1:42:27<7:00:26, 103.81s/pipeline]"
     ]
    },
    {
     "name": "stdout",
     "output_type": "stream",
     "text": [
      "Generation 75 - Current best internal CV score: 5.770793188846037\n"
     ]
    },
    {
     "name": "stderr",
     "output_type": "stream",
     "text": [
      "Optimization Progress:  77%|███████▋  | 777/1010 [1:42:49<2:36:04, 40.19s/pipeline] "
     ]
    },
    {
     "name": "stdout",
     "output_type": "stream",
     "text": [
      "Generation 76 - Current best internal CV score: 5.770793188846037\n"
     ]
    },
    {
     "name": "stderr",
     "output_type": "stream",
     "text": [
      "Optimization Progress:  78%|███████▊  | 787/1010 [1:42:56<1:15:54, 20.42s/pipeline]"
     ]
    },
    {
     "name": "stdout",
     "output_type": "stream",
     "text": [
      "Generation 77 - Current best internal CV score: 5.774892388124593\n"
     ]
    },
    {
     "name": "stderr",
     "output_type": "stream",
     "text": [
      "Optimization Progress:  79%|███████▉  | 797/1010 [1:43:13<47:59, 13.52s/pipeline]  "
     ]
    },
    {
     "name": "stdout",
     "output_type": "stream",
     "text": [
      "Generation 78 - Current best internal CV score: 5.774892388124593\n"
     ]
    },
    {
     "name": "stderr",
     "output_type": "stream",
     "text": [
      "Optimization Progress:  80%|███████▉  | 807/1010 [1:43:33<36:41, 10.85s/pipeline]"
     ]
    },
    {
     "name": "stdout",
     "output_type": "stream",
     "text": [
      "Generation 79 - Current best internal CV score: 5.774892388124593\n"
     ]
    },
    {
     "name": "stderr",
     "output_type": "stream",
     "text": [
      "Optimization Progress:  81%|████████  | 817/1010 [1:43:56<32:23, 10.07s/pipeline]"
     ]
    },
    {
     "name": "stdout",
     "output_type": "stream",
     "text": [
      "Generation 80 - Current best internal CV score: 5.774892388124593\n"
     ]
    },
    {
     "name": "stderr",
     "output_type": "stream",
     "text": [
      "Optimization Progress:  82%|████████▏ | 827/1010 [1:44:12<35:56, 11.78s/pipeline]"
     ]
    },
    {
     "name": "stdout",
     "output_type": "stream",
     "text": [
      "Generation 81 - Current best internal CV score: 5.774892388124593\n"
     ]
    },
    {
     "name": "stderr",
     "output_type": "stream",
     "text": [
      "Optimization Progress:  83%|████████▎ | 837/1010 [1:44:27<23:10,  8.04s/pipeline]"
     ]
    },
    {
     "name": "stdout",
     "output_type": "stream",
     "text": [
      "Generation 82 - Current best internal CV score: 5.774892388124593\n"
     ]
    },
    {
     "name": "stderr",
     "output_type": "stream",
     "text": [
      "Optimization Progress:  84%|████████▍ | 847/1010 [1:44:43<23:11,  8.54s/pipeline]"
     ]
    },
    {
     "name": "stdout",
     "output_type": "stream",
     "text": [
      "Generation 83 - Current best internal CV score: 5.774892388124593\n"
     ]
    },
    {
     "name": "stderr",
     "output_type": "stream",
     "text": [
      "Optimization Progress:  85%|████████▍ | 857/1010 [1:45:00<17:09,  6.73s/pipeline]"
     ]
    },
    {
     "name": "stdout",
     "output_type": "stream",
     "text": [
      "Generation 84 - Current best internal CV score: 5.774892388124593\n"
     ]
    },
    {
     "name": "stderr",
     "output_type": "stream",
     "text": [
      "Optimization Progress:  86%|████████▌ | 867/1010 [1:45:13<12:36,  5.29s/pipeline]"
     ]
    },
    {
     "name": "stdout",
     "output_type": "stream",
     "text": [
      "Generation 85 - Current best internal CV score: 5.8496480254902234\n"
     ]
    },
    {
     "name": "stderr",
     "output_type": "stream",
     "text": [
      "Optimization Progress:  87%|████████▋ | 877/1010 [1:45:32<12:46,  5.76s/pipeline]"
     ]
    },
    {
     "name": "stdout",
     "output_type": "stream",
     "text": [
      "Generation 86 - Current best internal CV score: 5.8496480254902234\n"
     ]
    },
    {
     "name": "stderr",
     "output_type": "stream",
     "text": [
      "Optimization Progress:  88%|████████▊ | 888/1010 [1:50:44<2:18:34, 68.15s/pipeline]"
     ]
    },
    {
     "name": "stdout",
     "output_type": "stream",
     "text": [
      "Generation 87 - Current best internal CV score: 5.8496480254902234\n"
     ]
    },
    {
     "name": "stderr",
     "output_type": "stream",
     "text": [
      "Optimization Progress:  89%|████████▉ | 899/1010 [1:55:46<4:16:09, 138.46s/pipeline]"
     ]
    },
    {
     "name": "stdout",
     "output_type": "stream",
     "text": [
      "Generation 88 - Current best internal CV score: 5.8496480254902234\n"
     ]
    },
    {
     "name": "stderr",
     "output_type": "stream",
     "text": [
      "Optimization Progress:  90%|█████████ | 909/1010 [1:56:02<1:25:26, 50.76s/pipeline] "
     ]
    },
    {
     "name": "stdout",
     "output_type": "stream",
     "text": [
      "Generation 89 - Current best internal CV score: 6.055725391258284\n"
     ]
    },
    {
     "name": "stderr",
     "output_type": "stream",
     "text": [
      "Optimization Progress:  91%|█████████ | 919/1010 [1:56:20<57:59, 38.24s/pipeline]  "
     ]
    },
    {
     "name": "stdout",
     "output_type": "stream",
     "text": [
      "Generation 90 - Current best internal CV score: 6.055725391258284\n"
     ]
    },
    {
     "name": "stderr",
     "output_type": "stream",
     "text": [
      "Optimization Progress:  92%|█████████▏| 929/1010 [1:56:41<23:26, 17.37s/pipeline]"
     ]
    },
    {
     "name": "stdout",
     "output_type": "stream",
     "text": [
      "Generation 91 - Current best internal CV score: 6.055725391258284\n"
     ]
    },
    {
     "name": "stderr",
     "output_type": "stream",
     "text": [
      "Optimization Progress:  93%|█████████▎| 939/1010 [1:57:00<21:13, 17.94s/pipeline]"
     ]
    },
    {
     "name": "stdout",
     "output_type": "stream",
     "text": [
      "Generation 92 - Current best internal CV score: 6.055725391258284\n"
     ]
    },
    {
     "name": "stderr",
     "output_type": "stream",
     "text": [
      "Optimization Progress:  94%|█████████▍| 949/1010 [1:57:27<09:03,  8.91s/pipeline]"
     ]
    },
    {
     "name": "stdout",
     "output_type": "stream",
     "text": [
      "Generation 93 - Current best internal CV score: 6.055725391258284\n"
     ]
    },
    {
     "name": "stderr",
     "output_type": "stream",
     "text": [
      "Optimization Progress:  95%|█████████▍| 959/1010 [1:57:49<10:55, 12.86s/pipeline]"
     ]
    },
    {
     "name": "stdout",
     "output_type": "stream",
     "text": [
      "Generation 94 - Current best internal CV score: 6.055725391258284\n"
     ]
    },
    {
     "name": "stderr",
     "output_type": "stream",
     "text": [
      "Optimization Progress:  96%|█████████▌| 969/1010 [1:58:04<05:53,  8.63s/pipeline]"
     ]
    },
    {
     "name": "stdout",
     "output_type": "stream",
     "text": [
      "Generation 95 - Current best internal CV score: 6.055725391258284\n"
     ]
    },
    {
     "name": "stderr",
     "output_type": "stream",
     "text": [
      "Optimization Progress:  97%|█████████▋| 979/1010 [1:58:27<03:56,  7.63s/pipeline]"
     ]
    },
    {
     "name": "stdout",
     "output_type": "stream",
     "text": [
      "Generation 96 - Current best internal CV score: 6.177760265484106\n"
     ]
    },
    {
     "name": "stderr",
     "output_type": "stream",
     "text": [
      "Optimization Progress:  98%|█████████▊| 989/1010 [1:58:58<03:34, 10.24s/pipeline]"
     ]
    },
    {
     "name": "stdout",
     "output_type": "stream",
     "text": [
      "Generation 97 - Current best internal CV score: 6.177760265484106\n"
     ]
    },
    {
     "name": "stderr",
     "output_type": "stream",
     "text": [
      "Optimization Progress:  99%|█████████▉| 999/1010 [1:59:23<02:00, 10.96s/pipeline]"
     ]
    },
    {
     "name": "stdout",
     "output_type": "stream",
     "text": [
      "Generation 98 - Current best internal CV score: 6.289576230965715\n"
     ]
    },
    {
     "name": "stderr",
     "output_type": "stream",
     "text": [
      "Optimization Progress: 100%|█████████▉| 1009/1010 [2:00:00<00:11, 11.33s/pipeline]"
     ]
    },
    {
     "name": "stdout",
     "output_type": "stream",
     "text": [
      "Generation 99 - Current best internal CV score: 6.289576230965715\n"
     ]
    },
    {
     "name": "stderr",
     "output_type": "stream",
     "text": [
      "                                                                                  \r"
     ]
    },
    {
     "name": "stdout",
     "output_type": "stream",
     "text": [
      "Generation 100 - Current best internal CV score: 6.289576230965715\n",
      "\n",
      "Best pipeline: XGBRegressor(FastICA(PCA(input_matrix, iterated_power=2, svd_solver=randomized), tol=0.45), learning_rate=0.001, max_depth=7, min_child_weight=1, n_estimators=100, nthread=1, subsample=0.05)\n"
     ]
    },
    {
     "data": {
      "text/plain": [
       "TPOTRegressor(config_dict={'sklearn.linear_model.ElasticNetCV': {'l1_ratio': array([ 0.  ,  0.05,  0.1 ,  0.15,  0.2 ,  0.25,  0.3 ,  0.35,  0.4 ,\n",
       "        0.45,  0.5 ,  0.55,  0.6 ,  0.65,  0.7 ,  0.75,  0.8 ,  0.85,\n",
       "        0.9 ,  0.95,  1.  ]), 'tol': [1e-05, 0.0001, 0.001, 0.01, 0.1]}, 'sklearn.ensemble.ExtraT....45,\n",
       "        0.5 ,  0.55,  0.6 ,  0.65,  0.7 ,  0.75,  0.8 ,  0.85,  0.9 ,\n",
       "        0.95,  1.  ])}}}},\n",
       "       crossover_rate=0.1, cv=5, disable_update_check=False,\n",
       "       early_stop=None, generations=100, max_eval_time_mins=5,\n",
       "       max_time_mins=None, mutation_rate=0.9, n_jobs=4, offspring_size=10,\n",
       "       periodic_checkpoint_folder=None, population_size=10,\n",
       "       random_state=26, scoring=None, subsample=1.0, verbosity=2,\n",
       "       warm_start=False)"
      ]
     },
     "execution_count": 66,
     "metadata": {},
     "output_type": "execute_result"
    }
   ],
   "source": [
    "X_train, X_test, y_train, y_test = train_test_split(train_array, train_df['class'], train_size=0.95, test_size=0.05)\n",
    "\n",
    "tpot = TPOTRegressor(generations=100, population_size=10, verbosity=2, scoring=log_rmse, n_jobs=-1, random_state=26)\n",
    "tpot.fit(X_train, y_train)\n",
    "\n",
    "# About the warning\n",
    "# https://stackoverflow.com/questions/41238769/warning-messages-when-using-python\n",
    "# https://github.com/rhiever/tpot/issues/284"
   ]
  },
  {
   "cell_type": "code",
   "execution_count": 67,
   "metadata": {},
   "outputs": [
    {
     "name": "stdout",
     "output_type": "stream",
     "text": [
      "5.99740906298\n"
     ]
    }
   ],
   "source": [
    "print(tpot.score(X_test, y_test))"
   ]
  },
  {
   "cell_type": "code",
   "execution_count": 42,
   "metadata": {},
   "outputs": [
    {
     "data": {
      "text/plain": [
       "True"
      ]
     },
     "execution_count": 42,
     "metadata": {},
     "output_type": "execute_result"
    }
   ],
   "source": [
    "tpot.export('tpot_exported_pipeline.py')"
   ]
  },
  {
   "cell_type": "code",
   "execution_count": 43,
   "metadata": {},
   "outputs": [
    {
     "data": {
      "text/plain": [
       "{'DecisionTreeRegressor(DecisionTreeRegressor(input_matrix, DecisionTreeRegressor__max_depth=3, DecisionTreeRegressor__min_samples_leaf=9, DecisionTreeRegressor__min_samples_split=13), DecisionTreeRegressor__max_depth=9, DecisionTreeRegressor__min_samples_leaf=9, DecisionTreeRegressor__min_samples_split=7)': (2,\n",
       "  -1656784604.539309),\n",
       " 'DecisionTreeRegressor(LinearSVR(input_matrix, LinearSVR__C=0.1, LinearSVR__dual=True, LinearSVR__epsilon=0.001, LinearSVR__loss=squared_epsilon_insensitive, LinearSVR__tol=0.01), DecisionTreeRegressor__max_depth=6, DecisionTreeRegressor__min_samples_leaf=4, DecisionTreeRegressor__min_samples_split=11)': (2,\n",
       "  -1206903849.5031352),\n",
       " 'DecisionTreeRegressor(LinearSVR(input_matrix, LinearSVR__C=0.5, LinearSVR__dual=True, LinearSVR__epsilon=0.001, LinearSVR__loss=squared_epsilon_insensitive, LinearSVR__tol=1e-05), DecisionTreeRegressor__max_depth=10, DecisionTreeRegressor__min_samples_leaf=16, DecisionTreeRegressor__min_samples_split=3)': (2,\n",
       "  -1216302454.1606116),\n",
       " 'DecisionTreeRegressor(LinearSVR(input_matrix, LinearSVR__C=1.0, LinearSVR__dual=True, LinearSVR__epsilon=0.001, LinearSVR__loss=squared_epsilon_insensitive, LinearSVR__tol=0.001), DecisionTreeRegressor__max_depth=9, DecisionTreeRegressor__min_samples_leaf=18, DecisionTreeRegressor__min_samples_split=7)': (2,\n",
       "  -1202723689.3745999),\n",
       " 'DecisionTreeRegressor(MaxAbsScaler(input_matrix), DecisionTreeRegressor__max_depth=10, DecisionTreeRegressor__min_samples_leaf=12, DecisionTreeRegressor__min_samples_split=15)': (2,\n",
       "  -1487622044.4143634),\n",
       " 'DecisionTreeRegressor(StandardScaler(input_matrix), DecisionTreeRegressor__max_depth=4, DecisionTreeRegressor__min_samples_leaf=16, DecisionTreeRegressor__min_samples_split=17)': (2,\n",
       "  -1860728461.7460275),\n",
       " 'DecisionTreeRegressor(StandardScaler(input_matrix), DecisionTreeRegressor__max_depth=4, DecisionTreeRegressor__min_samples_leaf=16, DecisionTreeRegressor__min_samples_split=18)': (2,\n",
       "  -1860728461.7460275),\n",
       " 'DecisionTreeRegressor(input_matrix, DecisionTreeRegressor__max_depth=4, DecisionTreeRegressor__min_samples_leaf=16, DecisionTreeRegressor__min_samples_split=7)': (1,\n",
       "  -1860728461.7460275),\n",
       " 'DecisionTreeRegressor(input_matrix, DecisionTreeRegressor__max_depth=8, DecisionTreeRegressor__min_samples_leaf=16, DecisionTreeRegressor__min_samples_split=19)': (1,\n",
       "  -1550125619.1532273),\n",
       " 'DecisionTreeRegressor(input_matrix, DecisionTreeRegressor__max_depth=9, DecisionTreeRegressor__min_samples_leaf=15, DecisionTreeRegressor__min_samples_split=19)': (1,\n",
       "  -1548262982.5618863),\n",
       " 'DecisionTreeRegressor(input_matrix, DecisionTreeRegressor__max_depth=9, DecisionTreeRegressor__min_samples_leaf=16, DecisionTreeRegressor__min_samples_split=7)': (1,\n",
       "  -1547056350.541487),\n",
       " 'DecisionTreeRegressor(input_matrix, DecisionTreeRegressor__max_depth=9, DecisionTreeRegressor__min_samples_leaf=19, DecisionTreeRegressor__min_samples_split=14)': (1,\n",
       "  -1573678535.5192437),\n",
       " 'DecisionTreeRegressor(input_matrix, DecisionTreeRegressor__max_depth=9, DecisionTreeRegressor__min_samples_leaf=9, DecisionTreeRegressor__min_samples_split=7)': (1,\n",
       "  -1626687033.4374757),\n",
       " 'ElasticNetCV(DecisionTreeRegressor(input_matrix, DecisionTreeRegressor__max_depth=4, DecisionTreeRegressor__min_samples_leaf=5, DecisionTreeRegressor__min_samples_split=6), ElasticNetCV__l1_ratio=0.75, ElasticNetCV__tol=0.01)': (2,\n",
       "  -2050172353.6717243),\n",
       " 'ElasticNetCV(FastICA(input_matrix, FastICA__tol=0.3), ElasticNetCV__l1_ratio=0.45, ElasticNetCV__tol=0.0001)': (2,\n",
       "  -2.7052067385640003e+21),\n",
       " 'ElasticNetCV(LinearSVR(input_matrix, LinearSVR__C=0.1, LinearSVR__dual=True, LinearSVR__epsilon=0.001, LinearSVR__loss=squared_epsilon_insensitive, LinearSVR__tol=0.001), ElasticNetCV__l1_ratio=0.55, ElasticNetCV__tol=0.001)': (2,\n",
       "  -1897413422.4472718),\n",
       " 'ElasticNetCV(LinearSVR(input_matrix, LinearSVR__C=0.1, LinearSVR__dual=True, LinearSVR__epsilon=0.001, LinearSVR__loss=squared_epsilon_insensitive, LinearSVR__tol=0.01), ElasticNetCV__l1_ratio=0.6, ElasticNetCV__tol=0.001)': (2,\n",
       "  -1895592338.3811729),\n",
       " 'ElasticNetCV(LinearSVR(input_matrix, LinearSVR__C=1.0, LinearSVR__dual=True, LinearSVR__epsilon=0.0001, LinearSVR__loss=squared_epsilon_insensitive, LinearSVR__tol=0.001), ElasticNetCV__l1_ratio=0.35, ElasticNetCV__tol=0.01)': (2,\n",
       "  -1922067872.0798309),\n",
       " 'ElasticNetCV(MinMaxScaler(input_matrix), ElasticNetCV__l1_ratio=0.75, ElasticNetCV__tol=0.01)': (2,\n",
       "  -4908501097.4662647),\n",
       " 'ElasticNetCV(OneHotEncoder(input_matrix, OneHotEncoder__minimum_fraction=0.05, OneHotEncoder__sparse=False), ElasticNetCV__l1_ratio=0.45, ElasticNetCV__tol=0.0001)': (2,\n",
       "  -2797976713.4650855),\n",
       " 'ElasticNetCV(RBFSampler(RidgeCV(input_matrix), RBFSampler__gamma=0.55), ElasticNetCV__l1_ratio=0.35, ElasticNetCV__tol=0.1)': (3,\n",
       "  -6380904637.7075186),\n",
       " 'ElasticNetCV(RidgeCV(input_matrix), ElasticNetCV__l1_ratio=0.35, ElasticNetCV__tol=0.1)': (2,\n",
       "  -1163888975.4641733),\n",
       " 'ElasticNetCV(input_matrix, ElasticNetCV__l1_ratio=0.1, ElasticNetCV__tol=0.1)': (1,\n",
       "  -4695652584.3499174),\n",
       " 'ElasticNetCV(input_matrix, ElasticNetCV__l1_ratio=0.35, ElasticNetCV__tol=0.1)': (1,\n",
       "  -3094054099.3622103),\n",
       " 'ElasticNetCV(input_matrix, ElasticNetCV__l1_ratio=0.45, ElasticNetCV__tol=0.0001)': (1,\n",
       "  -2797976713.0138178),\n",
       " 'ElasticNetCV(input_matrix, ElasticNetCV__l1_ratio=0.55, ElasticNetCV__tol=0.1)': (1,\n",
       "  -2600466440.8642664),\n",
       " 'ElasticNetCV(input_matrix, ElasticNetCV__l1_ratio=0.65, ElasticNetCV__tol=0.001)': (1,\n",
       "  -2466757811.5332036),\n",
       " 'ElasticNetCV(input_matrix, ElasticNetCV__l1_ratio=0.75, ElasticNetCV__tol=0.01)': (1,\n",
       "  -2373610626.6965232),\n",
       " 'ElasticNetCV(input_matrix, ElasticNetCV__l1_ratio=0.95, ElasticNetCV__tol=0.0001)': (1,\n",
       "  -2236345572.4029169),\n",
       " 'ExtraTreesRegressor(LinearSVR(input_matrix, LinearSVR__C=0.1, LinearSVR__dual=True, LinearSVR__epsilon=0.001, LinearSVR__loss=squared_epsilon_insensitive, LinearSVR__tol=1e-05), ExtraTreesRegressor__bootstrap=True, ExtraTreesRegressor__max_features=0.3, ExtraTreesRegressor__min_samples_leaf=3, ExtraTreesRegressor__min_samples_split=11, ExtraTreesRegressor__n_estimators=100)': (2,\n",
       "  -970139214.92851853),\n",
       " 'ExtraTreesRegressor(LinearSVR(input_matrix, LinearSVR__C=0.1, LinearSVR__dual=True, LinearSVR__epsilon=0.001, LinearSVR__loss=squared_epsilon_insensitive, LinearSVR__tol=1e-05), ExtraTreesRegressor__bootstrap=True, ExtraTreesRegressor__max_features=0.75, ExtraTreesRegressor__min_samples_leaf=7, ExtraTreesRegressor__min_samples_split=17, ExtraTreesRegressor__n_estimators=100)': (2,\n",
       "  -957324793.51642489),\n",
       " 'ExtraTreesRegressor(MinMaxScaler(input_matrix), ExtraTreesRegressor__bootstrap=False, ExtraTreesRegressor__max_features=0.8, ExtraTreesRegressor__min_samples_leaf=19, ExtraTreesRegressor__min_samples_split=6, ExtraTreesRegressor__n_estimators=100)': (2,\n",
       "  -1238773873.9566543),\n",
       " 'ExtraTreesRegressor(input_matrix, ExtraTreesRegressor__bootstrap=False, ExtraTreesRegressor__max_features=0.25, ExtraTreesRegressor__min_samples_leaf=10, ExtraTreesRegressor__min_samples_split=5, ExtraTreesRegressor__n_estimators=100)': (1,\n",
       "  -1224188402.7514424),\n",
       " 'ExtraTreesRegressor(input_matrix, ExtraTreesRegressor__bootstrap=False, ExtraTreesRegressor__max_features=0.4, ExtraTreesRegressor__min_samples_leaf=13, ExtraTreesRegressor__min_samples_split=20, ExtraTreesRegressor__n_estimators=100)': (1,\n",
       "  -1220525518.3130517),\n",
       " 'ExtraTreesRegressor(input_matrix, ExtraTreesRegressor__bootstrap=False, ExtraTreesRegressor__max_features=0.5, ExtraTreesRegressor__min_samples_leaf=6, ExtraTreesRegressor__min_samples_split=15, ExtraTreesRegressor__n_estimators=100)': (1,\n",
       "  -1058940785.1160374),\n",
       " 'ExtraTreesRegressor(input_matrix, ExtraTreesRegressor__bootstrap=False, ExtraTreesRegressor__max_features=0.55, ExtraTreesRegressor__min_samples_leaf=7, ExtraTreesRegressor__min_samples_split=5, ExtraTreesRegressor__n_estimators=100)': (1,\n",
       "  -1066228462.309638),\n",
       " 'ExtraTreesRegressor(input_matrix, ExtraTreesRegressor__bootstrap=False, ExtraTreesRegressor__max_features=0.65, ExtraTreesRegressor__min_samples_leaf=6, ExtraTreesRegressor__min_samples_split=12, ExtraTreesRegressor__n_estimators=100)': (1,\n",
       "  -1026234682.2726555),\n",
       " 'ExtraTreesRegressor(input_matrix, ExtraTreesRegressor__bootstrap=False, ExtraTreesRegressor__max_features=0.85, ExtraTreesRegressor__min_samples_leaf=11, ExtraTreesRegressor__min_samples_split=11, ExtraTreesRegressor__n_estimators=100)': (1,\n",
       "  -1116711719.342299),\n",
       " 'ExtraTreesRegressor(input_matrix, ExtraTreesRegressor__bootstrap=True, ExtraTreesRegressor__max_features=0.1, ExtraTreesRegressor__min_samples_leaf=1, ExtraTreesRegressor__min_samples_split=6, ExtraTreesRegressor__n_estimators=100)': (1,\n",
       "  -1126867470.4768062),\n",
       " 'GradientBoostingRegressor(CombineDFs(input_matrix, input_matrix), GradientBoostingRegressor__alpha=0.99, GradientBoostingRegressor__learning_rate=0.1, GradientBoostingRegressor__loss=huber, GradientBoostingRegressor__max_depth=9, GradientBoostingRegressor__max_features=0.85, GradientBoostingRegressor__min_samples_leaf=17, GradientBoostingRegressor__min_samples_split=16, GradientBoostingRegressor__n_estimators=100, GradientBoostingRegressor__subsample=0.5)': (1,\n",
       "  -791439206.88747633),\n",
       " 'GradientBoostingRegressor(DecisionTreeRegressor(MaxAbsScaler(StandardScaler(input_matrix)), DecisionTreeRegressor__max_depth=5, DecisionTreeRegressor__min_samples_leaf=1, DecisionTreeRegressor__min_samples_split=15), GradientBoostingRegressor__alpha=0.99, GradientBoostingRegressor__learning_rate=0.1, GradientBoostingRegressor__loss=huber, GradientBoostingRegressor__max_depth=3, GradientBoostingRegressor__max_features=0.85, GradientBoostingRegressor__min_samples_leaf=17, GradientBoostingRegressor__min_samples_split=16, GradientBoostingRegressor__n_estimators=100, GradientBoostingRegressor__subsample=1.0)': (4,\n",
       "  -1114710361.7066166),\n",
       " 'GradientBoostingRegressor(DecisionTreeRegressor(input_matrix, DecisionTreeRegressor__max_depth=9, DecisionTreeRegressor__min_samples_leaf=14, DecisionTreeRegressor__min_samples_split=18), GradientBoostingRegressor__alpha=0.99, GradientBoostingRegressor__learning_rate=0.1, GradientBoostingRegressor__loss=huber, GradientBoostingRegressor__max_depth=3, GradientBoostingRegressor__max_features=0.85, GradientBoostingRegressor__min_samples_leaf=17, GradientBoostingRegressor__min_samples_split=16, GradientBoostingRegressor__n_estimators=100, GradientBoostingRegressor__subsample=0.5)': (2,\n",
       "  -945715552.09367752),\n",
       " 'GradientBoostingRegressor(ExtraTreesRegressor(input_matrix, ExtraTreesRegressor__bootstrap=True, ExtraTreesRegressor__max_features=0.4, ExtraTreesRegressor__min_samples_leaf=13, ExtraTreesRegressor__min_samples_split=20, ExtraTreesRegressor__n_estimators=100), GradientBoostingRegressor__alpha=0.99, GradientBoostingRegressor__learning_rate=0.1, GradientBoostingRegressor__loss=huber, GradientBoostingRegressor__max_depth=4, GradientBoostingRegressor__max_features=0.85, GradientBoostingRegressor__min_samples_leaf=17, GradientBoostingRegressor__min_samples_split=16, GradientBoostingRegressor__n_estimators=100, GradientBoostingRegressor__subsample=1.0)': (2,\n",
       "  -831587480.49082017),\n",
       " 'GradientBoostingRegressor(FastICA(input_matrix, FastICA__tol=1.0), GradientBoostingRegressor__alpha=0.99, GradientBoostingRegressor__learning_rate=0.1, GradientBoostingRegressor__loss=huber, GradientBoostingRegressor__max_depth=3, GradientBoostingRegressor__max_features=0.85, GradientBoostingRegressor__min_samples_leaf=17, GradientBoostingRegressor__min_samples_split=16, GradientBoostingRegressor__n_estimators=100, GradientBoostingRegressor__subsample=1.0)': (2,\n",
       "  -3643401831.2854323),\n",
       " 'GradientBoostingRegressor(GradientBoostingRegressor(input_matrix, GradientBoostingRegressor__alpha=0.9, GradientBoostingRegressor__learning_rate=0.01, GradientBoostingRegressor__loss=quantile, GradientBoostingRegressor__max_depth=4, GradientBoostingRegressor__max_features=0.75, GradientBoostingRegressor__min_samples_leaf=17, GradientBoostingRegressor__min_samples_split=20, GradientBoostingRegressor__n_estimators=100, GradientBoostingRegressor__subsample=0.8), GradientBoostingRegressor__alpha=0.99, GradientBoostingRegressor__learning_rate=0.1, GradientBoostingRegressor__loss=huber, GradientBoostingRegressor__max_depth=10, GradientBoostingRegressor__max_features=0.85, GradientBoostingRegressor__min_samples_leaf=9, GradientBoostingRegressor__min_samples_split=16, GradientBoostingRegressor__n_estimators=100, GradientBoostingRegressor__subsample=1.0)': (2,\n",
       "  -848069212.18127239),\n",
       " 'GradientBoostingRegressor(LassoLarsCV(DecisionTreeRegressor(input_matrix, DecisionTreeRegressor__max_depth=9, DecisionTreeRegressor__min_samples_leaf=6, DecisionTreeRegressor__min_samples_split=6), LassoLarsCV__normalize=True), GradientBoostingRegressor__alpha=0.8, GradientBoostingRegressor__learning_rate=0.1, GradientBoostingRegressor__loss=huber, GradientBoostingRegressor__max_depth=2, GradientBoostingRegressor__max_features=0.4, GradientBoostingRegressor__min_samples_leaf=9, GradientBoostingRegressor__min_samples_split=20, GradientBoostingRegressor__n_estimators=100, GradientBoostingRegressor__subsample=0.35)': (3,\n",
       "  -1106413720.484364),\n",
       " 'GradientBoostingRegressor(LassoLarsCV(RobustScaler(input_matrix), LassoLarsCV__normalize=True), GradientBoostingRegressor__alpha=0.99, GradientBoostingRegressor__learning_rate=0.1, GradientBoostingRegressor__loss=huber, GradientBoostingRegressor__max_depth=3, GradientBoostingRegressor__max_features=0.85, GradientBoostingRegressor__min_samples_leaf=17, GradientBoostingRegressor__min_samples_split=16, GradientBoostingRegressor__n_estimators=100, GradientBoostingRegressor__subsample=1.0)': (3,\n",
       "  -825300264.81538618),\n",
       " 'GradientBoostingRegressor(LassoLarsCV(SelectFwe(input_matrix, SelectFwe__alpha=0.012), LassoLarsCV__normalize=False), GradientBoostingRegressor__alpha=0.99, GradientBoostingRegressor__learning_rate=0.1, GradientBoostingRegressor__loss=huber, GradientBoostingRegressor__max_depth=3, GradientBoostingRegressor__max_features=0.85, GradientBoostingRegressor__min_samples_leaf=17, GradientBoostingRegressor__min_samples_split=16, GradientBoostingRegressor__n_estimators=100, GradientBoostingRegressor__subsample=1.0)': (3,\n",
       "  -907866385.18062901),\n",
       " 'GradientBoostingRegressor(LassoLarsCV(input_matrix, LassoLarsCV__normalize=True), GradientBoostingRegressor__alpha=0.75, GradientBoostingRegressor__learning_rate=0.1, GradientBoostingRegressor__loss=huber, GradientBoostingRegressor__max_depth=2, GradientBoostingRegressor__max_features=0.4, GradientBoostingRegressor__min_samples_leaf=9, GradientBoostingRegressor__min_samples_split=20, GradientBoostingRegressor__n_estimators=100, GradientBoostingRegressor__subsample=0.35)': (2,\n",
       "  -851037178.6804049),\n",
       " 'GradientBoostingRegressor(LassoLarsCV(input_matrix, LassoLarsCV__normalize=True), GradientBoostingRegressor__alpha=0.8, GradientBoostingRegressor__learning_rate=0.1, GradientBoostingRegressor__loss=huber, GradientBoostingRegressor__max_depth=2, GradientBoostingRegressor__max_features=0.4, GradientBoostingRegressor__min_samples_leaf=9, GradientBoostingRegressor__min_samples_split=20, GradientBoostingRegressor__n_estimators=100, GradientBoostingRegressor__subsample=0.15)': (2,\n",
       "  -854384062.27581155),\n",
       " 'GradientBoostingRegressor(LassoLarsCV(input_matrix, LassoLarsCV__normalize=True), GradientBoostingRegressor__alpha=0.8, GradientBoostingRegressor__learning_rate=0.1, GradientBoostingRegressor__loss=huber, GradientBoostingRegressor__max_depth=2, GradientBoostingRegressor__max_features=0.4, GradientBoostingRegressor__min_samples_leaf=9, GradientBoostingRegressor__min_samples_split=20, GradientBoostingRegressor__n_estimators=100, GradientBoostingRegressor__subsample=0.35)': (2,\n",
       "  -820864616.26230872),\n",
       " 'GradientBoostingRegressor(LassoLarsCV(input_matrix, LassoLarsCV__normalize=True), GradientBoostingRegressor__alpha=0.99, GradientBoostingRegressor__learning_rate=0.1, GradientBoostingRegressor__loss=huber, GradientBoostingRegressor__max_depth=10, GradientBoostingRegressor__max_features=0.85, GradientBoostingRegressor__min_samples_leaf=17, GradientBoostingRegressor__min_samples_split=16, GradientBoostingRegressor__n_estimators=100, GradientBoostingRegressor__subsample=1.0)': (2,\n",
       "  -814889631.80294752),\n",
       " 'GradientBoostingRegressor(LassoLarsCV(input_matrix, LassoLarsCV__normalize=True), GradientBoostingRegressor__alpha=0.99, GradientBoostingRegressor__learning_rate=0.1, GradientBoostingRegressor__loss=huber, GradientBoostingRegressor__max_depth=3, GradientBoostingRegressor__max_features=0.1, GradientBoostingRegressor__min_samples_leaf=17, GradientBoostingRegressor__min_samples_split=16, GradientBoostingRegressor__n_estimators=100, GradientBoostingRegressor__subsample=1.0)': (2,\n",
       "  -838889752.31580913),\n",
       " 'GradientBoostingRegressor(LassoLarsCV(input_matrix, LassoLarsCV__normalize=True), GradientBoostingRegressor__alpha=0.99, GradientBoostingRegressor__learning_rate=0.1, GradientBoostingRegressor__loss=huber, GradientBoostingRegressor__max_depth=3, GradientBoostingRegressor__max_features=0.85, GradientBoostingRegressor__min_samples_leaf=17, GradientBoostingRegressor__min_samples_split=16, GradientBoostingRegressor__n_estimators=100, GradientBoostingRegressor__subsample=1.0)': (2,\n",
       "  -812721847.17107022),\n",
       " 'GradientBoostingRegressor(LassoLarsCV(input_matrix, LassoLarsCV__normalize=True), GradientBoostingRegressor__alpha=0.99, GradientBoostingRegressor__learning_rate=0.1, GradientBoostingRegressor__loss=huber, GradientBoostingRegressor__max_depth=9, GradientBoostingRegressor__max_features=0.85, GradientBoostingRegressor__min_samples_leaf=17, GradientBoostingRegressor__min_samples_split=16, GradientBoostingRegressor__n_estimators=100, GradientBoostingRegressor__subsample=0.5)': (2,\n",
       "  -785401445.30320859),\n",
       " 'GradientBoostingRegressor(LinearSVR(PCA(input_matrix, PCA__iterated_power=4, PCA__svd_solver=randomized), LinearSVR__C=0.1, LinearSVR__dual=True, LinearSVR__epsilon=0.1, LinearSVR__loss=squared_epsilon_insensitive, LinearSVR__tol=0.0001), GradientBoostingRegressor__alpha=0.99, GradientBoostingRegressor__learning_rate=0.1, GradientBoostingRegressor__loss=huber, GradientBoostingRegressor__max_depth=4, GradientBoostingRegressor__max_features=0.85, GradientBoostingRegressor__min_samples_leaf=17, GradientBoostingRegressor__min_samples_split=16, GradientBoostingRegressor__n_estimators=100, GradientBoostingRegressor__subsample=1.0)': (3,\n",
       "  -1128574995.7637005),\n",
       " 'GradientBoostingRegressor(LinearSVR(RobustScaler(input_matrix), LinearSVR__C=0.1, LinearSVR__dual=True, LinearSVR__epsilon=0.1, LinearSVR__loss=squared_epsilon_insensitive, LinearSVR__tol=0.0001), GradientBoostingRegressor__alpha=0.99, GradientBoostingRegressor__learning_rate=0.1, GradientBoostingRegressor__loss=huber, GradientBoostingRegressor__max_depth=4, GradientBoostingRegressor__max_features=0.85, GradientBoostingRegressor__min_samples_leaf=17, GradientBoostingRegressor__min_samples_split=16, GradientBoostingRegressor__n_estimators=100, GradientBoostingRegressor__subsample=1.0)': (3,\n",
       "  -984401840.33761537),\n",
       " 'GradientBoostingRegressor(LinearSVR(input_matrix, LinearSVR__C=0.1, LinearSVR__dual=True, LinearSVR__epsilon=0.1, LinearSVR__loss=epsilon_insensitive, LinearSVR__tol=0.0001), GradientBoostingRegressor__alpha=0.99, GradientBoostingRegressor__learning_rate=0.1, GradientBoostingRegressor__loss=huber, GradientBoostingRegressor__max_depth=3, GradientBoostingRegressor__max_features=0.85, GradientBoostingRegressor__min_samples_leaf=17, GradientBoostingRegressor__min_samples_split=16, GradientBoostingRegressor__n_estimators=100, GradientBoostingRegressor__subsample=1.0)': (2,\n",
       "  -761626991.78758514),\n",
       " 'GradientBoostingRegressor(LinearSVR(input_matrix, LinearSVR__C=0.1, LinearSVR__dual=True, LinearSVR__epsilon=0.1, LinearSVR__loss=epsilon_insensitive, LinearSVR__tol=0.0001), GradientBoostingRegressor__alpha=0.99, GradientBoostingRegressor__learning_rate=0.1, GradientBoostingRegressor__loss=huber, GradientBoostingRegressor__max_depth=9, GradientBoostingRegressor__max_features=0.85, GradientBoostingRegressor__min_samples_leaf=17, GradientBoostingRegressor__min_samples_split=16, GradientBoostingRegressor__n_estimators=100, GradientBoostingRegressor__subsample=0.5)': (2,\n",
       "  -813617487.44774306),\n",
       " 'GradientBoostingRegressor(LinearSVR(input_matrix, LinearSVR__C=0.1, LinearSVR__dual=True, LinearSVR__epsilon=0.1, LinearSVR__loss=squared_epsilon_insensitive, LinearSVR__tol=0.0001), GradientBoostingRegressor__alpha=0.99, GradientBoostingRegressor__learning_rate=0.1, GradientBoostingRegressor__loss=huber, GradientBoostingRegressor__max_depth=1, GradientBoostingRegressor__max_features=0.85, GradientBoostingRegressor__min_samples_leaf=17, GradientBoostingRegressor__min_samples_split=16, GradientBoostingRegressor__n_estimators=100, GradientBoostingRegressor__subsample=1.0)': (2,\n",
       "  -947811645.43573833),\n",
       " 'GradientBoostingRegressor(LinearSVR(input_matrix, LinearSVR__C=0.1, LinearSVR__dual=True, LinearSVR__epsilon=0.1, LinearSVR__loss=squared_epsilon_insensitive, LinearSVR__tol=0.0001), GradientBoostingRegressor__alpha=0.99, GradientBoostingRegressor__learning_rate=0.1, GradientBoostingRegressor__loss=huber, GradientBoostingRegressor__max_depth=10, GradientBoostingRegressor__max_features=0.85, GradientBoostingRegressor__min_samples_leaf=17, GradientBoostingRegressor__min_samples_split=16, GradientBoostingRegressor__n_estimators=100, GradientBoostingRegressor__subsample=0.5)': (2,\n",
       "  -781154299.10639095),\n",
       " 'GradientBoostingRegressor(LinearSVR(input_matrix, LinearSVR__C=0.1, LinearSVR__dual=True, LinearSVR__epsilon=0.1, LinearSVR__loss=squared_epsilon_insensitive, LinearSVR__tol=0.0001), GradientBoostingRegressor__alpha=0.99, GradientBoostingRegressor__learning_rate=0.1, GradientBoostingRegressor__loss=huber, GradientBoostingRegressor__max_depth=3, GradientBoostingRegressor__max_features=0.85, GradientBoostingRegressor__min_samples_leaf=17, GradientBoostingRegressor__min_samples_split=16, GradientBoostingRegressor__n_estimators=100, GradientBoostingRegressor__subsample=0.5)': (2,\n",
       "  -778924981.58425975),\n",
       " 'GradientBoostingRegressor(LinearSVR(input_matrix, LinearSVR__C=0.1, LinearSVR__dual=True, LinearSVR__epsilon=0.1, LinearSVR__loss=squared_epsilon_insensitive, LinearSVR__tol=0.0001), GradientBoostingRegressor__alpha=0.99, GradientBoostingRegressor__learning_rate=0.1, GradientBoostingRegressor__loss=huber, GradientBoostingRegressor__max_depth=3, GradientBoostingRegressor__max_features=0.85, GradientBoostingRegressor__min_samples_leaf=17, GradientBoostingRegressor__min_samples_split=16, GradientBoostingRegressor__n_estimators=100, GradientBoostingRegressor__subsample=1.0)': (2,\n",
       "  -767835751.83616495),\n",
       " 'GradientBoostingRegressor(LinearSVR(input_matrix, LinearSVR__C=0.1, LinearSVR__dual=True, LinearSVR__epsilon=0.1, LinearSVR__loss=squared_epsilon_insensitive, LinearSVR__tol=0.0001), GradientBoostingRegressor__alpha=0.99, GradientBoostingRegressor__learning_rate=0.1, GradientBoostingRegressor__loss=huber, GradientBoostingRegressor__max_depth=4, GradientBoostingRegressor__max_features=0.85, GradientBoostingRegressor__min_samples_leaf=17, GradientBoostingRegressor__min_samples_split=16, GradientBoostingRegressor__n_estimators=100, GradientBoostingRegressor__subsample=0.5)': (2,\n",
       "  -756162964.66678452),\n",
       " 'GradientBoostingRegressor(LinearSVR(input_matrix, LinearSVR__C=0.1, LinearSVR__dual=True, LinearSVR__epsilon=0.1, LinearSVR__loss=squared_epsilon_insensitive, LinearSVR__tol=0.0001), GradientBoostingRegressor__alpha=0.99, GradientBoostingRegressor__learning_rate=0.1, GradientBoostingRegressor__loss=huber, GradientBoostingRegressor__max_depth=4, GradientBoostingRegressor__max_features=0.85, GradientBoostingRegressor__min_samples_leaf=17, GradientBoostingRegressor__min_samples_split=16, GradientBoostingRegressor__n_estimators=100, GradientBoostingRegressor__subsample=1.0)': (2,\n",
       "  -752493944.86571527),\n",
       " 'GradientBoostingRegressor(LinearSVR(input_matrix, LinearSVR__C=0.1, LinearSVR__dual=True, LinearSVR__epsilon=0.1, LinearSVR__loss=squared_epsilon_insensitive, LinearSVR__tol=0.0001), GradientBoostingRegressor__alpha=0.99, GradientBoostingRegressor__learning_rate=0.1, GradientBoostingRegressor__loss=huber, GradientBoostingRegressor__max_depth=9, GradientBoostingRegressor__max_features=0.85, GradientBoostingRegressor__min_samples_leaf=17, GradientBoostingRegressor__min_samples_split=16, GradientBoostingRegressor__n_estimators=100, GradientBoostingRegressor__subsample=0.5)': (2,\n",
       "  -772249363.89796603),\n",
       " 'GradientBoostingRegressor(LinearSVR(input_matrix, LinearSVR__C=0.1, LinearSVR__dual=True, LinearSVR__epsilon=0.1, LinearSVR__loss=squared_epsilon_insensitive, LinearSVR__tol=0.0001), GradientBoostingRegressor__alpha=0.99, GradientBoostingRegressor__learning_rate=0.1, GradientBoostingRegressor__loss=huber, GradientBoostingRegressor__max_depth=9, GradientBoostingRegressor__max_features=0.85, GradientBoostingRegressor__min_samples_leaf=17, GradientBoostingRegressor__min_samples_split=9, GradientBoostingRegressor__n_estimators=100, GradientBoostingRegressor__subsample=0.5)': (2,\n",
       "  -772249363.89796603),\n",
       " 'GradientBoostingRegressor(LinearSVR(input_matrix, LinearSVR__C=1.0, LinearSVR__dual=True, LinearSVR__epsilon=0.001, LinearSVR__loss=squared_epsilon_insensitive, LinearSVR__tol=0.001), GradientBoostingRegressor__alpha=0.95, GradientBoostingRegressor__learning_rate=0.001, GradientBoostingRegressor__loss=lad, GradientBoostingRegressor__max_depth=1, GradientBoostingRegressor__max_features=0.7, GradientBoostingRegressor__min_samples_leaf=10, GradientBoostingRegressor__min_samples_split=15, GradientBoostingRegressor__n_estimators=100, GradientBoostingRegressor__subsample=0.25)': (2,\n",
       "  -6324763877.2220755),\n",
       " 'GradientBoostingRegressor(MaxAbsScaler(LinearSVR(input_matrix, LinearSVR__C=0.1, LinearSVR__dual=True, LinearSVR__epsilon=0.1, LinearSVR__loss=squared_epsilon_insensitive, LinearSVR__tol=0.0001)), GradientBoostingRegressor__alpha=0.99, GradientBoostingRegressor__learning_rate=0.1, GradientBoostingRegressor__loss=huber, GradientBoostingRegressor__max_depth=4, GradientBoostingRegressor__max_features=0.85, GradientBoostingRegressor__min_samples_leaf=17, GradientBoostingRegressor__min_samples_split=16, GradientBoostingRegressor__n_estimators=100, GradientBoostingRegressor__subsample=0.5)': (3,\n",
       "  -757071211.55672097),\n",
       " 'GradientBoostingRegressor(MaxAbsScaler(StandardScaler(input_matrix)), GradientBoostingRegressor__alpha=0.99, GradientBoostingRegressor__learning_rate=0.1, GradientBoostingRegressor__loss=huber, GradientBoostingRegressor__max_depth=3, GradientBoostingRegressor__max_features=0.85, GradientBoostingRegressor__min_samples_leaf=17, GradientBoostingRegressor__min_samples_split=16, GradientBoostingRegressor__n_estimators=100, GradientBoostingRegressor__subsample=1.0)': (3,\n",
       "  -827089710.33372259),\n",
       " 'GradientBoostingRegressor(MaxAbsScaler(input_matrix), GradientBoostingRegressor__alpha=0.99, GradientBoostingRegressor__learning_rate=0.1, GradientBoostingRegressor__loss=huber, GradientBoostingRegressor__max_depth=3, GradientBoostingRegressor__max_features=0.85, GradientBoostingRegressor__min_samples_leaf=17, GradientBoostingRegressor__min_samples_split=16, GradientBoostingRegressor__n_estimators=100, GradientBoostingRegressor__subsample=0.5)': (2,\n",
       "  -826243483.18090594),\n",
       " 'GradientBoostingRegressor(OneHotEncoder(input_matrix, OneHotEncoder__minimum_fraction=0.15, OneHotEncoder__sparse=False), GradientBoostingRegressor__alpha=0.8, GradientBoostingRegressor__learning_rate=0.1, GradientBoostingRegressor__loss=huber, GradientBoostingRegressor__max_depth=2, GradientBoostingRegressor__max_features=0.4, GradientBoostingRegressor__min_samples_leaf=14, GradientBoostingRegressor__min_samples_split=20, GradientBoostingRegressor__n_estimators=100, GradientBoostingRegressor__subsample=0.15)': (2,\n",
       "  -1082749290.7004933),\n",
       " 'GradientBoostingRegressor(OneHotEncoder(input_matrix, OneHotEncoder__minimum_fraction=0.25, OneHotEncoder__sparse=False), GradientBoostingRegressor__alpha=0.8, GradientBoostingRegressor__learning_rate=0.1, GradientBoostingRegressor__loss=huber, GradientBoostingRegressor__max_depth=2, GradientBoostingRegressor__max_features=0.4, GradientBoostingRegressor__min_samples_leaf=9, GradientBoostingRegressor__min_samples_split=20, GradientBoostingRegressor__n_estimators=100, GradientBoostingRegressor__subsample=0.15)': (2,\n",
       "  -1009032803.6585944),\n",
       " 'GradientBoostingRegressor(PCA(input_matrix, PCA__iterated_power=1, PCA__svd_solver=randomized), GradientBoostingRegressor__alpha=0.99, GradientBoostingRegressor__learning_rate=0.1, GradientBoostingRegressor__loss=huber, GradientBoostingRegressor__max_depth=3, GradientBoostingRegressor__max_features=0.85, GradientBoostingRegressor__min_samples_leaf=17, GradientBoostingRegressor__min_samples_split=16, GradientBoostingRegressor__n_estimators=100, GradientBoostingRegressor__subsample=0.5)': (2,\n",
       "  -1169283357.0036905),\n",
       " 'GradientBoostingRegressor(PCA(input_matrix, PCA__iterated_power=6, PCA__svd_solver=randomized), GradientBoostingRegressor__alpha=0.99, GradientBoostingRegressor__learning_rate=0.1, GradientBoostingRegressor__loss=huber, GradientBoostingRegressor__max_depth=4, GradientBoostingRegressor__max_features=0.85, GradientBoostingRegressor__min_samples_leaf=16, GradientBoostingRegressor__min_samples_split=16, GradientBoostingRegressor__n_estimators=100, GradientBoostingRegressor__subsample=1.0)': (2,\n",
       "  -1105127694.0994461),\n",
       " 'GradientBoostingRegressor(RBFSampler(input_matrix, RBFSampler__gamma=0.35), GradientBoostingRegressor__alpha=0.99, GradientBoostingRegressor__learning_rate=0.1, GradientBoostingRegressor__loss=huber, GradientBoostingRegressor__max_depth=3, GradientBoostingRegressor__max_features=0.85, GradientBoostingRegressor__min_samples_leaf=17, GradientBoostingRegressor__min_samples_split=16, GradientBoostingRegressor__n_estimators=100, GradientBoostingRegressor__subsample=1.0)': (2,\n",
       "  -6963069960.3898258),\n",
       " 'GradientBoostingRegressor(RBFSampler(input_matrix, RBFSampler__gamma=0.4), GradientBoostingRegressor__alpha=0.8, GradientBoostingRegressor__learning_rate=0.1, GradientBoostingRegressor__loss=huber, GradientBoostingRegressor__max_depth=2, GradientBoostingRegressor__max_features=0.4, GradientBoostingRegressor__min_samples_leaf=9, GradientBoostingRegressor__min_samples_split=20, GradientBoostingRegressor__n_estimators=100, GradientBoostingRegressor__subsample=0.35)': (2,\n",
       "  -6784928029.2726803),\n",
       " 'GradientBoostingRegressor(RBFSampler(input_matrix, RBFSampler__gamma=0.95), GradientBoostingRegressor__alpha=0.99, GradientBoostingRegressor__learning_rate=0.1, GradientBoostingRegressor__loss=huber, GradientBoostingRegressor__max_depth=9, GradientBoostingRegressor__max_features=0.85, GradientBoostingRegressor__min_samples_leaf=17, GradientBoostingRegressor__min_samples_split=16, GradientBoostingRegressor__n_estimators=100, GradientBoostingRegressor__subsample=0.5)': (2,\n",
       "  -7629042548.1895628),\n",
       " 'GradientBoostingRegressor(RidgeCV(input_matrix), GradientBoostingRegressor__alpha=0.85, GradientBoostingRegressor__learning_rate=0.001, GradientBoostingRegressor__loss=lad, GradientBoostingRegressor__max_depth=9, GradientBoostingRegressor__max_features=0.75, GradientBoostingRegressor__min_samples_leaf=2, GradientBoostingRegressor__min_samples_split=17, GradientBoostingRegressor__n_estimators=100, GradientBoostingRegressor__subsample=0.25)': (2,\n",
       "  -6199404276.3018141),\n",
       " 'GradientBoostingRegressor(RobustScaler(MaxAbsScaler(input_matrix)), GradientBoostingRegressor__alpha=0.99, GradientBoostingRegressor__learning_rate=0.1, GradientBoostingRegressor__loss=huber, GradientBoostingRegressor__max_depth=3, GradientBoostingRegressor__max_features=0.85, GradientBoostingRegressor__min_samples_leaf=17, GradientBoostingRegressor__min_samples_split=16, GradientBoostingRegressor__n_estimators=100, GradientBoostingRegressor__subsample=1.0)': (3,\n",
       "  -827019285.0260371),\n",
       " 'GradientBoostingRegressor(RobustScaler(input_matrix), GradientBoostingRegressor__alpha=0.75, GradientBoostingRegressor__learning_rate=0.1, GradientBoostingRegressor__loss=huber, GradientBoostingRegressor__max_depth=3, GradientBoostingRegressor__max_features=0.85, GradientBoostingRegressor__min_samples_leaf=17, GradientBoostingRegressor__min_samples_split=16, GradientBoostingRegressor__n_estimators=100, GradientBoostingRegressor__subsample=1.0)': (2,\n",
       "  -901199526.79736233),\n",
       " 'GradientBoostingRegressor(RobustScaler(input_matrix), GradientBoostingRegressor__alpha=0.99, GradientBoostingRegressor__learning_rate=0.1, GradientBoostingRegressor__loss=huber, GradientBoostingRegressor__max_depth=10, GradientBoostingRegressor__max_features=0.85, GradientBoostingRegressor__min_samples_leaf=17, GradientBoostingRegressor__min_samples_split=16, GradientBoostingRegressor__n_estimators=100, GradientBoostingRegressor__subsample=1.0)': (2,\n",
       "  -830370927.6711638),\n",
       " 'GradientBoostingRegressor(RobustScaler(input_matrix), GradientBoostingRegressor__alpha=0.99, GradientBoostingRegressor__learning_rate=0.1, GradientBoostingRegressor__loss=huber, GradientBoostingRegressor__max_depth=3, GradientBoostingRegressor__max_features=0.85, GradientBoostingRegressor__min_samples_leaf=17, GradientBoostingRegressor__min_samples_split=16, GradientBoostingRegressor__n_estimators=100, GradientBoostingRegressor__subsample=1.0)': (2,\n",
       "  -827019285.0260371),\n",
       " 'GradientBoostingRegressor(RobustScaler(input_matrix), GradientBoostingRegressor__alpha=0.99, GradientBoostingRegressor__learning_rate=0.1, GradientBoostingRegressor__loss=huber, GradientBoostingRegressor__max_depth=4, GradientBoostingRegressor__max_features=0.85, GradientBoostingRegressor__min_samples_leaf=17, GradientBoostingRegressor__min_samples_split=16, GradientBoostingRegressor__n_estimators=100, GradientBoostingRegressor__subsample=1.0)': (2,\n",
       "  -788795507.41654849),\n",
       " 'GradientBoostingRegressor(SelectFromModel(input_matrix, SelectFromModel__ExtraTreesRegressor__max_features=0.45, SelectFromModel__ExtraTreesRegressor__n_estimators=100, SelectFromModel__threshold=0.05), GradientBoostingRegressor__alpha=0.99, GradientBoostingRegressor__learning_rate=0.1, GradientBoostingRegressor__loss=huber, GradientBoostingRegressor__max_depth=3, GradientBoostingRegressor__max_features=0.85, GradientBoostingRegressor__min_samples_leaf=17, GradientBoostingRegressor__min_samples_split=16, GradientBoostingRegressor__n_estimators=100, GradientBoostingRegressor__subsample=0.5)': (2,\n",
       "  -1378024788.7971311),\n",
       " 'GradientBoostingRegressor(SelectFwe(RandomForestRegressor(input_matrix, RandomForestRegressor__bootstrap=False, RandomForestRegressor__max_features=0.7, RandomForestRegressor__min_samples_leaf=20, RandomForestRegressor__min_samples_split=2, RandomForestRegressor__n_estimators=100), SelectFwe__alpha=0.012), GradientBoostingRegressor__alpha=0.99, GradientBoostingRegressor__learning_rate=0.1, GradientBoostingRegressor__loss=huber, GradientBoostingRegressor__max_depth=3, GradientBoostingRegressor__max_features=0.85, GradientBoostingRegressor__min_samples_leaf=17, GradientBoostingRegressor__min_samples_split=16, GradientBoostingRegressor__n_estimators=100, GradientBoostingRegressor__subsample=1.0)': (3,\n",
       "  -966744135.68508172),\n",
       " 'GradientBoostingRegressor(SelectFwe(StandardScaler(input_matrix), SelectFwe__alpha=0.012), GradientBoostingRegressor__alpha=0.99, GradientBoostingRegressor__learning_rate=0.1, GradientBoostingRegressor__loss=huber, GradientBoostingRegressor__max_depth=3, GradientBoostingRegressor__max_features=0.85, GradientBoostingRegressor__min_samples_leaf=17, GradientBoostingRegressor__min_samples_split=16, GradientBoostingRegressor__n_estimators=100, GradientBoostingRegressor__subsample=1.0)': (3,\n",
       "  -880199679.67524755),\n",
       " 'GradientBoostingRegressor(SelectFwe(input_matrix, SelectFwe__alpha=0.012), GradientBoostingRegressor__alpha=0.99, GradientBoostingRegressor__learning_rate=0.1, GradientBoostingRegressor__loss=huber, GradientBoostingRegressor__max_depth=3, GradientBoostingRegressor__max_features=0.85, GradientBoostingRegressor__min_samples_leaf=17, GradientBoostingRegressor__min_samples_split=16, GradientBoostingRegressor__n_estimators=100, GradientBoostingRegressor__subsample=1.0)': (2,\n",
       "  -879389862.10444891),\n",
       " 'GradientBoostingRegressor(SelectFwe(input_matrix, SelectFwe__alpha=0.021), GradientBoostingRegressor__alpha=0.99, GradientBoostingRegressor__learning_rate=0.1, GradientBoostingRegressor__loss=huber, GradientBoostingRegressor__max_depth=3, GradientBoostingRegressor__max_features=0.85, GradientBoostingRegressor__min_samples_leaf=17, GradientBoostingRegressor__min_samples_split=16, GradientBoostingRegressor__n_estimators=100, GradientBoostingRegressor__subsample=1.0)': (2,\n",
       "  -899003787.96496654),\n",
       " 'GradientBoostingRegressor(StandardScaler(input_matrix), GradientBoostingRegressor__alpha=0.8, GradientBoostingRegressor__learning_rate=0.001, GradientBoostingRegressor__loss=quantile, GradientBoostingRegressor__max_depth=3, GradientBoostingRegressor__max_features=0.9, GradientBoostingRegressor__min_samples_leaf=7, GradientBoostingRegressor__min_samples_split=10, GradientBoostingRegressor__n_estimators=100, GradientBoostingRegressor__subsample=0.5)': (2,\n",
       "  -7906212316.7435942),\n",
       " 'GradientBoostingRegressor(StandardScaler(input_matrix), GradientBoostingRegressor__alpha=0.99, GradientBoostingRegressor__learning_rate=0.1, GradientBoostingRegressor__loss=huber, GradientBoostingRegressor__max_depth=3, GradientBoostingRegressor__max_features=0.85, GradientBoostingRegressor__min_samples_leaf=17, GradientBoostingRegressor__min_samples_split=16, GradientBoostingRegressor__n_estimators=100, GradientBoostingRegressor__subsample=1.0)': (2,\n",
       "  -827067937.29301345),\n",
       " 'GradientBoostingRegressor(StandardScaler(input_matrix), GradientBoostingRegressor__alpha=0.99, GradientBoostingRegressor__learning_rate=0.1, GradientBoostingRegressor__loss=huber, GradientBoostingRegressor__max_depth=3, GradientBoostingRegressor__max_features=0.85, GradientBoostingRegressor__min_samples_leaf=5, GradientBoostingRegressor__min_samples_split=16, GradientBoostingRegressor__n_estimators=100, GradientBoostingRegressor__subsample=1.0)': (2,\n",
       "  -878385712.71677935),\n",
       " 'GradientBoostingRegressor(StandardScaler(input_matrix), GradientBoostingRegressor__alpha=0.99, GradientBoostingRegressor__learning_rate=0.1, GradientBoostingRegressor__loss=huber, GradientBoostingRegressor__max_depth=7, GradientBoostingRegressor__max_features=0.85, GradientBoostingRegressor__min_samples_leaf=17, GradientBoostingRegressor__min_samples_split=16, GradientBoostingRegressor__n_estimators=100, GradientBoostingRegressor__subsample=1.0)': (2,\n",
       "  -850920072.33209336),\n",
       " 'GradientBoostingRegressor(VarianceThreshold(LassoLarsCV(input_matrix, LassoLarsCV__normalize=True), VarianceThreshold__threshold=1.0), GradientBoostingRegressor__alpha=0.8, GradientBoostingRegressor__learning_rate=0.1, GradientBoostingRegressor__loss=huber, GradientBoostingRegressor__max_depth=2, GradientBoostingRegressor__max_features=0.4, GradientBoostingRegressor__min_samples_leaf=9, GradientBoostingRegressor__min_samples_split=20, GradientBoostingRegressor__n_estimators=100, GradientBoostingRegressor__subsample=0.35)': (3,\n",
       "  -807499299.28213847),\n",
       " 'GradientBoostingRegressor(VarianceThreshold(input_matrix, VarianceThreshold__threshold=1.0), GradientBoostingRegressor__alpha=0.8, GradientBoostingRegressor__learning_rate=0.1, GradientBoostingRegressor__loss=huber, GradientBoostingRegressor__max_depth=2, GradientBoostingRegressor__max_features=0.4, GradientBoostingRegressor__min_samples_leaf=9, GradientBoostingRegressor__min_samples_split=20, GradientBoostingRegressor__n_estimators=100, GradientBoostingRegressor__subsample=0.35)': (2,\n",
       "  -963413020.93177414),\n",
       " 'GradientBoostingRegressor(ZeroCount(StandardScaler(input_matrix)), GradientBoostingRegressor__alpha=0.99, GradientBoostingRegressor__learning_rate=0.1, GradientBoostingRegressor__loss=huber, GradientBoostingRegressor__max_depth=3, GradientBoostingRegressor__max_features=0.85, GradientBoostingRegressor__min_samples_leaf=17, GradientBoostingRegressor__min_samples_split=16, GradientBoostingRegressor__n_estimators=100, GradientBoostingRegressor__subsample=1.0)': (3,\n",
       "  -816761434.91916776),\n",
       " 'GradientBoostingRegressor(ZeroCount(input_matrix), GradientBoostingRegressor__alpha=0.8, GradientBoostingRegressor__learning_rate=0.1, GradientBoostingRegressor__loss=huber, GradientBoostingRegressor__max_depth=2, GradientBoostingRegressor__max_features=0.4, GradientBoostingRegressor__min_samples_leaf=6, GradientBoostingRegressor__min_samples_split=20, GradientBoostingRegressor__n_estimators=100, GradientBoostingRegressor__subsample=0.15)': (2,\n",
       "  -929846915.46320653),\n",
       " 'GradientBoostingRegressor(ZeroCount(input_matrix), GradientBoostingRegressor__alpha=0.99, GradientBoostingRegressor__learning_rate=0.1, GradientBoostingRegressor__loss=huber, GradientBoostingRegressor__max_depth=3, GradientBoostingRegressor__max_features=0.85, GradientBoostingRegressor__min_samples_leaf=17, GradientBoostingRegressor__min_samples_split=16, GradientBoostingRegressor__n_estimators=100, GradientBoostingRegressor__subsample=1.0)': (2,\n",
       "  -848425447.36531305),\n",
       " 'GradientBoostingRegressor(input_matrix, GradientBoostingRegressor__alpha=0.75, GradientBoostingRegressor__learning_rate=0.1, GradientBoostingRegressor__loss=huber, GradientBoostingRegressor__max_depth=4, GradientBoostingRegressor__max_features=0.9, GradientBoostingRegressor__min_samples_leaf=20, GradientBoostingRegressor__min_samples_split=6, GradientBoostingRegressor__n_estimators=100, GradientBoostingRegressor__subsample=1.0)': (1,\n",
       "  -906089749.69084966),\n",
       " 'GradientBoostingRegressor(input_matrix, GradientBoostingRegressor__alpha=0.8, GradientBoostingRegressor__learning_rate=0.1, GradientBoostingRegressor__loss=huber, GradientBoostingRegressor__max_depth=2, GradientBoostingRegressor__max_features=0.2, GradientBoostingRegressor__min_samples_leaf=6, GradientBoostingRegressor__min_samples_split=20, GradientBoostingRegressor__n_estimators=100, GradientBoostingRegressor__subsample=0.15)': (1,\n",
       "  -930987326.28776526),\n",
       " 'GradientBoostingRegressor(input_matrix, GradientBoostingRegressor__alpha=0.8, GradientBoostingRegressor__learning_rate=0.1, GradientBoostingRegressor__loss=huber, GradientBoostingRegressor__max_depth=2, GradientBoostingRegressor__max_features=0.4, GradientBoostingRegressor__min_samples_leaf=14, GradientBoostingRegressor__min_samples_split=20, GradientBoostingRegressor__n_estimators=100, GradientBoostingRegressor__subsample=0.15)': (1,\n",
       "  -1010914824.2079656),\n",
       " 'GradientBoostingRegressor(input_matrix, GradientBoostingRegressor__alpha=0.8, GradientBoostingRegressor__learning_rate=0.1, GradientBoostingRegressor__loss=huber, GradientBoostingRegressor__max_depth=2, GradientBoostingRegressor__max_features=0.4, GradientBoostingRegressor__min_samples_leaf=6, GradientBoostingRegressor__min_samples_split=20, GradientBoostingRegressor__n_estimators=100, GradientBoostingRegressor__subsample=0.15)': (1,\n",
       "  -894894700.2252121),\n",
       " 'GradientBoostingRegressor(input_matrix, GradientBoostingRegressor__alpha=0.8, GradientBoostingRegressor__learning_rate=0.1, GradientBoostingRegressor__loss=huber, GradientBoostingRegressor__max_depth=2, GradientBoostingRegressor__max_features=0.4, GradientBoostingRegressor__min_samples_leaf=6, GradientBoostingRegressor__min_samples_split=20, GradientBoostingRegressor__n_estimators=100, GradientBoostingRegressor__subsample=0.6)': (1,\n",
       "  -927517309.87368488),\n",
       " 'GradientBoostingRegressor(input_matrix, GradientBoostingRegressor__alpha=0.8, GradientBoostingRegressor__learning_rate=0.1, GradientBoostingRegressor__loss=huber, GradientBoostingRegressor__max_depth=2, GradientBoostingRegressor__max_features=0.4, GradientBoostingRegressor__min_samples_leaf=9, GradientBoostingRegressor__min_samples_split=20, GradientBoostingRegressor__n_estimators=100, GradientBoostingRegressor__subsample=0.15)': (1,\n",
       "  -934896212.92761993),\n",
       " 'GradientBoostingRegressor(input_matrix, GradientBoostingRegressor__alpha=0.8, GradientBoostingRegressor__learning_rate=0.1, GradientBoostingRegressor__loss=huber, GradientBoostingRegressor__max_depth=2, GradientBoostingRegressor__max_features=0.4, GradientBoostingRegressor__min_samples_leaf=9, GradientBoostingRegressor__min_samples_split=20, GradientBoostingRegressor__n_estimators=100, GradientBoostingRegressor__subsample=0.35)': (1,\n",
       "  -903157322.069067),\n",
       " 'GradientBoostingRegressor(input_matrix, GradientBoostingRegressor__alpha=0.85, GradientBoostingRegressor__learning_rate=0.1, GradientBoostingRegressor__loss=huber, GradientBoostingRegressor__max_depth=10, GradientBoostingRegressor__max_features=0.85, GradientBoostingRegressor__min_samples_leaf=17, GradientBoostingRegressor__min_samples_split=16, GradientBoostingRegressor__n_estimators=100, GradientBoostingRegressor__subsample=1.0)': (1,\n",
       "  -915370622.02309299),\n",
       " 'GradientBoostingRegressor(input_matrix, GradientBoostingRegressor__alpha=0.95, GradientBoostingRegressor__learning_rate=1.0, GradientBoostingRegressor__loss=huber, GradientBoostingRegressor__max_depth=9, GradientBoostingRegressor__max_features=0.8, GradientBoostingRegressor__min_samples_leaf=12, GradientBoostingRegressor__min_samples_split=14, GradientBoostingRegressor__n_estimators=100, GradientBoostingRegressor__subsample=0.3)': (1,\n",
       "  -1602364455609.0625),\n",
       " 'GradientBoostingRegressor(input_matrix, GradientBoostingRegressor__alpha=0.99, GradientBoostingRegressor__learning_rate=0.001, GradientBoostingRegressor__loss=huber, GradientBoostingRegressor__max_depth=3, GradientBoostingRegressor__max_features=0.85, GradientBoostingRegressor__min_samples_leaf=17, GradientBoostingRegressor__min_samples_split=16, GradientBoostingRegressor__n_estimators=100, GradientBoostingRegressor__subsample=1.0)': (1,\n",
       "  -5866890085.0659847),\n",
       " 'GradientBoostingRegressor(input_matrix, GradientBoostingRegressor__alpha=0.99, GradientBoostingRegressor__learning_rate=0.001, GradientBoostingRegressor__loss=huber, GradientBoostingRegressor__max_depth=4, GradientBoostingRegressor__max_features=0.85, GradientBoostingRegressor__min_samples_leaf=17, GradientBoostingRegressor__min_samples_split=16, GradientBoostingRegressor__n_estimators=100, GradientBoostingRegressor__subsample=1.0)': (1,\n",
       "  -5808244481.2453356),\n",
       " 'GradientBoostingRegressor(input_matrix, GradientBoostingRegressor__alpha=0.99, GradientBoostingRegressor__learning_rate=0.01, GradientBoostingRegressor__loss=huber, GradientBoostingRegressor__max_depth=3, GradientBoostingRegressor__max_features=0.85, GradientBoostingRegressor__min_samples_leaf=17, GradientBoostingRegressor__min_samples_split=16, GradientBoostingRegressor__n_estimators=100, GradientBoostingRegressor__subsample=0.5)': (1,\n",
       "  -2233705906.4980927),\n",
       " 'GradientBoostingRegressor(input_matrix, GradientBoostingRegressor__alpha=0.99, GradientBoostingRegressor__learning_rate=0.01, GradientBoostingRegressor__loss=huber, GradientBoostingRegressor__max_depth=4, GradientBoostingRegressor__max_features=0.85, GradientBoostingRegressor__min_samples_leaf=17, GradientBoostingRegressor__min_samples_split=16, GradientBoostingRegressor__n_estimators=100, GradientBoostingRegressor__subsample=1.0)': (1,\n",
       "  -2052255341.7296627),\n",
       " 'GradientBoostingRegressor(input_matrix, GradientBoostingRegressor__alpha=0.99, GradientBoostingRegressor__learning_rate=0.1, GradientBoostingRegressor__loss=huber, GradientBoostingRegressor__max_depth=10, GradientBoostingRegressor__max_features=0.85, GradientBoostingRegressor__min_samples_leaf=17, GradientBoostingRegressor__min_samples_split=15, GradientBoostingRegressor__n_estimators=100, GradientBoostingRegressor__subsample=1.0)': (1,\n",
       "  -830305345.39423728),\n",
       " 'GradientBoostingRegressor(input_matrix, GradientBoostingRegressor__alpha=0.99, GradientBoostingRegressor__learning_rate=0.1, GradientBoostingRegressor__loss=huber, GradientBoostingRegressor__max_depth=10, GradientBoostingRegressor__max_features=0.85, GradientBoostingRegressor__min_samples_leaf=17, GradientBoostingRegressor__min_samples_split=16, GradientBoostingRegressor__n_estimators=100, GradientBoostingRegressor__subsample=0.35)': (1,\n",
       "  -852853681.66028774),\n",
       " 'GradientBoostingRegressor(input_matrix, GradientBoostingRegressor__alpha=0.99, GradientBoostingRegressor__learning_rate=0.1, GradientBoostingRegressor__loss=huber, GradientBoostingRegressor__max_depth=10, GradientBoostingRegressor__max_features=0.85, GradientBoostingRegressor__min_samples_leaf=17, GradientBoostingRegressor__min_samples_split=16, GradientBoostingRegressor__n_estimators=100, GradientBoostingRegressor__subsample=1.0)': (1,\n",
       "  -830305345.39423728),\n",
       " 'GradientBoostingRegressor(input_matrix, GradientBoostingRegressor__alpha=0.99, GradientBoostingRegressor__learning_rate=0.1, GradientBoostingRegressor__loss=huber, GradientBoostingRegressor__max_depth=10, GradientBoostingRegressor__max_features=0.85, GradientBoostingRegressor__min_samples_leaf=17, GradientBoostingRegressor__min_samples_split=6, GradientBoostingRegressor__n_estimators=100, GradientBoostingRegressor__subsample=1.0)': (1,\n",
       "  -830305345.39423728),\n",
       " 'GradientBoostingRegressor(input_matrix, GradientBoostingRegressor__alpha=0.99, GradientBoostingRegressor__learning_rate=0.1, GradientBoostingRegressor__loss=huber, GradientBoostingRegressor__max_depth=10, GradientBoostingRegressor__max_features=0.85, GradientBoostingRegressor__min_samples_leaf=9, GradientBoostingRegressor__min_samples_split=16, GradientBoostingRegressor__n_estimators=100, GradientBoostingRegressor__subsample=1.0)': (1,\n",
       "  -881676504.89769971),\n",
       " 'GradientBoostingRegressor(input_matrix, GradientBoostingRegressor__alpha=0.99, GradientBoostingRegressor__learning_rate=0.1, GradientBoostingRegressor__loss=huber, GradientBoostingRegressor__max_depth=10, GradientBoostingRegressor__max_features=0.85, GradientBoostingRegressor__min_samples_leaf=9, GradientBoostingRegressor__min_samples_split=20, GradientBoostingRegressor__n_estimators=100, GradientBoostingRegressor__subsample=1.0)': (1,\n",
       "  -902321094.9647634),\n",
       " 'GradientBoostingRegressor(input_matrix, GradientBoostingRegressor__alpha=0.99, GradientBoostingRegressor__learning_rate=0.1, GradientBoostingRegressor__loss=huber, GradientBoostingRegressor__max_depth=2, GradientBoostingRegressor__max_features=0.4, GradientBoostingRegressor__min_samples_leaf=9, GradientBoostingRegressor__min_samples_split=20, GradientBoostingRegressor__n_estimators=100, GradientBoostingRegressor__subsample=0.15)': (1,\n",
       "  -909568894.56165338),\n",
       " 'GradientBoostingRegressor(input_matrix, GradientBoostingRegressor__alpha=0.99, GradientBoostingRegressor__learning_rate=0.1, GradientBoostingRegressor__loss=huber, GradientBoostingRegressor__max_depth=3, GradientBoostingRegressor__max_features=0.4, GradientBoostingRegressor__min_samples_leaf=17, GradientBoostingRegressor__min_samples_split=16, GradientBoostingRegressor__n_estimators=100, GradientBoostingRegressor__subsample=0.5)': (1,\n",
       "  -840701023.08075547),\n",
       " 'GradientBoostingRegressor(input_matrix, GradientBoostingRegressor__alpha=0.99, GradientBoostingRegressor__learning_rate=0.1, GradientBoostingRegressor__loss=huber, GradientBoostingRegressor__max_depth=3, GradientBoostingRegressor__max_features=0.85, GradientBoostingRegressor__min_samples_leaf=17, GradientBoostingRegressor__min_samples_split=16, GradientBoostingRegressor__n_estimators=100, GradientBoostingRegressor__subsample=0.5)': (1,\n",
       "  -819697097.75959098),\n",
       " 'GradientBoostingRegressor(input_matrix, GradientBoostingRegressor__alpha=0.99, GradientBoostingRegressor__learning_rate=0.1, GradientBoostingRegressor__loss=huber, GradientBoostingRegressor__max_depth=3, GradientBoostingRegressor__max_features=0.85, GradientBoostingRegressor__min_samples_leaf=17, GradientBoostingRegressor__min_samples_split=16, GradientBoostingRegressor__n_estimators=100, GradientBoostingRegressor__subsample=1.0)': (1,\n",
       "  -827054686.57954907),\n",
       " 'GradientBoostingRegressor(input_matrix, GradientBoostingRegressor__alpha=0.99, GradientBoostingRegressor__learning_rate=0.1, GradientBoostingRegressor__loss=huber, GradientBoostingRegressor__max_depth=4, GradientBoostingRegressor__max_features=0.2, GradientBoostingRegressor__min_samples_leaf=17, GradientBoostingRegressor__min_samples_split=19, GradientBoostingRegressor__n_estimators=100, GradientBoostingRegressor__subsample=1.0)': (1,\n",
       "  -807005476.97490001),\n",
       " 'GradientBoostingRegressor(input_matrix, GradientBoostingRegressor__alpha=0.99, GradientBoostingRegressor__learning_rate=0.1, GradientBoostingRegressor__loss=huber, GradientBoostingRegressor__max_depth=4, GradientBoostingRegressor__max_features=0.85, GradientBoostingRegressor__min_samples_leaf=11, GradientBoostingRegressor__min_samples_split=16, GradientBoostingRegressor__n_estimators=100, GradientBoostingRegressor__subsample=1.0)': (1,\n",
       "  -850891330.89851606),\n",
       " 'GradientBoostingRegressor(input_matrix, GradientBoostingRegressor__alpha=0.99, GradientBoostingRegressor__learning_rate=0.1, GradientBoostingRegressor__loss=huber, GradientBoostingRegressor__max_depth=4, GradientBoostingRegressor__max_features=0.85, GradientBoostingRegressor__min_samples_leaf=12, GradientBoostingRegressor__min_samples_split=19, GradientBoostingRegressor__n_estimators=100, GradientBoostingRegressor__subsample=1.0)': (1,\n",
       "  -846535857.97493792),\n",
       " 'GradientBoostingRegressor(input_matrix, GradientBoostingRegressor__alpha=0.99, GradientBoostingRegressor__learning_rate=0.1, GradientBoostingRegressor__loss=huber, GradientBoostingRegressor__max_depth=4, GradientBoostingRegressor__max_features=0.85, GradientBoostingRegressor__min_samples_leaf=13, GradientBoostingRegressor__min_samples_split=3, GradientBoostingRegressor__n_estimators=100, GradientBoostingRegressor__subsample=1.0)': (1,\n",
       "  -836158708.34164333),\n",
       " 'GradientBoostingRegressor(input_matrix, GradientBoostingRegressor__alpha=0.99, GradientBoostingRegressor__learning_rate=0.1, GradientBoostingRegressor__loss=huber, GradientBoostingRegressor__max_depth=4, GradientBoostingRegressor__max_features=0.85, GradientBoostingRegressor__min_samples_leaf=16, GradientBoostingRegressor__min_samples_split=16, GradientBoostingRegressor__n_estimators=100, GradientBoostingRegressor__subsample=1.0)': (1,\n",
       "  -805042922.23585618),\n",
       " 'GradientBoostingRegressor(input_matrix, GradientBoostingRegressor__alpha=0.99, GradientBoostingRegressor__learning_rate=0.1, GradientBoostingRegressor__loss=huber, GradientBoostingRegressor__max_depth=4, GradientBoostingRegressor__max_features=0.85, GradientBoostingRegressor__min_samples_leaf=17, GradientBoostingRegressor__min_samples_split=10, GradientBoostingRegressor__n_estimators=100, GradientBoostingRegressor__subsample=1.0)': (1,\n",
       "  -788614295.47369087),\n",
       " 'GradientBoostingRegressor(input_matrix, GradientBoostingRegressor__alpha=0.99, GradientBoostingRegressor__learning_rate=0.1, GradientBoostingRegressor__loss=huber, GradientBoostingRegressor__max_depth=4, GradientBoostingRegressor__max_features=0.85, GradientBoostingRegressor__min_samples_leaf=17, GradientBoostingRegressor__min_samples_split=16, GradientBoostingRegressor__n_estimators=100, GradientBoostingRegressor__subsample=0.5)': (1,\n",
       "  -806146124.7447089),\n",
       " 'GradientBoostingRegressor(input_matrix, GradientBoostingRegressor__alpha=0.99, GradientBoostingRegressor__learning_rate=0.1, GradientBoostingRegressor__loss=huber, GradientBoostingRegressor__max_depth=4, GradientBoostingRegressor__max_features=0.85, GradientBoostingRegressor__min_samples_leaf=17, GradientBoostingRegressor__min_samples_split=16, GradientBoostingRegressor__n_estimators=100, GradientBoostingRegressor__subsample=1.0)': (1,\n",
       "  -788614295.47369087),\n",
       " 'GradientBoostingRegressor(input_matrix, GradientBoostingRegressor__alpha=0.99, GradientBoostingRegressor__learning_rate=0.1, GradientBoostingRegressor__loss=huber, GradientBoostingRegressor__max_depth=4, GradientBoostingRegressor__max_features=0.85, GradientBoostingRegressor__min_samples_leaf=17, GradientBoostingRegressor__min_samples_split=19, GradientBoostingRegressor__n_estimators=100, GradientBoostingRegressor__subsample=1.0)': (1,\n",
       "  -788614295.47369087),\n",
       " 'GradientBoostingRegressor(input_matrix, GradientBoostingRegressor__alpha=0.99, GradientBoostingRegressor__learning_rate=0.1, GradientBoostingRegressor__loss=huber, GradientBoostingRegressor__max_depth=4, GradientBoostingRegressor__max_features=0.85, GradientBoostingRegressor__min_samples_leaf=17, GradientBoostingRegressor__min_samples_split=3, GradientBoostingRegressor__n_estimators=100, GradientBoostingRegressor__subsample=1.0)': (1,\n",
       "  -788614295.47369087),\n",
       " 'GradientBoostingRegressor(input_matrix, GradientBoostingRegressor__alpha=0.99, GradientBoostingRegressor__learning_rate=0.1, GradientBoostingRegressor__loss=huber, GradientBoostingRegressor__max_depth=5, GradientBoostingRegressor__max_features=0.85, GradientBoostingRegressor__min_samples_leaf=17, GradientBoostingRegressor__min_samples_split=10, GradientBoostingRegressor__n_estimators=100, GradientBoostingRegressor__subsample=1.0)': (1,\n",
       "  -832408379.24171615),\n",
       " 'GradientBoostingRegressor(input_matrix, GradientBoostingRegressor__alpha=0.99, GradientBoostingRegressor__learning_rate=0.1, GradientBoostingRegressor__loss=huber, GradientBoostingRegressor__max_depth=9, GradientBoostingRegressor__max_features=0.85, GradientBoostingRegressor__min_samples_leaf=13, GradientBoostingRegressor__min_samples_split=16, GradientBoostingRegressor__n_estimators=100, GradientBoostingRegressor__subsample=0.5)': (1,\n",
       "  -835760762.24659812),\n",
       " 'GradientBoostingRegressor(input_matrix, GradientBoostingRegressor__alpha=0.99, GradientBoostingRegressor__learning_rate=0.1, GradientBoostingRegressor__loss=huber, GradientBoostingRegressor__max_depth=9, GradientBoostingRegressor__max_features=0.85, GradientBoostingRegressor__min_samples_leaf=17, GradientBoostingRegressor__min_samples_split=10, GradientBoostingRegressor__n_estimators=100, GradientBoostingRegressor__subsample=1.0)': (1,\n",
       "  -822016775.89300454),\n",
       " 'GradientBoostingRegressor(input_matrix, GradientBoostingRegressor__alpha=0.99, GradientBoostingRegressor__learning_rate=0.1, GradientBoostingRegressor__loss=huber, GradientBoostingRegressor__max_depth=9, GradientBoostingRegressor__max_features=0.85, GradientBoostingRegressor__min_samples_leaf=17, GradientBoostingRegressor__min_samples_split=16, GradientBoostingRegressor__n_estimators=100, GradientBoostingRegressor__subsample=0.5)': (1,\n",
       "  -800404353.03455472),\n",
       " 'GradientBoostingRegressor(input_matrix, GradientBoostingRegressor__alpha=0.99, GradientBoostingRegressor__learning_rate=0.1, GradientBoostingRegressor__loss=huber, GradientBoostingRegressor__max_depth=9, GradientBoostingRegressor__max_features=0.85, GradientBoostingRegressor__min_samples_leaf=17, GradientBoostingRegressor__min_samples_split=16, GradientBoostingRegressor__n_estimators=100, GradientBoostingRegressor__subsample=1.0)': (1,\n",
       "  -822016775.89300454),\n",
       " 'GradientBoostingRegressor(input_matrix, GradientBoostingRegressor__alpha=0.99, GradientBoostingRegressor__learning_rate=0.1, GradientBoostingRegressor__loss=lad, GradientBoostingRegressor__max_depth=4, GradientBoostingRegressor__max_features=0.85, GradientBoostingRegressor__min_samples_leaf=17, GradientBoostingRegressor__min_samples_split=10, GradientBoostingRegressor__n_estimators=100, GradientBoostingRegressor__subsample=1.0)': (1,\n",
       "  -935133317.65011144),\n",
       " 'GradientBoostingRegressor(input_matrix, GradientBoostingRegressor__alpha=0.99, GradientBoostingRegressor__learning_rate=0.1, GradientBoostingRegressor__loss=ls, GradientBoostingRegressor__max_depth=10, GradientBoostingRegressor__max_features=0.85, GradientBoostingRegressor__min_samples_leaf=17, GradientBoostingRegressor__min_samples_split=16, GradientBoostingRegressor__n_estimators=100, GradientBoostingRegressor__subsample=1.0)': (1,\n",
       "  -862362407.67348933),\n",
       " 'GradientBoostingRegressor(input_matrix, GradientBoostingRegressor__alpha=0.99, GradientBoostingRegressor__learning_rate=0.1, GradientBoostingRegressor__loss=quantile, GradientBoostingRegressor__max_depth=3, GradientBoostingRegressor__max_features=0.85, GradientBoostingRegressor__min_samples_leaf=17, GradientBoostingRegressor__min_samples_split=16, GradientBoostingRegressor__n_estimators=100, GradientBoostingRegressor__subsample=0.5)': (1,\n",
       "  -9794826339.9457397),\n",
       " 'GradientBoostingRegressor(input_matrix, GradientBoostingRegressor__alpha=0.99, GradientBoostingRegressor__learning_rate=1.0, GradientBoostingRegressor__loss=huber, GradientBoostingRegressor__max_depth=4, GradientBoostingRegressor__max_features=0.85, GradientBoostingRegressor__min_samples_leaf=17, GradientBoostingRegressor__min_samples_split=16, GradientBoostingRegressor__n_estimators=100, GradientBoostingRegressor__subsample=0.5)': (1,\n",
       "  -3042748821.9908495),\n",
       " 'GradientBoostingRegressor(input_matrix, GradientBoostingRegressor__alpha=0.99, GradientBoostingRegressor__learning_rate=1.0, GradientBoostingRegressor__loss=ls, GradientBoostingRegressor__max_depth=10, GradientBoostingRegressor__max_features=0.55, GradientBoostingRegressor__min_samples_leaf=2, GradientBoostingRegressor__min_samples_split=15, GradientBoostingRegressor__n_estimators=100, GradientBoostingRegressor__subsample=0.1)': (1,\n",
       "  -5.3462296006304865e+20),\n",
       " 'KNeighborsRegressor(FeatureAgglomeration(input_matrix, FeatureAgglomeration__affinity=euclidean, FeatureAgglomeration__linkage=average), KNeighborsRegressor__n_neighbors=50, KNeighborsRegressor__p=1, KNeighborsRegressor__weights=uniform)': (2,\n",
       "  -4952904783.7109928),\n",
       " 'KNeighborsRegressor(LinearSVR(input_matrix, LinearSVR__C=1.0, LinearSVR__dual=True, LinearSVR__epsilon=0.001, LinearSVR__loss=squared_epsilon_insensitive, LinearSVR__tol=0.001), KNeighborsRegressor__n_neighbors=1, KNeighborsRegressor__p=1, KNeighborsRegressor__weights=distance)': (2,\n",
       "  -1694876183.7455704),\n",
       " 'KNeighborsRegressor(PCA(input_matrix, PCA__iterated_power=10, PCA__svd_solver=randomized), KNeighborsRegressor__n_neighbors=50, KNeighborsRegressor__p=1, KNeighborsRegressor__weights=uniform)': (2,\n",
       "  -2795946640.5232744),\n",
       " 'KNeighborsRegressor(input_matrix, KNeighborsRegressor__n_neighbors=4, KNeighborsRegressor__p=2, KNeighborsRegressor__weights=uniform)': (1,\n",
       "  -2373937316.1700153),\n",
       " 'KNeighborsRegressor(input_matrix, KNeighborsRegressor__n_neighbors=72, KNeighborsRegressor__p=1, KNeighborsRegressor__weights=uniform)': (1,\n",
       "  -2688397983.642118),\n",
       " 'KNeighborsRegressor(input_matrix, KNeighborsRegressor__n_neighbors=74, KNeighborsRegressor__p=1, KNeighborsRegressor__weights=uniform)': (1,\n",
       "  -2701858844.5932684),\n",
       " 'KNeighborsRegressor(input_matrix, KNeighborsRegressor__n_neighbors=86, KNeighborsRegressor__p=1, KNeighborsRegressor__weights=uniform)': (1,\n",
       "  -2790955735.0097938),\n",
       " 'KNeighborsRegressor(input_matrix, KNeighborsRegressor__n_neighbors=88, KNeighborsRegressor__p=2, KNeighborsRegressor__weights=distance)': (1,\n",
       "  -3165045987.0360751),\n",
       " 'LassoLarsCV(CombineDFs(input_matrix, MaxAbsScaler(MinMaxScaler(input_matrix))), LassoLarsCV__normalize=True)': (3,\n",
       "  -1188105484.8202422),\n",
       " 'LassoLarsCV(CombineDFs(input_matrix, input_matrix), LassoLarsCV__normalize=False)': (1,\n",
       "  -1992488016.0352268),\n",
       " 'LassoLarsCV(ExtraTreesRegressor(input_matrix, ExtraTreesRegressor__bootstrap=True, ExtraTreesRegressor__max_features=0.8, ExtraTreesRegressor__min_samples_leaf=16, ExtraTreesRegressor__min_samples_split=16, ExtraTreesRegressor__n_estimators=100), LassoLarsCV__normalize=False)': (2,\n",
       "  -1202988896.4871831),\n",
       " 'LassoLarsCV(FastICA(input_matrix, FastICA__tol=0.75), LassoLarsCV__normalize=True)': (2,\n",
       "  -2.0863311533860037e+29),\n",
       " 'LassoLarsCV(FastICA(input_matrix, FastICA__tol=1.0), LassoLarsCV__normalize=True)': (2,\n",
       "  -4.0316783386770108e+29),\n",
       " 'LassoLarsCV(KNeighborsRegressor(input_matrix, KNeighborsRegressor__n_neighbors=8, KNeighborsRegressor__p=1, KNeighborsRegressor__weights=distance), LassoLarsCV__normalize=True)': (2,\n",
       "  -1935666446.6103759),\n",
       " 'LassoLarsCV(LassoLarsCV(input_matrix, LassoLarsCV__normalize=False), LassoLarsCV__normalize=True)': (2,\n",
       "  -1155453021.674547),\n",
       " 'LassoLarsCV(LassoLarsCV(input_matrix, LassoLarsCV__normalize=True), LassoLarsCV__normalize=True)': (2,\n",
       "  -1039321862.8527977),\n",
       " 'LassoLarsCV(LinearSVR(input_matrix, LinearSVR__C=0.1, LinearSVR__dual=True, LinearSVR__epsilon=0.001, LinearSVR__loss=squared_epsilon_insensitive, LinearSVR__tol=0.0001), LassoLarsCV__normalize=True)': (2,\n",
       "  -1063597573.1160597),\n",
       " 'LassoLarsCV(MaxAbsScaler(MinMaxScaler(input_matrix)), LassoLarsCV__normalize=True)': (3,\n",
       "  -1039913047.2341721),\n",
       " 'LassoLarsCV(MaxAbsScaler(Nystroem(input_matrix, Nystroem__gamma=0.2, Nystroem__kernel=cosine, Nystroem__n_components=10)), LassoLarsCV__normalize=True)': (3,\n",
       "  -2599642874.6114845),\n",
       " 'LassoLarsCV(MaxAbsScaler(input_matrix), LassoLarsCV__normalize=True)': (2,\n",
       "  -1039913047.2341732),\n",
       " 'LassoLarsCV(MinMaxScaler(ElasticNetCV(input_matrix, ElasticNetCV__l1_ratio=0.45, ElasticNetCV__tol=0.001)), LassoLarsCV__normalize=True)': (3,\n",
       "  -1041249545.6697934),\n",
       " 'LassoLarsCV(MinMaxScaler(ZeroCount(input_matrix)), LassoLarsCV__normalize=True)': (3,\n",
       "  -1063054098.8056366),\n",
       " 'LassoLarsCV(MinMaxScaler(input_matrix), LassoLarsCV__normalize=False)': (2,\n",
       "  -1074074455.285912),\n",
       " 'LassoLarsCV(MinMaxScaler(input_matrix), LassoLarsCV__normalize=True)': (2,\n",
       "  -1039427507.0886457),\n",
       " 'LassoLarsCV(Normalizer(input_matrix, Normalizer__norm=l2), LassoLarsCV__normalize=True)': (2,\n",
       "  -1583104987.6461575),\n",
       " 'LassoLarsCV(OneHotEncoder(input_matrix, OneHotEncoder__minimum_fraction=0.25, OneHotEncoder__sparse=False), LassoLarsCV__normalize=True)': (2,\n",
       "  -1712583585.6057167),\n",
       " 'LassoLarsCV(PCA(input_matrix, PCA__iterated_power=8, PCA__svd_solver=randomized), LassoLarsCV__normalize=True)': (2,\n",
       "  -2.1351088786198407e+27),\n",
       " 'LassoLarsCV(PolynomialFeatures(input_matrix, PolynomialFeatures__degree=2, PolynomialFeatures__include_bias=False, PolynomialFeatures__interaction_only=False), LassoLarsCV__normalize=True)': (2,\n",
       "  -inf),\n",
       " 'LassoLarsCV(RandomForestRegressor(input_matrix, RandomForestRegressor__bootstrap=True, RandomForestRegressor__max_features=0.9, RandomForestRegressor__min_samples_leaf=11, RandomForestRegressor__min_samples_split=5, RandomForestRegressor__n_estimators=100), LassoLarsCV__normalize=True)': (2,\n",
       "  -1129082942.9992962),\n",
       " 'LassoLarsCV(RidgeCV(input_matrix), LassoLarsCV__normalize=True)': (2,\n",
       "  -1161844221.3812411),\n",
       " 'LassoLarsCV(SelectFwe(input_matrix, SelectFwe__alpha=0.014), LassoLarsCV__normalize=True)': (2,\n",
       "  -1145204203.6412549),\n",
       " 'LassoLarsCV(SelectFwe(input_matrix, SelectFwe__alpha=0.048), LassoLarsCV__normalize=True)': (2,\n",
       "  -1132295642.5433314),\n",
       " 'LassoLarsCV(StandardScaler(input_matrix), LassoLarsCV__normalize=True)': (2,\n",
       "  -1053250699.889094),\n",
       " 'LassoLarsCV(XGBRegressor(input_matrix, XGBRegressor__learning_rate=1.0, XGBRegressor__max_depth=10, XGBRegressor__min_child_weight=12, XGBRegressor__n_estimators=100, XGBRegressor__nthread=1, XGBRegressor__subsample=0.25), LassoLarsCV__normalize=True)': (2,\n",
       "  -1038849854.9705012),\n",
       " 'LassoLarsCV(XGBRegressor(input_matrix, XGBRegressor__learning_rate=1.0, XGBRegressor__max_depth=10, XGBRegressor__min_child_weight=6, XGBRegressor__n_estimators=100, XGBRegressor__nthread=1, XGBRegressor__subsample=0.25), LassoLarsCV__normalize=True)': (2,\n",
       "  -1039776762.5322115),\n",
       " 'LassoLarsCV(ZeroCount(LassoLarsCV(input_matrix, LassoLarsCV__normalize=True)), LassoLarsCV__normalize=True)': (3,\n",
       "  -1039321862.8527977),\n",
       " 'LassoLarsCV(input_matrix, LassoLarsCV__normalize=False)': (1,\n",
       "  -1183392723.1634622),\n",
       " 'LassoLarsCV(input_matrix, LassoLarsCV__normalize=True)': (1,\n",
       "  -1042143968.7527755),\n",
       " 'LinearSVR(LinearSVR(input_matrix, LinearSVR__C=0.1, LinearSVR__dual=False, LinearSVR__epsilon=0.01, LinearSVR__loss=squared_epsilon_insensitive, LinearSVR__tol=1e-05), LinearSVR__C=0.1, LinearSVR__dual=True, LinearSVR__epsilon=0.001, LinearSVR__loss=squared_epsilon_insensitive, LinearSVR__tol=0.0001)': (2,\n",
       "  -1814263702.8192284),\n",
       " 'LinearSVR(LinearSVR(input_matrix, LinearSVR__C=0.1, LinearSVR__dual=True, LinearSVR__epsilon=0.001, LinearSVR__loss=squared_epsilon_insensitive, LinearSVR__tol=1e-05), LinearSVR__C=0.001, LinearSVR__dual=True, LinearSVR__epsilon=0.01, LinearSVR__loss=squared_epsilon_insensitive, LinearSVR__tol=0.0001)': (2,\n",
       "  -3299270457.6367235),\n",
       " 'LinearSVR(input_matrix, LinearSVR__C=0.5, LinearSVR__dual=False, LinearSVR__epsilon=1.0, LinearSVR__loss=squared_epsilon_insensitive, LinearSVR__tol=0.01)': (1,\n",
       "  -2387432533.0891438),\n",
       " 'LinearSVR(input_matrix, LinearSVR__C=0.5, LinearSVR__dual=True, LinearSVR__epsilon=0.001, LinearSVR__loss=squared_epsilon_insensitive, LinearSVR__tol=0.0001)': (1,\n",
       "  -4149566120.1822381),\n",
       " 'LinearSVR(input_matrix, LinearSVR__C=1.0, LinearSVR__dual=True, LinearSVR__epsilon=0.001, LinearSVR__loss=epsilon_insensitive, LinearSVR__tol=0.1)': (1,\n",
       "  -2855518763.8142366),\n",
       " 'LinearSVR(input_matrix, LinearSVR__C=10.0, LinearSVR__dual=True, LinearSVR__epsilon=1.0, LinearSVR__loss=squared_epsilon_insensitive, LinearSVR__tol=0.01)': (1,\n",
       "  -4149534873.6432447),\n",
       " 'LinearSVR(input_matrix, LinearSVR__C=5.0, LinearSVR__dual=True, LinearSVR__epsilon=0.0001, LinearSVR__loss=squared_epsilon_insensitive, LinearSVR__tol=0.01)': (1,\n",
       "  -4149622695.0488272),\n",
       " 'RandomForestRegressor(LinearSVR(input_matrix, LinearSVR__C=0.1, LinearSVR__dual=False, LinearSVR__epsilon=0.01, LinearSVR__loss=squared_epsilon_insensitive, LinearSVR__tol=1e-05), RandomForestRegressor__bootstrap=False, RandomForestRegressor__max_features=0.95, RandomForestRegressor__min_samples_leaf=1, RandomForestRegressor__min_samples_split=15, RandomForestRegressor__n_estimators=100)': (2,\n",
       "  -814601539.72176051),\n",
       " 'RandomForestRegressor(LinearSVR(input_matrix, LinearSVR__C=0.1, LinearSVR__dual=True, LinearSVR__epsilon=0.001, LinearSVR__loss=squared_epsilon_insensitive, LinearSVR__tol=0.01), RandomForestRegressor__bootstrap=False, RandomForestRegressor__max_features=0.4, RandomForestRegressor__min_samples_leaf=7, RandomForestRegressor__min_samples_split=2, RandomForestRegressor__n_estimators=100)': (2,\n",
       "  -826431743.63997817),\n",
       " 'RandomForestRegressor(MaxAbsScaler(input_matrix), RandomForestRegressor__bootstrap=False, RandomForestRegressor__max_features=1.0, RandomForestRegressor__min_samples_leaf=12, RandomForestRegressor__min_samples_split=12, RandomForestRegressor__n_estimators=100)': (2,\n",
       "  -1485411145.1985543),\n",
       " 'RandomForestRegressor(MinMaxScaler(input_matrix), RandomForestRegressor__bootstrap=False, RandomForestRegressor__max_features=0.05, RandomForestRegressor__min_samples_leaf=1, RandomForestRegressor__min_samples_split=13, RandomForestRegressor__n_estimators=100)': (2,\n",
       "  -996975066.41764712),\n",
       " 'RandomForestRegressor(SelectPercentile(input_matrix, SelectPercentile__percentile=53), RandomForestRegressor__bootstrap=False, RandomForestRegressor__max_features=0.5, RandomForestRegressor__min_samples_leaf=10, RandomForestRegressor__min_samples_split=17, RandomForestRegressor__n_estimators=100)': (2,\n",
       "  -1003227257.7477916),\n",
       " 'RandomForestRegressor(VarianceThreshold(input_matrix, VarianceThreshold__threshold=0.8), RandomForestRegressor__bootstrap=False, RandomForestRegressor__max_features=0.05, RandomForestRegressor__min_samples_leaf=1, RandomForestRegressor__min_samples_split=13, RandomForestRegressor__n_estimators=100)': (2,\n",
       "  -1266571474.3073962),\n",
       " 'RandomForestRegressor(ZeroCount(input_matrix), RandomForestRegressor__bootstrap=False, RandomForestRegressor__max_features=0.15, RandomForestRegressor__min_samples_leaf=19, RandomForestRegressor__min_samples_split=17, RandomForestRegressor__n_estimators=100)': (2,\n",
       "  -1123918725.5495028),\n",
       " 'RandomForestRegressor(input_matrix, RandomForestRegressor__bootstrap=False, RandomForestRegressor__max_features=0.05, RandomForestRegressor__min_samples_leaf=1, RandomForestRegressor__min_samples_split=13, RandomForestRegressor__n_estimators=100)': (1,\n",
       "  -996833066.62426472),\n",
       " 'RandomForestRegressor(input_matrix, RandomForestRegressor__bootstrap=False, RandomForestRegressor__max_features=0.05, RandomForestRegressor__min_samples_leaf=4, RandomForestRegressor__min_samples_split=6, RandomForestRegressor__n_estimators=100)': (1,\n",
       "  -1078485064.2744985),\n",
       " 'RandomForestRegressor(input_matrix, RandomForestRegressor__bootstrap=False, RandomForestRegressor__max_features=0.15, RandomForestRegressor__min_samples_leaf=18, RandomForestRegressor__min_samples_split=17, RandomForestRegressor__n_estimators=100)': (1,\n",
       "  -1123559214.4884143),\n",
       " 'RandomForestRegressor(input_matrix, RandomForestRegressor__bootstrap=False, RandomForestRegressor__max_features=0.15, RandomForestRegressor__min_samples_leaf=18, RandomForestRegressor__min_samples_split=5, RandomForestRegressor__n_estimators=100)': (1,\n",
       "  -1123559214.4884143),\n",
       " 'RandomForestRegressor(input_matrix, RandomForestRegressor__bootstrap=False, RandomForestRegressor__max_features=0.15, RandomForestRegressor__min_samples_leaf=19, RandomForestRegressor__min_samples_split=17, RandomForestRegressor__n_estimators=100)': (1,\n",
       "  -1139013362.5391507),\n",
       " 'RandomForestRegressor(input_matrix, RandomForestRegressor__bootstrap=False, RandomForestRegressor__max_features=0.5, RandomForestRegressor__min_samples_leaf=10, RandomForestRegressor__min_samples_split=17, RandomForestRegressor__n_estimators=100)': (1,\n",
       "  -999892446.8554256),\n",
       " 'RandomForestRegressor(input_matrix, RandomForestRegressor__bootstrap=False, RandomForestRegressor__max_features=0.5, RandomForestRegressor__min_samples_leaf=19, RandomForestRegressor__min_samples_split=17, RandomForestRegressor__n_estimators=100)': (1,\n",
       "  -1107042163.2627509),\n",
       " 'RandomForestRegressor(input_matrix, RandomForestRegressor__bootstrap=False, RandomForestRegressor__max_features=0.55, RandomForestRegressor__min_samples_leaf=10, RandomForestRegressor__min_samples_split=17, RandomForestRegressor__n_estimators=100)': (1,\n",
       "  -1004510469.8595101),\n",
       " 'RandomForestRegressor(input_matrix, RandomForestRegressor__bootstrap=False, RandomForestRegressor__max_features=0.85, RandomForestRegressor__min_samples_leaf=3, RandomForestRegressor__min_samples_split=17, RandomForestRegressor__n_estimators=100)': (1,\n",
       "  -1113750073.5298746),\n",
       " 'RandomForestRegressor(input_matrix, RandomForestRegressor__bootstrap=False, RandomForestRegressor__max_features=0.85, RandomForestRegressor__min_samples_leaf=9, RandomForestRegressor__min_samples_split=4, RandomForestRegressor__n_estimators=100)': (1,\n",
       "  -1255253322.2093956),\n",
       " 'RandomForestRegressor(input_matrix, RandomForestRegressor__bootstrap=False, RandomForestRegressor__max_features=0.95, RandomForestRegressor__min_samples_leaf=15, RandomForestRegressor__min_samples_split=15, RandomForestRegressor__n_estimators=100)': (1,\n",
       "  -1407598161.1371632),\n",
       " 'RandomForestRegressor(input_matrix, RandomForestRegressor__bootstrap=True, RandomForestRegressor__max_features=0.1, RandomForestRegressor__min_samples_leaf=19, RandomForestRegressor__min_samples_split=7, RandomForestRegressor__n_estimators=100)': (1,\n",
       "  -1348226110.2479453),\n",
       " 'RandomForestRegressor(input_matrix, RandomForestRegressor__bootstrap=True, RandomForestRegressor__max_features=0.3, RandomForestRegressor__min_samples_leaf=16, RandomForestRegressor__min_samples_split=4, RandomForestRegressor__n_estimators=100)': (1,\n",
       "  -1123020405.3520763),\n",
       " 'RandomForestRegressor(input_matrix, RandomForestRegressor__bootstrap=True, RandomForestRegressor__max_features=0.4, RandomForestRegressor__min_samples_leaf=8, RandomForestRegressor__min_samples_split=20, RandomForestRegressor__n_estimators=100)': (1,\n",
       "  -1010470716.7448795),\n",
       " 'RandomForestRegressor(input_matrix, RandomForestRegressor__bootstrap=True, RandomForestRegressor__max_features=0.5, RandomForestRegressor__min_samples_leaf=10, RandomForestRegressor__min_samples_split=17, RandomForestRegressor__n_estimators=100)': (1,\n",
       "  -1010641756.9457977),\n",
       " 'RidgeCV(CombineDFs(input_matrix, input_matrix))': (1, -1159251974.2538276),\n",
       " 'RidgeCV(LinearSVR(input_matrix, LinearSVR__C=0.1, LinearSVR__dual=False, LinearSVR__epsilon=0.01, LinearSVR__loss=squared_epsilon_insensitive, LinearSVR__tol=1e-05))': (2,\n",
       "  -1164638749.4365399),\n",
       " 'RidgeCV(LinearSVR(input_matrix, LinearSVR__C=0.1, LinearSVR__dual=True, LinearSVR__epsilon=0.001, LinearSVR__loss=squared_epsilon_insensitive, LinearSVR__tol=1e-05))': (2,\n",
       "  -1158916818.6443868),\n",
       " 'RidgeCV(StandardScaler(input_matrix))': (2, -1195690346.5463624),\n",
       " 'RidgeCV(VarianceThreshold(input_matrix, VarianceThreshold__threshold=0.8))': (2,\n",
       "  -1642907832.6031575),\n",
       " 'RidgeCV(input_matrix)': (1, -1159312955.4820542),\n",
       " 'XGBRegressor(Binarizer(ElasticNetCV(LinearSVR(input_matrix, LinearSVR__C=0.1, LinearSVR__dual=True, LinearSVR__epsilon=0.001, LinearSVR__loss=squared_epsilon_insensitive, LinearSVR__tol=0.001), ElasticNetCV__l1_ratio=0.85, ElasticNetCV__tol=0.01), Binarizer__threshold=0.45), XGBRegressor__learning_rate=0.1, XGBRegressor__max_depth=3, XGBRegressor__min_child_weight=2, XGBRegressor__n_estimators=100, XGBRegressor__nthread=1, XGBRegressor__subsample=0.95)': (4,\n",
       "  -1417173992.050071),\n",
       " 'XGBRegressor(Binarizer(ElasticNetCV(LinearSVR(input_matrix, LinearSVR__C=0.1, LinearSVR__dual=True, LinearSVR__epsilon=0.001, LinearSVR__loss=squared_epsilon_insensitive, LinearSVR__tol=0.01), ElasticNetCV__l1_ratio=0.85, ElasticNetCV__tol=0.01), Binarizer__threshold=1.0), XGBRegressor__learning_rate=0.1, XGBRegressor__max_depth=3, XGBRegressor__min_child_weight=2, XGBRegressor__n_estimators=100, XGBRegressor__nthread=1, XGBRegressor__subsample=0.95)': (4,\n",
       "  -3493945308.8422256),\n",
       " 'XGBRegressor(Binarizer(ElasticNetCV(LinearSVR(input_matrix, LinearSVR__C=0.1, LinearSVR__dual=True, LinearSVR__epsilon=0.001, LinearSVR__loss=squared_epsilon_insensitive, LinearSVR__tol=1e-05), ElasticNetCV__l1_ratio=0.85, ElasticNetCV__tol=0.01), Binarizer__threshold=0.5), XGBRegressor__learning_rate=0.1, XGBRegressor__max_depth=3, XGBRegressor__min_child_weight=2, XGBRegressor__n_estimators=100, XGBRegressor__nthread=1, XGBRegressor__subsample=0.95)': (4,\n",
       "  -1417173992.050071),\n",
       " 'XGBRegressor(Binarizer(LinearSVR(CombineDFs(input_matrix, input_matrix), LinearSVR__C=0.1, LinearSVR__dual=False, LinearSVR__epsilon=0.1, LinearSVR__loss=squared_epsilon_insensitive, LinearSVR__tol=1e-05), Binarizer__threshold=0.0), XGBRegressor__learning_rate=0.1, XGBRegressor__max_depth=7, XGBRegressor__min_child_weight=2, XGBRegressor__n_estimators=100, XGBRegressor__nthread=1, XGBRegressor__subsample=0.95)': (3,\n",
       "  -1468807680.7732701),\n",
       " 'XGBRegressor(Binarizer(LinearSVR(input_matrix, LinearSVR__C=1.0, LinearSVR__dual=True, LinearSVR__epsilon=0.0001, LinearSVR__loss=squared_epsilon_insensitive, LinearSVR__tol=0.001), Binarizer__threshold=0.05), XGBRegressor__learning_rate=0.1, XGBRegressor__max_depth=4, XGBRegressor__min_child_weight=2, XGBRegressor__n_estimators=100, XGBRegressor__nthread=1, XGBRegressor__subsample=0.95)': (3,\n",
       "  -1396921858.9407778),\n",
       " 'XGBRegressor(Binarizer(StandardScaler(LinearSVR(input_matrix, LinearSVR__C=1.0, LinearSVR__dual=True, LinearSVR__epsilon=0.001, LinearSVR__loss=squared_epsilon_insensitive, LinearSVR__tol=0.1)), Binarizer__threshold=0.5), XGBRegressor__learning_rate=0.1, XGBRegressor__max_depth=6, XGBRegressor__min_child_weight=2, XGBRegressor__n_estimators=100, XGBRegressor__nthread=1, XGBRegressor__subsample=0.95)': (4,\n",
       "  -890279638.13532948),\n",
       " 'XGBRegressor(Binarizer(input_matrix, Binarizer__threshold=0.15), XGBRegressor__learning_rate=0.1, XGBRegressor__max_depth=4, XGBRegressor__min_child_weight=2, XGBRegressor__n_estimators=100, XGBRegressor__nthread=1, XGBRegressor__subsample=0.7)': (2,\n",
       "  -1376846473.609154),\n",
       " 'XGBRegressor(Binarizer(input_matrix, Binarizer__threshold=0.2), XGBRegressor__learning_rate=0.1, XGBRegressor__max_depth=3, XGBRegressor__min_child_weight=1, XGBRegressor__n_estimators=100, XGBRegressor__nthread=1, XGBRegressor__subsample=0.7)': (2,\n",
       "  -1418188816.0850132),\n",
       " 'XGBRegressor(Binarizer(input_matrix, Binarizer__threshold=0.55), XGBRegressor__learning_rate=0.1, XGBRegressor__max_depth=6, XGBRegressor__min_child_weight=2, XGBRegressor__n_estimators=100, XGBRegressor__nthread=1, XGBRegressor__subsample=0.7)': (2,\n",
       "  -1388883377.9895492),\n",
       " 'XGBRegressor(CombineDFs(ElasticNetCV(LinearSVR(input_matrix, LinearSVR__C=0.1, LinearSVR__dual=True, LinearSVR__epsilon=0.001, LinearSVR__loss=squared_epsilon_insensitive, LinearSVR__tol=0.01), ElasticNetCV__l1_ratio=0.85, ElasticNetCV__tol=0.01), input_matrix), XGBRegressor__learning_rate=0.1, XGBRegressor__max_depth=3, XGBRegressor__min_child_weight=2, XGBRegressor__n_estimators=100, XGBRegressor__nthread=1, XGBRegressor__subsample=0.95)': (3,\n",
       "  -604436847.25813818),\n",
       " 'XGBRegressor(CombineDFs(LinearSVR(CombineDFs(input_matrix, input_matrix), LinearSVR__C=0.1, LinearSVR__dual=False, LinearSVR__epsilon=0.1, LinearSVR__loss=squared_epsilon_insensitive, LinearSVR__tol=1e-05), MaxAbsScaler(input_matrix)), XGBRegressor__learning_rate=0.1, XGBRegressor__max_depth=5, XGBRegressor__min_child_weight=2, XGBRegressor__n_estimators=100, XGBRegressor__nthread=1, XGBRegressor__subsample=0.95)': (3,\n",
       "  -564490548.03411102),\n",
       " 'XGBRegressor(CombineDFs(LinearSVR(CombineDFs(input_matrix, input_matrix), LinearSVR__C=0.1, LinearSVR__dual=False, LinearSVR__epsilon=0.1, LinearSVR__loss=squared_epsilon_insensitive, LinearSVR__tol=1e-05), input_matrix), XGBRegressor__learning_rate=0.1, XGBRegressor__max_depth=5, XGBRegressor__min_child_weight=2, XGBRegressor__n_estimators=100, XGBRegressor__nthread=1, XGBRegressor__subsample=0.95)': (2,\n",
       "  -564490548.03411102),\n",
       " 'XGBRegressor(CombineDFs(LinearSVR(LinearSVR(CombineDFs(input_matrix, input_matrix), LinearSVR__C=0.1, LinearSVR__dual=False, LinearSVR__epsilon=0.1, LinearSVR__loss=squared_epsilon_insensitive, LinearSVR__tol=1e-05), LinearSVR__C=0.1, LinearSVR__dual=False, LinearSVR__epsilon=0.1, LinearSVR__loss=squared_epsilon_insensitive, LinearSVR__tol=0.1), input_matrix), XGBRegressor__learning_rate=0.1, XGBRegressor__max_depth=5, XGBRegressor__min_child_weight=2, XGBRegressor__n_estimators=100, XGBRegressor__nthread=1, XGBRegressor__subsample=0.95)': (3,\n",
       "  -587549147.38915801),\n",
       " 'XGBRegressor(CombineDFs(input_matrix, input_matrix), XGBRegressor__learning_rate=0.01, XGBRegressor__max_depth=3, XGBRegressor__min_child_weight=11, XGBRegressor__n_estimators=100, XGBRegressor__nthread=1, XGBRegressor__subsample=0.2)': (1,\n",
       "  -7092970507.9571705),\n",
       " 'XGBRegressor(CombineDFs(input_matrix, input_matrix), XGBRegressor__learning_rate=0.1, XGBRegressor__max_depth=3, XGBRegressor__min_child_weight=2, XGBRegressor__n_estimators=100, XGBRegressor__nthread=1, XGBRegressor__subsample=0.95)': (1,\n",
       "  -785610689.60482478),\n",
       " 'XGBRegressor(CombineDFs(input_matrix, input_matrix), XGBRegressor__learning_rate=0.1, XGBRegressor__max_depth=4, XGBRegressor__min_child_weight=1, XGBRegressor__n_estimators=100, XGBRegressor__nthread=1, XGBRegressor__subsample=0.7)': (1,\n",
       "  -756561502.44714034),\n",
       " 'XGBRegressor(CombineDFs(input_matrix, input_matrix), XGBRegressor__learning_rate=0.1, XGBRegressor__max_depth=4, XGBRegressor__min_child_weight=2, XGBRegressor__n_estimators=100, XGBRegressor__nthread=1, XGBRegressor__subsample=0.7)': (1,\n",
       "  -787285792.36294842),\n",
       " 'XGBRegressor(CombineDFs(input_matrix, input_matrix), XGBRegressor__learning_rate=0.1, XGBRegressor__max_depth=4, XGBRegressor__min_child_weight=2, XGBRegressor__n_estimators=100, XGBRegressor__nthread=1, XGBRegressor__subsample=0.75)': (1,\n",
       "  -701199434.6437149),\n",
       " 'XGBRegressor(CombineDFs(input_matrix, input_matrix), XGBRegressor__learning_rate=0.1, XGBRegressor__max_depth=4, XGBRegressor__min_child_weight=2, XGBRegressor__n_estimators=100, XGBRegressor__nthread=1, XGBRegressor__subsample=0.95)': (1,\n",
       "  -765984934.92407262),\n",
       " 'XGBRegressor(CombineDFs(input_matrix, input_matrix), XGBRegressor__learning_rate=0.1, XGBRegressor__max_depth=5, XGBRegressor__min_child_weight=2, XGBRegressor__n_estimators=100, XGBRegressor__nthread=1, XGBRegressor__subsample=0.95)': (1,\n",
       "  -771899195.60592818),\n",
       " 'XGBRegressor(CombineDFs(input_matrix, input_matrix), XGBRegressor__learning_rate=0.1, XGBRegressor__max_depth=7, XGBRegressor__min_child_weight=2, XGBRegressor__n_estimators=100, XGBRegressor__nthread=1, XGBRegressor__subsample=0.95)': (1,\n",
       "  -763489370.33876288),\n",
       " 'XGBRegressor(DecisionTreeRegressor(ElasticNetCV(LinearSVR(input_matrix, LinearSVR__C=0.1, LinearSVR__dual=True, LinearSVR__epsilon=0.0001, LinearSVR__loss=squared_epsilon_insensitive, LinearSVR__tol=0.001), ElasticNetCV__l1_ratio=0.85, ElasticNetCV__tol=0.01), DecisionTreeRegressor__max_depth=5, DecisionTreeRegressor__min_samples_leaf=16, DecisionTreeRegressor__min_samples_split=5), XGBRegressor__learning_rate=0.1, XGBRegressor__max_depth=3, XGBRegressor__min_child_weight=2, XGBRegressor__n_estimators=100, XGBRegressor__nthread=1, XGBRegressor__subsample=0.95)': (4,\n",
       "  -647423488.48803616),\n",
       " 'XGBRegressor(DecisionTreeRegressor(ElasticNetCV(LinearSVR(input_matrix, LinearSVR__C=1.0, LinearSVR__dual=True, LinearSVR__epsilon=0.0001, LinearSVR__loss=squared_epsilon_insensitive, LinearSVR__tol=0.001), ElasticNetCV__l1_ratio=0.85, ElasticNetCV__tol=0.01), DecisionTreeRegressor__max_depth=5, DecisionTreeRegressor__min_samples_leaf=15, DecisionTreeRegressor__min_samples_split=3), XGBRegressor__learning_rate=0.1, XGBRegressor__max_depth=3, XGBRegressor__min_child_weight=2, XGBRegressor__n_estimators=100, XGBRegressor__nthread=1, XGBRegressor__subsample=0.95)': (4,\n",
       "  -648419883.30397785),\n",
       " 'XGBRegressor(DecisionTreeRegressor(LinearSVR(CombineDFs(input_matrix, input_matrix), LinearSVR__C=0.1, LinearSVR__dual=False, LinearSVR__epsilon=0.1, LinearSVR__loss=squared_epsilon_insensitive, LinearSVR__tol=1e-05), DecisionTreeRegressor__max_depth=6, DecisionTreeRegressor__min_samples_leaf=14, DecisionTreeRegressor__min_samples_split=16), XGBRegressor__learning_rate=0.1, XGBRegressor__max_depth=3, XGBRegressor__min_child_weight=2, XGBRegressor__n_estimators=100, XGBRegressor__nthread=1, XGBRegressor__subsample=0.95)': (3,\n",
       "  -566213118.44788289),\n",
       " 'XGBRegressor(DecisionTreeRegressor(LinearSVR(input_matrix, LinearSVR__C=0.1, LinearSVR__dual=False, LinearSVR__epsilon=0.1, LinearSVR__loss=squared_epsilon_insensitive, LinearSVR__tol=1e-05), DecisionTreeRegressor__max_depth=6, DecisionTreeRegressor__min_samples_leaf=14, DecisionTreeRegressor__min_samples_split=16), XGBRegressor__learning_rate=0.1, XGBRegressor__max_depth=3, XGBRegressor__min_child_weight=2, XGBRegressor__n_estimators=100, XGBRegressor__nthread=1, XGBRegressor__subsample=0.95)': (3,\n",
       "  -671864736.54716134),\n",
       " 'XGBRegressor(DecisionTreeRegressor(LinearSVR(input_matrix, LinearSVR__C=1.0, LinearSVR__dual=True, LinearSVR__epsilon=0.001, LinearSVR__loss=squared_epsilon_insensitive, LinearSVR__tol=0.1), DecisionTreeRegressor__max_depth=5, DecisionTreeRegressor__min_samples_leaf=11, DecisionTreeRegressor__min_samples_split=14), XGBRegressor__learning_rate=0.1, XGBRegressor__max_depth=6, XGBRegressor__min_child_weight=2, XGBRegressor__n_estimators=100, XGBRegressor__nthread=1, XGBRegressor__subsample=0.95)': (3,\n",
       "  -758873304.01503277),\n",
       " 'XGBRegressor(DecisionTreeRegressor(MaxAbsScaler(input_matrix), DecisionTreeRegressor__max_depth=2, DecisionTreeRegressor__min_samples_leaf=4, DecisionTreeRegressor__min_samples_split=5), XGBRegressor__learning_rate=0.1, XGBRegressor__max_depth=6, XGBRegressor__min_child_weight=2, XGBRegressor__n_estimators=100, XGBRegressor__nthread=1, XGBRegressor__subsample=0.7)': (3,\n",
       "  -759434635.97594786),\n",
       " 'XGBRegressor(DecisionTreeRegressor(input_matrix, DecisionTreeRegressor__max_depth=1, DecisionTreeRegressor__min_samples_leaf=18, DecisionTreeRegressor__min_samples_split=11), XGBRegressor__learning_rate=0.1, XGBRegressor__max_depth=6, XGBRegressor__min_child_weight=15, XGBRegressor__n_estimators=100, XGBRegressor__nthread=1, XGBRegressor__subsample=0.95)': (2,\n",
       "  -835974138.66262186),\n",
       " 'XGBRegressor(DecisionTreeRegressor(input_matrix, DecisionTreeRegressor__max_depth=5, DecisionTreeRegressor__min_samples_leaf=16, DecisionTreeRegressor__min_samples_split=3), XGBRegressor__learning_rate=0.1, XGBRegressor__max_depth=3, XGBRegressor__min_child_weight=2, XGBRegressor__n_estimators=100, XGBRegressor__nthread=1, XGBRegressor__subsample=0.7)': (2,\n",
       "  -861328585.28262496),\n",
       " 'XGBRegressor(DecisionTreeRegressor(input_matrix, DecisionTreeRegressor__max_depth=6, DecisionTreeRegressor__min_samples_leaf=7, DecisionTreeRegressor__min_samples_split=14), XGBRegressor__learning_rate=0.1, XGBRegressor__max_depth=6, XGBRegressor__min_child_weight=2, XGBRegressor__n_estimators=100, XGBRegressor__nthread=1, XGBRegressor__subsample=0.7)': (2,\n",
       "  -989178720.92715609),\n",
       " 'XGBRegressor(DecisionTreeRegressor(input_matrix, DecisionTreeRegressor__max_depth=8, DecisionTreeRegressor__min_samples_leaf=13, DecisionTreeRegressor__min_samples_split=14), XGBRegressor__learning_rate=0.1, XGBRegressor__max_depth=6, XGBRegressor__min_child_weight=2, XGBRegressor__n_estimators=100, XGBRegressor__nthread=1, XGBRegressor__subsample=0.7)': (2,\n",
       "  -905567958.55488205),\n",
       " 'XGBRegressor(ElasticNetCV(Binarizer(LinearSVR(input_matrix, LinearSVR__C=0.1, LinearSVR__dual=True, LinearSVR__epsilon=0.0001, LinearSVR__loss=squared_epsilon_insensitive, LinearSVR__tol=0.01), Binarizer__threshold=0.15), ElasticNetCV__l1_ratio=0.85, ElasticNetCV__tol=0.01), XGBRegressor__learning_rate=0.1, XGBRegressor__max_depth=3, XGBRegressor__min_child_weight=2, XGBRegressor__n_estimators=100, XGBRegressor__nthread=1, XGBRegressor__subsample=0.95)': (4,\n",
       "  -1378507261.0999796),\n",
       " 'XGBRegressor(ElasticNetCV(Binarizer(LinearSVR(input_matrix, LinearSVR__C=0.1, LinearSVR__dual=True, LinearSVR__epsilon=0.001, LinearSVR__loss=squared_epsilon_insensitive, LinearSVR__tol=0.001), Binarizer__threshold=0.55), ElasticNetCV__l1_ratio=0.85, ElasticNetCV__tol=0.01), XGBRegressor__learning_rate=0.1, XGBRegressor__max_depth=3, XGBRegressor__min_child_weight=2, XGBRegressor__n_estimators=100, XGBRegressor__nthread=1, XGBRegressor__subsample=0.95)': (4,\n",
       "  -1378507261.0999796),\n",
       " 'XGBRegressor(ElasticNetCV(CombineDFs(LinearSVR(input_matrix, LinearSVR__C=0.1, LinearSVR__dual=True, LinearSVR__epsilon=0.001, LinearSVR__loss=squared_epsilon_insensitive, LinearSVR__tol=1e-05), input_matrix), ElasticNetCV__l1_ratio=0.85, ElasticNetCV__tol=0.01), XGBRegressor__learning_rate=0.1, XGBRegressor__max_depth=3, XGBRegressor__min_child_weight=2, XGBRegressor__n_estimators=100, XGBRegressor__nthread=1, XGBRegressor__subsample=0.95)': (3,\n",
       "  -593450618.89251423),\n",
       " 'XGBRegressor(ElasticNetCV(CombineDFs(input_matrix, input_matrix), ElasticNetCV__l1_ratio=0.3, ElasticNetCV__tol=0.001), XGBRegressor__learning_rate=0.1, XGBRegressor__max_depth=4, XGBRegressor__min_child_weight=2, XGBRegressor__n_estimators=100, XGBRegressor__nthread=1, XGBRegressor__subsample=0.95)': (2,\n",
       "  -700961491.20409954),\n",
       " 'XGBRegressor(ElasticNetCV(DecisionTreeRegressor(StandardScaler(LinearSVR(input_matrix, LinearSVR__C=0.1, LinearSVR__dual=True, LinearSVR__epsilon=0.001, LinearSVR__loss=squared_epsilon_insensitive, LinearSVR__tol=0.0001)), DecisionTreeRegressor__max_depth=1, DecisionTreeRegressor__min_samples_leaf=1, DecisionTreeRegressor__min_samples_split=15), ElasticNetCV__l1_ratio=0.85, ElasticNetCV__tol=0.01), XGBRegressor__learning_rate=0.1, XGBRegressor__max_depth=3, XGBRegressor__min_child_weight=2, XGBRegressor__n_estimators=100, XGBRegressor__nthread=1, XGBRegressor__subsample=0.95)': (5,\n",
       "  -638362241.06500077),\n",
       " 'XGBRegressor(ElasticNetCV(ElasticNetCV(LinearSVR(input_matrix, LinearSVR__C=0.1, LinearSVR__dual=True, LinearSVR__epsilon=0.001, LinearSVR__loss=squared_epsilon_insensitive, LinearSVR__tol=0.001), ElasticNetCV__l1_ratio=0.05, ElasticNetCV__tol=0.0001), ElasticNetCV__l1_ratio=0.85, ElasticNetCV__tol=0.01), XGBRegressor__learning_rate=0.1, XGBRegressor__max_depth=3, XGBRegressor__min_child_weight=2, XGBRegressor__n_estimators=100, XGBRegressor__nthread=1, XGBRegressor__subsample=0.95)': (4,\n",
       "  -585218513.50216413),\n",
       " 'XGBRegressor(ElasticNetCV(ElasticNetCV(LinearSVR(input_matrix, LinearSVR__C=0.1, LinearSVR__dual=True, LinearSVR__epsilon=0.001, LinearSVR__loss=squared_epsilon_insensitive, LinearSVR__tol=0.001), ElasticNetCV__l1_ratio=0.8, ElasticNetCV__tol=0.1), ElasticNetCV__l1_ratio=0.85, ElasticNetCV__tol=0.01), XGBRegressor__learning_rate=0.1, XGBRegressor__max_depth=3, XGBRegressor__min_child_weight=2, XGBRegressor__n_estimators=100, XGBRegressor__nthread=1, XGBRegressor__subsample=0.95)': (4,\n",
       "  -584653486.84250045),\n",
       " 'XGBRegressor(ElasticNetCV(ElasticNetCV(LinearSVR(input_matrix, LinearSVR__C=0.1, LinearSVR__dual=True, LinearSVR__epsilon=0.001, LinearSVR__loss=squared_epsilon_insensitive, LinearSVR__tol=0.01), ElasticNetCV__l1_ratio=0.7, ElasticNetCV__tol=1e-05), ElasticNetCV__l1_ratio=0.85, ElasticNetCV__tol=0.01), XGBRegressor__learning_rate=0.1, XGBRegressor__max_depth=3, XGBRegressor__min_child_weight=2, XGBRegressor__n_estimators=100, XGBRegressor__nthread=1, XGBRegressor__subsample=0.95)': (4,\n",
       "  -578674368.95256531),\n",
       " 'XGBRegressor(ElasticNetCV(ElasticNetCV(LinearSVR(input_matrix, LinearSVR__C=0.1, LinearSVR__dual=True, LinearSVR__epsilon=0.001, LinearSVR__loss=squared_epsilon_insensitive, LinearSVR__tol=0.01), ElasticNetCV__l1_ratio=0.85, ElasticNetCV__tol=0.1), ElasticNetCV__l1_ratio=0.85, ElasticNetCV__tol=0.01), XGBRegressor__learning_rate=0.1, XGBRegressor__max_depth=3, XGBRegressor__min_child_weight=2, XGBRegressor__n_estimators=100, XGBRegressor__nthread=1, XGBRegressor__subsample=0.95)': (4,\n",
       "  -601872495.80577052),\n",
       " 'XGBRegressor(ElasticNetCV(ElasticNetCV(LinearSVR(input_matrix, LinearSVR__C=0.1, LinearSVR__dual=True, LinearSVR__epsilon=0.001, LinearSVR__loss=squared_epsilon_insensitive, LinearSVR__tol=1e-05), ElasticNetCV__l1_ratio=0.85, ElasticNetCV__tol=0.01), ElasticNetCV__l1_ratio=0.85, ElasticNetCV__tol=0.01), XGBRegressor__learning_rate=0.1, XGBRegressor__max_depth=3, XGBRegressor__min_child_weight=2, XGBRegressor__n_estimators=100, XGBRegressor__nthread=1, XGBRegressor__subsample=0.95)': (4,\n",
       "  -590948017.05027103),\n",
       " 'XGBRegressor(ElasticNetCV(ElasticNetCV(LinearSVR(input_matrix, LinearSVR__C=5.0, LinearSVR__dual=True, LinearSVR__epsilon=0.1, LinearSVR__loss=squared_epsilon_insensitive, LinearSVR__tol=0.001), ElasticNetCV__l1_ratio=0.6, ElasticNetCV__tol=0.01), ElasticNetCV__l1_ratio=0.85, ElasticNetCV__tol=0.01), XGBRegressor__learning_rate=0.1, XGBRegressor__max_depth=3, XGBRegressor__min_child_weight=2, XGBRegressor__n_estimators=100, XGBRegressor__nthread=1, XGBRegressor__subsample=0.95)': (4,\n",
       "  -591743799.66908669),\n",
       " 'XGBRegressor(ElasticNetCV(ElasticNetCV(StandardScaler(LinearSVR(input_matrix, LinearSVR__C=20.0, LinearSVR__dual=True, LinearSVR__epsilon=0.1, LinearSVR__loss=squared_epsilon_insensitive, LinearSVR__tol=0.001)), ElasticNetCV__l1_ratio=0.2, ElasticNetCV__tol=0.01), ElasticNetCV__l1_ratio=0.85, ElasticNetCV__tol=0.01), XGBRegressor__learning_rate=0.1, XGBRegressor__max_depth=3, XGBRegressor__min_child_weight=2, XGBRegressor__n_estimators=100, XGBRegressor__nthread=1, XGBRegressor__subsample=0.95)': (5,\n",
       "  -580638501.9570595),\n",
       " 'XGBRegressor(ElasticNetCV(ExtraTreesRegressor(LinearSVR(input_matrix, LinearSVR__C=1.0, LinearSVR__dual=True, LinearSVR__epsilon=0.0001, LinearSVR__loss=squared_epsilon_insensitive, LinearSVR__tol=0.001), ExtraTreesRegressor__bootstrap=False, ExtraTreesRegressor__max_features=0.5, ExtraTreesRegressor__min_samples_leaf=4, ExtraTreesRegressor__min_samples_split=2, ExtraTreesRegressor__n_estimators=100), ElasticNetCV__l1_ratio=0.85, ElasticNetCV__tol=0.01), XGBRegressor__learning_rate=0.1, XGBRegressor__max_depth=3, XGBRegressor__min_child_weight=2, XGBRegressor__n_estimators=100, XGBRegressor__nthread=1, XGBRegressor__subsample=0.95)': (4,\n",
       "  -834532456.63016737),\n",
       " 'XGBRegressor(ElasticNetCV(ExtraTreesRegressor(LinearSVR(input_matrix, LinearSVR__C=1.0, LinearSVR__dual=True, LinearSVR__epsilon=0.0001, LinearSVR__loss=squared_epsilon_insensitive, LinearSVR__tol=0.001), ExtraTreesRegressor__bootstrap=True, ExtraTreesRegressor__max_features=0.5, ExtraTreesRegressor__min_samples_leaf=9, ExtraTreesRegressor__min_samples_split=18, ExtraTreesRegressor__n_estimators=100), ElasticNetCV__l1_ratio=0.85, ElasticNetCV__tol=0.01), XGBRegressor__learning_rate=0.1, XGBRegressor__max_depth=3, XGBRegressor__min_child_weight=2, XGBRegressor__n_estimators=100, XGBRegressor__nthread=1, XGBRegressor__subsample=0.95)': (4,\n",
       "  -738066435.54073679),\n",
       " 'XGBRegressor(ElasticNetCV(FastICA(LinearSVR(input_matrix, LinearSVR__C=0.1, LinearSVR__dual=True, LinearSVR__epsilon=0.001, LinearSVR__loss=squared_epsilon_insensitive, LinearSVR__tol=0.001), FastICA__tol=0.9), ElasticNetCV__l1_ratio=0.85, ElasticNetCV__tol=0.01), XGBRegressor__learning_rate=0.1, XGBRegressor__max_depth=3, XGBRegressor__min_child_weight=2, XGBRegressor__n_estimators=100, XGBRegressor__nthread=1, XGBRegressor__subsample=0.95)': (4,\n",
       "  -2870242137.4905343),\n",
       " 'XGBRegressor(ElasticNetCV(FastICA(LinearSVR(input_matrix, LinearSVR__C=0.1, LinearSVR__dual=True, LinearSVR__epsilon=0.001, LinearSVR__loss=squared_epsilon_insensitive, LinearSVR__tol=0.01), FastICA__tol=0.35), ElasticNetCV__l1_ratio=0.85, ElasticNetCV__tol=0.01), XGBRegressor__learning_rate=0.1, XGBRegressor__max_depth=3, XGBRegressor__min_child_weight=2, XGBRegressor__n_estimators=100, XGBRegressor__nthread=1, XGBRegressor__subsample=0.95)': (4,\n",
       "  -3966341981.0089645),\n",
       " 'XGBRegressor(ElasticNetCV(FeatureAgglomeration(StandardScaler(LinearSVR(input_matrix, LinearSVR__C=0.1, LinearSVR__dual=True, LinearSVR__epsilon=0.001, LinearSVR__loss=squared_epsilon_insensitive, LinearSVR__tol=0.0001)), FeatureAgglomeration__affinity=euclidean, FeatureAgglomeration__linkage=ward), ElasticNetCV__l1_ratio=0.85, ElasticNetCV__tol=0.01), XGBRegressor__learning_rate=0.1, XGBRegressor__max_depth=3, XGBRegressor__min_child_weight=2, XGBRegressor__n_estimators=100, XGBRegressor__nthread=1, XGBRegressor__subsample=0.95)': (5,\n",
       "  -1486681043.4292197),\n",
       " 'XGBRegressor(ElasticNetCV(FeatureAgglomeration(input_matrix, FeatureAgglomeration__affinity=precomputed, FeatureAgglomeration__linkage=average), ElasticNetCV__l1_ratio=0.85, ElasticNetCV__tol=0.01), XGBRegressor__learning_rate=0.1, XGBRegressor__max_depth=3, XGBRegressor__min_child_weight=2, XGBRegressor__n_estimators=100, XGBRegressor__nthread=1, XGBRegressor__subsample=0.95)': (3,\n",
       "  -1957430895.3826668),\n",
       " 'XGBRegressor(ElasticNetCV(GradientBoostingRegressor(LinearSVR(input_matrix, LinearSVR__C=0.1, LinearSVR__dual=True, LinearSVR__epsilon=0.001, LinearSVR__loss=squared_epsilon_insensitive, LinearSVR__tol=0.01), GradientBoostingRegressor__alpha=0.95, GradientBoostingRegressor__learning_rate=0.5, GradientBoostingRegressor__loss=quantile, GradientBoostingRegressor__max_depth=6, GradientBoostingRegressor__max_features=0.7, GradientBoostingRegressor__min_samples_leaf=9, GradientBoostingRegressor__min_samples_split=16, GradientBoostingRegressor__n_estimators=100, GradientBoostingRegressor__subsample=0.85), ElasticNetCV__l1_ratio=0.85, ElasticNetCV__tol=0.01), XGBRegressor__learning_rate=0.1, XGBRegressor__max_depth=3, XGBRegressor__min_child_weight=2, XGBRegressor__n_estimators=100, XGBRegressor__nthread=1, XGBRegressor__subsample=0.95)': (4,\n",
       "  -853226380.1240716),\n",
       " 'XGBRegressor(ElasticNetCV(GradientBoostingRegressor(StandardScaler(LinearSVR(input_matrix, LinearSVR__C=5.0, LinearSVR__dual=True, LinearSVR__epsilon=0.1, LinearSVR__loss=squared_epsilon_insensitive, LinearSVR__tol=0.001)), GradientBoostingRegressor__alpha=0.95, GradientBoostingRegressor__learning_rate=0.001, GradientBoostingRegressor__loss=ls, GradientBoostingRegressor__max_depth=9, GradientBoostingRegressor__max_features=0.05, GradientBoostingRegressor__min_samples_leaf=7, GradientBoostingRegressor__min_samples_split=20, GradientBoostingRegressor__n_estimators=100, GradientBoostingRegressor__subsample=0.4), ElasticNetCV__l1_ratio=0.85, ElasticNetCV__tol=0.01), XGBRegressor__learning_rate=0.1, XGBRegressor__max_depth=4, XGBRegressor__min_child_weight=2, XGBRegressor__n_estimators=100, XGBRegressor__nthread=1, XGBRegressor__subsample=0.95)': (5,\n",
       "  -649669579.37957919),\n",
       " 'XGBRegressor(ElasticNetCV(KNeighborsRegressor(LinearSVR(input_matrix, LinearSVR__C=0.1, LinearSVR__dual=True, LinearSVR__epsilon=0.0001, LinearSVR__loss=squared_epsilon_insensitive, LinearSVR__tol=0.001), KNeighborsRegressor__n_neighbors=9, KNeighborsRegressor__p=2, KNeighborsRegressor__weights=uniform), ElasticNetCV__l1_ratio=0.85, ElasticNetCV__tol=0.01), XGBRegressor__learning_rate=0.1, XGBRegressor__max_depth=3, XGBRegressor__min_child_weight=2, XGBRegressor__n_estimators=100, XGBRegressor__nthread=1, XGBRegressor__subsample=0.95)': (4,\n",
       "  -707420435.66062999),\n",
       " 'XGBRegressor(ElasticNetCV(LassoLarsCV(LinearSVR(input_matrix, LinearSVR__C=0.1, LinearSVR__dual=True, LinearSVR__epsilon=0.001, LinearSVR__loss=squared_epsilon_insensitive, LinearSVR__tol=0.01), LassoLarsCV__normalize=False), ElasticNetCV__l1_ratio=0.85, ElasticNetCV__tol=0.01), XGBRegressor__learning_rate=0.1, XGBRegressor__max_depth=3, XGBRegressor__min_child_weight=2, XGBRegressor__n_estimators=100, XGBRegressor__nthread=1, XGBRegressor__subsample=0.95)': (4,\n",
       "  -832452382.79570615),\n",
       " 'XGBRegressor(ElasticNetCV(LassoLarsCV(LinearSVR(input_matrix, LinearSVR__C=0.1, LinearSVR__dual=True, LinearSVR__epsilon=0.001, LinearSVR__loss=squared_epsilon_insensitive, LinearSVR__tol=1e-05), LassoLarsCV__normalize=False), ElasticNetCV__l1_ratio=0.85, ElasticNetCV__tol=0.01), XGBRegressor__learning_rate=0.1, XGBRegressor__max_depth=3, XGBRegressor__min_child_weight=2, XGBRegressor__n_estimators=100, XGBRegressor__nthread=1, XGBRegressor__subsample=0.95)': (4,\n",
       "  -832452382.79570615),\n",
       " 'XGBRegressor(ElasticNetCV(LassoLarsCV(LinearSVR(input_matrix, LinearSVR__C=5.0, LinearSVR__dual=True, LinearSVR__epsilon=0.01, LinearSVR__loss=squared_epsilon_insensitive, LinearSVR__tol=0.001), LassoLarsCV__normalize=False), ElasticNetCV__l1_ratio=0.85, ElasticNetCV__tol=0.01), XGBRegressor__learning_rate=0.1, XGBRegressor__max_depth=4, XGBRegressor__min_child_weight=2, XGBRegressor__n_estimators=100, XGBRegressor__nthread=1, XGBRegressor__subsample=0.95)': (4,\n",
       "  -891529280.77165627),\n",
       " 'XGBRegressor(ElasticNetCV(LinearSVR(Binarizer(input_matrix, Binarizer__threshold=0.95), LinearSVR__C=0.1, LinearSVR__dual=True, LinearSVR__epsilon=0.001, LinearSVR__loss=squared_epsilon_insensitive, LinearSVR__tol=1e-05), ElasticNetCV__l1_ratio=0.85, ElasticNetCV__tol=0.01), XGBRegressor__learning_rate=0.1, XGBRegressor__max_depth=3, XGBRegressor__min_child_weight=2, XGBRegressor__n_estimators=100, XGBRegressor__nthread=1, XGBRegressor__subsample=0.95)': (4,\n",
       "  -1489950133.0633736),\n",
       " 'XGBRegressor(ElasticNetCV(LinearSVR(CombineDFs(input_matrix, input_matrix), LinearSVR__C=0.1, LinearSVR__dual=True, LinearSVR__epsilon=0.01, LinearSVR__loss=squared_epsilon_insensitive, LinearSVR__tol=0.01), ElasticNetCV__l1_ratio=0.85, ElasticNetCV__tol=0.01), XGBRegressor__learning_rate=0.1, XGBRegressor__max_depth=3, XGBRegressor__min_child_weight=2, XGBRegressor__n_estimators=100, XGBRegressor__nthread=1, XGBRegressor__subsample=0.95)': (3,\n",
       "  -593450618.89251423),\n",
       " 'XGBRegressor(ElasticNetCV(LinearSVR(CombineDFs(input_matrix, input_matrix), LinearSVR__C=0.1, LinearSVR__dual=True, LinearSVR__epsilon=0.01, LinearSVR__loss=squared_epsilon_insensitive, LinearSVR__tol=0.01), ElasticNetCV__l1_ratio=0.85, ElasticNetCV__tol=0.1), XGBRegressor__learning_rate=0.1, XGBRegressor__max_depth=3, XGBRegressor__min_child_weight=2, XGBRegressor__n_estimators=100, XGBRegressor__nthread=1, XGBRegressor__subsample=0.95)': (3,\n",
       "  -594279058.65162563),\n",
       " 'XGBRegressor(ElasticNetCV(LinearSVR(DecisionTreeRegressor(input_matrix, DecisionTreeRegressor__max_depth=1, DecisionTreeRegressor__min_samples_leaf=10, DecisionTreeRegressor__min_samples_split=18), LinearSVR__C=0.1, LinearSVR__dual=True, LinearSVR__epsilon=0.01, LinearSVR__loss=squared_epsilon_insensitive, LinearSVR__tol=0.01), ElasticNetCV__l1_ratio=0.85, ElasticNetCV__tol=0.01), XGBRegressor__learning_rate=0.1, XGBRegressor__max_depth=3, XGBRegressor__min_child_weight=2, XGBRegressor__n_estimators=100, XGBRegressor__nthread=1, XGBRegressor__subsample=0.95)': (4,\n",
       "  -664893613.2065655),\n",
       " 'XGBRegressor(ElasticNetCV(LinearSVR(DecisionTreeRegressor(input_matrix, DecisionTreeRegressor__max_depth=3, DecisionTreeRegressor__min_samples_leaf=5, DecisionTreeRegressor__min_samples_split=20), LinearSVR__C=0.1, LinearSVR__dual=True, LinearSVR__epsilon=0.01, LinearSVR__loss=squared_epsilon_insensitive, LinearSVR__tol=0.01), ElasticNetCV__l1_ratio=0.85, ElasticNetCV__tol=0.01), XGBRegressor__learning_rate=0.1, XGBRegressor__max_depth=3, XGBRegressor__min_child_weight=2, XGBRegressor__n_estimators=100, XGBRegressor__nthread=1, XGBRegressor__subsample=0.95)': (4,\n",
       "  -790016805.48224187),\n",
       " 'XGBRegressor(ElasticNetCV(LinearSVR(DecisionTreeRegressor(input_matrix, DecisionTreeRegressor__max_depth=7, DecisionTreeRegressor__min_samples_leaf=7, DecisionTreeRegressor__min_samples_split=18), LinearSVR__C=0.1, LinearSVR__dual=True, LinearSVR__epsilon=0.001, LinearSVR__loss=squared_epsilon_insensitive, LinearSVR__tol=0.01), ElasticNetCV__l1_ratio=0.85, ElasticNetCV__tol=0.01), XGBRegressor__learning_rate=0.1, XGBRegressor__max_depth=3, XGBRegressor__min_child_weight=2, XGBRegressor__n_estimators=100, XGBRegressor__nthread=1, XGBRegressor__subsample=0.95)': (4,\n",
       "  -923949260.1190927),\n",
       " 'XGBRegressor(ElasticNetCV(LinearSVR(ElasticNetCV(LinearSVR(input_matrix, LinearSVR__C=0.1, LinearSVR__dual=True, LinearSVR__epsilon=0.001, LinearSVR__loss=squared_epsilon_insensitive, LinearSVR__tol=0.01), ElasticNetCV__l1_ratio=0.85, ElasticNetCV__tol=0.01), LinearSVR__C=0.1, LinearSVR__dual=True, LinearSVR__epsilon=0.001, LinearSVR__loss=squared_epsilon_insensitive, LinearSVR__tol=0.01), ElasticNetCV__l1_ratio=0.85, ElasticNetCV__tol=0.01), XGBRegressor__learning_rate=0.1, XGBRegressor__max_depth=3, XGBRegressor__min_child_weight=2, XGBRegressor__n_estimators=100, XGBRegressor__nthread=1, XGBRegressor__subsample=0.95)': (5,\n",
       "  -597871954.50631618),\n",
       " 'XGBRegressor(ElasticNetCV(LinearSVR(ElasticNetCV(LinearSVR(input_matrix, LinearSVR__C=0.1, LinearSVR__dual=True, LinearSVR__epsilon=0.001, LinearSVR__loss=squared_epsilon_insensitive, LinearSVR__tol=1e-05), ElasticNetCV__l1_ratio=0.85, ElasticNetCV__tol=0.01), LinearSVR__C=0.1, LinearSVR__dual=True, LinearSVR__epsilon=0.001, LinearSVR__loss=squared_epsilon_insensitive, LinearSVR__tol=0.01), ElasticNetCV__l1_ratio=0.85, ElasticNetCV__tol=0.01), XGBRegressor__learning_rate=0.1, XGBRegressor__max_depth=3, XGBRegressor__min_child_weight=2, XGBRegressor__n_estimators=100, XGBRegressor__nthread=1, XGBRegressor__subsample=0.95)': (5,\n",
       "  -597871954.50631618),\n",
       " 'XGBRegressor(ElasticNetCV(LinearSVR(ElasticNetCV(input_matrix, ElasticNetCV__l1_ratio=0.55, ElasticNetCV__tol=0.001), LinearSVR__C=0.1, LinearSVR__dual=True, LinearSVR__epsilon=0.001, LinearSVR__loss=squared_epsilon_insensitive, LinearSVR__tol=0.001), ElasticNetCV__l1_ratio=0.85, ElasticNetCV__tol=0.01), XGBRegressor__learning_rate=0.1, XGBRegressor__max_depth=6, XGBRegressor__min_child_weight=2, XGBRegressor__n_estimators=100, XGBRegressor__nthread=1, XGBRegressor__subsample=0.95)': (4,\n",
       "  -691102609.5111295),\n",
       " 'XGBRegressor(ElasticNetCV(LinearSVR(FastICA(input_matrix, FastICA__tol=0.25), LinearSVR__C=0.1, LinearSVR__dual=True, LinearSVR__epsilon=1.0, LinearSVR__loss=squared_epsilon_insensitive, LinearSVR__tol=0.01), ElasticNetCV__l1_ratio=0.85, ElasticNetCV__tol=0.01), XGBRegressor__learning_rate=0.1, XGBRegressor__max_depth=3, XGBRegressor__min_child_weight=2, XGBRegressor__n_estimators=100, XGBRegressor__nthread=1, XGBRegressor__subsample=0.95)': (4,\n",
       "  -2588407655.4208517),\n",
       " 'XGBRegressor(ElasticNetCV(LinearSVR(FastICA(input_matrix, FastICA__tol=0.8), LinearSVR__C=0.1, LinearSVR__dual=True, LinearSVR__epsilon=0.001, LinearSVR__loss=squared_epsilon_insensitive, LinearSVR__tol=1e-05), ElasticNetCV__l1_ratio=0.85, ElasticNetCV__tol=0.01), XGBRegressor__learning_rate=0.1, XGBRegressor__max_depth=3, XGBRegressor__min_child_weight=2, XGBRegressor__n_estimators=100, XGBRegressor__nthread=1, XGBRegressor__subsample=0.95)': (4,\n",
       "  -2353902958.2322044),\n",
       " 'XGBRegressor(ElasticNetCV(LinearSVR(FeatureAgglomeration(input_matrix, FeatureAgglomeration__affinity=manhattan, FeatureAgglomeration__linkage=average), LinearSVR__C=0.1, LinearSVR__dual=True, LinearSVR__epsilon=0.01, LinearSVR__loss=squared_epsilon_insensitive, LinearSVR__tol=0.01), ElasticNetCV__l1_ratio=0.85, ElasticNetCV__tol=0.01), XGBRegressor__learning_rate=0.1, XGBRegressor__max_depth=3, XGBRegressor__min_child_weight=2, XGBRegressor__n_estimators=100, XGBRegressor__nthread=1, XGBRegressor__subsample=0.95)': (4,\n",
       "  -1780871118.0015311),\n",
       " 'XGBRegressor(ElasticNetCV(LinearSVR(GradientBoostingRegressor(input_matrix, GradientBoostingRegressor__alpha=0.8, GradientBoostingRegressor__learning_rate=0.01, GradientBoostingRegressor__loss=ls, GradientBoostingRegressor__max_depth=8, GradientBoostingRegressor__max_features=0.35, GradientBoostingRegressor__min_samples_leaf=4, GradientBoostingRegressor__min_samples_split=13, GradientBoostingRegressor__n_estimators=100, GradientBoostingRegressor__subsample=0.65), LinearSVR__C=0.1, LinearSVR__dual=True, LinearSVR__epsilon=0.0001, LinearSVR__loss=squared_epsilon_insensitive, LinearSVR__tol=0.01), ElasticNetCV__l1_ratio=0.85, ElasticNetCV__tol=0.01), XGBRegressor__learning_rate=0.1, XGBRegressor__max_depth=3, XGBRegressor__min_child_weight=2, XGBRegressor__n_estimators=100, XGBRegressor__nthread=1, XGBRegressor__subsample=0.95)': (4,\n",
       "  -814203009.64269769),\n",
       " 'XGBRegressor(ElasticNetCV(LinearSVR(GradientBoostingRegressor(input_matrix, GradientBoostingRegressor__alpha=0.95, GradientBoostingRegressor__learning_rate=0.1, GradientBoostingRegressor__loss=quantile, GradientBoostingRegressor__max_depth=5, GradientBoostingRegressor__max_features=0.9, GradientBoostingRegressor__min_samples_leaf=4, GradientBoostingRegressor__min_samples_split=10, GradientBoostingRegressor__n_estimators=100, GradientBoostingRegressor__subsample=0.05), LinearSVR__C=0.1, LinearSVR__dual=True, LinearSVR__epsilon=0.001, LinearSVR__loss=squared_epsilon_insensitive, LinearSVR__tol=1e-05), ElasticNetCV__l1_ratio=0.85, ElasticNetCV__tol=0.01), XGBRegressor__learning_rate=0.1, XGBRegressor__max_depth=3, XGBRegressor__min_child_weight=2, XGBRegressor__n_estimators=100, XGBRegressor__nthread=1, XGBRegressor__subsample=0.95)': (4,\n",
       "  -644059975.0253315),\n",
       " 'XGBRegressor(ElasticNetCV(LinearSVR(LassoLarsCV(input_matrix, LassoLarsCV__normalize=False), LinearSVR__C=0.1, LinearSVR__dual=True, LinearSVR__epsilon=0.0001, LinearSVR__loss=squared_epsilon_insensitive, LinearSVR__tol=0.01), ElasticNetCV__l1_ratio=0.85, ElasticNetCV__tol=0.01), XGBRegressor__learning_rate=0.1, XGBRegressor__max_depth=3, XGBRegressor__min_child_weight=2, XGBRegressor__n_estimators=100, XGBRegressor__nthread=1, XGBRegressor__subsample=0.95)': (4,\n",
       "  -959844243.02816129),\n",
       " 'XGBRegressor(ElasticNetCV(LinearSVR(LassoLarsCV(input_matrix, LassoLarsCV__normalize=False), LinearSVR__C=0.5, LinearSVR__dual=True, LinearSVR__epsilon=0.001, LinearSVR__loss=squared_epsilon_insensitive, LinearSVR__tol=1e-05), ElasticNetCV__l1_ratio=0.85, ElasticNetCV__tol=0.01), XGBRegressor__learning_rate=0.1, XGBRegressor__max_depth=3, XGBRegressor__min_child_weight=2, XGBRegressor__n_estimators=100, XGBRegressor__nthread=1, XGBRegressor__subsample=0.95)': (4,\n",
       "  -959844243.02816129),\n",
       " 'XGBRegressor(ElasticNetCV(LinearSVR(LinearSVR(input_matrix, LinearSVR__C=0.1, LinearSVR__dual=True, LinearSVR__epsilon=0.001, LinearSVR__loss=squared_epsilon_insensitive, LinearSVR__tol=0.0001), LinearSVR__C=0.1, LinearSVR__dual=True, LinearSVR__epsilon=0.001, LinearSVR__loss=squared_epsilon_insensitive, LinearSVR__tol=0.01), ElasticNetCV__l1_ratio=0.85, ElasticNetCV__tol=0.01), XGBRegressor__learning_rate=0.1, XGBRegressor__max_depth=3, XGBRegressor__min_child_weight=2, XGBRegressor__n_estimators=100, XGBRegressor__nthread=1, XGBRegressor__subsample=0.95)': (4,\n",
       "  -592862624.36469936),\n",
       " 'XGBRegressor(ElasticNetCV(LinearSVR(LinearSVR(input_matrix, LinearSVR__C=0.1, LinearSVR__dual=True, LinearSVR__epsilon=0.001, LinearSVR__loss=squared_epsilon_insensitive, LinearSVR__tol=0.001), LinearSVR__C=0.5, LinearSVR__dual=True, LinearSVR__epsilon=0.001, LinearSVR__loss=squared_epsilon_insensitive, LinearSVR__tol=1e-05), ElasticNetCV__l1_ratio=0.85, ElasticNetCV__tol=0.01), XGBRegressor__learning_rate=0.1, XGBRegressor__max_depth=3, XGBRegressor__min_child_weight=2, XGBRegressor__n_estimators=100, XGBRegressor__nthread=1, XGBRegressor__subsample=0.95)': (4,\n",
       "  -592862624.36469936),\n",
       " 'XGBRegressor(ElasticNetCV(LinearSVR(LinearSVR(input_matrix, LinearSVR__C=0.1, LinearSVR__dual=True, LinearSVR__epsilon=0.001, LinearSVR__loss=squared_epsilon_insensitive, LinearSVR__tol=0.01), LinearSVR__C=0.1, LinearSVR__dual=True, LinearSVR__epsilon=0.0001, LinearSVR__loss=squared_epsilon_insensitive, LinearSVR__tol=0.01), ElasticNetCV__l1_ratio=0.85, ElasticNetCV__tol=0.01), XGBRegressor__learning_rate=0.1, XGBRegressor__max_depth=3, XGBRegressor__min_child_weight=2, XGBRegressor__n_estimators=100, XGBRegressor__nthread=1, XGBRegressor__subsample=0.95)': (4,\n",
       "  -592862624.36469936),\n",
       " 'XGBRegressor(ElasticNetCV(LinearSVR(MaxAbsScaler(input_matrix), LinearSVR__C=0.1, LinearSVR__dual=True, LinearSVR__epsilon=0.0001, LinearSVR__loss=squared_epsilon_insensitive, LinearSVR__tol=0.001), ElasticNetCV__l1_ratio=0.85, ElasticNetCV__tol=0.01), XGBRegressor__learning_rate=0.1, XGBRegressor__max_depth=3, XGBRegressor__min_child_weight=2, XGBRegressor__n_estimators=100, XGBRegressor__nthread=1, XGBRegressor__subsample=0.95)': (4,\n",
       "  -835984241.84961319),\n",
       " 'XGBRegressor(ElasticNetCV(LinearSVR(MaxAbsScaler(input_matrix), LinearSVR__C=0.1, LinearSVR__dual=True, LinearSVR__epsilon=0.001, LinearSVR__loss=squared_epsilon_insensitive, LinearSVR__tol=0.01), ElasticNetCV__l1_ratio=0.85, ElasticNetCV__tol=0.01), XGBRegressor__learning_rate=0.1, XGBRegressor__max_depth=3, XGBRegressor__min_child_weight=2, XGBRegressor__n_estimators=100, XGBRegressor__nthread=1, XGBRegressor__subsample=0.95)': (4,\n",
       "  -825546330.97594666),\n",
       " 'XGBRegressor(ElasticNetCV(LinearSVR(MinMaxScaler(input_matrix), LinearSVR__C=0.1, LinearSVR__dual=True, LinearSVR__epsilon=0.0001, LinearSVR__loss=squared_epsilon_insensitive, LinearSVR__tol=0.001), ElasticNetCV__l1_ratio=0.85, ElasticNetCV__tol=0.01), XGBRegressor__learning_rate=0.1, XGBRegressor__max_depth=3, XGBRegressor__min_child_weight=2, XGBRegressor__n_estimators=100, XGBRegressor__nthread=1, XGBRegressor__subsample=0.95)': (4,\n",
       "  -834367739.78912234),\n",
       " 'XGBRegressor(ElasticNetCV(LinearSVR(PolynomialFeatures(input_matrix, PolynomialFeatures__degree=2, PolynomialFeatures__include_bias=False, PolynomialFeatures__interaction_only=False), LinearSVR__C=0.1, LinearSVR__dual=True, LinearSVR__epsilon=0.0001, LinearSVR__loss=squared_epsilon_insensitive, LinearSVR__tol=0.01), ElasticNetCV__l1_ratio=0.85, ElasticNetCV__tol=0.01), XGBRegressor__learning_rate=0.1, XGBRegressor__max_depth=3, XGBRegressor__min_child_weight=2, XGBRegressor__n_estimators=100, XGBRegressor__nthread=1, XGBRegressor__subsample=0.95)': (4,\n",
       "  -inf),\n",
       " 'XGBRegressor(ElasticNetCV(LinearSVR(RandomForestRegressor(input_matrix, RandomForestRegressor__bootstrap=True, RandomForestRegressor__max_features=0.6, RandomForestRegressor__min_samples_leaf=12, RandomForestRegressor__min_samples_split=19, RandomForestRegressor__n_estimators=100), LinearSVR__C=0.1, LinearSVR__dual=True, LinearSVR__epsilon=0.001, LinearSVR__loss=squared_epsilon_insensitive, LinearSVR__tol=0.001), ElasticNetCV__l1_ratio=0.85, ElasticNetCV__tol=0.01), XGBRegressor__learning_rate=0.1, XGBRegressor__max_depth=3, XGBRegressor__min_child_weight=2, XGBRegressor__n_estimators=100, XGBRegressor__nthread=1, XGBRegressor__subsample=0.95)': (4,\n",
       "  -839762375.29384613),\n",
       " 'XGBRegressor(ElasticNetCV(LinearSVR(RobustScaler(input_matrix), LinearSVR__C=0.1, LinearSVR__dual=True, LinearSVR__epsilon=0.0001, LinearSVR__loss=squared_epsilon_insensitive, LinearSVR__tol=0.01), ElasticNetCV__l1_ratio=0.85, ElasticNetCV__tol=0.01), XGBRegressor__learning_rate=0.1, XGBRegressor__max_depth=3, XGBRegressor__min_child_weight=2, XGBRegressor__n_estimators=100, XGBRegressor__nthread=1, XGBRegressor__subsample=0.95)': (4,\n",
       "  -887118215.06219161),\n",
       " 'XGBRegressor(ElasticNetCV(LinearSVR(RobustScaler(input_matrix), LinearSVR__C=0.1, LinearSVR__dual=True, LinearSVR__epsilon=0.001, LinearSVR__loss=squared_epsilon_insensitive, LinearSVR__tol=0.01), ElasticNetCV__l1_ratio=0.85, ElasticNetCV__tol=0.01), XGBRegressor__learning_rate=0.1, XGBRegressor__max_depth=3, XGBRegressor__min_child_weight=2, XGBRegressor__n_estimators=100, XGBRegressor__nthread=1, XGBRegressor__subsample=0.95)': (4,\n",
       "  -887118215.06219161),\n",
       " 'XGBRegressor(ElasticNetCV(LinearSVR(SelectFromModel(input_matrix, SelectFromModel__ExtraTreesRegressor__max_features=0.75, SelectFromModel__ExtraTreesRegressor__n_estimators=100, SelectFromModel__threshold=0.25), LinearSVR__C=0.1, LinearSVR__dual=True, LinearSVR__epsilon=0.001, LinearSVR__loss=squared_epsilon_insensitive, LinearSVR__tol=1e-05), ElasticNetCV__l1_ratio=0.85, ElasticNetCV__tol=0.01), XGBRegressor__learning_rate=0.1, XGBRegressor__max_depth=3, XGBRegressor__min_child_weight=2, XGBRegressor__n_estimators=100, XGBRegressor__nthread=1, XGBRegressor__subsample=0.95)': (4,\n",
       "  -inf),\n",
       " 'XGBRegressor(ElasticNetCV(LinearSVR(StandardScaler(input_matrix), LinearSVR__C=0.1, LinearSVR__dual=True, LinearSVR__epsilon=0.0001, LinearSVR__loss=squared_epsilon_insensitive, LinearSVR__tol=0.01), ElasticNetCV__l1_ratio=0.85, ElasticNetCV__tol=0.01), XGBRegressor__learning_rate=0.1, XGBRegressor__max_depth=3, XGBRegressor__min_child_weight=2, XGBRegressor__n_estimators=100, XGBRegressor__nthread=1, XGBRegressor__subsample=0.95)': (4,\n",
       "  -977618576.45867312),\n",
       " 'XGBRegressor(ElasticNetCV(LinearSVR(StandardScaler(input_matrix), LinearSVR__C=0.1, LinearSVR__dual=True, LinearSVR__epsilon=0.001, LinearSVR__loss=squared_epsilon_insensitive, LinearSVR__tol=0.01), ElasticNetCV__l1_ratio=0.85, ElasticNetCV__tol=0.01), XGBRegressor__learning_rate=0.1, XGBRegressor__max_depth=3, XGBRegressor__min_child_weight=2, XGBRegressor__n_estimators=100, XGBRegressor__nthread=1, XGBRegressor__subsample=0.95)': (4,\n",
       "  -977618576.45867312),\n",
       " 'XGBRegressor(ElasticNetCV(LinearSVR(VarianceThreshold(input_matrix, VarianceThreshold__threshold=0.5), LinearSVR__C=1.0, LinearSVR__dual=True, LinearSVR__epsilon=0.0001, LinearSVR__loss=squared_epsilon_insensitive, LinearSVR__tol=0.001), ElasticNetCV__l1_ratio=0.85, ElasticNetCV__tol=0.01), XGBRegressor__learning_rate=0.1, XGBRegressor__max_depth=3, XGBRegressor__min_child_weight=2, XGBRegressor__n_estimators=100, XGBRegressor__nthread=1, XGBRegressor__subsample=0.95)': (4,\n",
       "  -666481634.7675097),\n",
       " 'XGBRegressor(ElasticNetCV(LinearSVR(VarianceThreshold(input_matrix, VarianceThreshold__threshold=0.55), LinearSVR__C=0.1, LinearSVR__dual=True, LinearSVR__epsilon=0.001, LinearSVR__loss=squared_epsilon_insensitive, LinearSVR__tol=0.01), ElasticNetCV__l1_ratio=0.85, ElasticNetCV__tol=0.01), XGBRegressor__learning_rate=0.1, XGBRegressor__max_depth=3, XGBRegressor__min_child_weight=2, XGBRegressor__n_estimators=100, XGBRegressor__nthread=1, XGBRegressor__subsample=0.95)': (4,\n",
       "  -666481634.7675097),\n",
       " 'XGBRegressor(ElasticNetCV(LinearSVR(VarianceThreshold(input_matrix, VarianceThreshold__threshold=0.85), LinearSVR__C=0.1, LinearSVR__dual=True, LinearSVR__epsilon=0.001, LinearSVR__loss=squared_epsilon_insensitive, LinearSVR__tol=0.001), ElasticNetCV__l1_ratio=0.85, ElasticNetCV__tol=0.01), XGBRegressor__learning_rate=0.1, XGBRegressor__max_depth=3, XGBRegressor__min_child_weight=2, XGBRegressor__n_estimators=100, XGBRegressor__nthread=1, XGBRegressor__subsample=0.95)': (4,\n",
       "  -672328221.1336292),\n",
       " 'XGBRegressor(ElasticNetCV(LinearSVR(input_matrix, LinearSVR__C=0.0001, LinearSVR__dual=True, LinearSVR__epsilon=0.0001, LinearSVR__loss=squared_epsilon_insensitive, LinearSVR__tol=0.001), ElasticNetCV__l1_ratio=0.85, ElasticNetCV__tol=0.01), XGBRegressor__learning_rate=0.1, XGBRegressor__max_depth=3, XGBRegressor__min_child_weight=2, XGBRegressor__n_estimators=100, XGBRegressor__nthread=1, XGBRegressor__subsample=0.95)': (3,\n",
       "  -627163796.46627069),\n",
       " 'XGBRegressor(ElasticNetCV(LinearSVR(input_matrix, LinearSVR__C=0.001, LinearSVR__dual=True, LinearSVR__epsilon=0.001, LinearSVR__loss=squared_epsilon_insensitive, LinearSVR__tol=0.001), ElasticNetCV__l1_ratio=0.85, ElasticNetCV__tol=0.01), XGBRegressor__learning_rate=0.1, XGBRegressor__max_depth=3, XGBRegressor__min_child_weight=2, XGBRegressor__n_estimators=100, XGBRegressor__nthread=1, XGBRegressor__subsample=0.95)': (3,\n",
       "  -595926820.41307688),\n",
       " 'XGBRegressor(ElasticNetCV(LinearSVR(input_matrix, LinearSVR__C=0.001, LinearSVR__dual=True, LinearSVR__epsilon=0.001, LinearSVR__loss=squared_epsilon_insensitive, LinearSVR__tol=0.001), ElasticNetCV__l1_ratio=0.85, ElasticNetCV__tol=0.01), XGBRegressor__learning_rate=0.1, XGBRegressor__max_depth=6, XGBRegressor__min_child_weight=2, XGBRegressor__n_estimators=100, XGBRegressor__nthread=1, XGBRegressor__subsample=0.95)': (3,\n",
       "  -612522052.93111789),\n",
       " 'XGBRegressor(ElasticNetCV(LinearSVR(input_matrix, LinearSVR__C=0.001, LinearSVR__dual=True, LinearSVR__epsilon=0.001, LinearSVR__loss=squared_epsilon_insensitive, LinearSVR__tol=0.1), ElasticNetCV__l1_ratio=0.85, ElasticNetCV__tol=0.01), XGBRegressor__learning_rate=0.1, XGBRegressor__max_depth=3, XGBRegressor__min_child_weight=2, XGBRegressor__n_estimators=100, XGBRegressor__nthread=1, XGBRegressor__subsample=0.95)': (3,\n",
       "  -595926820.41307688),\n",
       " 'XGBRegressor(ElasticNetCV(LinearSVR(input_matrix, LinearSVR__C=0.01, LinearSVR__dual=True, LinearSVR__epsilon=0.01, LinearSVR__loss=squared_epsilon_insensitive, LinearSVR__tol=0.001), ElasticNetCV__l1_ratio=0.85, ElasticNetCV__tol=0.01), XGBRegressor__learning_rate=0.1, XGBRegressor__max_depth=3, XGBRegressor__min_child_weight=2, XGBRegressor__n_estimators=100, XGBRegressor__nthread=1, XGBRegressor__subsample=0.95)': (3,\n",
       "  -578318883.7200768),\n",
       " 'XGBRegressor(ElasticNetCV(LinearSVR(input_matrix, LinearSVR__C=0.1, LinearSVR__dual=False, LinearSVR__epsilon=0.001, LinearSVR__loss=squared_epsilon_insensitive, LinearSVR__tol=0.01), ElasticNetCV__l1_ratio=0.85, ElasticNetCV__tol=0.01), XGBRegressor__learning_rate=0.1, XGBRegressor__max_depth=3, XGBRegressor__min_child_weight=2, XGBRegressor__n_estimators=100, XGBRegressor__nthread=1, XGBRegressor__subsample=0.95)': (3,\n",
       "  -704132905.75637317),\n",
       " 'XGBRegressor(ElasticNetCV(LinearSVR(input_matrix, LinearSVR__C=0.1, LinearSVR__dual=True, LinearSVR__epsilon=0.0001, LinearSVR__loss=squared_epsilon_insensitive, LinearSVR__tol=0.001), ElasticNetCV__l1_ratio=0.05, ElasticNetCV__tol=1e-05), XGBRegressor__learning_rate=0.1, XGBRegressor__max_depth=3, XGBRegressor__min_child_weight=2, XGBRegressor__n_estimators=100, XGBRegressor__nthread=1, XGBRegressor__subsample=0.95)': (3,\n",
       "  -655091105.38730812),\n",
       " 'XGBRegressor(ElasticNetCV(LinearSVR(input_matrix, LinearSVR__C=0.1, LinearSVR__dual=True, LinearSVR__epsilon=0.0001, LinearSVR__loss=squared_epsilon_insensitive, LinearSVR__tol=0.001), ElasticNetCV__l1_ratio=0.85, ElasticNetCV__tol=0.0001), XGBRegressor__learning_rate=0.1, XGBRegressor__max_depth=3, XGBRegressor__min_child_weight=2, XGBRegressor__n_estimators=100, XGBRegressor__nthread=1, XGBRegressor__subsample=0.95)': (3,\n",
       "  -576967647.85127532),\n",
       " 'XGBRegressor(ElasticNetCV(LinearSVR(input_matrix, LinearSVR__C=0.1, LinearSVR__dual=True, LinearSVR__epsilon=0.0001, LinearSVR__loss=squared_epsilon_insensitive, LinearSVR__tol=0.001), ElasticNetCV__l1_ratio=0.85, ElasticNetCV__tol=0.01), XGBRegressor__learning_rate=0.1, XGBRegressor__max_depth=1, XGBRegressor__min_child_weight=2, XGBRegressor__n_estimators=100, XGBRegressor__nthread=1, XGBRegressor__subsample=0.95)': (3,\n",
       "  -842694531.83787036),\n",
       " 'XGBRegressor(ElasticNetCV(LinearSVR(input_matrix, LinearSVR__C=0.1, LinearSVR__dual=True, LinearSVR__epsilon=0.0001, LinearSVR__loss=squared_epsilon_insensitive, LinearSVR__tol=0.001), ElasticNetCV__l1_ratio=0.85, ElasticNetCV__tol=0.01), XGBRegressor__learning_rate=0.1, XGBRegressor__max_depth=2, XGBRegressor__min_child_weight=2, XGBRegressor__n_estimators=100, XGBRegressor__nthread=1, XGBRegressor__subsample=0.95)': (3,\n",
       "  -642483335.68361449),\n",
       " 'XGBRegressor(ElasticNetCV(LinearSVR(input_matrix, LinearSVR__C=0.1, LinearSVR__dual=True, LinearSVR__epsilon=0.0001, LinearSVR__loss=squared_epsilon_insensitive, LinearSVR__tol=0.001), ElasticNetCV__l1_ratio=0.85, ElasticNetCV__tol=0.01), XGBRegressor__learning_rate=0.1, XGBRegressor__max_depth=3, XGBRegressor__min_child_weight=16, XGBRegressor__n_estimators=100, XGBRegressor__nthread=1, XGBRegressor__subsample=0.95)': (3,\n",
       "  -739248759.63363469),\n",
       " 'XGBRegressor(ElasticNetCV(LinearSVR(input_matrix, LinearSVR__C=0.1, LinearSVR__dual=True, LinearSVR__epsilon=0.0001, LinearSVR__loss=squared_epsilon_insensitive, LinearSVR__tol=0.001), ElasticNetCV__l1_ratio=0.85, ElasticNetCV__tol=0.01), XGBRegressor__learning_rate=0.1, XGBRegressor__max_depth=3, XGBRegressor__min_child_weight=2, XGBRegressor__n_estimators=100, XGBRegressor__nthread=1, XGBRegressor__subsample=0.95)': (3,\n",
       "  -575141459.86709249),\n",
       " 'XGBRegressor(ElasticNetCV(LinearSVR(input_matrix, LinearSVR__C=0.1, LinearSVR__dual=True, LinearSVR__epsilon=0.0001, LinearSVR__loss=squared_epsilon_insensitive, LinearSVR__tol=0.001), ElasticNetCV__l1_ratio=0.85, ElasticNetCV__tol=0.01), XGBRegressor__learning_rate=0.1, XGBRegressor__max_depth=4, XGBRegressor__min_child_weight=2, XGBRegressor__n_estimators=100, XGBRegressor__nthread=1, XGBRegressor__subsample=0.95)': (3,\n",
       "  -618652780.57153833),\n",
       " 'XGBRegressor(ElasticNetCV(LinearSVR(input_matrix, LinearSVR__C=0.1, LinearSVR__dual=True, LinearSVR__epsilon=0.0001, LinearSVR__loss=squared_epsilon_insensitive, LinearSVR__tol=0.001), ElasticNetCV__l1_ratio=0.85, ElasticNetCV__tol=0.1), XGBRegressor__learning_rate=0.1, XGBRegressor__max_depth=3, XGBRegressor__min_child_weight=2, XGBRegressor__n_estimators=100, XGBRegressor__nthread=1, XGBRegressor__subsample=0.95)': (3,\n",
       "  -597314743.77013242),\n",
       " 'XGBRegressor(ElasticNetCV(LinearSVR(input_matrix, LinearSVR__C=0.1, LinearSVR__dual=True, LinearSVR__epsilon=0.0001, LinearSVR__loss=squared_epsilon_insensitive, LinearSVR__tol=0.01), ElasticNetCV__l1_ratio=0.85, ElasticNetCV__tol=0.0001), XGBRegressor__learning_rate=0.1, XGBRegressor__max_depth=3, XGBRegressor__min_child_weight=2, XGBRegressor__n_estimators=100, XGBRegressor__nthread=1, XGBRegressor__subsample=0.95)': (3,\n",
       "  -576967647.85127532),\n",
       " 'XGBRegressor(ElasticNetCV(LinearSVR(input_matrix, LinearSVR__C=0.1, LinearSVR__dual=True, LinearSVR__epsilon=0.0001, LinearSVR__loss=squared_epsilon_insensitive, LinearSVR__tol=0.01), ElasticNetCV__l1_ratio=0.85, ElasticNetCV__tol=0.01), XGBRegressor__learning_rate=0.1, XGBRegressor__max_depth=3, XGBRegressor__min_child_weight=2, XGBRegressor__n_estimators=100, XGBRegressor__nthread=1, XGBRegressor__subsample=0.95)': (3,\n",
       "  -575141459.86709249),\n",
       " 'XGBRegressor(ElasticNetCV(LinearSVR(input_matrix, LinearSVR__C=0.1, LinearSVR__dual=True, LinearSVR__epsilon=0.0001, LinearSVR__loss=squared_epsilon_insensitive, LinearSVR__tol=0.01), ElasticNetCV__l1_ratio=0.85, ElasticNetCV__tol=0.01), XGBRegressor__learning_rate=0.1, XGBRegressor__max_depth=8, XGBRegressor__min_child_weight=2, XGBRegressor__n_estimators=100, XGBRegressor__nthread=1, XGBRegressor__subsample=0.95)': (3,\n",
       "  -657726933.5467627),\n",
       " 'XGBRegressor(ElasticNetCV(LinearSVR(input_matrix, LinearSVR__C=0.1, LinearSVR__dual=True, LinearSVR__epsilon=0.0001, LinearSVR__loss=squared_epsilon_insensitive, LinearSVR__tol=0.01), ElasticNetCV__l1_ratio=0.85, ElasticNetCV__tol=0.01), XGBRegressor__learning_rate=0.5, XGBRegressor__max_depth=3, XGBRegressor__min_child_weight=2, XGBRegressor__n_estimators=100, XGBRegressor__nthread=1, XGBRegressor__subsample=0.95)': (3,\n",
       "  -732513809.77824616),\n",
       " 'XGBRegressor(ElasticNetCV(LinearSVR(input_matrix, LinearSVR__C=0.1, LinearSVR__dual=True, LinearSVR__epsilon=0.0001, LinearSVR__loss=squared_epsilon_insensitive, LinearSVR__tol=0.01), ElasticNetCV__l1_ratio=1.0, ElasticNetCV__tol=0.01), XGBRegressor__learning_rate=0.1, XGBRegressor__max_depth=3, XGBRegressor__min_child_weight=2, XGBRegressor__n_estimators=100, XGBRegressor__nthread=1, XGBRegressor__subsample=0.95)': (3,\n",
       "  -622300561.96094835),\n",
       " 'XGBRegressor(ElasticNetCV(LinearSVR(input_matrix, LinearSVR__C=0.1, LinearSVR__dual=True, LinearSVR__epsilon=0.0001, LinearSVR__loss=squared_epsilon_insensitive, LinearSVR__tol=1e-05), ElasticNetCV__l1_ratio=0.85, ElasticNetCV__tol=0.01), XGBRegressor__learning_rate=0.1, XGBRegressor__max_depth=3, XGBRegressor__min_child_weight=2, XGBRegressor__n_estimators=100, XGBRegressor__nthread=1, XGBRegressor__subsample=0.95)': (3,\n",
       "  -575141459.86709249),\n",
       " 'XGBRegressor(ElasticNetCV(LinearSVR(input_matrix, LinearSVR__C=0.1, LinearSVR__dual=True, LinearSVR__epsilon=0.001, LinearSVR__loss=epsilon_insensitive, LinearSVR__tol=0.0001), ElasticNetCV__l1_ratio=0.85, ElasticNetCV__tol=0.01), XGBRegressor__learning_rate=0.1, XGBRegressor__max_depth=3, XGBRegressor__min_child_weight=2, XGBRegressor__n_estimators=100, XGBRegressor__nthread=1, XGBRegressor__subsample=0.95)': (3,\n",
       "  -587416159.02829897),\n",
       " 'XGBRegressor(ElasticNetCV(LinearSVR(input_matrix, LinearSVR__C=0.1, LinearSVR__dual=True, LinearSVR__epsilon=0.001, LinearSVR__loss=epsilon_insensitive, LinearSVR__tol=0.001), ElasticNetCV__l1_ratio=0.85, ElasticNetCV__tol=0.01), XGBRegressor__learning_rate=0.1, XGBRegressor__max_depth=3, XGBRegressor__min_child_weight=2, XGBRegressor__n_estimators=100, XGBRegressor__nthread=1, XGBRegressor__subsample=0.95)': (3,\n",
       "  -587416159.02829897),\n",
       " 'XGBRegressor(ElasticNetCV(LinearSVR(input_matrix, LinearSVR__C=0.1, LinearSVR__dual=True, LinearSVR__epsilon=0.001, LinearSVR__loss=squared_epsilon_insensitive, LinearSVR__tol=0.0001), ElasticNetCV__l1_ratio=0.55, ElasticNetCV__tol=0.01), XGBRegressor__learning_rate=0.1, XGBRegressor__max_depth=3, XGBRegressor__min_child_weight=2, XGBRegressor__n_estimators=100, XGBRegressor__nthread=1, XGBRegressor__subsample=0.95)': (3,\n",
       "  -589011811.21344757),\n",
       " 'XGBRegressor(ElasticNetCV(LinearSVR(input_matrix, LinearSVR__C=0.1, LinearSVR__dual=True, LinearSVR__epsilon=0.001, LinearSVR__loss=squared_epsilon_insensitive, LinearSVR__tol=0.0001), ElasticNetCV__l1_ratio=0.85, ElasticNetCV__tol=0.01), XGBRegressor__learning_rate=0.001, XGBRegressor__max_depth=3, XGBRegressor__min_child_weight=2, XGBRegressor__n_estimators=100, XGBRegressor__nthread=1, XGBRegressor__subsample=0.95)': (3,\n",
       "  -32435040747.577736),\n",
       " 'XGBRegressor(ElasticNetCV(LinearSVR(input_matrix, LinearSVR__C=0.1, LinearSVR__dual=True, LinearSVR__epsilon=0.001, LinearSVR__loss=squared_epsilon_insensitive, LinearSVR__tol=0.0001), ElasticNetCV__l1_ratio=0.85, ElasticNetCV__tol=0.01), XGBRegressor__learning_rate=0.1, XGBRegressor__max_depth=3, XGBRegressor__min_child_weight=2, XGBRegressor__n_estimators=100, XGBRegressor__nthread=1, XGBRegressor__subsample=0.95)': (3,\n",
       "  -575141459.86709249),\n",
       " 'XGBRegressor(ElasticNetCV(LinearSVR(input_matrix, LinearSVR__C=0.1, LinearSVR__dual=True, LinearSVR__epsilon=0.001, LinearSVR__loss=squared_epsilon_insensitive, LinearSVR__tol=0.0001), ElasticNetCV__l1_ratio=0.85, ElasticNetCV__tol=0.01), XGBRegressor__learning_rate=0.5, XGBRegressor__max_depth=3, XGBRegressor__min_child_weight=2, XGBRegressor__n_estimators=100, XGBRegressor__nthread=1, XGBRegressor__subsample=0.95)': (3,\n",
       "  -732513809.77824616),\n",
       " 'XGBRegressor(ElasticNetCV(LinearSVR(input_matrix, LinearSVR__C=0.1, LinearSVR__dual=True, LinearSVR__epsilon=0.001, LinearSVR__loss=squared_epsilon_insensitive, LinearSVR__tol=0.001), ElasticNetCV__l1_ratio=0.75, ElasticNetCV__tol=0.01), XGBRegressor__learning_rate=0.1, XGBRegressor__max_depth=3, XGBRegressor__min_child_weight=2, XGBRegressor__n_estimators=100, XGBRegressor__nthread=1, XGBRegressor__subsample=0.95)': (3,\n",
       "  -598667168.91024148),\n",
       " 'XGBRegressor(ElasticNetCV(LinearSVR(input_matrix, LinearSVR__C=0.1, LinearSVR__dual=True, LinearSVR__epsilon=0.001, LinearSVR__loss=squared_epsilon_insensitive, LinearSVR__tol=0.001), ElasticNetCV__l1_ratio=0.85, ElasticNetCV__tol=0.01), XGBRegressor__learning_rate=0.01, XGBRegressor__max_depth=3, XGBRegressor__min_child_weight=2, XGBRegressor__n_estimators=100, XGBRegressor__nthread=1, XGBRegressor__subsample=0.95)': (3,\n",
       "  -6333263584.18186),\n",
       " 'XGBRegressor(ElasticNetCV(LinearSVR(input_matrix, LinearSVR__C=0.1, LinearSVR__dual=True, LinearSVR__epsilon=0.001, LinearSVR__loss=squared_epsilon_insensitive, LinearSVR__tol=0.001), ElasticNetCV__l1_ratio=0.85, ElasticNetCV__tol=0.01), XGBRegressor__learning_rate=0.1, XGBRegressor__max_depth=3, XGBRegressor__min_child_weight=16, XGBRegressor__n_estimators=100, XGBRegressor__nthread=1, XGBRegressor__subsample=0.95)': (3,\n",
       "  -739248759.63363469),\n",
       " 'XGBRegressor(ElasticNetCV(LinearSVR(input_matrix, LinearSVR__C=0.1, LinearSVR__dual=True, LinearSVR__epsilon=0.001, LinearSVR__loss=squared_epsilon_insensitive, LinearSVR__tol=0.001), ElasticNetCV__l1_ratio=0.85, ElasticNetCV__tol=0.01), XGBRegressor__learning_rate=0.1, XGBRegressor__max_depth=3, XGBRegressor__min_child_weight=2, XGBRegressor__n_estimators=100, XGBRegressor__nthread=1, XGBRegressor__subsample=0.95)': (3,\n",
       "  -575141459.86709249),\n",
       " 'XGBRegressor(ElasticNetCV(LinearSVR(input_matrix, LinearSVR__C=0.1, LinearSVR__dual=True, LinearSVR__epsilon=0.001, LinearSVR__loss=squared_epsilon_insensitive, LinearSVR__tol=0.001), ElasticNetCV__l1_ratio=0.85, ElasticNetCV__tol=0.01), XGBRegressor__learning_rate=0.1, XGBRegressor__max_depth=6, XGBRegressor__min_child_weight=2, XGBRegressor__n_estimators=100, XGBRegressor__nthread=1, XGBRegressor__subsample=0.8)': (3,\n",
       "  -632626445.85044229),\n",
       " 'XGBRegressor(ElasticNetCV(LinearSVR(input_matrix, LinearSVR__C=0.1, LinearSVR__dual=True, LinearSVR__epsilon=0.001, LinearSVR__loss=squared_epsilon_insensitive, LinearSVR__tol=0.001), ElasticNetCV__l1_ratio=0.85, ElasticNetCV__tol=0.01), XGBRegressor__learning_rate=0.1, XGBRegressor__max_depth=6, XGBRegressor__min_child_weight=2, XGBRegressor__n_estimators=100, XGBRegressor__nthread=1, XGBRegressor__subsample=0.95)': (3,\n",
       "  -612615947.68973386),\n",
       " 'XGBRegressor(ElasticNetCV(LinearSVR(input_matrix, LinearSVR__C=0.1, LinearSVR__dual=True, LinearSVR__epsilon=0.001, LinearSVR__loss=squared_epsilon_insensitive, LinearSVR__tol=0.001), ElasticNetCV__l1_ratio=0.85, ElasticNetCV__tol=0.1), XGBRegressor__learning_rate=0.1, XGBRegressor__max_depth=3, XGBRegressor__min_child_weight=2, XGBRegressor__n_estimators=100, XGBRegressor__nthread=1, XGBRegressor__subsample=0.95)': (3,\n",
       "  -597314743.77013242),\n",
       " 'XGBRegressor(ElasticNetCV(LinearSVR(input_matrix, LinearSVR__C=0.1, LinearSVR__dual=True, LinearSVR__epsilon=0.001, LinearSVR__loss=squared_epsilon_insensitive, LinearSVR__tol=0.01), ElasticNetCV__l1_ratio=0.6, ElasticNetCV__tol=0.01), XGBRegressor__learning_rate=0.1, XGBRegressor__max_depth=3, XGBRegressor__min_child_weight=2, XGBRegressor__n_estimators=100, XGBRegressor__nthread=1, XGBRegressor__subsample=0.95)': (3,\n",
       "  -588400010.85803413),\n",
       " 'XGBRegressor(ElasticNetCV(LinearSVR(input_matrix, LinearSVR__C=0.1, LinearSVR__dual=True, LinearSVR__epsilon=0.001, LinearSVR__loss=squared_epsilon_insensitive, LinearSVR__tol=0.01), ElasticNetCV__l1_ratio=0.75, ElasticNetCV__tol=0.01), XGBRegressor__learning_rate=0.1, XGBRegressor__max_depth=3, XGBRegressor__min_child_weight=2, XGBRegressor__n_estimators=100, XGBRegressor__nthread=1, XGBRegressor__subsample=0.95)': (3,\n",
       "  -598667168.91024148),\n",
       " 'XGBRegressor(ElasticNetCV(LinearSVR(input_matrix, LinearSVR__C=0.1, LinearSVR__dual=True, LinearSVR__epsilon=0.001, LinearSVR__loss=squared_epsilon_insensitive, LinearSVR__tol=0.01), ElasticNetCV__l1_ratio=0.85, ElasticNetCV__tol=0.01), XGBRegressor__learning_rate=0.01, XGBRegressor__max_depth=3, XGBRegressor__min_child_weight=2, XGBRegressor__n_estimators=100, XGBRegressor__nthread=1, XGBRegressor__subsample=0.95)': (3,\n",
       "  -6333263584.18186),\n",
       " 'XGBRegressor(ElasticNetCV(LinearSVR(input_matrix, LinearSVR__C=0.1, LinearSVR__dual=True, LinearSVR__epsilon=0.001, LinearSVR__loss=squared_epsilon_insensitive, LinearSVR__tol=0.01), ElasticNetCV__l1_ratio=0.85, ElasticNetCV__tol=0.01), XGBRegressor__learning_rate=0.1, XGBRegressor__max_depth=1, XGBRegressor__min_child_weight=2, XGBRegressor__n_estimators=100, XGBRegressor__nthread=1, XGBRegressor__subsample=0.95)': (3,\n",
       "  -842694531.83787036),\n",
       " 'XGBRegressor(ElasticNetCV(LinearSVR(input_matrix, LinearSVR__C=0.1, LinearSVR__dual=True, LinearSVR__epsilon=0.001, LinearSVR__loss=squared_epsilon_insensitive, LinearSVR__tol=0.01), ElasticNetCV__l1_ratio=0.85, ElasticNetCV__tol=0.01), XGBRegressor__learning_rate=0.1, XGBRegressor__max_depth=3, XGBRegressor__min_child_weight=2, XGBRegressor__n_estimators=100, XGBRegressor__nthread=1, XGBRegressor__subsample=0.05)': (3,\n",
       "  -904729432.81543505),\n",
       " 'XGBRegressor(ElasticNetCV(LinearSVR(input_matrix, LinearSVR__C=0.1, LinearSVR__dual=True, LinearSVR__epsilon=0.001, LinearSVR__loss=squared_epsilon_insensitive, LinearSVR__tol=0.01), ElasticNetCV__l1_ratio=0.85, ElasticNetCV__tol=0.01), XGBRegressor__learning_rate=0.1, XGBRegressor__max_depth=3, XGBRegressor__min_child_weight=2, XGBRegressor__n_estimators=100, XGBRegressor__nthread=1, XGBRegressor__subsample=0.95)': (3,\n",
       "  -575141459.86709249),\n",
       " 'XGBRegressor(ElasticNetCV(LinearSVR(input_matrix, LinearSVR__C=0.1, LinearSVR__dual=True, LinearSVR__epsilon=0.001, LinearSVR__loss=squared_epsilon_insensitive, LinearSVR__tol=0.01), ElasticNetCV__l1_ratio=0.85, ElasticNetCV__tol=0.01), XGBRegressor__learning_rate=0.1, XGBRegressor__max_depth=3, XGBRegressor__min_child_weight=4, XGBRegressor__n_estimators=100, XGBRegressor__nthread=1, XGBRegressor__subsample=0.95)': (3,\n",
       "  -613488548.41996813),\n",
       " 'XGBRegressor(ElasticNetCV(LinearSVR(input_matrix, LinearSVR__C=0.1, LinearSVR__dual=True, LinearSVR__epsilon=0.001, LinearSVR__loss=squared_epsilon_insensitive, LinearSVR__tol=0.01), ElasticNetCV__l1_ratio=0.85, ElasticNetCV__tol=0.01), XGBRegressor__learning_rate=0.1, XGBRegressor__max_depth=3, XGBRegressor__min_child_weight=6, XGBRegressor__n_estimators=100, XGBRegressor__nthread=1, XGBRegressor__subsample=0.95)': (3,\n",
       "  -730266481.83172619),\n",
       " 'XGBRegressor(ElasticNetCV(LinearSVR(input_matrix, LinearSVR__C=0.1, LinearSVR__dual=True, LinearSVR__epsilon=0.001, LinearSVR__loss=squared_epsilon_insensitive, LinearSVR__tol=0.01), ElasticNetCV__l1_ratio=0.85, ElasticNetCV__tol=0.01), XGBRegressor__learning_rate=0.1, XGBRegressor__max_depth=8, XGBRegressor__min_child_weight=2, XGBRegressor__n_estimators=100, XGBRegressor__nthread=1, XGBRegressor__subsample=0.95)': (3,\n",
       "  -657726933.5467627),\n",
       " 'XGBRegressor(ElasticNetCV(LinearSVR(input_matrix, LinearSVR__C=0.1, LinearSVR__dual=True, LinearSVR__epsilon=0.001, LinearSVR__loss=squared_epsilon_insensitive, LinearSVR__tol=0.01), ElasticNetCV__l1_ratio=0.85, ElasticNetCV__tol=0.1), XGBRegressor__learning_rate=0.1, XGBRegressor__max_depth=3, XGBRegressor__min_child_weight=2, XGBRegressor__n_estimators=100, XGBRegressor__nthread=1, XGBRegressor__subsample=0.95)': (3,\n",
       "  -597314743.77013242),\n",
       " 'XGBRegressor(ElasticNetCV(LinearSVR(input_matrix, LinearSVR__C=0.1, LinearSVR__dual=True, LinearSVR__epsilon=0.001, LinearSVR__loss=squared_epsilon_insensitive, LinearSVR__tol=0.01), ElasticNetCV__l1_ratio=0.85, ElasticNetCV__tol=1e-05), XGBRegressor__learning_rate=0.1, XGBRegressor__max_depth=3, XGBRegressor__min_child_weight=2, XGBRegressor__n_estimators=100, XGBRegressor__nthread=1, XGBRegressor__subsample=0.95)': (3,\n",
       "  -576967647.85127532),\n",
       " 'XGBRegressor(ElasticNetCV(LinearSVR(input_matrix, LinearSVR__C=0.1, LinearSVR__dual=True, LinearSVR__epsilon=0.001, LinearSVR__loss=squared_epsilon_insensitive, LinearSVR__tol=0.01), ElasticNetCV__l1_ratio=0.9, ElasticNetCV__tol=0.01), XGBRegressor__learning_rate=0.1, XGBRegressor__max_depth=3, XGBRegressor__min_child_weight=2, XGBRegressor__n_estimators=100, XGBRegressor__nthread=1, XGBRegressor__subsample=0.95)': (3,\n",
       "  -594912766.7485888),\n",
       " 'XGBRegressor(ElasticNetCV(LinearSVR(input_matrix, LinearSVR__C=0.1, LinearSVR__dual=True, LinearSVR__epsilon=0.001, LinearSVR__loss=squared_epsilon_insensitive, LinearSVR__tol=1e-05), ElasticNetCV__l1_ratio=0.1, ElasticNetCV__tol=0.01), XGBRegressor__learning_rate=0.1, XGBRegressor__max_depth=3, XGBRegressor__min_child_weight=2, XGBRegressor__n_estimators=100, XGBRegressor__nthread=1, XGBRegressor__subsample=0.95)': (3,\n",
       "  -639794347.06743467),\n",
       " 'XGBRegressor(ElasticNetCV(LinearSVR(input_matrix, LinearSVR__C=0.1, LinearSVR__dual=True, LinearSVR__epsilon=0.001, LinearSVR__loss=squared_epsilon_insensitive, LinearSVR__tol=1e-05), ElasticNetCV__l1_ratio=0.85, ElasticNetCV__tol=0.0001), XGBRegressor__learning_rate=0.1, XGBRegressor__max_depth=3, XGBRegressor__min_child_weight=2, XGBRegressor__n_estimators=100, XGBRegressor__nthread=1, XGBRegressor__subsample=0.95)': (3,\n",
       "  -576967647.85127532),\n",
       " 'XGBRegressor(ElasticNetCV(LinearSVR(input_matrix, LinearSVR__C=0.1, LinearSVR__dual=True, LinearSVR__epsilon=0.001, LinearSVR__loss=squared_epsilon_insensitive, LinearSVR__tol=1e-05), ElasticNetCV__l1_ratio=0.85, ElasticNetCV__tol=0.001), XGBRegressor__learning_rate=0.1, XGBRegressor__max_depth=3, XGBRegressor__min_child_weight=2, XGBRegressor__n_estimators=100, XGBRegressor__nthread=1, XGBRegressor__subsample=0.95)': (3,\n",
       "  -575252351.86007822),\n",
       " 'XGBRegressor(ElasticNetCV(LinearSVR(input_matrix, LinearSVR__C=0.1, LinearSVR__dual=True, LinearSVR__epsilon=0.001, LinearSVR__loss=squared_epsilon_insensitive, LinearSVR__tol=1e-05), ElasticNetCV__l1_ratio=0.85, ElasticNetCV__tol=0.01), XGBRegressor__learning_rate=0.001, XGBRegressor__max_depth=3, XGBRegressor__min_child_weight=2, XGBRegressor__n_estimators=100, XGBRegressor__nthread=1, XGBRegressor__subsample=0.95)': (3,\n",
       "  -32435040747.577736),\n",
       " 'XGBRegressor(ElasticNetCV(LinearSVR(input_matrix, LinearSVR__C=0.1, LinearSVR__dual=True, LinearSVR__epsilon=0.001, LinearSVR__loss=squared_epsilon_insensitive, LinearSVR__tol=1e-05), ElasticNetCV__l1_ratio=0.85, ElasticNetCV__tol=0.01), XGBRegressor__learning_rate=0.1, XGBRegressor__max_depth=3, XGBRegressor__min_child_weight=15, XGBRegressor__n_estimators=100, XGBRegressor__nthread=1, XGBRegressor__subsample=0.95)': (3,\n",
       "  -747027461.36512637),\n",
       " 'XGBRegressor(ElasticNetCV(LinearSVR(input_matrix, LinearSVR__C=0.1, LinearSVR__dual=True, LinearSVR__epsilon=0.001, LinearSVR__loss=squared_epsilon_insensitive, LinearSVR__tol=1e-05), ElasticNetCV__l1_ratio=0.85, ElasticNetCV__tol=0.01), XGBRegressor__learning_rate=0.1, XGBRegressor__max_depth=3, XGBRegressor__min_child_weight=2, XGBRegressor__n_estimators=100, XGBRegressor__nthread=1, XGBRegressor__subsample=0.95)': (3,\n",
       "  -575141459.86709249),\n",
       " 'XGBRegressor(ElasticNetCV(LinearSVR(input_matrix, LinearSVR__C=0.1, LinearSVR__dual=True, LinearSVR__epsilon=0.001, LinearSVR__loss=squared_epsilon_insensitive, LinearSVR__tol=1e-05), ElasticNetCV__l1_ratio=0.85, ElasticNetCV__tol=0.01), XGBRegressor__learning_rate=0.1, XGBRegressor__max_depth=5, XGBRegressor__min_child_weight=2, XGBRegressor__n_estimators=100, XGBRegressor__nthread=1, XGBRegressor__subsample=0.95)': (3,\n",
       "  -615333266.21780074),\n",
       " 'XGBRegressor(ElasticNetCV(LinearSVR(input_matrix, LinearSVR__C=0.1, LinearSVR__dual=True, LinearSVR__epsilon=0.001, LinearSVR__loss=squared_epsilon_insensitive, LinearSVR__tol=1e-05), ElasticNetCV__l1_ratio=0.85, ElasticNetCV__tol=0.01), XGBRegressor__learning_rate=1.0, XGBRegressor__max_depth=3, XGBRegressor__min_child_weight=2, XGBRegressor__n_estimators=100, XGBRegressor__nthread=1, XGBRegressor__subsample=0.95)': (3,\n",
       "  -1009666606.0713055),\n",
       " 'XGBRegressor(ElasticNetCV(LinearSVR(input_matrix, LinearSVR__C=0.1, LinearSVR__dual=True, LinearSVR__epsilon=0.001, LinearSVR__loss=squared_epsilon_insensitive, LinearSVR__tol=1e-05), ElasticNetCV__l1_ratio=0.85, ElasticNetCV__tol=0.1), XGBRegressor__learning_rate=0.1, XGBRegressor__max_depth=3, XGBRegressor__min_child_weight=2, XGBRegressor__n_estimators=100, XGBRegressor__nthread=1, XGBRegressor__subsample=0.95)': (3,\n",
       "  -597314743.77013242),\n",
       " 'XGBRegressor(ElasticNetCV(LinearSVR(input_matrix, LinearSVR__C=0.1, LinearSVR__dual=True, LinearSVR__epsilon=0.01, LinearSVR__loss=squared_epsilon_insensitive, LinearSVR__tol=0.001), ElasticNetCV__l1_ratio=0.85, ElasticNetCV__tol=0.01), XGBRegressor__learning_rate=0.1, XGBRegressor__max_depth=3, XGBRegressor__min_child_weight=2, XGBRegressor__n_estimators=100, XGBRegressor__nthread=1, XGBRegressor__subsample=0.6)': (3,\n",
       "  -721156250.48218608),\n",
       " 'XGBRegressor(ElasticNetCV(LinearSVR(input_matrix, LinearSVR__C=0.1, LinearSVR__dual=True, LinearSVR__epsilon=0.01, LinearSVR__loss=squared_epsilon_insensitive, LinearSVR__tol=0.001), ElasticNetCV__l1_ratio=0.85, ElasticNetCV__tol=0.01), XGBRegressor__learning_rate=0.1, XGBRegressor__max_depth=3, XGBRegressor__min_child_weight=2, XGBRegressor__n_estimators=100, XGBRegressor__nthread=1, XGBRegressor__subsample=0.95)': (3,\n",
       "  -575141459.86709249),\n",
       " 'XGBRegressor(ElasticNetCV(LinearSVR(input_matrix, LinearSVR__C=0.1, LinearSVR__dual=True, LinearSVR__epsilon=0.01, LinearSVR__loss=squared_epsilon_insensitive, LinearSVR__tol=0.01), ElasticNetCV__l1_ratio=0.85, ElasticNetCV__tol=0.0001), XGBRegressor__learning_rate=0.1, XGBRegressor__max_depth=3, XGBRegressor__min_child_weight=2, XGBRegressor__n_estimators=100, XGBRegressor__nthread=1, XGBRegressor__subsample=0.95)': (3,\n",
       "  -576967647.85127532),\n",
       " 'XGBRegressor(ElasticNetCV(LinearSVR(input_matrix, LinearSVR__C=0.1, LinearSVR__dual=True, LinearSVR__epsilon=0.01, LinearSVR__loss=squared_epsilon_insensitive, LinearSVR__tol=0.01), ElasticNetCV__l1_ratio=0.85, ElasticNetCV__tol=0.01), XGBRegressor__learning_rate=0.1, XGBRegressor__max_depth=3, XGBRegressor__min_child_weight=2, XGBRegressor__n_estimators=100, XGBRegressor__nthread=1, XGBRegressor__subsample=0.95)': (3,\n",
       "  -575141459.86709249),\n",
       " 'XGBRegressor(ElasticNetCV(LinearSVR(input_matrix, LinearSVR__C=0.1, LinearSVR__dual=True, LinearSVR__epsilon=1.0, LinearSVR__loss=squared_epsilon_insensitive, LinearSVR__tol=0.01), ElasticNetCV__l1_ratio=0.85, ElasticNetCV__tol=0.01), XGBRegressor__learning_rate=0.1, XGBRegressor__max_depth=3, XGBRegressor__min_child_weight=2, XGBRegressor__n_estimators=100, XGBRegressor__nthread=1, XGBRegressor__subsample=0.95)': (3,\n",
       "  -575141459.86709249),\n",
       " 'XGBRegressor(ElasticNetCV(LinearSVR(input_matrix, LinearSVR__C=0.5, LinearSVR__dual=True, LinearSVR__epsilon=0.0001, LinearSVR__loss=squared_epsilon_insensitive, LinearSVR__tol=0.001), ElasticNetCV__l1_ratio=0.85, ElasticNetCV__tol=0.01), XGBRegressor__learning_rate=0.1, XGBRegressor__max_depth=3, XGBRegressor__min_child_weight=2, XGBRegressor__n_estimators=100, XGBRegressor__nthread=1, XGBRegressor__subsample=0.95)': (3,\n",
       "  -576099628.29276145),\n",
       " 'XGBRegressor(ElasticNetCV(LinearSVR(input_matrix, LinearSVR__C=0.5, LinearSVR__dual=True, LinearSVR__epsilon=0.001, LinearSVR__loss=squared_epsilon_insensitive, LinearSVR__tol=0.01), ElasticNetCV__l1_ratio=0.85, ElasticNetCV__tol=0.01), XGBRegressor__learning_rate=0.1, XGBRegressor__max_depth=3, XGBRegressor__min_child_weight=2, XGBRegressor__n_estimators=100, XGBRegressor__nthread=1, XGBRegressor__subsample=0.95)': (3,\n",
       "  -576099628.29276145),\n",
       " 'XGBRegressor(ElasticNetCV(LinearSVR(input_matrix, LinearSVR__C=0.5, LinearSVR__dual=True, LinearSVR__epsilon=0.001, LinearSVR__loss=squared_epsilon_insensitive, LinearSVR__tol=1e-05), ElasticNetCV__l1_ratio=0.85, ElasticNetCV__tol=0.01), XGBRegressor__learning_rate=0.1, XGBRegressor__max_depth=3, XGBRegressor__min_child_weight=2, XGBRegressor__n_estimators=100, XGBRegressor__nthread=1, XGBRegressor__subsample=0.95)': (3,\n",
       "  -576099628.29276145),\n",
       " 'XGBRegressor(ElasticNetCV(LinearSVR(input_matrix, LinearSVR__C=1.0, LinearSVR__dual=True, LinearSVR__epsilon=0.0001, LinearSVR__loss=squared_epsilon_insensitive, LinearSVR__tol=0.001), ElasticNetCV__l1_ratio=0.85, ElasticNetCV__tol=0.0001), XGBRegressor__learning_rate=0.1, XGBRegressor__max_depth=3, XGBRegressor__min_child_weight=2, XGBRegressor__n_estimators=100, XGBRegressor__nthread=1, XGBRegressor__subsample=0.95)': (3,\n",
       "  -577951043.21516347),\n",
       " 'XGBRegressor(ElasticNetCV(LinearSVR(input_matrix, LinearSVR__C=1.0, LinearSVR__dual=True, LinearSVR__epsilon=0.0001, LinearSVR__loss=squared_epsilon_insensitive, LinearSVR__tol=0.001), ElasticNetCV__l1_ratio=0.85, ElasticNetCV__tol=0.01), XGBRegressor__learning_rate=0.01, XGBRegressor__max_depth=3, XGBRegressor__min_child_weight=2, XGBRegressor__n_estimators=100, XGBRegressor__nthread=1, XGBRegressor__subsample=0.95)': (3,\n",
       "  -6332428488.1327343),\n",
       " 'XGBRegressor(ElasticNetCV(LinearSVR(input_matrix, LinearSVR__C=1.0, LinearSVR__dual=True, LinearSVR__epsilon=0.0001, LinearSVR__loss=squared_epsilon_insensitive, LinearSVR__tol=0.001), ElasticNetCV__l1_ratio=0.85, ElasticNetCV__tol=0.01), XGBRegressor__learning_rate=0.1, XGBRegressor__max_depth=3, XGBRegressor__min_child_weight=2, XGBRegressor__n_estimators=100, XGBRegressor__nthread=1, XGBRegressor__subsample=0.95)': (3,\n",
       "  -576099628.29276145),\n",
       " 'XGBRegressor(ElasticNetCV(LinearSVR(input_matrix, LinearSVR__C=1.0, LinearSVR__dual=True, LinearSVR__epsilon=0.0001, LinearSVR__loss=squared_epsilon_insensitive, LinearSVR__tol=0.001), ElasticNetCV__l1_ratio=0.85, ElasticNetCV__tol=0.1), XGBRegressor__learning_rate=0.1, XGBRegressor__max_depth=3, XGBRegressor__min_child_weight=2, XGBRegressor__n_estimators=100, XGBRegressor__nthread=1, XGBRegressor__subsample=0.95)': (3,\n",
       "  -598754028.70999777),\n",
       " 'XGBRegressor(ElasticNetCV(LinearSVR(input_matrix, LinearSVR__C=1.0, LinearSVR__dual=True, LinearSVR__epsilon=0.001, LinearSVR__loss=squared_epsilon_insensitive, LinearSVR__tol=0.001), ElasticNetCV__l1_ratio=0.85, ElasticNetCV__tol=0.01), XGBRegressor__learning_rate=0.1, XGBRegressor__max_depth=4, XGBRegressor__min_child_weight=2, XGBRegressor__n_estimators=100, XGBRegressor__nthread=1, XGBRegressor__subsample=0.95)': (3,\n",
       "  -618611494.86340845),\n",
       " 'XGBRegressor(ElasticNetCV(LinearSVR(input_matrix, LinearSVR__C=1.0, LinearSVR__dual=True, LinearSVR__epsilon=0.001, LinearSVR__loss=squared_epsilon_insensitive, LinearSVR__tol=0.001), ElasticNetCV__l1_ratio=0.85, ElasticNetCV__tol=0.01), XGBRegressor__learning_rate=0.1, XGBRegressor__max_depth=6, XGBRegressor__min_child_weight=2, XGBRegressor__n_estimators=100, XGBRegressor__nthread=1, XGBRegressor__subsample=0.95)': (3,\n",
       "  -610516217.8069762),\n",
       " 'XGBRegressor(ElasticNetCV(LinearSVR(input_matrix, LinearSVR__C=1.0, LinearSVR__dual=True, LinearSVR__epsilon=0.001, LinearSVR__loss=squared_epsilon_insensitive, LinearSVR__tol=0.1), ElasticNetCV__l1_ratio=0.05, ElasticNetCV__tol=0.0001), XGBRegressor__learning_rate=0.1, XGBRegressor__max_depth=6, XGBRegressor__min_child_weight=2, XGBRegressor__n_estimators=100, XGBRegressor__nthread=1, XGBRegressor__subsample=0.95)': (3,\n",
       "  -694355558.78686595),\n",
       " 'XGBRegressor(ElasticNetCV(LinearSVR(input_matrix, LinearSVR__C=1.0, LinearSVR__dual=True, LinearSVR__epsilon=0.1, LinearSVR__loss=squared_epsilon_insensitive, LinearSVR__tol=0.001), ElasticNetCV__l1_ratio=0.85, ElasticNetCV__tol=0.01), XGBRegressor__learning_rate=0.1, XGBRegressor__max_depth=4, XGBRegressor__min_child_weight=2, XGBRegressor__n_estimators=100, XGBRegressor__nthread=1, XGBRegressor__subsample=0.95)': (3,\n",
       "  -618611494.86340845),\n",
       " 'XGBRegressor(ElasticNetCV(LinearSVR(input_matrix, LinearSVR__C=25.0, LinearSVR__dual=True, LinearSVR__epsilon=0.0001, LinearSVR__loss=squared_epsilon_insensitive, LinearSVR__tol=0.01), ElasticNetCV__l1_ratio=0.85, ElasticNetCV__tol=0.01), XGBRegressor__learning_rate=0.1, XGBRegressor__max_depth=3, XGBRegressor__min_child_weight=2, XGBRegressor__n_estimators=100, XGBRegressor__nthread=1, XGBRegressor__subsample=0.95)': (3,\n",
       "  -576099628.29276145),\n",
       " 'XGBRegressor(ElasticNetCV(LinearSVR(input_matrix, LinearSVR__C=5.0, LinearSVR__dual=True, LinearSVR__epsilon=0.0001, LinearSVR__loss=squared_epsilon_insensitive, LinearSVR__tol=0.001), ElasticNetCV__l1_ratio=0.85, ElasticNetCV__tol=0.01), XGBRegressor__learning_rate=0.1, XGBRegressor__max_depth=4, XGBRegressor__min_child_weight=2, XGBRegressor__n_estimators=100, XGBRegressor__nthread=1, XGBRegressor__subsample=0.95)': (3,\n",
       "  -618611494.86340845),\n",
       " 'XGBRegressor(ElasticNetCV(LinearSVR(input_matrix, LinearSVR__C=5.0, LinearSVR__dual=True, LinearSVR__epsilon=0.001, LinearSVR__loss=squared_epsilon_insensitive, LinearSVR__tol=0.01), ElasticNetCV__l1_ratio=0.85, ElasticNetCV__tol=0.01), XGBRegressor__learning_rate=0.1, XGBRegressor__max_depth=3, XGBRegressor__min_child_weight=2, XGBRegressor__n_estimators=100, XGBRegressor__nthread=1, XGBRegressor__subsample=0.95)': (3,\n",
       "  -576099628.29276145),\n",
       " 'XGBRegressor(ElasticNetCV(LinearSVR(input_matrix, LinearSVR__C=5.0, LinearSVR__dual=True, LinearSVR__epsilon=0.01, LinearSVR__loss=squared_epsilon_insensitive, LinearSVR__tol=0.001), ElasticNetCV__l1_ratio=0.85, ElasticNetCV__tol=0.01), XGBRegressor__learning_rate=0.1, XGBRegressor__max_depth=4, XGBRegressor__min_child_weight=2, XGBRegressor__n_estimators=100, XGBRegressor__nthread=1, XGBRegressor__subsample=0.95)': (3,\n",
       "  -618611494.86340845),\n",
       " 'XGBRegressor(ElasticNetCV(LinearSVR(input_matrix, LinearSVR__C=5.0, LinearSVR__dual=True, LinearSVR__epsilon=0.1, LinearSVR__loss=squared_epsilon_insensitive, LinearSVR__tol=0.001), ElasticNetCV__l1_ratio=0.85, ElasticNetCV__tol=0.01), XGBRegressor__learning_rate=0.1, XGBRegressor__max_depth=4, XGBRegressor__min_child_weight=2, XGBRegressor__n_estimators=100, XGBRegressor__nthread=1, XGBRegressor__subsample=0.95)': (3,\n",
       "  -618611494.86340845),\n",
       " 'XGBRegressor(ElasticNetCV(LinearSVR(input_matrix, LinearSVR__C=5.0, LinearSVR__dual=True, LinearSVR__epsilon=0.1, LinearSVR__loss=squared_epsilon_insensitive, LinearSVR__tol=0.001), ElasticNetCV__l1_ratio=0.85, ElasticNetCV__tol=0.01), XGBRegressor__learning_rate=0.1, XGBRegressor__max_depth=6, XGBRegressor__min_child_weight=2, XGBRegressor__n_estimators=100, XGBRegressor__nthread=1, XGBRegressor__subsample=0.95)': (3,\n",
       "  -610516217.8069762),\n",
       " 'XGBRegressor(ElasticNetCV(MaxAbsScaler(LinearSVR(input_matrix, LinearSVR__C=0.1, LinearSVR__dual=True, LinearSVR__epsilon=0.001, LinearSVR__loss=squared_epsilon_insensitive, LinearSVR__tol=0.01)), ElasticNetCV__l1_ratio=0.85, ElasticNetCV__tol=0.01), XGBRegressor__learning_rate=0.1, XGBRegressor__max_depth=3, XGBRegressor__min_child_weight=2, XGBRegressor__n_estimators=100, XGBRegressor__nthread=1, XGBRegressor__subsample=0.95)': (4,\n",
       "  -711205828.12864363),\n",
       " 'XGBRegressor(ElasticNetCV(MaxAbsScaler(LinearSVR(input_matrix, LinearSVR__C=0.1, LinearSVR__dual=True, LinearSVR__epsilon=0.001, LinearSVR__loss=squared_epsilon_insensitive, LinearSVR__tol=1e-05)), ElasticNetCV__l1_ratio=0.85, ElasticNetCV__tol=0.01), XGBRegressor__learning_rate=0.1, XGBRegressor__max_depth=3, XGBRegressor__min_child_weight=2, XGBRegressor__n_estimators=100, XGBRegressor__nthread=1, XGBRegressor__subsample=0.95)': (4,\n",
       "  -711205828.12864363),\n",
       " 'XGBRegressor(ElasticNetCV(MaxAbsScaler(LinearSVR(input_matrix, LinearSVR__C=0.5, LinearSVR__dual=True, LinearSVR__epsilon=0.001, LinearSVR__loss=squared_epsilon_insensitive, LinearSVR__tol=1e-05)), ElasticNetCV__l1_ratio=0.85, ElasticNetCV__tol=0.01), XGBRegressor__learning_rate=0.1, XGBRegressor__max_depth=3, XGBRegressor__min_child_weight=2, XGBRegressor__n_estimators=100, XGBRegressor__nthread=1, XGBRegressor__subsample=0.95)': (4,\n",
       "  -711616251.17546141),\n",
       " 'XGBRegressor(ElasticNetCV(MaxAbsScaler(input_matrix), ElasticNetCV__l1_ratio=0.85, ElasticNetCV__tol=0.01), XGBRegressor__learning_rate=0.1, XGBRegressor__max_depth=3, XGBRegressor__min_child_weight=2, XGBRegressor__n_estimators=100, XGBRegressor__nthread=1, XGBRegressor__subsample=0.95)': (3,\n",
       "  -773039894.17291641),\n",
       " 'XGBRegressor(ElasticNetCV(MinMaxScaler(LinearSVR(input_matrix, LinearSVR__C=0.1, LinearSVR__dual=True, LinearSVR__epsilon=0.001, LinearSVR__loss=squared_epsilon_insensitive, LinearSVR__tol=0.0001)), ElasticNetCV__l1_ratio=0.85, ElasticNetCV__tol=0.01), XGBRegressor__learning_rate=0.1, XGBRegressor__max_depth=3, XGBRegressor__min_child_weight=2, XGBRegressor__n_estimators=100, XGBRegressor__nthread=1, XGBRegressor__subsample=0.95)': (4,\n",
       "  -654343718.13051677),\n",
       " 'XGBRegressor(ElasticNetCV(MinMaxScaler(LinearSVR(input_matrix, LinearSVR__C=0.1, LinearSVR__dual=True, LinearSVR__epsilon=0.001, LinearSVR__loss=squared_epsilon_insensitive, LinearSVR__tol=1e-05)), ElasticNetCV__l1_ratio=0.85, ElasticNetCV__tol=0.01), XGBRegressor__learning_rate=0.1, XGBRegressor__max_depth=3, XGBRegressor__min_child_weight=2, XGBRegressor__n_estimators=100, XGBRegressor__nthread=1, XGBRegressor__subsample=0.95)': (4,\n",
       "  -654343718.13051677),\n",
       " 'XGBRegressor(ElasticNetCV(MinMaxScaler(StandardScaler(LinearSVR(input_matrix, LinearSVR__C=5.0, LinearSVR__dual=True, LinearSVR__epsilon=0.1, LinearSVR__loss=squared_epsilon_insensitive, LinearSVR__tol=0.001))), ElasticNetCV__l1_ratio=0.85, ElasticNetCV__tol=0.01), XGBRegressor__learning_rate=0.1, XGBRegressor__max_depth=4, XGBRegressor__min_child_weight=2, XGBRegressor__n_estimators=100, XGBRegressor__nthread=1, XGBRegressor__subsample=0.95)': (5,\n",
       "  -669060400.86293662),\n",
       " 'XGBRegressor(ElasticNetCV(Normalizer(LinearSVR(input_matrix, LinearSVR__C=0.1, LinearSVR__dual=True, LinearSVR__epsilon=0.01, LinearSVR__loss=squared_epsilon_insensitive, LinearSVR__tol=0.01), Normalizer__norm=max), ElasticNetCV__l1_ratio=0.85, ElasticNetCV__tol=0.01), XGBRegressor__learning_rate=0.1, XGBRegressor__max_depth=3, XGBRegressor__min_child_weight=2, XGBRegressor__n_estimators=100, XGBRegressor__nthread=1, XGBRegressor__subsample=0.95)': (4,\n",
       "  -803010404.81175458),\n",
       " 'XGBRegressor(ElasticNetCV(Normalizer(LinearSVR(input_matrix, LinearSVR__C=1.0, LinearSVR__dual=True, LinearSVR__epsilon=0.0001, LinearSVR__loss=squared_epsilon_insensitive, LinearSVR__tol=0.001), Normalizer__norm=l2), ElasticNetCV__l1_ratio=0.85, ElasticNetCV__tol=0.01), XGBRegressor__learning_rate=0.1, XGBRegressor__max_depth=3, XGBRegressor__min_child_weight=2, XGBRegressor__n_estimators=100, XGBRegressor__nthread=1, XGBRegressor__subsample=0.95)': (4,\n",
       "  -789819625.60154831),\n",
       " 'XGBRegressor(ElasticNetCV(Nystroem(input_matrix, Nystroem__gamma=0.4, Nystroem__kernel=sigmoid, Nystroem__n_components=10), ElasticNetCV__l1_ratio=0.85, ElasticNetCV__tol=0.01), XGBRegressor__learning_rate=0.1, XGBRegressor__max_depth=3, XGBRegressor__min_child_weight=2, XGBRegressor__n_estimators=100, XGBRegressor__nthread=1, XGBRegressor__subsample=0.95)': (3,\n",
       "  -6380705458.2853336),\n",
       " 'XGBRegressor(ElasticNetCV(OneHotEncoder(LinearSVR(input_matrix, LinearSVR__C=0.1, LinearSVR__dual=True, LinearSVR__epsilon=0.0001, LinearSVR__loss=squared_epsilon_insensitive, LinearSVR__tol=0.001), OneHotEncoder__minimum_fraction=0.1, OneHotEncoder__sparse=False), ElasticNetCV__l1_ratio=0.85, ElasticNetCV__tol=0.01), XGBRegressor__learning_rate=0.1, XGBRegressor__max_depth=3, XGBRegressor__min_child_weight=2, XGBRegressor__n_estimators=100, XGBRegressor__nthread=1, XGBRegressor__subsample=0.95)': (4,\n",
       "  -611657380.32862663),\n",
       " 'XGBRegressor(ElasticNetCV(PCA(LinearSVR(input_matrix, LinearSVR__C=0.1, LinearSVR__dual=True, LinearSVR__epsilon=0.001, LinearSVR__loss=squared_epsilon_insensitive, LinearSVR__tol=0.01), PCA__iterated_power=6, PCA__svd_solver=randomized), ElasticNetCV__l1_ratio=0.85, ElasticNetCV__tol=0.01), XGBRegressor__learning_rate=0.1, XGBRegressor__max_depth=3, XGBRegressor__min_child_weight=2, XGBRegressor__n_estimators=100, XGBRegressor__nthread=1, XGBRegressor__subsample=0.95)': (4,\n",
       "  -970145102.05699325),\n",
       " 'XGBRegressor(ElasticNetCV(PolynomialFeatures(LinearSVR(input_matrix, LinearSVR__C=0.1, LinearSVR__dual=True, LinearSVR__epsilon=0.001, LinearSVR__loss=squared_epsilon_insensitive, LinearSVR__tol=0.0001), PolynomialFeatures__degree=2, PolynomialFeatures__include_bias=False, PolynomialFeatures__interaction_only=False), ElasticNetCV__l1_ratio=0.85, ElasticNetCV__tol=0.01), XGBRegressor__learning_rate=0.1, XGBRegressor__max_depth=3, XGBRegressor__min_child_weight=2, XGBRegressor__n_estimators=100, XGBRegressor__nthread=1, XGBRegressor__subsample=0.95)': (4,\n",
       "  -inf),\n",
       " 'XGBRegressor(ElasticNetCV(PolynomialFeatures(LinearSVR(input_matrix, LinearSVR__C=0.1, LinearSVR__dual=True, LinearSVR__epsilon=0.001, LinearSVR__loss=squared_epsilon_insensitive, LinearSVR__tol=0.001), PolynomialFeatures__degree=2, PolynomialFeatures__include_bias=False, PolynomialFeatures__interaction_only=False), ElasticNetCV__l1_ratio=0.85, ElasticNetCV__tol=0.01), XGBRegressor__learning_rate=0.1, XGBRegressor__max_depth=3, XGBRegressor__min_child_weight=2, XGBRegressor__n_estimators=100, XGBRegressor__nthread=1, XGBRegressor__subsample=0.95)': (4,\n",
       "  -inf),\n",
       " 'XGBRegressor(ElasticNetCV(PolynomialFeatures(LinearSVR(input_matrix, LinearSVR__C=0.1, LinearSVR__dual=True, LinearSVR__epsilon=0.001, LinearSVR__loss=squared_epsilon_insensitive, LinearSVR__tol=0.01), PolynomialFeatures__degree=2, PolynomialFeatures__include_bias=False, PolynomialFeatures__interaction_only=False), ElasticNetCV__l1_ratio=0.85, ElasticNetCV__tol=0.01), XGBRegressor__learning_rate=0.1, XGBRegressor__max_depth=3, XGBRegressor__min_child_weight=2, XGBRegressor__n_estimators=100, XGBRegressor__nthread=1, XGBRegressor__subsample=0.95)': (4,\n",
       "  -inf),\n",
       " 'XGBRegressor(ElasticNetCV(PolynomialFeatures(StandardScaler(LinearSVR(input_matrix, LinearSVR__C=0.1, LinearSVR__dual=True, LinearSVR__epsilon=0.01, LinearSVR__loss=squared_epsilon_insensitive, LinearSVR__tol=0.001)), PolynomialFeatures__degree=2, PolynomialFeatures__include_bias=False, PolynomialFeatures__interaction_only=False), ElasticNetCV__l1_ratio=0.85, ElasticNetCV__tol=0.01), XGBRegressor__learning_rate=0.1, XGBRegressor__max_depth=3, XGBRegressor__min_child_weight=2, XGBRegressor__n_estimators=100, XGBRegressor__nthread=1, XGBRegressor__subsample=0.95)': (5,\n",
       "  -inf),\n",
       " 'XGBRegressor(ElasticNetCV(PolynomialFeatures(input_matrix, PolynomialFeatures__degree=2, PolynomialFeatures__include_bias=False, PolynomialFeatures__interaction_only=False), ElasticNetCV__l1_ratio=0.85, ElasticNetCV__tol=0.01), XGBRegressor__learning_rate=0.1, XGBRegressor__max_depth=3, XGBRegressor__min_child_weight=2, XGBRegressor__n_estimators=100, XGBRegressor__nthread=1, XGBRegressor__subsample=0.95)': (3,\n",
       "  -inf),\n",
       " 'XGBRegressor(ElasticNetCV(RBFSampler(LinearSVR(input_matrix, LinearSVR__C=0.1, LinearSVR__dual=True, LinearSVR__epsilon=0.001, LinearSVR__loss=squared_epsilon_insensitive, LinearSVR__tol=0.01), RBFSampler__gamma=0.75), ElasticNetCV__l1_ratio=0.85, ElasticNetCV__tol=0.01), XGBRegressor__learning_rate=0.1, XGBRegressor__max_depth=3, XGBRegressor__min_child_weight=2, XGBRegressor__n_estimators=100, XGBRegressor__nthread=1, XGBRegressor__subsample=0.95)': (4,\n",
       "  -6852899510.6273508),\n",
       " 'XGBRegressor(ElasticNetCV(RBFSampler(input_matrix, RBFSampler__gamma=0.9), ElasticNetCV__l1_ratio=0.85, ElasticNetCV__tol=0.01), XGBRegressor__learning_rate=0.1, XGBRegressor__max_depth=3, XGBRegressor__min_child_weight=2, XGBRegressor__n_estimators=100, XGBRegressor__nthread=1, XGBRegressor__subsample=0.95)': (3,\n",
       "  -7348812046.2622223),\n",
       " 'XGBRegressor(ElasticNetCV(RandomForestRegressor(LinearSVR(input_matrix, LinearSVR__C=0.1, LinearSVR__dual=True, LinearSVR__epsilon=0.0001, LinearSVR__loss=squared_epsilon_insensitive, LinearSVR__tol=0.01), RandomForestRegressor__bootstrap=False, RandomForestRegressor__max_features=0.8, RandomForestRegressor__min_samples_leaf=4, RandomForestRegressor__min_samples_split=2, RandomForestRegressor__n_estimators=100), ElasticNetCV__l1_ratio=0.85, ElasticNetCV__tol=0.01), XGBRegressor__learning_rate=0.1, XGBRegressor__max_depth=3, XGBRegressor__min_child_weight=2, XGBRegressor__n_estimators=100, XGBRegressor__nthread=1, XGBRegressor__subsample=0.95)': (4,\n",
       "  -880843516.94595218),\n",
       " 'XGBRegressor(ElasticNetCV(RandomForestRegressor(LinearSVR(input_matrix, LinearSVR__C=1.0, LinearSVR__dual=True, LinearSVR__epsilon=0.0001, LinearSVR__loss=squared_epsilon_insensitive, LinearSVR__tol=0.001), RandomForestRegressor__bootstrap=False, RandomForestRegressor__max_features=0.25, RandomForestRegressor__min_samples_leaf=7, RandomForestRegressor__min_samples_split=8, RandomForestRegressor__n_estimators=100), ElasticNetCV__l1_ratio=0.85, ElasticNetCV__tol=0.01), XGBRegressor__learning_rate=0.1, XGBRegressor__max_depth=3, XGBRegressor__min_child_weight=2, XGBRegressor__n_estimators=100, XGBRegressor__nthread=1, XGBRegressor__subsample=0.95)': (4,\n",
       "  -775739748.33388495),\n",
       " 'XGBRegressor(ElasticNetCV(RandomForestRegressor(LinearSVR(input_matrix, LinearSVR__C=1.0, LinearSVR__dual=True, LinearSVR__epsilon=0.001, LinearSVR__loss=squared_epsilon_insensitive, LinearSVR__tol=0.001), RandomForestRegressor__bootstrap=True, RandomForestRegressor__max_features=0.5, RandomForestRegressor__min_samples_leaf=10, RandomForestRegressor__min_samples_split=7, RandomForestRegressor__n_estimators=100), ElasticNetCV__l1_ratio=0.85, ElasticNetCV__tol=0.01), XGBRegressor__learning_rate=0.1, XGBRegressor__max_depth=6, XGBRegressor__min_child_weight=2, XGBRegressor__n_estimators=100, XGBRegressor__nthread=1, XGBRegressor__subsample=0.95)': (4,\n",
       "  -768085247.76195276),\n",
       " 'XGBRegressor(ElasticNetCV(RandomForestRegressor(StandardScaler(LinearSVR(input_matrix, LinearSVR__C=0.1, LinearSVR__dual=True, LinearSVR__epsilon=0.0001, LinearSVR__loss=squared_epsilon_insensitive, LinearSVR__tol=0.001)), RandomForestRegressor__bootstrap=True, RandomForestRegressor__max_features=0.85, RandomForestRegressor__min_samples_leaf=5, RandomForestRegressor__min_samples_split=6, RandomForestRegressor__n_estimators=100), ElasticNetCV__l1_ratio=0.85, ElasticNetCV__tol=0.01), XGBRegressor__learning_rate=0.1, XGBRegressor__max_depth=3, XGBRegressor__min_child_weight=2, XGBRegressor__n_estimators=100, XGBRegressor__nthread=1, XGBRegressor__subsample=0.95)': (5,\n",
       "  -722324643.28194594),\n",
       " 'XGBRegressor(ElasticNetCV(RidgeCV(LinearSVR(input_matrix, LinearSVR__C=0.1, LinearSVR__dual=True, LinearSVR__epsilon=0.001, LinearSVR__loss=squared_epsilon_insensitive, LinearSVR__tol=0.001)), ElasticNetCV__l1_ratio=0.85, ElasticNetCV__tol=0.01), XGBRegressor__learning_rate=0.1, XGBRegressor__max_depth=3, XGBRegressor__min_child_weight=2, XGBRegressor__n_estimators=100, XGBRegressor__nthread=1, XGBRegressor__subsample=0.95)': (4,\n",
       "  -702066152.31747699),\n",
       " 'XGBRegressor(ElasticNetCV(RidgeCV(LinearSVR(input_matrix, LinearSVR__C=0.1, LinearSVR__dual=True, LinearSVR__epsilon=0.001, LinearSVR__loss=squared_epsilon_insensitive, LinearSVR__tol=0.01)), ElasticNetCV__l1_ratio=0.85, ElasticNetCV__tol=0.01), XGBRegressor__learning_rate=0.1, XGBRegressor__max_depth=3, XGBRegressor__min_child_weight=2, XGBRegressor__n_estimators=100, XGBRegressor__nthread=1, XGBRegressor__subsample=0.95)': (4,\n",
       "  -702066152.31747699),\n",
       " 'XGBRegressor(ElasticNetCV(SelectFwe(LinearSVR(input_matrix, LinearSVR__C=0.1, LinearSVR__dual=True, LinearSVR__epsilon=0.0001, LinearSVR__loss=squared_epsilon_insensitive, LinearSVR__tol=0.01), SelectFwe__alpha=0.005), ElasticNetCV__l1_ratio=0.85, ElasticNetCV__tol=0.01), XGBRegressor__learning_rate=0.1, XGBRegressor__max_depth=3, XGBRegressor__min_child_weight=2, XGBRegressor__n_estimators=100, XGBRegressor__nthread=1, XGBRegressor__subsample=0.95)': (4,\n",
       "  -610434740.52193117),\n",
       " 'XGBRegressor(ElasticNetCV(SelectFwe(LinearSVR(input_matrix, LinearSVR__C=0.1, LinearSVR__dual=True, LinearSVR__epsilon=0.001, LinearSVR__loss=squared_epsilon_insensitive, LinearSVR__tol=0.0001), SelectFwe__alpha=0.011), ElasticNetCV__l1_ratio=0.85, ElasticNetCV__tol=0.01), XGBRegressor__learning_rate=0.1, XGBRegressor__max_depth=3, XGBRegressor__min_child_weight=2, XGBRegressor__n_estimators=100, XGBRegressor__nthread=1, XGBRegressor__subsample=0.95)': (4,\n",
       "  -622768074.31110454),\n",
       " 'XGBRegressor(ElasticNetCV(SelectFwe(LinearSVR(input_matrix, LinearSVR__C=0.1, LinearSVR__dual=True, LinearSVR__epsilon=0.001, LinearSVR__loss=squared_epsilon_insensitive, LinearSVR__tol=0.001), SelectFwe__alpha=0.049), ElasticNetCV__l1_ratio=0.85, ElasticNetCV__tol=0.01), XGBRegressor__learning_rate=0.1, XGBRegressor__max_depth=6, XGBRegressor__min_child_weight=2, XGBRegressor__n_estimators=100, XGBRegressor__nthread=1, XGBRegressor__subsample=0.95)': (4,\n",
       "  -652479573.62594926),\n",
       " 'XGBRegressor(ElasticNetCV(SelectFwe(input_matrix, SelectFwe__alpha=0.018), ElasticNetCV__l1_ratio=0.85, ElasticNetCV__tol=0.01), XGBRegressor__learning_rate=0.1, XGBRegressor__max_depth=3, XGBRegressor__min_child_weight=2, XGBRegressor__n_estimators=100, XGBRegressor__nthread=1, XGBRegressor__subsample=0.95)': (3,\n",
       "  -678249393.19954407),\n",
       " 'XGBRegressor(ElasticNetCV(SelectPercentile(LinearSVR(input_matrix, LinearSVR__C=0.1, LinearSVR__dual=True, LinearSVR__epsilon=0.0001, LinearSVR__loss=squared_epsilon_insensitive, LinearSVR__tol=0.01), SelectPercentile__percentile=12), ElasticNetCV__l1_ratio=0.85, ElasticNetCV__tol=0.01), XGBRegressor__learning_rate=0.1, XGBRegressor__max_depth=3, XGBRegressor__min_child_weight=2, XGBRegressor__n_estimators=100, XGBRegressor__nthread=1, XGBRegressor__subsample=0.95)': (4,\n",
       "  -718680446.56669962),\n",
       " 'XGBRegressor(ElasticNetCV(SelectPercentile(StandardScaler(LinearSVR(input_matrix, LinearSVR__C=0.1, LinearSVR__dual=True, LinearSVR__epsilon=0.0001, LinearSVR__loss=squared_epsilon_insensitive, LinearSVR__tol=0.001)), SelectPercentile__percentile=13), ElasticNetCV__l1_ratio=0.85, ElasticNetCV__tol=0.01), XGBRegressor__learning_rate=0.1, XGBRegressor__max_depth=3, XGBRegressor__min_child_weight=2, XGBRegressor__n_estimators=100, XGBRegressor__nthread=1, XGBRegressor__subsample=0.95)': (5,\n",
       "  -688467977.08984172),\n",
       " 'XGBRegressor(ElasticNetCV(SelectPercentile(input_matrix, SelectPercentile__percentile=6), ElasticNetCV__l1_ratio=0.85, ElasticNetCV__tol=0.01), XGBRegressor__learning_rate=0.1, XGBRegressor__max_depth=3, XGBRegressor__min_child_weight=2, XGBRegressor__n_estimators=100, XGBRegressor__nthread=1, XGBRegressor__subsample=0.95)': (3,\n",
       "  -931959661.22546411),\n",
       " 'XGBRegressor(ElasticNetCV(StandardScaler(CombineDFs(input_matrix, input_matrix)), ElasticNetCV__l1_ratio=0.85, ElasticNetCV__tol=0.01), XGBRegressor__learning_rate=0.1, XGBRegressor__max_depth=3, XGBRegressor__min_child_weight=2, XGBRegressor__n_estimators=100, XGBRegressor__nthread=1, XGBRegressor__subsample=0.95)': (3,\n",
       "  -791712220.50320315),\n",
       " 'XGBRegressor(ElasticNetCV(StandardScaler(LinearSVR(ExtraTreesRegressor(input_matrix, ExtraTreesRegressor__bootstrap=True, ExtraTreesRegressor__max_features=0.95, ExtraTreesRegressor__min_samples_leaf=18, ExtraTreesRegressor__min_samples_split=10, ExtraTreesRegressor__n_estimators=100), LinearSVR__C=0.1, LinearSVR__dual=True, LinearSVR__epsilon=0.0001, LinearSVR__loss=squared_epsilon_insensitive, LinearSVR__tol=0.001)), ElasticNetCV__l1_ratio=0.85, ElasticNetCV__tol=0.01), XGBRegressor__learning_rate=0.1, XGBRegressor__max_depth=3, XGBRegressor__min_child_weight=2, XGBRegressor__n_estimators=100, XGBRegressor__nthread=1, XGBRegressor__subsample=0.95)': (5,\n",
       "  -735188551.9290812),\n",
       " 'XGBRegressor(ElasticNetCV(StandardScaler(LinearSVR(LinearSVR(input_matrix, LinearSVR__C=0.1, LinearSVR__dual=True, LinearSVR__epsilon=0.001, LinearSVR__loss=squared_epsilon_insensitive, LinearSVR__tol=0.0001), LinearSVR__C=0.1, LinearSVR__dual=True, LinearSVR__epsilon=0.001, LinearSVR__loss=squared_epsilon_insensitive, LinearSVR__tol=0.0001)), ElasticNetCV__l1_ratio=0.85, ElasticNetCV__tol=0.01), XGBRegressor__learning_rate=0.1, XGBRegressor__max_depth=3, XGBRegressor__min_child_weight=2, XGBRegressor__n_estimators=100, XGBRegressor__nthread=1, XGBRegressor__subsample=0.95)': (5,\n",
       "  -570460390.45966983),\n",
       " 'XGBRegressor(ElasticNetCV(StandardScaler(LinearSVR(LinearSVR(input_matrix, LinearSVR__C=5.0, LinearSVR__dual=True, LinearSVR__epsilon=0.1, LinearSVR__loss=squared_epsilon_insensitive, LinearSVR__tol=0.1), LinearSVR__C=1.0, LinearSVR__dual=True, LinearSVR__epsilon=0.1, LinearSVR__loss=squared_epsilon_insensitive, LinearSVR__tol=0.001)), ElasticNetCV__l1_ratio=0.85, ElasticNetCV__tol=0.01), XGBRegressor__learning_rate=0.1, XGBRegressor__max_depth=4, XGBRegressor__min_child_weight=2, XGBRegressor__n_estimators=100, XGBRegressor__nthread=1, XGBRegressor__subsample=0.95)': (5,\n",
       "  -598311120.42796588),\n",
       " 'XGBRegressor(ElasticNetCV(StandardScaler(LinearSVR(RBFSampler(input_matrix, RBFSampler__gamma=0.85), LinearSVR__C=5.0, LinearSVR__dual=True, LinearSVR__epsilon=0.1, LinearSVR__loss=squared_epsilon_insensitive, LinearSVR__tol=0.001)), ElasticNetCV__l1_ratio=0.85, ElasticNetCV__tol=0.01), XGBRegressor__learning_rate=0.1, XGBRegressor__max_depth=4, XGBRegressor__min_child_weight=2, XGBRegressor__n_estimators=100, XGBRegressor__nthread=1, XGBRegressor__subsample=0.95)': (5,\n",
       "  -7426446070.3546658),\n",
       " 'XGBRegressor(ElasticNetCV(StandardScaler(LinearSVR(RandomForestRegressor(input_matrix, RandomForestRegressor__bootstrap=False, RandomForestRegressor__max_features=0.85, RandomForestRegressor__min_samples_leaf=4, RandomForestRegressor__min_samples_split=5, RandomForestRegressor__n_estimators=100), LinearSVR__C=0.1, LinearSVR__dual=True, LinearSVR__epsilon=0.01, LinearSVR__loss=squared_epsilon_insensitive, LinearSVR__tol=0.001)), ElasticNetCV__l1_ratio=0.85, ElasticNetCV__tol=0.01), XGBRegressor__learning_rate=0.1, XGBRegressor__max_depth=3, XGBRegressor__min_child_weight=2, XGBRegressor__n_estimators=100, XGBRegressor__nthread=1, XGBRegressor__subsample=0.95)': (5,\n",
       "  -1088535429.0506167),\n",
       " 'XGBRegressor(ElasticNetCV(StandardScaler(LinearSVR(StandardScaler(LinearSVR(input_matrix, LinearSVR__C=0.1, LinearSVR__dual=True, LinearSVR__epsilon=0.01, LinearSVR__loss=squared_epsilon_insensitive, LinearSVR__tol=0.001)), LinearSVR__C=5.0, LinearSVR__dual=True, LinearSVR__epsilon=0.1, LinearSVR__loss=squared_epsilon_insensitive, LinearSVR__tol=0.001)), ElasticNetCV__l1_ratio=0.85, ElasticNetCV__tol=0.01), XGBRegressor__learning_rate=0.1, XGBRegressor__max_depth=3, XGBRegressor__min_child_weight=2, XGBRegressor__n_estimators=100, XGBRegressor__nthread=1, XGBRegressor__subsample=0.95)': (6,\n",
       "  -903329911.92005849),\n",
       " 'XGBRegressor(ElasticNetCV(StandardScaler(LinearSVR(XGBRegressor(input_matrix, XGBRegressor__learning_rate=1.0, XGBRegressor__max_depth=9, XGBRegressor__min_child_weight=16, XGBRegressor__n_estimators=100, XGBRegressor__nthread=1, XGBRegressor__subsample=0.65), LinearSVR__C=5.0, LinearSVR__dual=True, LinearSVR__epsilon=0.1, LinearSVR__loss=squared_epsilon_insensitive, LinearSVR__tol=0.001)), ElasticNetCV__l1_ratio=0.85, ElasticNetCV__tol=0.01), XGBRegressor__learning_rate=0.1, XGBRegressor__max_depth=4, XGBRegressor__min_child_weight=2, XGBRegressor__n_estimators=100, XGBRegressor__nthread=1, XGBRegressor__subsample=0.95)': (5,\n",
       "  -2544417148.1360192),\n",
       " 'XGBRegressor(ElasticNetCV(StandardScaler(LinearSVR(input_matrix, LinearSVR__C=0.01, LinearSVR__dual=True, LinearSVR__epsilon=0.0001, LinearSVR__loss=squared_epsilon_insensitive, LinearSVR__tol=0.001)), ElasticNetCV__l1_ratio=0.85, ElasticNetCV__tol=0.001), XGBRegressor__learning_rate=0.1, XGBRegressor__max_depth=4, XGBRegressor__min_child_weight=2, XGBRegressor__n_estimators=100, XGBRegressor__nthread=1, XGBRegressor__subsample=0.95)': (4,\n",
       "  -541596985.21615791),\n",
       " 'XGBRegressor(ElasticNetCV(StandardScaler(LinearSVR(input_matrix, LinearSVR__C=0.1, LinearSVR__dual=True, LinearSVR__epsilon=0.0001, LinearSVR__loss=squared_epsilon_insensitive, LinearSVR__tol=0.001)), ElasticNetCV__l1_ratio=0.85, ElasticNetCV__tol=0.001), XGBRegressor__learning_rate=0.1, XGBRegressor__max_depth=3, XGBRegressor__min_child_weight=2, XGBRegressor__n_estimators=100, XGBRegressor__nthread=1, XGBRegressor__subsample=0.95)': (4,\n",
       "  -564406510.75520742),\n",
       " 'XGBRegressor(ElasticNetCV(StandardScaler(LinearSVR(input_matrix, LinearSVR__C=0.1, LinearSVR__dual=True, LinearSVR__epsilon=0.0001, LinearSVR__loss=squared_epsilon_insensitive, LinearSVR__tol=0.001)), ElasticNetCV__l1_ratio=0.85, ElasticNetCV__tol=0.01), XGBRegressor__learning_rate=0.1, XGBRegressor__max_depth=3, XGBRegressor__min_child_weight=2, XGBRegressor__n_estimators=100, XGBRegressor__nthread=1, XGBRegressor__subsample=0.95)': (4,\n",
       "  -563346955.96409607),\n",
       " 'XGBRegressor(ElasticNetCV(StandardScaler(LinearSVR(input_matrix, LinearSVR__C=0.1, LinearSVR__dual=True, LinearSVR__epsilon=0.001, LinearSVR__loss=epsilon_insensitive, LinearSVR__tol=0.0001)), ElasticNetCV__l1_ratio=0.85, ElasticNetCV__tol=0.01), XGBRegressor__learning_rate=0.1, XGBRegressor__max_depth=3, XGBRegressor__min_child_weight=2, XGBRegressor__n_estimators=100, XGBRegressor__nthread=1, XGBRegressor__subsample=0.95)': (4,\n",
       "  -591742018.42347407),\n",
       " 'XGBRegressor(ElasticNetCV(StandardScaler(LinearSVR(input_matrix, LinearSVR__C=0.1, LinearSVR__dual=True, LinearSVR__epsilon=0.001, LinearSVR__loss=squared_epsilon_insensitive, LinearSVR__tol=0.0001)), ElasticNetCV__l1_ratio=0.85, ElasticNetCV__tol=0.01), XGBRegressor__learning_rate=0.1, XGBRegressor__max_depth=3, XGBRegressor__min_child_weight=2, XGBRegressor__n_estimators=100, XGBRegressor__nthread=1, XGBRegressor__subsample=0.95)': (4,\n",
       "  -563346955.96409607),\n",
       " 'XGBRegressor(ElasticNetCV(StandardScaler(LinearSVR(input_matrix, LinearSVR__C=0.1, LinearSVR__dual=True, LinearSVR__epsilon=0.01, LinearSVR__loss=squared_epsilon_insensitive, LinearSVR__tol=0.001)), ElasticNetCV__l1_ratio=0.85, ElasticNetCV__tol=0.01), XGBRegressor__learning_rate=0.1, XGBRegressor__max_depth=3, XGBRegressor__min_child_weight=15, XGBRegressor__n_estimators=100, XGBRegressor__nthread=1, XGBRegressor__subsample=0.95)': (4,\n",
       "  -725099380.59703803),\n",
       " 'XGBRegressor(ElasticNetCV(StandardScaler(LinearSVR(input_matrix, LinearSVR__C=0.1, LinearSVR__dual=True, LinearSVR__epsilon=0.01, LinearSVR__loss=squared_epsilon_insensitive, LinearSVR__tol=0.001)), ElasticNetCV__l1_ratio=0.85, ElasticNetCV__tol=0.01), XGBRegressor__learning_rate=0.1, XGBRegressor__max_depth=3, XGBRegressor__min_child_weight=2, XGBRegressor__n_estimators=100, XGBRegressor__nthread=1, XGBRegressor__subsample=0.95)': (4,\n",
       "  -563346955.96409607),\n",
       " 'XGBRegressor(ElasticNetCV(StandardScaler(LinearSVR(input_matrix, LinearSVR__C=0.1, LinearSVR__dual=True, LinearSVR__epsilon=0.1, LinearSVR__loss=squared_epsilon_insensitive, LinearSVR__tol=0.001)), ElasticNetCV__l1_ratio=0.85, ElasticNetCV__tol=0.01), XGBRegressor__learning_rate=0.1, XGBRegressor__max_depth=3, XGBRegressor__min_child_weight=2, XGBRegressor__n_estimators=100, XGBRegressor__nthread=1, XGBRegressor__subsample=0.95)': (4,\n",
       "  -563346955.96409607),\n",
       " 'XGBRegressor(ElasticNetCV(StandardScaler(LinearSVR(input_matrix, LinearSVR__C=1.0, LinearSVR__dual=True, LinearSVR__epsilon=0.1, LinearSVR__loss=epsilon_insensitive, LinearSVR__tol=0.001)), ElasticNetCV__l1_ratio=0.85, ElasticNetCV__tol=0.01), XGBRegressor__learning_rate=0.1, XGBRegressor__max_depth=4, XGBRegressor__min_child_weight=2, XGBRegressor__n_estimators=100, XGBRegressor__nthread=1, XGBRegressor__subsample=0.95)': (4,\n",
       "  -558485501.71308553),\n",
       " 'XGBRegressor(ElasticNetCV(StandardScaler(LinearSVR(input_matrix, LinearSVR__C=1.0, LinearSVR__dual=True, LinearSVR__epsilon=0.1, LinearSVR__loss=squared_epsilon_insensitive, LinearSVR__tol=0.001)), ElasticNetCV__l1_ratio=0.85, ElasticNetCV__tol=0.01), XGBRegressor__learning_rate=0.1, XGBRegressor__max_depth=4, XGBRegressor__min_child_weight=2, XGBRegressor__n_estimators=100, XGBRegressor__nthread=1, XGBRegressor__subsample=0.95)': (4,\n",
       "  -542885880.95052743),\n",
       " 'XGBRegressor(ElasticNetCV(StandardScaler(LinearSVR(input_matrix, LinearSVR__C=20.0, LinearSVR__dual=False, LinearSVR__epsilon=0.1, LinearSVR__loss=squared_epsilon_insensitive, LinearSVR__tol=0.001)), ElasticNetCV__l1_ratio=0.85, ElasticNetCV__tol=0.01), XGBRegressor__learning_rate=0.1, XGBRegressor__max_depth=3, XGBRegressor__min_child_weight=2, XGBRegressor__n_estimators=100, XGBRegressor__nthread=1, XGBRegressor__subsample=0.95)': (4,\n",
       "  -622092094.38679767),\n",
       " 'XGBRegressor(ElasticNetCV(StandardScaler(LinearSVR(input_matrix, LinearSVR__C=20.0, LinearSVR__dual=True, LinearSVR__epsilon=0.1, LinearSVR__loss=squared_epsilon_insensitive, LinearSVR__tol=0.001)), ElasticNetCV__l1_ratio=0.85, ElasticNetCV__tol=0.01), XGBRegressor__learning_rate=0.1, XGBRegressor__max_depth=3, XGBRegressor__min_child_weight=2, XGBRegressor__n_estimators=100, XGBRegressor__nthread=1, XGBRegressor__subsample=0.7)': (4,\n",
       "  -592437012.82070827),\n",
       " 'XGBRegressor(ElasticNetCV(StandardScaler(LinearSVR(input_matrix, LinearSVR__C=20.0, LinearSVR__dual=True, LinearSVR__epsilon=0.1, LinearSVR__loss=squared_epsilon_insensitive, LinearSVR__tol=0.001)), ElasticNetCV__l1_ratio=0.85, ElasticNetCV__tol=0.01), XGBRegressor__learning_rate=0.1, XGBRegressor__max_depth=3, XGBRegressor__min_child_weight=2, XGBRegressor__n_estimators=100, XGBRegressor__nthread=1, XGBRegressor__subsample=0.95)': (4,\n",
       "  -563346955.96409607),\n",
       " 'XGBRegressor(ElasticNetCV(StandardScaler(LinearSVR(input_matrix, LinearSVR__C=20.0, LinearSVR__dual=True, LinearSVR__epsilon=0.1, LinearSVR__loss=squared_epsilon_insensitive, LinearSVR__tol=1e-05)), ElasticNetCV__l1_ratio=0.4, ElasticNetCV__tol=0.01), XGBRegressor__learning_rate=0.1, XGBRegressor__max_depth=3, XGBRegressor__min_child_weight=2, XGBRegressor__n_estimators=100, XGBRegressor__nthread=1, XGBRegressor__subsample=0.95)': (4,\n",
       "  -584790012.35255361),\n",
       " 'XGBRegressor(ElasticNetCV(StandardScaler(LinearSVR(input_matrix, LinearSVR__C=20.0, LinearSVR__dual=True, LinearSVR__epsilon=0.1, LinearSVR__loss=squared_epsilon_insensitive, LinearSVR__tol=1e-05)), ElasticNetCV__l1_ratio=0.85, ElasticNetCV__tol=0.01), XGBRegressor__learning_rate=0.1, XGBRegressor__max_depth=3, XGBRegressor__min_child_weight=2, XGBRegressor__n_estimators=100, XGBRegressor__nthread=1, XGBRegressor__subsample=0.7)': (4,\n",
       "  -592437012.82070827),\n",
       " 'XGBRegressor(ElasticNetCV(StandardScaler(LinearSVR(input_matrix, LinearSVR__C=20.0, LinearSVR__dual=True, LinearSVR__epsilon=0.1, LinearSVR__loss=squared_epsilon_insensitive, LinearSVR__tol=1e-05)), ElasticNetCV__l1_ratio=0.85, ElasticNetCV__tol=0.01), XGBRegressor__learning_rate=0.1, XGBRegressor__max_depth=3, XGBRegressor__min_child_weight=2, XGBRegressor__n_estimators=100, XGBRegressor__nthread=1, XGBRegressor__subsample=0.95)': (4,\n",
       "  -563346955.96409607),\n",
       " 'XGBRegressor(ElasticNetCV(StandardScaler(LinearSVR(input_matrix, LinearSVR__C=5.0, LinearSVR__dual=True, LinearSVR__epsilon=0.0001, LinearSVR__loss=epsilon_insensitive, LinearSVR__tol=0.001)), ElasticNetCV__l1_ratio=0.85, ElasticNetCV__tol=0.01), XGBRegressor__learning_rate=0.1, XGBRegressor__max_depth=4, XGBRegressor__min_child_weight=2, XGBRegressor__n_estimators=100, XGBRegressor__nthread=1, XGBRegressor__subsample=0.95)': (4,\n",
       "  -542885880.95052743),\n",
       " 'XGBRegressor(ElasticNetCV(StandardScaler(LinearSVR(input_matrix, LinearSVR__C=5.0, LinearSVR__dual=True, LinearSVR__epsilon=0.0001, LinearSVR__loss=squared_epsilon_insensitive, LinearSVR__tol=0.001)), ElasticNetCV__l1_ratio=0.85, ElasticNetCV__tol=0.001), XGBRegressor__learning_rate=0.1, XGBRegressor__max_depth=4, XGBRegressor__min_child_weight=2, XGBRegressor__n_estimators=100, XGBRegressor__nthread=1, XGBRegressor__subsample=0.95)': (4,\n",
       "  -542885880.95052743),\n",
       " 'XGBRegressor(ElasticNetCV(StandardScaler(LinearSVR(input_matrix, LinearSVR__C=5.0, LinearSVR__dual=True, LinearSVR__epsilon=0.0001, LinearSVR__loss=squared_epsilon_insensitive, LinearSVR__tol=0.001)), ElasticNetCV__l1_ratio=0.85, ElasticNetCV__tol=0.01), XGBRegressor__learning_rate=0.1, XGBRegressor__max_depth=4, XGBRegressor__min_child_weight=2, XGBRegressor__n_estimators=100, XGBRegressor__nthread=1, XGBRegressor__subsample=0.95)': (4,\n",
       "  -542885880.95052743),\n",
       " 'XGBRegressor(ElasticNetCV(StandardScaler(LinearSVR(input_matrix, LinearSVR__C=5.0, LinearSVR__dual=True, LinearSVR__epsilon=0.01, LinearSVR__loss=squared_epsilon_insensitive, LinearSVR__tol=0.001)), ElasticNetCV__l1_ratio=0.85, ElasticNetCV__tol=0.01), XGBRegressor__learning_rate=0.1, XGBRegressor__max_depth=4, XGBRegressor__min_child_weight=2, XGBRegressor__n_estimators=100, XGBRegressor__nthread=1, XGBRegressor__subsample=0.95)': (4,\n",
       "  -542885880.95052743),\n",
       " 'XGBRegressor(ElasticNetCV(StandardScaler(LinearSVR(input_matrix, LinearSVR__C=5.0, LinearSVR__dual=True, LinearSVR__epsilon=0.01, LinearSVR__loss=squared_epsilon_insensitive, LinearSVR__tol=0.001)), ElasticNetCV__l1_ratio=0.85, ElasticNetCV__tol=0.01), XGBRegressor__learning_rate=0.1, XGBRegressor__max_depth=8, XGBRegressor__min_child_weight=2, XGBRegressor__n_estimators=100, XGBRegressor__nthread=1, XGBRegressor__subsample=0.95)': (4,\n",
       "  -592337240.88205874),\n",
       " 'XGBRegressor(ElasticNetCV(StandardScaler(LinearSVR(input_matrix, LinearSVR__C=5.0, LinearSVR__dual=True, LinearSVR__epsilon=0.1, LinearSVR__loss=squared_epsilon_insensitive, LinearSVR__tol=0.001)), ElasticNetCV__l1_ratio=0.05, ElasticNetCV__tol=0.01), XGBRegressor__learning_rate=0.1, XGBRegressor__max_depth=6, XGBRegressor__min_child_weight=2, XGBRegressor__n_estimators=100, XGBRegressor__nthread=1, XGBRegressor__subsample=0.95)': (4,\n",
       "  -622024632.93261075),\n",
       " 'XGBRegressor(ElasticNetCV(StandardScaler(LinearSVR(input_matrix, LinearSVR__C=5.0, LinearSVR__dual=True, LinearSVR__epsilon=0.1, LinearSVR__loss=squared_epsilon_insensitive, LinearSVR__tol=0.001)), ElasticNetCV__l1_ratio=0.85, ElasticNetCV__tol=0.01), XGBRegressor__learning_rate=0.01, XGBRegressor__max_depth=4, XGBRegressor__min_child_weight=2, XGBRegressor__n_estimators=100, XGBRegressor__nthread=1, XGBRegressor__subsample=0.95)': (4,\n",
       "  -6072416087.689847),\n",
       " 'XGBRegressor(ElasticNetCV(StandardScaler(LinearSVR(input_matrix, LinearSVR__C=5.0, LinearSVR__dual=True, LinearSVR__epsilon=0.1, LinearSVR__loss=squared_epsilon_insensitive, LinearSVR__tol=0.001)), ElasticNetCV__l1_ratio=0.85, ElasticNetCV__tol=0.01), XGBRegressor__learning_rate=0.1, XGBRegressor__max_depth=3, XGBRegressor__min_child_weight=2, XGBRegressor__n_estimators=100, XGBRegressor__nthread=1, XGBRegressor__subsample=0.95)': (4,\n",
       "  -563346955.96409607),\n",
       " 'XGBRegressor(ElasticNetCV(StandardScaler(LinearSVR(input_matrix, LinearSVR__C=5.0, LinearSVR__dual=True, LinearSVR__epsilon=0.1, LinearSVR__loss=squared_epsilon_insensitive, LinearSVR__tol=0.001)), ElasticNetCV__l1_ratio=0.85, ElasticNetCV__tol=0.01), XGBRegressor__learning_rate=0.1, XGBRegressor__max_depth=4, XGBRegressor__min_child_weight=2, XGBRegressor__n_estimators=100, XGBRegressor__nthread=1, XGBRegressor__subsample=0.7)': (4,\n",
       "  -570086613.31440485),\n",
       " 'XGBRegressor(ElasticNetCV(StandardScaler(LinearSVR(input_matrix, LinearSVR__C=5.0, LinearSVR__dual=True, LinearSVR__epsilon=0.1, LinearSVR__loss=squared_epsilon_insensitive, LinearSVR__tol=0.001)), ElasticNetCV__l1_ratio=0.85, ElasticNetCV__tol=0.01), XGBRegressor__learning_rate=0.1, XGBRegressor__max_depth=4, XGBRegressor__min_child_weight=2, XGBRegressor__n_estimators=100, XGBRegressor__nthread=1, XGBRegressor__subsample=0.75)': (4,\n",
       "  -593500947.01173472),\n",
       " 'XGBRegressor(ElasticNetCV(StandardScaler(LinearSVR(input_matrix, LinearSVR__C=5.0, LinearSVR__dual=True, LinearSVR__epsilon=0.1, LinearSVR__loss=squared_epsilon_insensitive, LinearSVR__tol=0.001)), ElasticNetCV__l1_ratio=0.85, ElasticNetCV__tol=0.01), XGBRegressor__learning_rate=0.1, XGBRegressor__max_depth=4, XGBRegressor__min_child_weight=2, XGBRegressor__n_estimators=100, XGBRegressor__nthread=1, XGBRegressor__subsample=0.95)': (4,\n",
       "  -542885880.95052743),\n",
       " 'XGBRegressor(ElasticNetCV(StandardScaler(LinearSVR(input_matrix, LinearSVR__C=5.0, LinearSVR__dual=True, LinearSVR__epsilon=0.1, LinearSVR__loss=squared_epsilon_insensitive, LinearSVR__tol=0.001)), ElasticNetCV__l1_ratio=0.85, ElasticNetCV__tol=0.01), XGBRegressor__learning_rate=0.1, XGBRegressor__max_depth=4, XGBRegressor__min_child_weight=6, XGBRegressor__n_estimators=100, XGBRegressor__nthread=1, XGBRegressor__subsample=0.95)': (4,\n",
       "  -698117478.33162391),\n",
       " 'XGBRegressor(ElasticNetCV(StandardScaler(LinearSVR(input_matrix, LinearSVR__C=5.0, LinearSVR__dual=True, LinearSVR__epsilon=0.1, LinearSVR__loss=squared_epsilon_insensitive, LinearSVR__tol=0.001)), ElasticNetCV__l1_ratio=0.85, ElasticNetCV__tol=0.01), XGBRegressor__learning_rate=0.1, XGBRegressor__max_depth=6, XGBRegressor__min_child_weight=2, XGBRegressor__n_estimators=100, XGBRegressor__nthread=1, XGBRegressor__subsample=0.95)': (4,\n",
       "  -558396874.53728962),\n",
       " 'XGBRegressor(ElasticNetCV(StandardScaler(LinearSVR(input_matrix, LinearSVR__C=5.0, LinearSVR__dual=True, LinearSVR__epsilon=0.1, LinearSVR__loss=squared_epsilon_insensitive, LinearSVR__tol=0.001)), ElasticNetCV__l1_ratio=0.85, ElasticNetCV__tol=0.01), XGBRegressor__learning_rate=0.1, XGBRegressor__max_depth=7, XGBRegressor__min_child_weight=2, XGBRegressor__n_estimators=100, XGBRegressor__nthread=1, XGBRegressor__subsample=0.95)': (4,\n",
       "  -580605915.10652471),\n",
       " 'XGBRegressor(ElasticNetCV(StandardScaler(LinearSVR(input_matrix, LinearSVR__C=5.0, LinearSVR__dual=True, LinearSVR__epsilon=0.1, LinearSVR__loss=squared_epsilon_insensitive, LinearSVR__tol=0.001)), ElasticNetCV__l1_ratio=0.85, ElasticNetCV__tol=0.01), XGBRegressor__learning_rate=0.1, XGBRegressor__max_depth=9, XGBRegressor__min_child_weight=2, XGBRegressor__n_estimators=100, XGBRegressor__nthread=1, XGBRegressor__subsample=0.95)': (4,\n",
       "  -592920406.87926555),\n",
       " 'XGBRegressor(ElasticNetCV(StandardScaler(Nystroem(input_matrix, Nystroem__gamma=0.15, Nystroem__kernel=sigmoid, Nystroem__n_components=8)), ElasticNetCV__l1_ratio=0.85, ElasticNetCV__tol=0.01), XGBRegressor__learning_rate=0.1, XGBRegressor__max_depth=3, XGBRegressor__min_child_weight=2, XGBRegressor__n_estimators=100, XGBRegressor__nthread=1, XGBRegressor__subsample=0.95)': (4,\n",
       "  -6380679494.555603),\n",
       " 'XGBRegressor(ElasticNetCV(StandardScaler(Nystroem(input_matrix, Nystroem__gamma=0.75, Nystroem__kernel=sigmoid, Nystroem__n_components=5)), ElasticNetCV__l1_ratio=0.85, ElasticNetCV__tol=0.01), XGBRegressor__learning_rate=0.1, XGBRegressor__max_depth=3, XGBRegressor__min_child_weight=2, XGBRegressor__n_estimators=100, XGBRegressor__nthread=1, XGBRegressor__subsample=0.95)': (4,\n",
       "  -6380577966.1989288),\n",
       " 'XGBRegressor(ElasticNetCV(StandardScaler(OneHotEncoder(input_matrix, OneHotEncoder__minimum_fraction=0.25, OneHotEncoder__sparse=False)), ElasticNetCV__l1_ratio=0.85, ElasticNetCV__tol=0.01), XGBRegressor__learning_rate=0.1, XGBRegressor__max_depth=3, XGBRegressor__min_child_weight=2, XGBRegressor__n_estimators=100, XGBRegressor__nthread=1, XGBRegressor__subsample=0.95)': (4,\n",
       "  -800991817.38474393),\n",
       " 'XGBRegressor(ElasticNetCV(StandardScaler(PCA(LinearSVR(input_matrix, LinearSVR__C=0.1, LinearSVR__dual=True, LinearSVR__epsilon=0.01, LinearSVR__loss=squared_epsilon_insensitive, LinearSVR__tol=0.001), PCA__iterated_power=4, PCA__svd_solver=randomized)), ElasticNetCV__l1_ratio=0.85, ElasticNetCV__tol=0.01), XGBRegressor__learning_rate=0.1, XGBRegressor__max_depth=3, XGBRegressor__min_child_weight=2, XGBRegressor__n_estimators=100, XGBRegressor__nthread=1, XGBRegressor__subsample=0.95)': (5,\n",
       "  -5028236585.2997761),\n",
       " 'XGBRegressor(ElasticNetCV(StandardScaler(StandardScaler(LinearSVR(input_matrix, LinearSVR__C=0.1, LinearSVR__dual=True, LinearSVR__epsilon=0.1, LinearSVR__loss=squared_epsilon_insensitive, LinearSVR__tol=0.001))), ElasticNetCV__l1_ratio=0.85, ElasticNetCV__tol=0.01), XGBRegressor__learning_rate=0.1, XGBRegressor__max_depth=3, XGBRegressor__min_child_weight=2, XGBRegressor__n_estimators=100, XGBRegressor__nthread=1, XGBRegressor__subsample=0.95)': (5,\n",
       "  -563346955.96409607),\n",
       " 'XGBRegressor(ElasticNetCV(StandardScaler(StandardScaler(LinearSVR(input_matrix, LinearSVR__C=5.0, LinearSVR__dual=True, LinearSVR__epsilon=0.0001, LinearSVR__loss=squared_epsilon_insensitive, LinearSVR__tol=0.001))), ElasticNetCV__l1_ratio=0.85, ElasticNetCV__tol=0.001), XGBRegressor__learning_rate=0.1, XGBRegressor__max_depth=4, XGBRegressor__min_child_weight=2, XGBRegressor__n_estimators=100, XGBRegressor__nthread=1, XGBRegressor__subsample=0.95)': (5,\n",
       "  -542885880.95052743),\n",
       " 'XGBRegressor(ElasticNetCV(StandardScaler(input_matrix), ElasticNetCV__l1_ratio=0.85, ElasticNetCV__tol=0.001), XGBRegressor__learning_rate=0.1, XGBRegressor__max_depth=4, XGBRegressor__min_child_weight=2, XGBRegressor__n_estimators=100, XGBRegressor__nthread=1, XGBRegressor__subsample=0.95)': (3,\n",
       "  -697465977.44591105),\n",
       " 'XGBRegressor(ElasticNetCV(StandardScaler(input_matrix), ElasticNetCV__l1_ratio=0.85, ElasticNetCV__tol=0.01), XGBRegressor__learning_rate=0.1, XGBRegressor__max_depth=3, XGBRegressor__min_child_weight=2, XGBRegressor__n_estimators=100, XGBRegressor__nthread=1, XGBRegressor__subsample=0.95)': (3,\n",
       "  -689034723.49351227),\n",
       " 'XGBRegressor(ElasticNetCV(StandardScaler(input_matrix), ElasticNetCV__l1_ratio=0.85, ElasticNetCV__tol=0.01), XGBRegressor__learning_rate=0.1, XGBRegressor__max_depth=4, XGBRegressor__min_child_weight=2, XGBRegressor__n_estimators=100, XGBRegressor__nthread=1, XGBRegressor__subsample=0.95)': (3,\n",
       "  -692002155.59058952),\n",
       " 'XGBRegressor(ElasticNetCV(StandardScaler(input_matrix), ElasticNetCV__l1_ratio=0.85, ElasticNetCV__tol=0.01), XGBRegressor__learning_rate=0.1, XGBRegressor__max_depth=6, XGBRegressor__min_child_weight=2, XGBRegressor__n_estimators=100, XGBRegressor__nthread=1, XGBRegressor__subsample=0.95)': (3,\n",
       "  -677293005.63081121),\n",
       " 'XGBRegressor(ElasticNetCV(XGBRegressor(LinearSVR(input_matrix, LinearSVR__C=0.1, LinearSVR__dual=True, LinearSVR__epsilon=0.0001, LinearSVR__loss=squared_epsilon_insensitive, LinearSVR__tol=1e-05), XGBRegressor__learning_rate=0.001, XGBRegressor__max_depth=8, XGBRegressor__min_child_weight=10, XGBRegressor__n_estimators=100, XGBRegressor__nthread=1, XGBRegressor__subsample=0.95), ElasticNetCV__l1_ratio=0.85, ElasticNetCV__tol=0.01), XGBRegressor__learning_rate=0.1, XGBRegressor__max_depth=3, XGBRegressor__min_child_weight=2, XGBRegressor__n_estimators=100, XGBRegressor__nthread=1, XGBRegressor__subsample=0.95)': (4,\n",
       "  -686538599.5524683),\n",
       " 'XGBRegressor(ElasticNetCV(XGBRegressor(LinearSVR(input_matrix, LinearSVR__C=0.1, LinearSVR__dual=True, LinearSVR__epsilon=0.001, LinearSVR__loss=squared_epsilon_insensitive, LinearSVR__tol=0.001), XGBRegressor__learning_rate=0.5, XGBRegressor__max_depth=5, XGBRegressor__min_child_weight=9, XGBRegressor__n_estimators=100, XGBRegressor__nthread=1, XGBRegressor__subsample=0.2), ElasticNetCV__l1_ratio=0.85, ElasticNetCV__tol=0.01), XGBRegressor__learning_rate=0.1, XGBRegressor__max_depth=3, XGBRegressor__min_child_weight=2, XGBRegressor__n_estimators=100, XGBRegressor__nthread=1, XGBRegressor__subsample=0.95)': (4,\n",
       "  -1184710239.027988),\n",
       " 'XGBRegressor(ElasticNetCV(ZeroCount(LinearSVR(input_matrix, LinearSVR__C=0.1, LinearSVR__dual=True, LinearSVR__epsilon=0.0001, LinearSVR__loss=squared_epsilon_insensitive, LinearSVR__tol=1e-05)), ElasticNetCV__l1_ratio=0.85, ElasticNetCV__tol=0.01), XGBRegressor__learning_rate=0.1, XGBRegressor__max_depth=3, XGBRegressor__min_child_weight=2, XGBRegressor__n_estimators=100, XGBRegressor__nthread=1, XGBRegressor__subsample=0.95)': (4,\n",
       "  -594647739.45259047),\n",
       " 'XGBRegressor(ElasticNetCV(ZeroCount(LinearSVR(input_matrix, LinearSVR__C=0.1, LinearSVR__dual=True, LinearSVR__epsilon=0.001, LinearSVR__loss=squared_epsilon_insensitive, LinearSVR__tol=0.0001)), ElasticNetCV__l1_ratio=0.85, ElasticNetCV__tol=0.01), XGBRegressor__learning_rate=0.1, XGBRegressor__max_depth=3, XGBRegressor__min_child_weight=2, XGBRegressor__n_estimators=100, XGBRegressor__nthread=1, XGBRegressor__subsample=0.95)': (4,\n",
       "  -594647739.45259047),\n",
       " 'XGBRegressor(ElasticNetCV(ZeroCount(LinearSVR(input_matrix, LinearSVR__C=0.1, LinearSVR__dual=True, LinearSVR__epsilon=0.001, LinearSVR__loss=squared_epsilon_insensitive, LinearSVR__tol=0.01)), ElasticNetCV__l1_ratio=0.85, ElasticNetCV__tol=0.01), XGBRegressor__learning_rate=0.1, XGBRegressor__max_depth=3, XGBRegressor__min_child_weight=2, XGBRegressor__n_estimators=100, XGBRegressor__nthread=1, XGBRegressor__subsample=0.95)': (4,\n",
       "  -594647739.45259047),\n",
       " 'XGBRegressor(ElasticNetCV(ZeroCount(StandardScaler(LinearSVR(input_matrix, LinearSVR__C=0.1, LinearSVR__dual=True, LinearSVR__epsilon=0.001, LinearSVR__loss=squared_epsilon_insensitive, LinearSVR__tol=0.0001))), ElasticNetCV__l1_ratio=0.85, ElasticNetCV__tol=0.01), XGBRegressor__learning_rate=0.1, XGBRegressor__max_depth=3, XGBRegressor__min_child_weight=2, XGBRegressor__n_estimators=100, XGBRegressor__nthread=1, XGBRegressor__subsample=0.95)': (5,\n",
       "  -602275679.41453862),\n",
       " 'XGBRegressor(ElasticNetCV(ZeroCount(input_matrix), ElasticNetCV__l1_ratio=0.85, ElasticNetCV__tol=0.01), XGBRegressor__learning_rate=0.1, XGBRegressor__max_depth=3, XGBRegressor__min_child_weight=2, XGBRegressor__n_estimators=100, XGBRegressor__nthread=1, XGBRegressor__subsample=0.95)': (3,\n",
       "  -652855492.59612501),\n",
       " 'XGBRegressor(ElasticNetCV(input_matrix, ElasticNetCV__l1_ratio=0.2, ElasticNetCV__tol=0.001), XGBRegressor__learning_rate=0.1, XGBRegressor__max_depth=4, XGBRegressor__min_child_weight=2, XGBRegressor__n_estimators=100, XGBRegressor__nthread=1, XGBRegressor__subsample=0.75)': (2,\n",
       "  -635486652.44739294),\n",
       " 'XGBRegressor(ElasticNetCV(input_matrix, ElasticNetCV__l1_ratio=0.25, ElasticNetCV__tol=0.01), XGBRegressor__learning_rate=0.1, XGBRegressor__max_depth=4, XGBRegressor__min_child_weight=1, XGBRegressor__n_estimators=100, XGBRegressor__nthread=1, XGBRegressor__subsample=0.7)': (2,\n",
       "  -640846869.43280792),\n",
       " 'XGBRegressor(ElasticNetCV(input_matrix, ElasticNetCV__l1_ratio=0.3, ElasticNetCV__tol=0.001), XGBRegressor__learning_rate=0.1, XGBRegressor__max_depth=4, XGBRegressor__min_child_weight=2, XGBRegressor__n_estimators=100, XGBRegressor__nthread=1, XGBRegressor__subsample=0.75)': (2,\n",
       "  -644375077.71477246),\n",
       " 'XGBRegressor(ElasticNetCV(input_matrix, ElasticNetCV__l1_ratio=0.85, ElasticNetCV__tol=0.01), XGBRegressor__learning_rate=0.1, XGBRegressor__max_depth=3, XGBRegressor__min_child_weight=2, XGBRegressor__n_estimators=100, XGBRegressor__nthread=1, XGBRegressor__subsample=0.95)': (2,\n",
       "  -633674897.35268843),\n",
       " 'XGBRegressor(ElasticNetCV(input_matrix, ElasticNetCV__l1_ratio=0.85, ElasticNetCV__tol=0.01), XGBRegressor__learning_rate=0.1, XGBRegressor__max_depth=4, XGBRegressor__min_child_weight=2, XGBRegressor__n_estimators=100, XGBRegressor__nthread=1, XGBRegressor__subsample=0.95)': (2,\n",
       "  -622663282.31689179),\n",
       " 'XGBRegressor(ElasticNetCV(input_matrix, ElasticNetCV__l1_ratio=0.85, ElasticNetCV__tol=0.01), XGBRegressor__learning_rate=0.1, XGBRegressor__max_depth=6, XGBRegressor__min_child_weight=2, XGBRegressor__n_estimators=100, XGBRegressor__nthread=1, XGBRegressor__subsample=0.95)': (2,\n",
       "  -658450676.2497139),\n",
       " 'XGBRegressor(ExtraTreesRegressor(LinearSVR(CombineDFs(input_matrix, input_matrix), LinearSVR__C=0.1, LinearSVR__dual=False, LinearSVR__epsilon=0.1, LinearSVR__loss=squared_epsilon_insensitive, LinearSVR__tol=1e-05), ExtraTreesRegressor__bootstrap=True, ExtraTreesRegressor__max_features=0.1, ExtraTreesRegressor__min_samples_leaf=1, ExtraTreesRegressor__min_samples_split=7, ExtraTreesRegressor__n_estimators=100), XGBRegressor__learning_rate=0.1, XGBRegressor__max_depth=7, XGBRegressor__min_child_weight=2, XGBRegressor__n_estimators=100, XGBRegressor__nthread=1, XGBRegressor__subsample=0.95)': (3,\n",
       "  -959266367.8371315),\n",
       " 'XGBRegressor(ExtraTreesRegressor(LinearSVR(input_matrix, LinearSVR__C=1.0, LinearSVR__dual=True, LinearSVR__epsilon=0.001, LinearSVR__loss=squared_epsilon_insensitive, LinearSVR__tol=0.001), ExtraTreesRegressor__bootstrap=False, ExtraTreesRegressor__max_features=0.3, ExtraTreesRegressor__min_samples_leaf=3, ExtraTreesRegressor__min_samples_split=17, ExtraTreesRegressor__n_estimators=100), XGBRegressor__learning_rate=0.1, XGBRegressor__max_depth=6, XGBRegressor__min_child_weight=2, XGBRegressor__n_estimators=100, XGBRegressor__nthread=1, XGBRegressor__subsample=0.95)': (3,\n",
       "  -857392999.71327901),\n",
       " 'XGBRegressor(ExtraTreesRegressor(input_matrix, ExtraTreesRegressor__bootstrap=False, ExtraTreesRegressor__max_features=0.15, ExtraTreesRegressor__min_samples_leaf=12, ExtraTreesRegressor__min_samples_split=14, ExtraTreesRegressor__n_estimators=100), XGBRegressor__learning_rate=0.1, XGBRegressor__max_depth=4, XGBRegressor__min_child_weight=1, XGBRegressor__n_estimators=100, XGBRegressor__nthread=1, XGBRegressor__subsample=0.7)': (2,\n",
       "  -884080232.33953536),\n",
       " 'XGBRegressor(ExtraTreesRegressor(input_matrix, ExtraTreesRegressor__bootstrap=False, ExtraTreesRegressor__max_features=0.35, ExtraTreesRegressor__min_samples_leaf=18, ExtraTreesRegressor__min_samples_split=5, ExtraTreesRegressor__n_estimators=100), XGBRegressor__learning_rate=0.1, XGBRegressor__max_depth=6, XGBRegressor__min_child_weight=2, XGBRegressor__n_estimators=100, XGBRegressor__nthread=1, XGBRegressor__subsample=0.95)': (2,\n",
       "  -859022067.96284831),\n",
       " 'XGBRegressor(ExtraTreesRegressor(input_matrix, ExtraTreesRegressor__bootstrap=False, ExtraTreesRegressor__max_features=0.5, ExtraTreesRegressor__min_samples_leaf=20, ExtraTreesRegressor__min_samples_split=6, ExtraTreesRegressor__n_estimators=100), XGBRegressor__learning_rate=0.1, XGBRegressor__max_depth=6, XGBRegressor__min_child_weight=2, XGBRegressor__n_estimators=100, XGBRegressor__nthread=1, XGBRegressor__subsample=0.7)': (2,\n",
       "  -833150553.88931203),\n",
       " 'XGBRegressor(ExtraTreesRegressor(input_matrix, ExtraTreesRegressor__bootstrap=True, ExtraTreesRegressor__max_features=0.65, ExtraTreesRegressor__min_samples_leaf=16, ExtraTreesRegressor__min_samples_split=9, ExtraTreesRegressor__n_estimators=100), XGBRegressor__learning_rate=0.1, XGBRegressor__max_depth=4, XGBRegressor__min_child_weight=2, XGBRegressor__n_estimators=100, XGBRegressor__nthread=1, XGBRegressor__subsample=0.7)': (2,\n",
       "  -827513716.71600318),\n",
       " 'XGBRegressor(ExtraTreesRegressor(input_matrix, ExtraTreesRegressor__bootstrap=True, ExtraTreesRegressor__max_features=0.65, ExtraTreesRegressor__min_samples_leaf=17, ExtraTreesRegressor__min_samples_split=9, ExtraTreesRegressor__n_estimators=100), XGBRegressor__learning_rate=0.1, XGBRegressor__max_depth=4, XGBRegressor__min_child_weight=2, XGBRegressor__n_estimators=100, XGBRegressor__nthread=1, XGBRegressor__subsample=0.7)': (2,\n",
       "  -863126435.66974092),\n",
       " 'XGBRegressor(ExtraTreesRegressor(input_matrix, ExtraTreesRegressor__bootstrap=True, ExtraTreesRegressor__max_features=0.9, ExtraTreesRegressor__min_samples_leaf=17, ExtraTreesRegressor__min_samples_split=6, ExtraTreesRegressor__n_estimators=100), XGBRegressor__learning_rate=0.1, XGBRegressor__max_depth=6, XGBRegressor__min_child_weight=2, XGBRegressor__n_estimators=100, XGBRegressor__nthread=1, XGBRegressor__subsample=0.95)': (2,\n",
       "  -842752517.33755219),\n",
       " 'XGBRegressor(FastICA(ElasticNetCV(LinearSVR(input_matrix, LinearSVR__C=0.1, LinearSVR__dual=True, LinearSVR__epsilon=0.001, LinearSVR__loss=squared_epsilon_insensitive, LinearSVR__tol=0.01), ElasticNetCV__l1_ratio=0.85, ElasticNetCV__tol=0.01), FastICA__tol=0.4), XGBRegressor__learning_rate=0.1, XGBRegressor__max_depth=3, XGBRegressor__min_child_weight=2, XGBRegressor__n_estimators=100, XGBRegressor__nthread=1, XGBRegressor__subsample=0.95)': (4,\n",
       "  -3265224386.4812365),\n",
       " 'XGBRegressor(FastICA(LinearSVR(input_matrix, LinearSVR__C=1.0, LinearSVR__dual=True, LinearSVR__epsilon=0.001, LinearSVR__loss=squared_epsilon_insensitive, LinearSVR__tol=0.001), FastICA__tol=0.6), XGBRegressor__learning_rate=0.1, XGBRegressor__max_depth=6, XGBRegressor__min_child_weight=2, XGBRegressor__n_estimators=100, XGBRegressor__nthread=1, XGBRegressor__subsample=0.95)': (3,\n",
       "  -4094419509.5747347),\n",
       " 'XGBRegressor(FastICA(StandardScaler(input_matrix), FastICA__tol=0.05), XGBRegressor__learning_rate=0.1, XGBRegressor__max_depth=6, XGBRegressor__min_child_weight=2, XGBRegressor__n_estimators=100, XGBRegressor__nthread=1, XGBRegressor__subsample=0.95)': (3,\n",
       "  -4056835355.5461378),\n",
       " 'XGBRegressor(FastICA(input_matrix, FastICA__tol=0.0), XGBRegressor__learning_rate=0.1, XGBRegressor__max_depth=6, XGBRegressor__min_child_weight=2, XGBRegressor__n_estimators=100, XGBRegressor__nthread=1, XGBRegressor__subsample=0.95)': (2,\n",
       "  -2210789709.9518948),\n",
       " 'XGBRegressor(FastICA(input_matrix, FastICA__tol=0.35), XGBRegressor__learning_rate=0.1, XGBRegressor__max_depth=6, XGBRegressor__min_child_weight=2, XGBRegressor__n_estimators=100, XGBRegressor__nthread=1, XGBRegressor__subsample=0.7)': (2,\n",
       "  -4067401547.776989),\n",
       " 'XGBRegressor(FastICA(input_matrix, FastICA__tol=0.35), XGBRegressor__learning_rate=0.1, XGBRegressor__max_depth=7, XGBRegressor__min_child_weight=2, XGBRegressor__n_estimators=100, XGBRegressor__nthread=1, XGBRegressor__subsample=0.7)': (2,\n",
       "  -4327816111.9285316),\n",
       " 'XGBRegressor(FastICA(input_matrix, FastICA__tol=0.4), XGBRegressor__learning_rate=0.1, XGBRegressor__max_depth=4, XGBRegressor__min_child_weight=2, XGBRegressor__n_estimators=100, XGBRegressor__nthread=1, XGBRegressor__subsample=0.75)': (2,\n",
       "  -3852504964.1835146),\n",
       " 'XGBRegressor(FastICA(input_matrix, FastICA__tol=0.65), XGBRegressor__learning_rate=0.1, XGBRegressor__max_depth=4, XGBRegressor__min_child_weight=1, XGBRegressor__n_estimators=100, XGBRegressor__nthread=1, XGBRegressor__subsample=0.7)': (2,\n",
       "  -3860746649.5365868),\n",
       " 'XGBRegressor(FeatureAgglomeration(ElasticNetCV(LinearSVR(input_matrix, LinearSVR__C=0.1, LinearSVR__dual=True, LinearSVR__epsilon=0.0001, LinearSVR__loss=squared_epsilon_insensitive, LinearSVR__tol=1e-05), ElasticNetCV__l1_ratio=0.85, ElasticNetCV__tol=0.01), FeatureAgglomeration__affinity=euclidean, FeatureAgglomeration__linkage=ward), XGBRegressor__learning_rate=0.1, XGBRegressor__max_depth=3, XGBRegressor__min_child_weight=2, XGBRegressor__n_estimators=100, XGBRegressor__nthread=1, XGBRegressor__subsample=0.95)': (4,\n",
       "  -1171776811.8501217),\n",
       " 'XGBRegressor(FeatureAgglomeration(LinearSVR(input_matrix, LinearSVR__C=0.1, LinearSVR__dual=True, LinearSVR__epsilon=0.0001, LinearSVR__loss=squared_epsilon_insensitive, LinearSVR__tol=0.001), FeatureAgglomeration__affinity=l1, FeatureAgglomeration__linkage=average), XGBRegressor__learning_rate=0.1, XGBRegressor__max_depth=3, XGBRegressor__min_child_weight=2, XGBRegressor__n_estimators=100, XGBRegressor__nthread=1, XGBRegressor__subsample=0.95)': (3,\n",
       "  -1242840464.5278709),\n",
       " 'XGBRegressor(FeatureAgglomeration(input_matrix, FeatureAgglomeration__affinity=cosine, FeatureAgglomeration__linkage=average), XGBRegressor__learning_rate=0.01, XGBRegressor__max_depth=8, XGBRegressor__min_child_weight=20, XGBRegressor__n_estimators=100, XGBRegressor__nthread=1, XGBRegressor__subsample=0.75)': (2,\n",
       "  -inf),\n",
       " 'XGBRegressor(FeatureAgglomeration(input_matrix, FeatureAgglomeration__affinity=euclidean, FeatureAgglomeration__linkage=ward), XGBRegressor__learning_rate=0.1, XGBRegressor__max_depth=3, XGBRegressor__min_child_weight=1, XGBRegressor__n_estimators=100, XGBRegressor__nthread=1, XGBRegressor__subsample=0.7)': (2,\n",
       "  -1912712599.7780337),\n",
       " 'XGBRegressor(FeatureAgglomeration(input_matrix, FeatureAgglomeration__affinity=l1, FeatureAgglomeration__linkage=average), XGBRegressor__learning_rate=0.1, XGBRegressor__max_depth=6, XGBRegressor__min_child_weight=2, XGBRegressor__n_estimators=100, XGBRegressor__nthread=1, XGBRegressor__subsample=0.95)': (2,\n",
       "  -1950115147.5298405),\n",
       " 'XGBRegressor(FeatureAgglomeration(input_matrix, FeatureAgglomeration__affinity=l2, FeatureAgglomeration__linkage=complete), XGBRegressor__learning_rate=0.1, XGBRegressor__max_depth=6, XGBRegressor__min_child_weight=2, XGBRegressor__n_estimators=100, XGBRegressor__nthread=1, XGBRegressor__subsample=0.7)': (2,\n",
       "  -2043692092.6115909),\n",
       " 'XGBRegressor(FeatureAgglomeration(input_matrix, FeatureAgglomeration__affinity=manhattan, FeatureAgglomeration__linkage=average), XGBRegressor__learning_rate=0.1, XGBRegressor__max_depth=7, XGBRegressor__min_child_weight=2, XGBRegressor__n_estimators=100, XGBRegressor__nthread=1, XGBRegressor__subsample=0.7)': (2,\n",
       "  -2079931266.0728652),\n",
       " 'XGBRegressor(FeatureAgglomeration(input_matrix, FeatureAgglomeration__affinity=precomputed, FeatureAgglomeration__linkage=complete), XGBRegressor__learning_rate=0.1, XGBRegressor__max_depth=4, XGBRegressor__min_child_weight=2, XGBRegressor__n_estimators=100, XGBRegressor__nthread=1, XGBRegressor__subsample=0.7)': (2,\n",
       "  -1927235634.7686546),\n",
       " 'XGBRegressor(GradientBoostingRegressor(CombineDFs(input_matrix, input_matrix), GradientBoostingRegressor__alpha=0.95, GradientBoostingRegressor__learning_rate=1.0, GradientBoostingRegressor__loss=quantile, GradientBoostingRegressor__max_depth=3, GradientBoostingRegressor__max_features=0.65, GradientBoostingRegressor__min_samples_leaf=15, GradientBoostingRegressor__min_samples_split=18, GradientBoostingRegressor__n_estimators=100, GradientBoostingRegressor__subsample=0.95), XGBRegressor__learning_rate=0.1, XGBRegressor__max_depth=7, XGBRegressor__min_child_weight=2, XGBRegressor__n_estimators=100, XGBRegressor__nthread=1, XGBRegressor__subsample=0.95)': (2,\n",
       "  -1017911763.7084528),\n",
       " 'XGBRegressor(GradientBoostingRegressor(ElasticNetCV(LinearSVR(input_matrix, LinearSVR__C=0.1, LinearSVR__dual=True, LinearSVR__epsilon=0.001, LinearSVR__loss=squared_epsilon_insensitive, LinearSVR__tol=0.001), ElasticNetCV__l1_ratio=0.75, ElasticNetCV__tol=0.01), GradientBoostingRegressor__alpha=0.85, GradientBoostingRegressor__learning_rate=0.001, GradientBoostingRegressor__loss=ls, GradientBoostingRegressor__max_depth=6, GradientBoostingRegressor__max_features=0.45, GradientBoostingRegressor__min_samples_leaf=8, GradientBoostingRegressor__min_samples_split=12, GradientBoostingRegressor__n_estimators=100, GradientBoostingRegressor__subsample=0.8), XGBRegressor__learning_rate=0.1, XGBRegressor__max_depth=3, XGBRegressor__min_child_weight=2, XGBRegressor__n_estimators=100, XGBRegressor__nthread=1, XGBRegressor__subsample=0.95)': (4,\n",
       "  -679201891.12598991),\n",
       " 'XGBRegressor(GradientBoostingRegressor(LinearSVR(CombineDFs(input_matrix, input_matrix), LinearSVR__C=0.1, LinearSVR__dual=False, LinearSVR__epsilon=0.1, LinearSVR__loss=squared_epsilon_insensitive, LinearSVR__tol=1e-05), GradientBoostingRegressor__alpha=0.99, GradientBoostingRegressor__learning_rate=0.1, GradientBoostingRegressor__loss=lad, GradientBoostingRegressor__max_depth=8, GradientBoostingRegressor__max_features=0.8, GradientBoostingRegressor__min_samples_leaf=1, GradientBoostingRegressor__min_samples_split=18, GradientBoostingRegressor__n_estimators=100, GradientBoostingRegressor__subsample=0.7), XGBRegressor__learning_rate=0.1, XGBRegressor__max_depth=4, XGBRegressor__min_child_weight=2, XGBRegressor__n_estimators=100, XGBRegressor__nthread=1, XGBRegressor__subsample=0.95)': (3,\n",
       "  -670352579.35564852),\n",
       " 'XGBRegressor(GradientBoostingRegressor(LinearSVR(input_matrix, LinearSVR__C=0.1, LinearSVR__dual=False, LinearSVR__epsilon=0.001, LinearSVR__loss=squared_epsilon_insensitive, LinearSVR__tol=1e-05), GradientBoostingRegressor__alpha=0.75, GradientBoostingRegressor__learning_rate=0.1, GradientBoostingRegressor__loss=huber, GradientBoostingRegressor__max_depth=2, GradientBoostingRegressor__max_features=0.3, GradientBoostingRegressor__min_samples_leaf=16, GradientBoostingRegressor__min_samples_split=14, GradientBoostingRegressor__n_estimators=100, GradientBoostingRegressor__subsample=0.7), XGBRegressor__learning_rate=0.1, XGBRegressor__max_depth=3, XGBRegressor__min_child_weight=2, XGBRegressor__n_estimators=100, XGBRegressor__nthread=1, XGBRegressor__subsample=0.95)': (3,\n",
       "  -657741072.94298387),\n",
       " 'XGBRegressor(GradientBoostingRegressor(StandardScaler(input_matrix), GradientBoostingRegressor__alpha=0.95, GradientBoostingRegressor__learning_rate=1.0, GradientBoostingRegressor__loss=ls, GradientBoostingRegressor__max_depth=1, GradientBoostingRegressor__max_features=0.85, GradientBoostingRegressor__min_samples_leaf=2, GradientBoostingRegressor__min_samples_split=18, GradientBoostingRegressor__n_estimators=100, GradientBoostingRegressor__subsample=0.5), XGBRegressor__learning_rate=0.1, XGBRegressor__max_depth=6, XGBRegressor__min_child_weight=2, XGBRegressor__n_estimators=100, XGBRegressor__nthread=1, XGBRegressor__subsample=0.95)': (3,\n",
       "  -875092812.25875688),\n",
       " 'XGBRegressor(GradientBoostingRegressor(input_matrix, GradientBoostingRegressor__alpha=0.75, GradientBoostingRegressor__learning_rate=0.1, GradientBoostingRegressor__loss=huber, GradientBoostingRegressor__max_depth=7, GradientBoostingRegressor__max_features=0.25, GradientBoostingRegressor__min_samples_leaf=5, GradientBoostingRegressor__min_samples_split=19, GradientBoostingRegressor__n_estimators=100, GradientBoostingRegressor__subsample=0.15), XGBRegressor__learning_rate=0.1, XGBRegressor__max_depth=4, XGBRegressor__min_child_weight=2, XGBRegressor__n_estimators=100, XGBRegressor__nthread=1, XGBRegressor__subsample=0.7)': (2,\n",
       "  -724608503.94407868),\n",
       " 'XGBRegressor(GradientBoostingRegressor(input_matrix, GradientBoostingRegressor__alpha=0.75, GradientBoostingRegressor__learning_rate=1.0, GradientBoostingRegressor__loss=ls, GradientBoostingRegressor__max_depth=3, GradientBoostingRegressor__max_features=0.65, GradientBoostingRegressor__min_samples_leaf=4, GradientBoostingRegressor__min_samples_split=19, GradientBoostingRegressor__n_estimators=100, GradientBoostingRegressor__subsample=0.05), XGBRegressor__learning_rate=0.1, XGBRegressor__max_depth=3, XGBRegressor__min_child_weight=1, XGBRegressor__n_estimators=100, XGBRegressor__nthread=1, XGBRegressor__subsample=0.7)': (2,\n",
       "  -753659990.04176569),\n",
       " 'XGBRegressor(GradientBoostingRegressor(input_matrix, GradientBoostingRegressor__alpha=0.8, GradientBoostingRegressor__learning_rate=0.001, GradientBoostingRegressor__loss=lad, GradientBoostingRegressor__max_depth=7, GradientBoostingRegressor__max_features=0.95, GradientBoostingRegressor__min_samples_leaf=3, GradientBoostingRegressor__min_samples_split=6, GradientBoostingRegressor__n_estimators=100, GradientBoostingRegressor__subsample=0.55), XGBRegressor__learning_rate=0.1, XGBRegressor__max_depth=6, XGBRegressor__min_child_weight=15, XGBRegressor__n_estimators=100, XGBRegressor__nthread=1, XGBRegressor__subsample=0.95)': (2,\n",
       "  -830195044.57478976),\n",
       " 'XGBRegressor(GradientBoostingRegressor(input_matrix, GradientBoostingRegressor__alpha=0.8, GradientBoostingRegressor__learning_rate=0.5, GradientBoostingRegressor__loss=lad, GradientBoostingRegressor__max_depth=5, GradientBoostingRegressor__max_features=0.25, GradientBoostingRegressor__min_samples_leaf=20, GradientBoostingRegressor__min_samples_split=7, GradientBoostingRegressor__n_estimators=100, GradientBoostingRegressor__subsample=0.5), XGBRegressor__learning_rate=0.1, XGBRegressor__max_depth=9, XGBRegressor__min_child_weight=2, XGBRegressor__n_estimators=100, XGBRegressor__nthread=1, XGBRegressor__subsample=0.7)': (2,\n",
       "  -938095122.70418143),\n",
       " 'XGBRegressor(GradientBoostingRegressor(input_matrix, GradientBoostingRegressor__alpha=0.85, GradientBoostingRegressor__learning_rate=0.001, GradientBoostingRegressor__loss=lad, GradientBoostingRegressor__max_depth=7, GradientBoostingRegressor__max_features=0.95, GradientBoostingRegressor__min_samples_leaf=3, GradientBoostingRegressor__min_samples_split=17, GradientBoostingRegressor__n_estimators=100, GradientBoostingRegressor__subsample=0.55), XGBRegressor__learning_rate=0.1, XGBRegressor__max_depth=6, XGBRegressor__min_child_weight=15, XGBRegressor__n_estimators=100, XGBRegressor__nthread=1, XGBRegressor__subsample=0.95)': (2,\n",
       "  -788012641.65250778),\n",
       " 'XGBRegressor(GradientBoostingRegressor(input_matrix, GradientBoostingRegressor__alpha=0.85, GradientBoostingRegressor__learning_rate=0.001, GradientBoostingRegressor__loss=lad, GradientBoostingRegressor__max_depth=7, GradientBoostingRegressor__max_features=0.95, GradientBoostingRegressor__min_samples_leaf=3, GradientBoostingRegressor__min_samples_split=6, GradientBoostingRegressor__n_estimators=100, GradientBoostingRegressor__subsample=0.55), XGBRegressor__learning_rate=0.1, XGBRegressor__max_depth=6, XGBRegressor__min_child_weight=15, XGBRegressor__n_estimators=100, XGBRegressor__nthread=1, XGBRegressor__subsample=0.95)': (2,\n",
       "  -830195044.57478976),\n",
       " 'XGBRegressor(GradientBoostingRegressor(input_matrix, GradientBoostingRegressor__alpha=0.85, GradientBoostingRegressor__learning_rate=0.01, GradientBoostingRegressor__loss=quantile, GradientBoostingRegressor__max_depth=3, GradientBoostingRegressor__max_features=0.15, GradientBoostingRegressor__min_samples_leaf=19, GradientBoostingRegressor__min_samples_split=8, GradientBoostingRegressor__n_estimators=100, GradientBoostingRegressor__subsample=0.55), XGBRegressor__learning_rate=0.1, XGBRegressor__max_depth=4, XGBRegressor__min_child_weight=2, XGBRegressor__n_estimators=100, XGBRegressor__nthread=1, XGBRegressor__subsample=0.7)': (2,\n",
       "  -793166561.6494354),\n",
       " 'XGBRegressor(GradientBoostingRegressor(input_matrix, GradientBoostingRegressor__alpha=0.85, GradientBoostingRegressor__learning_rate=1.0, GradientBoostingRegressor__loss=lad, GradientBoostingRegressor__max_depth=2, GradientBoostingRegressor__max_features=0.3, GradientBoostingRegressor__min_samples_leaf=8, GradientBoostingRegressor__min_samples_split=15, GradientBoostingRegressor__n_estimators=100, GradientBoostingRegressor__subsample=0.65), XGBRegressor__learning_rate=0.1, XGBRegressor__max_depth=4, XGBRegressor__min_child_weight=2, XGBRegressor__n_estimators=100, XGBRegressor__nthread=1, XGBRegressor__subsample=0.7)': (2,\n",
       "  -1026087427.3916248),\n",
       " 'XGBRegressor(GradientBoostingRegressor(input_matrix, GradientBoostingRegressor__alpha=0.9, GradientBoostingRegressor__learning_rate=0.1, GradientBoostingRegressor__loss=ls, GradientBoostingRegressor__max_depth=10, GradientBoostingRegressor__max_features=0.2, GradientBoostingRegressor__min_samples_leaf=20, GradientBoostingRegressor__min_samples_split=6, GradientBoostingRegressor__n_estimators=100, GradientBoostingRegressor__subsample=0.4), XGBRegressor__learning_rate=0.1, XGBRegressor__max_depth=4, XGBRegressor__min_child_weight=2, XGBRegressor__n_estimators=100, XGBRegressor__nthread=1, XGBRegressor__subsample=0.75)': (2,\n",
       "  -751575535.12113774),\n",
       " 'XGBRegressor(GradientBoostingRegressor(input_matrix, GradientBoostingRegressor__alpha=0.95, GradientBoostingRegressor__learning_rate=0.01, GradientBoostingRegressor__loss=ls, GradientBoostingRegressor__max_depth=6, GradientBoostingRegressor__max_features=0.65, GradientBoostingRegressor__min_samples_leaf=20, GradientBoostingRegressor__min_samples_split=19, GradientBoostingRegressor__n_estimators=100, GradientBoostingRegressor__subsample=0.55), XGBRegressor__learning_rate=0.1, XGBRegressor__max_depth=6, XGBRegressor__min_child_weight=2, XGBRegressor__n_estimators=100, XGBRegressor__nthread=1, XGBRegressor__subsample=0.95)': (2,\n",
       "  -833954856.63991857),\n",
       " 'XGBRegressor(KNeighborsRegressor(ElasticNetCV(LinearSVR(input_matrix, LinearSVR__C=0.1, LinearSVR__dual=True, LinearSVR__epsilon=0.001, LinearSVR__loss=squared_epsilon_insensitive, LinearSVR__tol=0.0001), ElasticNetCV__l1_ratio=0.85, ElasticNetCV__tol=0.01), KNeighborsRegressor__n_neighbors=49, KNeighborsRegressor__p=2, KNeighborsRegressor__weights=distance), XGBRegressor__learning_rate=0.1, XGBRegressor__max_depth=3, XGBRegressor__min_child_weight=2, XGBRegressor__n_estimators=100, XGBRegressor__nthread=1, XGBRegressor__subsample=0.95)': (4,\n",
       "  -1221666067.6345682),\n",
       " 'XGBRegressor(KNeighborsRegressor(ElasticNetCV(StandardScaler(LinearSVR(input_matrix, LinearSVR__C=0.1, LinearSVR__dual=True, LinearSVR__epsilon=0.001, LinearSVR__loss=squared_epsilon_insensitive, LinearSVR__tol=0.0001)), ElasticNetCV__l1_ratio=0.85, ElasticNetCV__tol=0.01), KNeighborsRegressor__n_neighbors=38, KNeighborsRegressor__p=1, KNeighborsRegressor__weights=distance), XGBRegressor__learning_rate=0.1, XGBRegressor__max_depth=3, XGBRegressor__min_child_weight=2, XGBRegressor__n_estimators=100, XGBRegressor__nthread=1, XGBRegressor__subsample=0.95)': (5,\n",
       "  -980660657.32221663),\n",
       " 'XGBRegressor(KNeighborsRegressor(LinearSVR(input_matrix, LinearSVR__C=0.1, LinearSVR__dual=True, LinearSVR__epsilon=0.0001, LinearSVR__loss=squared_epsilon_insensitive, LinearSVR__tol=0.001), KNeighborsRegressor__n_neighbors=12, KNeighborsRegressor__p=2, KNeighborsRegressor__weights=distance), XGBRegressor__learning_rate=0.1, XGBRegressor__max_depth=3, XGBRegressor__min_child_weight=2, XGBRegressor__n_estimators=100, XGBRegressor__nthread=1, XGBRegressor__subsample=0.95)': (3,\n",
       "  -1153006604.1014524),\n",
       " 'XGBRegressor(KNeighborsRegressor(MaxAbsScaler(input_matrix), KNeighborsRegressor__n_neighbors=48, KNeighborsRegressor__p=1, KNeighborsRegressor__weights=distance), XGBRegressor__learning_rate=0.1, XGBRegressor__max_depth=6, XGBRegressor__min_child_weight=2, XGBRegressor__n_estimators=100, XGBRegressor__nthread=1, XGBRegressor__subsample=0.7)': (3,\n",
       "  -1946840056.5740387),\n",
       " 'XGBRegressor(KNeighborsRegressor(StandardScaler(input_matrix), KNeighborsRegressor__n_neighbors=34, KNeighborsRegressor__p=1, KNeighborsRegressor__weights=distance), XGBRegressor__learning_rate=0.1, XGBRegressor__max_depth=8, XGBRegressor__min_child_weight=2, XGBRegressor__n_estimators=100, XGBRegressor__nthread=1, XGBRegressor__subsample=0.7)': (3,\n",
       "  -1721255587.5466511),\n",
       " 'XGBRegressor(KNeighborsRegressor(input_matrix, KNeighborsRegressor__n_neighbors=28, KNeighborsRegressor__p=2, KNeighborsRegressor__weights=distance), XGBRegressor__learning_rate=0.1, XGBRegressor__max_depth=4, XGBRegressor__min_child_weight=2, XGBRegressor__n_estimators=100, XGBRegressor__nthread=1, XGBRegressor__subsample=0.75)': (2,\n",
       "  -2540263473.272769),\n",
       " 'XGBRegressor(KNeighborsRegressor(input_matrix, KNeighborsRegressor__n_neighbors=7, KNeighborsRegressor__p=2, KNeighborsRegressor__weights=uniform), XGBRegressor__learning_rate=0.1, XGBRegressor__max_depth=4, XGBRegressor__min_child_weight=2, XGBRegressor__n_estimators=100, XGBRegressor__nthread=1, XGBRegressor__subsample=0.75)': (2,\n",
       "  -818504948.89430726),\n",
       " 'XGBRegressor(LassoLarsCV(ElasticNetCV(LinearSVR(input_matrix, LinearSVR__C=0.1, LinearSVR__dual=True, LinearSVR__epsilon=0.001, LinearSVR__loss=squared_epsilon_insensitive, LinearSVR__tol=1e-05), ElasticNetCV__l1_ratio=0.85, ElasticNetCV__tol=0.01), LassoLarsCV__normalize=True), XGBRegressor__learning_rate=0.1, XGBRegressor__max_depth=3, XGBRegressor__min_child_weight=2, XGBRegressor__n_estimators=100, XGBRegressor__nthread=1, XGBRegressor__subsample=0.95)': (4,\n",
       "  -833426244.456074),\n",
       " 'XGBRegressor(LassoLarsCV(FastICA(input_matrix, FastICA__tol=0.1), LassoLarsCV__normalize=False), XGBRegressor__learning_rate=0.5, XGBRegressor__max_depth=9, XGBRegressor__min_child_weight=19, XGBRegressor__n_estimators=100, XGBRegressor__nthread=1, XGBRegressor__subsample=0.8)': (3,\n",
       "  -3382195997.7529616),\n",
       " 'XGBRegressor(LassoLarsCV(LinearSVR(input_matrix, LinearSVR__C=0.1, LinearSVR__dual=False, LinearSVR__epsilon=0.01, LinearSVR__loss=squared_epsilon_insensitive, LinearSVR__tol=1e-05), LassoLarsCV__normalize=False), XGBRegressor__learning_rate=0.1, XGBRegressor__max_depth=3, XGBRegressor__min_child_weight=2, XGBRegressor__n_estimators=100, XGBRegressor__nthread=1, XGBRegressor__subsample=0.95)': (3,\n",
       "  -754349664.14074266),\n",
       " 'XGBRegressor(LassoLarsCV(LinearSVR(input_matrix, LinearSVR__C=0.1, LinearSVR__dual=False, LinearSVR__epsilon=0.01, LinearSVR__loss=squared_epsilon_insensitive, LinearSVR__tol=1e-05), LassoLarsCV__normalize=True), XGBRegressor__learning_rate=0.1, XGBRegressor__max_depth=3, XGBRegressor__min_child_weight=2, XGBRegressor__n_estimators=100, XGBRegressor__nthread=1, XGBRegressor__subsample=0.95)': (3,\n",
       "  -891290725.6075964),\n",
       " 'XGBRegressor(LassoLarsCV(LinearSVR(input_matrix, LinearSVR__C=25.0, LinearSVR__dual=True, LinearSVR__epsilon=0.001, LinearSVR__loss=squared_epsilon_insensitive, LinearSVR__tol=0.001), LassoLarsCV__normalize=True), XGBRegressor__learning_rate=0.1, XGBRegressor__max_depth=6, XGBRegressor__min_child_weight=2, XGBRegressor__n_estimators=100, XGBRegressor__nthread=1, XGBRegressor__subsample=0.95)': (3,\n",
       "  -912040957.23246789),\n",
       " 'XGBRegressor(LassoLarsCV(MaxAbsScaler(MinMaxScaler(input_matrix)), LassoLarsCV__normalize=False), XGBRegressor__learning_rate=0.5, XGBRegressor__max_depth=3, XGBRegressor__min_child_weight=12, XGBRegressor__n_estimators=100, XGBRegressor__nthread=1, XGBRegressor__subsample=0.8)': (4,\n",
       "  -927660810.10318816),\n",
       " 'XGBRegressor(LassoLarsCV(MaxAbsScaler(MinMaxScaler(input_matrix)), LassoLarsCV__normalize=False), XGBRegressor__learning_rate=0.5, XGBRegressor__max_depth=9, XGBRegressor__min_child_weight=12, XGBRegressor__n_estimators=100, XGBRegressor__nthread=1, XGBRegressor__subsample=0.8)': (4,\n",
       "  -996231288.83340001),\n",
       " 'XGBRegressor(LassoLarsCV(MaxAbsScaler(MinMaxScaler(input_matrix)), LassoLarsCV__normalize=False), XGBRegressor__learning_rate=0.5, XGBRegressor__max_depth=9, XGBRegressor__min_child_weight=19, XGBRegressor__n_estimators=100, XGBRegressor__nthread=1, XGBRegressor__subsample=0.8)': (4,\n",
       "  -1022289437.5422951),\n",
       " 'XGBRegressor(LassoLarsCV(MaxAbsScaler(input_matrix), LassoLarsCV__normalize=False), XGBRegressor__learning_rate=0.1, XGBRegressor__max_depth=6, XGBRegressor__min_child_weight=2, XGBRegressor__n_estimators=100, XGBRegressor__nthread=1, XGBRegressor__subsample=0.95)': (3,\n",
       "  -863900106.1589601),\n",
       " 'XGBRegressor(LassoLarsCV(MaxAbsScaler(input_matrix), LassoLarsCV__normalize=False), XGBRegressor__learning_rate=0.5, XGBRegressor__max_depth=9, XGBRegressor__min_child_weight=12, XGBRegressor__n_estimators=100, XGBRegressor__nthread=1, XGBRegressor__subsample=0.8)': (3,\n",
       "  -1028092469.303376),\n",
       " 'XGBRegressor(LassoLarsCV(StandardScaler(input_matrix), LassoLarsCV__normalize=False), XGBRegressor__learning_rate=0.1, XGBRegressor__max_depth=6, XGBRegressor__min_child_weight=2, XGBRegressor__n_estimators=100, XGBRegressor__nthread=1, XGBRegressor__subsample=0.95)': (3,\n",
       "  -937223511.48684824),\n",
       " 'XGBRegressor(LassoLarsCV(input_matrix, LassoLarsCV__normalize=False), XGBRegressor__learning_rate=0.1, XGBRegressor__max_depth=4, XGBRegressor__min_child_weight=2, XGBRegressor__n_estimators=100, XGBRegressor__nthread=1, XGBRegressor__subsample=0.7)': (2,\n",
       "  -990927024.05381644),\n",
       " 'XGBRegressor(LassoLarsCV(input_matrix, LassoLarsCV__normalize=False), XGBRegressor__learning_rate=0.5, XGBRegressor__max_depth=9, XGBRegressor__min_child_weight=14, XGBRegressor__n_estimators=100, XGBRegressor__nthread=1, XGBRegressor__subsample=0.8)': (2,\n",
       "  -999882156.53576159),\n",
       " 'XGBRegressor(LassoLarsCV(input_matrix, LassoLarsCV__normalize=False), XGBRegressor__learning_rate=0.5, XGBRegressor__max_depth=9, XGBRegressor__min_child_weight=19, XGBRegressor__n_estimators=100, XGBRegressor__nthread=1, XGBRegressor__subsample=0.45)': (2,\n",
       "  -1059991497.449384),\n",
       " 'XGBRegressor(LassoLarsCV(input_matrix, LassoLarsCV__normalize=False), XGBRegressor__learning_rate=0.5, XGBRegressor__max_depth=9, XGBRegressor__min_child_weight=19, XGBRegressor__n_estimators=100, XGBRegressor__nthread=1, XGBRegressor__subsample=0.8)': (2,\n",
       "  -904943648.04451394),\n",
       " 'XGBRegressor(LassoLarsCV(input_matrix, LassoLarsCV__normalize=True), XGBRegressor__learning_rate=0.1, XGBRegressor__max_depth=6, XGBRegressor__min_child_weight=15, XGBRegressor__n_estimators=100, XGBRegressor__nthread=1, XGBRegressor__subsample=0.95)': (2,\n",
       "  -886670342.90806293),\n",
       " 'XGBRegressor(LassoLarsCV(input_matrix, LassoLarsCV__normalize=True), XGBRegressor__learning_rate=0.1, XGBRegressor__max_depth=6, XGBRegressor__min_child_weight=2, XGBRegressor__n_estimators=100, XGBRegressor__nthread=1, XGBRegressor__subsample=0.7)': (2,\n",
       "  -934057873.63775766),\n",
       " 'XGBRegressor(LinearSVR(Binarizer(input_matrix, Binarizer__threshold=0.95), LinearSVR__C=0.1, LinearSVR__dual=False, LinearSVR__epsilon=0.01, LinearSVR__loss=squared_epsilon_insensitive, LinearSVR__tol=1e-05), XGBRegressor__learning_rate=0.1, XGBRegressor__max_depth=3, XGBRegressor__min_child_weight=2, XGBRegressor__n_estimators=100, XGBRegressor__nthread=1, XGBRegressor__subsample=0.95)': (3,\n",
       "  -1468691434.2825694),\n",
       " 'XGBRegressor(LinearSVR(CombineDFs(CombineDFs(input_matrix, input_matrix), MaxAbsScaler(input_matrix)), LinearSVR__C=0.1, LinearSVR__dual=False, LinearSVR__epsilon=0.1, LinearSVR__loss=squared_epsilon_insensitive, LinearSVR__tol=0.1), XGBRegressor__learning_rate=0.1, XGBRegressor__max_depth=5, XGBRegressor__min_child_weight=2, XGBRegressor__n_estimators=100, XGBRegressor__nthread=1, XGBRegressor__subsample=0.95)': (3,\n",
       "  -747133223.05287194),\n",
       " 'XGBRegressor(LinearSVR(CombineDFs(CombineDFs(input_matrix, input_matrix), input_matrix), LinearSVR__C=0.1, LinearSVR__dual=False, LinearSVR__epsilon=0.0001, LinearSVR__loss=squared_epsilon_insensitive, LinearSVR__tol=1e-05), XGBRegressor__learning_rate=0.1, XGBRegressor__max_depth=5, XGBRegressor__min_child_weight=2, XGBRegressor__n_estimators=100, XGBRegressor__nthread=1, XGBRegressor__subsample=0.95)': (2,\n",
       "  -632046364.57429671),\n",
       " 'XGBRegressor(LinearSVR(CombineDFs(CombineDFs(input_matrix, input_matrix), input_matrix), LinearSVR__C=0.1, LinearSVR__dual=False, LinearSVR__epsilon=0.1, LinearSVR__loss=squared_epsilon_insensitive, LinearSVR__tol=1e-05), XGBRegressor__learning_rate=0.1, XGBRegressor__max_depth=5, XGBRegressor__min_child_weight=2, XGBRegressor__n_estimators=100, XGBRegressor__nthread=1, XGBRegressor__subsample=0.95)': (2,\n",
       "  -565424411.83869457),\n",
       " 'XGBRegressor(LinearSVR(CombineDFs(LinearSVR(CombineDFs(KNeighborsRegressor(input_matrix, KNeighborsRegressor__n_neighbors=14, KNeighborsRegressor__p=2, KNeighborsRegressor__weights=distance), input_matrix), LinearSVR__C=0.1, LinearSVR__dual=False, LinearSVR__epsilon=0.1, LinearSVR__loss=squared_epsilon_insensitive, LinearSVR__tol=1e-05), input_matrix), LinearSVR__C=0.1, LinearSVR__dual=False, LinearSVR__epsilon=0.01, LinearSVR__loss=squared_epsilon_insensitive, LinearSVR__tol=1e-05), XGBRegressor__learning_rate=0.1, XGBRegressor__max_depth=5, XGBRegressor__min_child_weight=2, XGBRegressor__n_estimators=100, XGBRegressor__nthread=1, XGBRegressor__subsample=0.95)': (4,\n",
       "  -2346028202.7429438),\n",
       " 'XGBRegressor(LinearSVR(CombineDFs(LinearSVR(CombineDFs(input_matrix, FeatureAgglomeration(input_matrix, FeatureAgglomeration__affinity=l2, FeatureAgglomeration__linkage=average)), LinearSVR__C=0.1, LinearSVR__dual=False, LinearSVR__epsilon=0.1, LinearSVR__loss=squared_epsilon_insensitive, LinearSVR__tol=1e-05), MaxAbsScaler(input_matrix)), LinearSVR__C=0.1, LinearSVR__dual=False, LinearSVR__epsilon=0.1, LinearSVR__loss=squared_epsilon_insensitive, LinearSVR__tol=0.1), XGBRegressor__learning_rate=0.1, XGBRegressor__max_depth=5, XGBRegressor__min_child_weight=2, XGBRegressor__n_estimators=100, XGBRegressor__nthread=1, XGBRegressor__subsample=0.95)': (5,\n",
       "  -589608514.56009424),\n",
       " 'XGBRegressor(LinearSVR(CombineDFs(LinearSVR(CombineDFs(input_matrix, PCA(input_matrix, PCA__iterated_power=4, PCA__svd_solver=randomized)), LinearSVR__C=0.1, LinearSVR__dual=False, LinearSVR__epsilon=0.1, LinearSVR__loss=squared_epsilon_insensitive, LinearSVR__tol=1e-05), input_matrix), LinearSVR__C=0.1, LinearSVR__dual=False, LinearSVR__epsilon=0.01, LinearSVR__loss=squared_epsilon_insensitive, LinearSVR__tol=1e-05), XGBRegressor__learning_rate=0.1, XGBRegressor__max_depth=5, XGBRegressor__min_child_weight=2, XGBRegressor__n_estimators=100, XGBRegressor__nthread=1, XGBRegressor__subsample=0.95)': (4,\n",
       "  -611049115.82647955),\n",
       " 'XGBRegressor(LinearSVR(CombineDFs(LinearSVR(CombineDFs(input_matrix, input_matrix), LinearSVR__C=0.1, LinearSVR__dual=False, LinearSVR__epsilon=0.1, LinearSVR__loss=squared_epsilon_insensitive, LinearSVR__tol=0.001), MaxAbsScaler(input_matrix)), LinearSVR__C=0.1, LinearSVR__dual=False, LinearSVR__epsilon=0.1, LinearSVR__loss=squared_epsilon_insensitive, LinearSVR__tol=0.1), XGBRegressor__learning_rate=0.1, XGBRegressor__max_depth=5, XGBRegressor__min_child_weight=2, XGBRegressor__n_estimators=100, XGBRegressor__nthread=1, XGBRegressor__subsample=0.95)': (4,\n",
       "  -699434204.07713079),\n",
       " 'XGBRegressor(LinearSVR(CombineDFs(LinearSVR(CombineDFs(input_matrix, input_matrix), LinearSVR__C=0.1, LinearSVR__dual=False, LinearSVR__epsilon=0.1, LinearSVR__loss=squared_epsilon_insensitive, LinearSVR__tol=1e-05), MaxAbsScaler(input_matrix)), LinearSVR__C=0.1, LinearSVR__dual=False, LinearSVR__epsilon=0.1, LinearSVR__loss=squared_epsilon_insensitive, LinearSVR__tol=0.1), XGBRegressor__learning_rate=0.001, XGBRegressor__max_depth=5, XGBRegressor__min_child_weight=2, XGBRegressor__n_estimators=100, XGBRegressor__nthread=1, XGBRegressor__subsample=0.95)': (4,\n",
       "  -32353791079.197674),\n",
       " 'XGBRegressor(LinearSVR(CombineDFs(LinearSVR(CombineDFs(input_matrix, input_matrix), LinearSVR__C=0.1, LinearSVR__dual=False, LinearSVR__epsilon=0.1, LinearSVR__loss=squared_epsilon_insensitive, LinearSVR__tol=1e-05), MaxAbsScaler(input_matrix)), LinearSVR__C=0.1, LinearSVR__dual=False, LinearSVR__epsilon=0.1, LinearSVR__loss=squared_epsilon_insensitive, LinearSVR__tol=0.1), XGBRegressor__learning_rate=0.1, XGBRegressor__max_depth=5, XGBRegressor__min_child_weight=2, XGBRegressor__n_estimators=100, XGBRegressor__nthread=1, XGBRegressor__subsample=0.95)': (4,\n",
       "  -527850570.61275369),\n",
       " 'XGBRegressor(LinearSVR(CombineDFs(LinearSVR(CombineDFs(input_matrix, input_matrix), LinearSVR__C=0.1, LinearSVR__dual=False, LinearSVR__epsilon=0.1, LinearSVR__loss=squared_epsilon_insensitive, LinearSVR__tol=1e-05), MaxAbsScaler(input_matrix)), LinearSVR__C=0.1, LinearSVR__dual=False, LinearSVR__epsilon=0.1, LinearSVR__loss=squared_epsilon_insensitive, LinearSVR__tol=1e-05), XGBRegressor__learning_rate=0.1, XGBRegressor__max_depth=5, XGBRegressor__min_child_weight=2, XGBRegressor__n_estimators=100, XGBRegressor__nthread=1, XGBRegressor__subsample=0.95)': (4,\n",
       "  -549608266.84707355),\n",
       " 'XGBRegressor(LinearSVR(CombineDFs(LinearSVR(CombineDFs(input_matrix, input_matrix), LinearSVR__C=0.1, LinearSVR__dual=False, LinearSVR__epsilon=0.1, LinearSVR__loss=squared_epsilon_insensitive, LinearSVR__tol=1e-05), input_matrix), LinearSVR__C=0.1, LinearSVR__dual=False, LinearSVR__epsilon=0.0001, LinearSVR__loss=squared_epsilon_insensitive, LinearSVR__tol=0.1), XGBRegressor__learning_rate=0.1, XGBRegressor__max_depth=5, XGBRegressor__min_child_weight=2, XGBRegressor__n_estimators=100, XGBRegressor__nthread=1, XGBRegressor__subsample=0.95)': (3,\n",
       "  -538378613.81447732),\n",
       " 'XGBRegressor(LinearSVR(CombineDFs(LinearSVR(CombineDFs(input_matrix, input_matrix), LinearSVR__C=0.1, LinearSVR__dual=False, LinearSVR__epsilon=0.1, LinearSVR__loss=squared_epsilon_insensitive, LinearSVR__tol=1e-05), input_matrix), LinearSVR__C=0.1, LinearSVR__dual=False, LinearSVR__epsilon=0.0001, LinearSVR__loss=squared_epsilon_insensitive, LinearSVR__tol=1e-05), XGBRegressor__learning_rate=0.1, XGBRegressor__max_depth=10, XGBRegressor__min_child_weight=2, XGBRegressor__n_estimators=100, XGBRegressor__nthread=1, XGBRegressor__subsample=0.95)': (3,\n",
       "  -551608199.15909457),\n",
       " 'XGBRegressor(LinearSVR(CombineDFs(LinearSVR(CombineDFs(input_matrix, input_matrix), LinearSVR__C=0.1, LinearSVR__dual=False, LinearSVR__epsilon=0.1, LinearSVR__loss=squared_epsilon_insensitive, LinearSVR__tol=1e-05), input_matrix), LinearSVR__C=0.1, LinearSVR__dual=False, LinearSVR__epsilon=0.0001, LinearSVR__loss=squared_epsilon_insensitive, LinearSVR__tol=1e-05), XGBRegressor__learning_rate=0.1, XGBRegressor__max_depth=5, XGBRegressor__min_child_weight=2, XGBRegressor__n_estimators=100, XGBRegressor__nthread=1, XGBRegressor__subsample=0.95)': (3,\n",
       "  -532292308.12927264),\n",
       " 'XGBRegressor(LinearSVR(CombineDFs(LinearSVR(CombineDFs(input_matrix, input_matrix), LinearSVR__C=0.1, LinearSVR__dual=False, LinearSVR__epsilon=0.1, LinearSVR__loss=squared_epsilon_insensitive, LinearSVR__tol=1e-05), input_matrix), LinearSVR__C=0.1, LinearSVR__dual=False, LinearSVR__epsilon=0.01, LinearSVR__loss=squared_epsilon_insensitive, LinearSVR__tol=1e-05), XGBRegressor__learning_rate=0.1, XGBRegressor__max_depth=4, XGBRegressor__min_child_weight=2, XGBRegressor__n_estimators=100, XGBRegressor__nthread=1, XGBRegressor__subsample=0.95)': (3,\n",
       "  -556700837.92043471),\n",
       " 'XGBRegressor(LinearSVR(CombineDFs(LinearSVR(CombineDFs(input_matrix, input_matrix), LinearSVR__C=0.1, LinearSVR__dual=False, LinearSVR__epsilon=0.1, LinearSVR__loss=squared_epsilon_insensitive, LinearSVR__tol=1e-05), input_matrix), LinearSVR__C=0.1, LinearSVR__dual=False, LinearSVR__epsilon=0.01, LinearSVR__loss=squared_epsilon_insensitive, LinearSVR__tol=1e-05), XGBRegressor__learning_rate=0.1, XGBRegressor__max_depth=5, XGBRegressor__min_child_weight=10, XGBRegressor__n_estimators=100, XGBRegressor__nthread=1, XGBRegressor__subsample=0.95)': (3,\n",
       "  -768448583.41100335),\n",
       " 'XGBRegressor(LinearSVR(CombineDFs(LinearSVR(CombineDFs(input_matrix, input_matrix), LinearSVR__C=0.1, LinearSVR__dual=False, LinearSVR__epsilon=0.1, LinearSVR__loss=squared_epsilon_insensitive, LinearSVR__tol=1e-05), input_matrix), LinearSVR__C=0.1, LinearSVR__dual=False, LinearSVR__epsilon=0.01, LinearSVR__loss=squared_epsilon_insensitive, LinearSVR__tol=1e-05), XGBRegressor__learning_rate=0.1, XGBRegressor__max_depth=5, XGBRegressor__min_child_weight=2, XGBRegressor__n_estimators=100, XGBRegressor__nthread=1, XGBRegressor__subsample=0.95)': (3,\n",
       "  -539648837.73415017),\n",
       " 'XGBRegressor(LinearSVR(CombineDFs(LinearSVR(CombineDFs(input_matrix, input_matrix), LinearSVR__C=0.1, LinearSVR__dual=False, LinearSVR__epsilon=0.1, LinearSVR__loss=squared_epsilon_insensitive, LinearSVR__tol=1e-05), input_matrix), LinearSVR__C=0.1, LinearSVR__dual=False, LinearSVR__epsilon=0.1, LinearSVR__loss=squared_epsilon_insensitive, LinearSVR__tol=0.1), XGBRegressor__learning_rate=0.1, XGBRegressor__max_depth=5, XGBRegressor__min_child_weight=2, XGBRegressor__n_estimators=100, XGBRegressor__nthread=1, XGBRegressor__subsample=0.95)': (3,\n",
       "  -538378613.81447732),\n",
       " 'XGBRegressor(LinearSVR(CombineDFs(LinearSVR(CombineDFs(input_matrix, input_matrix), LinearSVR__C=0.1, LinearSVR__dual=False, LinearSVR__epsilon=0.1, LinearSVR__loss=squared_epsilon_insensitive, LinearSVR__tol=1e-05), input_matrix), LinearSVR__C=0.1, LinearSVR__dual=False, LinearSVR__epsilon=0.1, LinearSVR__loss=squared_epsilon_insensitive, LinearSVR__tol=1e-05), XGBRegressor__learning_rate=0.1, XGBRegressor__max_depth=5, XGBRegressor__min_child_weight=2, XGBRegressor__n_estimators=100, XGBRegressor__nthread=1, XGBRegressor__subsample=0.95)': (3,\n",
       "  -545674005.32031429),\n",
       " 'XGBRegressor(LinearSVR(CombineDFs(LinearSVR(CombineDFs(input_matrix, input_matrix), LinearSVR__C=0.1, LinearSVR__dual=False, LinearSVR__epsilon=0.1, LinearSVR__loss=squared_epsilon_insensitive, LinearSVR__tol=1e-05), input_matrix), LinearSVR__C=0.1, LinearSVR__dual=False, LinearSVR__epsilon=0.1, LinearSVR__loss=squared_epsilon_insensitive, LinearSVR__tol=1e-05), XGBRegressor__learning_rate=1.0, XGBRegressor__max_depth=5, XGBRegressor__min_child_weight=2, XGBRegressor__n_estimators=100, XGBRegressor__nthread=1, XGBRegressor__subsample=0.95)': (3,\n",
       "  -856413209.09193718),\n",
       " 'XGBRegressor(LinearSVR(CombineDFs(LinearSVR(CombineDFs(input_matrix, input_matrix), LinearSVR__C=0.1, LinearSVR__dual=False, LinearSVR__epsilon=0.1, LinearSVR__loss=squared_epsilon_insensitive, LinearSVR__tol=1e-05), input_matrix), LinearSVR__C=5.0, LinearSVR__dual=False, LinearSVR__epsilon=0.0001, LinearSVR__loss=squared_epsilon_insensitive, LinearSVR__tol=1e-05), XGBRegressor__learning_rate=0.1, XGBRegressor__max_depth=5, XGBRegressor__min_child_weight=2, XGBRegressor__n_estimators=100, XGBRegressor__nthread=1, XGBRegressor__subsample=0.95)': (3,\n",
       "  -543344748.2313267),\n",
       " 'XGBRegressor(LinearSVR(CombineDFs(LinearSVR(CombineDFs(input_matrix, input_matrix), LinearSVR__C=1.0, LinearSVR__dual=False, LinearSVR__epsilon=0.1, LinearSVR__loss=squared_epsilon_insensitive, LinearSVR__tol=1e-05), MaxAbsScaler(input_matrix)), LinearSVR__C=0.1, LinearSVR__dual=False, LinearSVR__epsilon=0.1, LinearSVR__loss=squared_epsilon_insensitive, LinearSVR__tol=0.1), XGBRegressor__learning_rate=0.1, XGBRegressor__max_depth=5, XGBRegressor__min_child_weight=2, XGBRegressor__n_estimators=100, XGBRegressor__nthread=1, XGBRegressor__subsample=0.95)': (4,\n",
       "  -586277295.56725717),\n",
       " 'XGBRegressor(LinearSVR(CombineDFs(LinearSVR(CombineDFs(input_matrix, input_matrix), LinearSVR__C=25.0, LinearSVR__dual=False, LinearSVR__epsilon=0.1, LinearSVR__loss=squared_epsilon_insensitive, LinearSVR__tol=1e-05), input_matrix), LinearSVR__C=0.1, LinearSVR__dual=False, LinearSVR__epsilon=0.1, LinearSVR__loss=squared_epsilon_insensitive, LinearSVR__tol=1e-05), XGBRegressor__learning_rate=0.1, XGBRegressor__max_depth=5, XGBRegressor__min_child_weight=2, XGBRegressor__n_estimators=100, XGBRegressor__nthread=1, XGBRegressor__subsample=0.95)': (3,\n",
       "  -641713541.96122241),\n",
       " 'XGBRegressor(LinearSVR(CombineDFs(LinearSVR(FeatureAgglomeration(MaxAbsScaler(input_matrix), FeatureAgglomeration__affinity=manhattan, FeatureAgglomeration__linkage=complete), LinearSVR__C=0.1, LinearSVR__dual=False, LinearSVR__epsilon=0.1, LinearSVR__loss=squared_epsilon_insensitive, LinearSVR__tol=1e-05), MaxAbsScaler(input_matrix)), LinearSVR__C=0.1, LinearSVR__dual=False, LinearSVR__epsilon=0.1, LinearSVR__loss=squared_epsilon_insensitive, LinearSVR__tol=0.1), XGBRegressor__learning_rate=0.1, XGBRegressor__max_depth=5, XGBRegressor__min_child_weight=2, XGBRegressor__n_estimators=100, XGBRegressor__nthread=1, XGBRegressor__subsample=0.95)': (6,\n",
       "  -773633579.08605266),\n",
       " 'XGBRegressor(LinearSVR(CombineDFs(LinearSVR(LinearSVR(CombineDFs(input_matrix, input_matrix), LinearSVR__C=0.1, LinearSVR__dual=False, LinearSVR__epsilon=0.1, LinearSVR__loss=squared_epsilon_insensitive, LinearSVR__tol=1e-05), LinearSVR__C=0.1, LinearSVR__dual=False, LinearSVR__epsilon=0.1, LinearSVR__loss=squared_epsilon_insensitive, LinearSVR__tol=1e-05), input_matrix), LinearSVR__C=0.1, LinearSVR__dual=False, LinearSVR__epsilon=0.01, LinearSVR__loss=squared_epsilon_insensitive, LinearSVR__tol=1e-05), XGBRegressor__learning_rate=0.1, XGBRegressor__max_depth=5, XGBRegressor__min_child_weight=2, XGBRegressor__n_estimators=100, XGBRegressor__nthread=1, XGBRegressor__subsample=0.95)': (4,\n",
       "  -567916218.11331236),\n",
       " 'XGBRegressor(LinearSVR(CombineDFs(LinearSVR(Normalizer(CombineDFs(input_matrix, input_matrix), Normalizer__norm=l1), LinearSVR__C=0.1, LinearSVR__dual=False, LinearSVR__epsilon=0.1, LinearSVR__loss=squared_epsilon_insensitive, LinearSVR__tol=1e-05), MaxAbsScaler(input_matrix)), LinearSVR__C=0.1, LinearSVR__dual=False, LinearSVR__epsilon=0.1, LinearSVR__loss=squared_epsilon_insensitive, LinearSVR__tol=0.1), XGBRegressor__learning_rate=0.1, XGBRegressor__max_depth=5, XGBRegressor__min_child_weight=2, XGBRegressor__n_estimators=100, XGBRegressor__nthread=1, XGBRegressor__subsample=0.95)': (5,\n",
       "  -804756293.92580879),\n",
       " 'XGBRegressor(LinearSVR(CombineDFs(LinearSVR(PolynomialFeatures(CombineDFs(input_matrix, input_matrix), PolynomialFeatures__degree=2, PolynomialFeatures__include_bias=False, PolynomialFeatures__interaction_only=False), LinearSVR__C=0.1, LinearSVR__dual=False, LinearSVR__epsilon=0.1, LinearSVR__loss=squared_epsilon_insensitive, LinearSVR__tol=1e-05), input_matrix), LinearSVR__C=0.1, LinearSVR__dual=False, LinearSVR__epsilon=0.01, LinearSVR__loss=squared_epsilon_insensitive, LinearSVR__tol=1e-05), XGBRegressor__learning_rate=0.1, XGBRegressor__max_depth=5, XGBRegressor__min_child_weight=2, XGBRegressor__n_estimators=100, XGBRegressor__nthread=1, XGBRegressor__subsample=0.95)': (4,\n",
       "  -inf),\n",
       " 'XGBRegressor(LinearSVR(CombineDFs(LinearSVR(input_matrix, LinearSVR__C=0.1, LinearSVR__dual=False, LinearSVR__epsilon=0.1, LinearSVR__loss=squared_epsilon_insensitive, LinearSVR__tol=1e-05), MaxAbsScaler(input_matrix)), LinearSVR__C=0.1, LinearSVR__dual=False, LinearSVR__epsilon=0.1, LinearSVR__loss=squared_epsilon_insensitive, LinearSVR__tol=0.1), XGBRegressor__learning_rate=0.1, XGBRegressor__max_depth=5, XGBRegressor__min_child_weight=2, XGBRegressor__n_estimators=100, XGBRegressor__nthread=1, XGBRegressor__subsample=0.95)': (4,\n",
       "  -597602535.10313809),\n",
       " 'XGBRegressor(LinearSVR(CombineDFs(LinearSVR(input_matrix, LinearSVR__C=0.1, LinearSVR__dual=False, LinearSVR__epsilon=0.1, LinearSVR__loss=squared_epsilon_insensitive, LinearSVR__tol=1e-05), input_matrix), LinearSVR__C=0.1, LinearSVR__dual=False, LinearSVR__epsilon=0.0001, LinearSVR__loss=squared_epsilon_insensitive, LinearSVR__tol=1e-05), XGBRegressor__learning_rate=0.1, XGBRegressor__max_depth=5, XGBRegressor__min_child_weight=2, XGBRegressor__n_estimators=100, XGBRegressor__nthread=1, XGBRegressor__subsample=0.95)': (3,\n",
       "  -617501856.16441703),\n",
       " 'XGBRegressor(LinearSVR(CombineDFs(LinearSVR(input_matrix, LinearSVR__C=0.1, LinearSVR__dual=False, LinearSVR__epsilon=0.1, LinearSVR__loss=squared_epsilon_insensitive, LinearSVR__tol=1e-05), input_matrix), LinearSVR__C=0.1, LinearSVR__dual=False, LinearSVR__epsilon=0.01, LinearSVR__loss=squared_epsilon_insensitive, LinearSVR__tol=1e-05), XGBRegressor__learning_rate=0.1, XGBRegressor__max_depth=5, XGBRegressor__min_child_weight=2, XGBRegressor__n_estimators=100, XGBRegressor__nthread=1, XGBRegressor__subsample=0.95)': (3,\n",
       "  -614960478.91301656),\n",
       " 'XGBRegressor(LinearSVR(CombineDFs(LinearSVR(input_matrix, LinearSVR__C=0.1, LinearSVR__dual=False, LinearSVR__epsilon=0.1, LinearSVR__loss=squared_epsilon_insensitive, LinearSVR__tol=1e-05), input_matrix), LinearSVR__C=0.1, LinearSVR__dual=False, LinearSVR__epsilon=0.1, LinearSVR__loss=squared_epsilon_insensitive, LinearSVR__tol=1e-05), XGBRegressor__learning_rate=0.1, XGBRegressor__max_depth=5, XGBRegressor__min_child_weight=2, XGBRegressor__n_estimators=100, XGBRegressor__nthread=1, XGBRegressor__subsample=0.95)': (3,\n",
       "  -596258935.22314608),\n",
       " 'XGBRegressor(LinearSVR(CombineDFs(LinearSVR(input_matrix, LinearSVR__C=5.0, LinearSVR__dual=True, LinearSVR__epsilon=0.01, LinearSVR__loss=squared_epsilon_insensitive, LinearSVR__tol=0.01), input_matrix), LinearSVR__C=0.1, LinearSVR__dual=False, LinearSVR__epsilon=0.1, LinearSVR__loss=squared_epsilon_insensitive, LinearSVR__tol=1e-05), XGBRegressor__learning_rate=0.1, XGBRegressor__max_depth=7, XGBRegressor__min_child_weight=2, XGBRegressor__n_estimators=100, XGBRegressor__nthread=1, XGBRegressor__subsample=0.95)': (3,\n",
       "  -631759849.98015928),\n",
       " 'XGBRegressor(LinearSVR(CombineDFs(RobustScaler(input_matrix), input_matrix), LinearSVR__C=0.1, LinearSVR__dual=False, LinearSVR__epsilon=0.1, LinearSVR__loss=squared_epsilon_insensitive, LinearSVR__tol=1e-05), XGBRegressor__learning_rate=0.1, XGBRegressor__max_depth=7, XGBRegressor__min_child_weight=2, XGBRegressor__n_estimators=100, XGBRegressor__nthread=1, XGBRegressor__subsample=0.95)': (3,\n",
       "  -607571691.6442945),\n",
       " 'XGBRegressor(LinearSVR(CombineDFs(VarianceThreshold(input_matrix, VarianceThreshold__threshold=0.05), input_matrix), LinearSVR__C=0.1, LinearSVR__dual=False, LinearSVR__epsilon=0.1, LinearSVR__loss=squared_epsilon_insensitive, LinearSVR__tol=1e-05), XGBRegressor__learning_rate=0.1, XGBRegressor__max_depth=7, XGBRegressor__min_child_weight=2, XGBRegressor__n_estimators=100, XGBRegressor__nthread=1, XGBRegressor__subsample=0.95)': (3,\n",
       "  -622802899.40654945),\n",
       " 'XGBRegressor(LinearSVR(CombineDFs(input_matrix, CombineDFs(input_matrix, input_matrix)), LinearSVR__C=0.1, LinearSVR__dual=False, LinearSVR__epsilon=0.1, LinearSVR__loss=squared_epsilon_insensitive, LinearSVR__tol=1e-05), XGBRegressor__learning_rate=0.1, XGBRegressor__max_depth=7, XGBRegressor__min_child_weight=2, XGBRegressor__n_estimators=100, XGBRegressor__nthread=1, XGBRegressor__subsample=0.95)': (2,\n",
       "  -577236150.55778754),\n",
       " 'XGBRegressor(LinearSVR(CombineDFs(input_matrix, LinearSVR(CombineDFs(LinearSVR(CombineDFs(input_matrix, input_matrix), LinearSVR__C=0.1, LinearSVR__dual=False, LinearSVR__epsilon=0.1, LinearSVR__loss=squared_epsilon_insensitive, LinearSVR__tol=1e-05), input_matrix), LinearSVR__C=0.1, LinearSVR__dual=False, LinearSVR__epsilon=0.01, LinearSVR__loss=squared_epsilon_insensitive, LinearSVR__tol=1e-05)), LinearSVR__C=0.1, LinearSVR__dual=False, LinearSVR__epsilon=0.1, LinearSVR__loss=squared_epsilon_insensitive, LinearSVR__tol=1e-05), XGBRegressor__learning_rate=0.1, XGBRegressor__max_depth=7, XGBRegressor__min_child_weight=2, XGBRegressor__n_estimators=100, XGBRegressor__nthread=1, XGBRegressor__subsample=0.95)': (4,\n",
       "  -552864927.75962961),\n",
       " 'XGBRegressor(LinearSVR(CombineDFs(input_matrix, RobustScaler(input_matrix)), LinearSVR__C=0.1, LinearSVR__dual=False, LinearSVR__epsilon=0.1, LinearSVR__loss=squared_epsilon_insensitive, LinearSVR__tol=1e-05), XGBRegressor__learning_rate=0.1, XGBRegressor__max_depth=7, XGBRegressor__min_child_weight=2, XGBRegressor__n_estimators=100, XGBRegressor__nthread=1, XGBRegressor__subsample=0.95)': (3,\n",
       "  -727982619.2330935),\n",
       " 'XGBRegressor(LinearSVR(CombineDFs(input_matrix, SelectFwe(input_matrix, SelectFwe__alpha=0.019)), LinearSVR__C=0.1, LinearSVR__dual=False, LinearSVR__epsilon=0.1, LinearSVR__loss=squared_epsilon_insensitive, LinearSVR__tol=1e-05), XGBRegressor__learning_rate=0.1, XGBRegressor__max_depth=4, XGBRegressor__min_child_weight=2, XGBRegressor__n_estimators=100, XGBRegressor__nthread=1, XGBRegressor__subsample=0.95)': (3,\n",
       "  -563753162.79229796),\n",
       " 'XGBRegressor(LinearSVR(CombineDFs(input_matrix, XGBRegressor(input_matrix, XGBRegressor__learning_rate=0.5, XGBRegressor__max_depth=4, XGBRegressor__min_child_weight=17, XGBRegressor__n_estimators=100, XGBRegressor__nthread=1, XGBRegressor__subsample=0.05)), LinearSVR__C=0.1, LinearSVR__dual=False, LinearSVR__epsilon=0.1, LinearSVR__loss=squared_epsilon_insensitive, LinearSVR__tol=1e-05), XGBRegressor__learning_rate=0.1, XGBRegressor__max_depth=5, XGBRegressor__min_child_weight=2, XGBRegressor__n_estimators=100, XGBRegressor__nthread=1, XGBRegressor__subsample=0.95)': (3,\n",
       "  -726261992.63527679),\n",
       " 'XGBRegressor(LinearSVR(CombineDFs(input_matrix, ZeroCount(input_matrix)), LinearSVR__C=0.1, LinearSVR__dual=False, LinearSVR__epsilon=0.1, LinearSVR__loss=squared_epsilon_insensitive, LinearSVR__tol=1e-05), XGBRegressor__learning_rate=0.1, XGBRegressor__max_depth=7, XGBRegressor__min_child_weight=2, XGBRegressor__n_estimators=100, XGBRegressor__nthread=1, XGBRegressor__subsample=0.95)': (3,\n",
       "  -611603149.281919),\n",
       " 'XGBRegressor(LinearSVR(CombineDFs(input_matrix, input_matrix), LinearSVR__C=0.1, LinearSVR__dual=False, LinearSVR__epsilon=0.0001, LinearSVR__loss=squared_epsilon_insensitive, LinearSVR__tol=0.1), XGBRegressor__learning_rate=0.1, XGBRegressor__max_depth=5, XGBRegressor__min_child_weight=2, XGBRegressor__n_estimators=100, XGBRegressor__nthread=1, XGBRegressor__subsample=0.95)': (2,\n",
       "  -763672621.66853404),\n",
       " 'XGBRegressor(LinearSVR(CombineDFs(input_matrix, input_matrix), LinearSVR__C=0.1, LinearSVR__dual=False, LinearSVR__epsilon=0.01, LinearSVR__loss=squared_epsilon_insensitive, LinearSVR__tol=1e-05), XGBRegressor__learning_rate=0.1, XGBRegressor__max_depth=3, XGBRegressor__min_child_weight=2, XGBRegressor__n_estimators=100, XGBRegressor__nthread=1, XGBRegressor__subsample=0.95)': (2,\n",
       "  -684326628.59830558),\n",
       " 'XGBRegressor(LinearSVR(CombineDFs(input_matrix, input_matrix), LinearSVR__C=0.1, LinearSVR__dual=False, LinearSVR__epsilon=0.1, LinearSVR__loss=squared_epsilon_insensitive, LinearSVR__tol=0.001), XGBRegressor__learning_rate=0.1, XGBRegressor__max_depth=5, XGBRegressor__min_child_weight=2, XGBRegressor__n_estimators=100, XGBRegressor__nthread=1, XGBRegressor__subsample=0.95)': (2,\n",
       "  -693466898.29692388),\n",
       " 'XGBRegressor(LinearSVR(CombineDFs(input_matrix, input_matrix), LinearSVR__C=0.1, LinearSVR__dual=False, LinearSVR__epsilon=0.1, LinearSVR__loss=squared_epsilon_insensitive, LinearSVR__tol=0.1), XGBRegressor__learning_rate=0.1, XGBRegressor__max_depth=5, XGBRegressor__min_child_weight=2, XGBRegressor__n_estimators=100, XGBRegressor__nthread=1, XGBRegressor__subsample=0.95)': (2,\n",
       "  -763672621.66853404),\n",
       " 'XGBRegressor(LinearSVR(CombineDFs(input_matrix, input_matrix), LinearSVR__C=0.1, LinearSVR__dual=False, LinearSVR__epsilon=0.1, LinearSVR__loss=squared_epsilon_insensitive, LinearSVR__tol=1e-05), XGBRegressor__learning_rate=0.1, XGBRegressor__max_depth=10, XGBRegressor__min_child_weight=2, XGBRegressor__n_estimators=100, XGBRegressor__nthread=1, XGBRegressor__subsample=0.95)': (2,\n",
       "  -571861375.58150256),\n",
       " 'XGBRegressor(LinearSVR(CombineDFs(input_matrix, input_matrix), LinearSVR__C=0.1, LinearSVR__dual=False, LinearSVR__epsilon=0.1, LinearSVR__loss=squared_epsilon_insensitive, LinearSVR__tol=1e-05), XGBRegressor__learning_rate=0.1, XGBRegressor__max_depth=3, XGBRegressor__min_child_weight=2, XGBRegressor__n_estimators=100, XGBRegressor__nthread=1, XGBRegressor__subsample=0.95)': (2,\n",
       "  -577806914.46856427),\n",
       " 'XGBRegressor(LinearSVR(CombineDFs(input_matrix, input_matrix), LinearSVR__C=0.1, LinearSVR__dual=False, LinearSVR__epsilon=0.1, LinearSVR__loss=squared_epsilon_insensitive, LinearSVR__tol=1e-05), XGBRegressor__learning_rate=0.1, XGBRegressor__max_depth=4, XGBRegressor__min_child_weight=2, XGBRegressor__n_estimators=100, XGBRegressor__nthread=1, XGBRegressor__subsample=0.7)': (2,\n",
       "  -587718645.75354171),\n",
       " 'XGBRegressor(LinearSVR(CombineDFs(input_matrix, input_matrix), LinearSVR__C=0.1, LinearSVR__dual=False, LinearSVR__epsilon=0.1, LinearSVR__loss=squared_epsilon_insensitive, LinearSVR__tol=1e-05), XGBRegressor__learning_rate=0.1, XGBRegressor__max_depth=4, XGBRegressor__min_child_weight=2, XGBRegressor__n_estimators=100, XGBRegressor__nthread=1, XGBRegressor__subsample=0.95)': (2,\n",
       "  -551413085.79712236),\n",
       " 'XGBRegressor(LinearSVR(CombineDFs(input_matrix, input_matrix), LinearSVR__C=0.1, LinearSVR__dual=False, LinearSVR__epsilon=0.1, LinearSVR__loss=squared_epsilon_insensitive, LinearSVR__tol=1e-05), XGBRegressor__learning_rate=0.1, XGBRegressor__max_depth=5, XGBRegressor__min_child_weight=19, XGBRegressor__n_estimators=100, XGBRegressor__nthread=1, XGBRegressor__subsample=0.95)': (2,\n",
       "  -768874607.81231153),\n",
       " 'XGBRegressor(LinearSVR(CombineDFs(input_matrix, input_matrix), LinearSVR__C=0.1, LinearSVR__dual=False, LinearSVR__epsilon=0.1, LinearSVR__loss=squared_epsilon_insensitive, LinearSVR__tol=1e-05), XGBRegressor__learning_rate=0.1, XGBRegressor__max_depth=5, XGBRegressor__min_child_weight=2, XGBRegressor__n_estimators=100, XGBRegressor__nthread=1, XGBRegressor__subsample=0.95)': (2,\n",
       "  -564490548.03411102),\n",
       " 'XGBRegressor(LinearSVR(CombineDFs(input_matrix, input_matrix), LinearSVR__C=0.1, LinearSVR__dual=False, LinearSVR__epsilon=0.1, LinearSVR__loss=squared_epsilon_insensitive, LinearSVR__tol=1e-05), XGBRegressor__learning_rate=0.1, XGBRegressor__max_depth=7, XGBRegressor__min_child_weight=2, XGBRegressor__n_estimators=100, XGBRegressor__nthread=1, XGBRegressor__subsample=0.95)': (2,\n",
       "  -564236598.47731495),\n",
       " 'XGBRegressor(LinearSVR(CombineDFs(input_matrix, input_matrix), LinearSVR__C=0.1, LinearSVR__dual=False, LinearSVR__epsilon=0.1, LinearSVR__loss=squared_epsilon_insensitive, LinearSVR__tol=1e-05), XGBRegressor__learning_rate=1.0, XGBRegressor__max_depth=5, XGBRegressor__min_child_weight=2, XGBRegressor__n_estimators=100, XGBRegressor__nthread=1, XGBRegressor__subsample=0.95)': (2,\n",
       "  -900197465.33675861),\n",
       " 'XGBRegressor(LinearSVR(CombineDFs(input_matrix, input_matrix), LinearSVR__C=0.1, LinearSVR__dual=True, LinearSVR__epsilon=0.001, LinearSVR__loss=squared_epsilon_insensitive, LinearSVR__tol=0.001), XGBRegressor__learning_rate=0.1, XGBRegressor__max_depth=3, XGBRegressor__min_child_weight=2, XGBRegressor__n_estimators=100, XGBRegressor__nthread=1, XGBRegressor__subsample=0.95)': (2,\n",
       "  -655842570.66610134),\n",
       " 'XGBRegressor(LinearSVR(CombineDFs(input_matrix, input_matrix), LinearSVR__C=10.0, LinearSVR__dual=False, LinearSVR__epsilon=0.1, LinearSVR__loss=squared_epsilon_insensitive, LinearSVR__tol=1e-05), XGBRegressor__learning_rate=0.1, XGBRegressor__max_depth=4, XGBRegressor__min_child_weight=2, XGBRegressor__n_estimators=100, XGBRegressor__nthread=1, XGBRegressor__subsample=0.95)': (2,\n",
       "  -635883428.82997644),\n",
       " 'XGBRegressor(LinearSVR(DecisionTreeRegressor(input_matrix, DecisionTreeRegressor__max_depth=5, DecisionTreeRegressor__min_samples_leaf=18, DecisionTreeRegressor__min_samples_split=5), LinearSVR__C=1.0, LinearSVR__dual=True, LinearSVR__epsilon=0.001, LinearSVR__loss=squared_epsilon_insensitive, LinearSVR__tol=0.1), XGBRegressor__learning_rate=0.1, XGBRegressor__max_depth=6, XGBRegressor__min_child_weight=2, XGBRegressor__n_estimators=100, XGBRegressor__nthread=1, XGBRegressor__subsample=0.95)': (3,\n",
       "  -786271002.96339667),\n",
       " 'XGBRegressor(LinearSVR(DecisionTreeRegressor(input_matrix, DecisionTreeRegressor__max_depth=9, DecisionTreeRegressor__min_samples_leaf=18, DecisionTreeRegressor__min_samples_split=12), LinearSVR__C=0.0001, LinearSVR__dual=False, LinearSVR__epsilon=0.001, LinearSVR__loss=squared_epsilon_insensitive, LinearSVR__tol=1e-05), XGBRegressor__learning_rate=0.1, XGBRegressor__max_depth=3, XGBRegressor__min_child_weight=2, XGBRegressor__n_estimators=100, XGBRegressor__nthread=1, XGBRegressor__subsample=0.95)': (3,\n",
       "  -852217706.60199332),\n",
       " 'XGBRegressor(LinearSVR(ElasticNetCV(LinearSVR(input_matrix, LinearSVR__C=0.1, LinearSVR__dual=True, LinearSVR__epsilon=0.0001, LinearSVR__loss=squared_epsilon_insensitive, LinearSVR__tol=0.001), ElasticNetCV__l1_ratio=0.85, ElasticNetCV__tol=0.01), LinearSVR__C=0.5, LinearSVR__dual=False, LinearSVR__epsilon=0.01, LinearSVR__loss=squared_epsilon_insensitive, LinearSVR__tol=0.01), XGBRegressor__learning_rate=0.1, XGBRegressor__max_depth=3, XGBRegressor__min_child_weight=2, XGBRegressor__n_estimators=100, XGBRegressor__nthread=1, XGBRegressor__subsample=0.95)': (4,\n",
       "  -584057417.18932509),\n",
       " 'XGBRegressor(LinearSVR(ElasticNetCV(input_matrix, ElasticNetCV__l1_ratio=0.1, ElasticNetCV__tol=0.0001), LinearSVR__C=0.1, LinearSVR__dual=False, LinearSVR__epsilon=0.01, LinearSVR__loss=squared_epsilon_insensitive, LinearSVR__tol=1e-05), XGBRegressor__learning_rate=0.1, XGBRegressor__max_depth=3, XGBRegressor__min_child_weight=2, XGBRegressor__n_estimators=100, XGBRegressor__nthread=1, XGBRegressor__subsample=0.95)': (3,\n",
       "  -577812280.59342468),\n",
       " 'XGBRegressor(LinearSVR(FastICA(input_matrix, FastICA__tol=0.2), LinearSVR__C=0.1, LinearSVR__dual=True, LinearSVR__epsilon=0.001, LinearSVR__loss=squared_epsilon_insensitive, LinearSVR__tol=0.001), XGBRegressor__learning_rate=0.1, XGBRegressor__max_depth=3, XGBRegressor__min_child_weight=2, XGBRegressor__n_estimators=100, XGBRegressor__nthread=1, XGBRegressor__subsample=0.95)': (3,\n",
       "  -2583602020.0976529),\n",
       " 'XGBRegressor(LinearSVR(GradientBoostingRegressor(CombineDFs(input_matrix, input_matrix), GradientBoostingRegressor__alpha=0.95, GradientBoostingRegressor__learning_rate=0.5, GradientBoostingRegressor__loss=lad, GradientBoostingRegressor__max_depth=6, GradientBoostingRegressor__max_features=1.0, GradientBoostingRegressor__min_samples_leaf=17, GradientBoostingRegressor__min_samples_split=15, GradientBoostingRegressor__n_estimators=100, GradientBoostingRegressor__subsample=0.9), LinearSVR__C=0.1, LinearSVR__dual=False, LinearSVR__epsilon=0.1, LinearSVR__loss=squared_epsilon_insensitive, LinearSVR__tol=0.1), XGBRegressor__learning_rate=0.1, XGBRegressor__max_depth=5, XGBRegressor__min_child_weight=2, XGBRegressor__n_estimators=100, XGBRegressor__nthread=1, XGBRegressor__subsample=0.95)': (3,\n",
       "  -920130989.86036229),\n",
       " 'XGBRegressor(LinearSVR(GradientBoostingRegressor(input_matrix, GradientBoostingRegressor__alpha=0.75, GradientBoostingRegressor__learning_rate=0.5, GradientBoostingRegressor__loss=lad, GradientBoostingRegressor__max_depth=2, GradientBoostingRegressor__max_features=0.7, GradientBoostingRegressor__min_samples_leaf=20, GradientBoostingRegressor__min_samples_split=10, GradientBoostingRegressor__n_estimators=100, GradientBoostingRegressor__subsample=0.35), LinearSVR__C=0.1, LinearSVR__dual=False, LinearSVR__epsilon=0.01, LinearSVR__loss=squared_epsilon_insensitive, LinearSVR__tol=1e-05), XGBRegressor__learning_rate=0.1, XGBRegressor__max_depth=3, XGBRegressor__min_child_weight=2, XGBRegressor__n_estimators=100, XGBRegressor__nthread=1, XGBRegressor__subsample=0.95)': (3,\n",
       "  -890242031.23179781),\n",
       " 'XGBRegressor(LinearSVR(GradientBoostingRegressor(input_matrix, GradientBoostingRegressor__alpha=0.8, GradientBoostingRegressor__learning_rate=0.01, GradientBoostingRegressor__loss=ls, GradientBoostingRegressor__max_depth=6, GradientBoostingRegressor__max_features=0.9, GradientBoostingRegressor__min_samples_leaf=4, GradientBoostingRegressor__min_samples_split=7, GradientBoostingRegressor__n_estimators=100, GradientBoostingRegressor__subsample=0.65), LinearSVR__C=1.0, LinearSVR__dual=True, LinearSVR__epsilon=0.001, LinearSVR__loss=squared_epsilon_insensitive, LinearSVR__tol=0.1), XGBRegressor__learning_rate=0.1, XGBRegressor__max_depth=6, XGBRegressor__min_child_weight=2, XGBRegressor__n_estimators=100, XGBRegressor__nthread=1, XGBRegressor__subsample=0.95)': (3,\n",
       "  -903111117.80611169),\n",
       " 'XGBRegressor(LinearSVR(LassoLarsCV(input_matrix, LassoLarsCV__normalize=False), LinearSVR__C=1.0, LinearSVR__dual=True, LinearSVR__epsilon=0.001, LinearSVR__loss=squared_epsilon_insensitive, LinearSVR__tol=0.1), XGBRegressor__learning_rate=0.1, XGBRegressor__max_depth=6, XGBRegressor__min_child_weight=2, XGBRegressor__n_estimators=100, XGBRegressor__nthread=1, XGBRegressor__subsample=0.95)': (3,\n",
       "  -987194057.47723103),\n",
       " 'XGBRegressor(LinearSVR(LassoLarsCV(input_matrix, LassoLarsCV__normalize=True), LinearSVR__C=1.0, LinearSVR__dual=True, LinearSVR__epsilon=0.001, LinearSVR__loss=squared_epsilon_insensitive, LinearSVR__tol=0.1), XGBRegressor__learning_rate=0.1, XGBRegressor__max_depth=6, XGBRegressor__min_child_weight=2, XGBRegressor__n_estimators=100, XGBRegressor__nthread=1, XGBRegressor__subsample=0.95)': (3,\n",
       "  -957012700.51409078),\n",
       " 'XGBRegressor(LinearSVR(LinearSVR(CombineDFs(FeatureAgglomeration(input_matrix, FeatureAgglomeration__affinity=cosine, FeatureAgglomeration__linkage=complete), input_matrix), LinearSVR__C=0.1, LinearSVR__dual=False, LinearSVR__epsilon=0.1, LinearSVR__loss=squared_epsilon_insensitive, LinearSVR__tol=1e-05), LinearSVR__C=0.1, LinearSVR__dual=False, LinearSVR__epsilon=0.1, LinearSVR__loss=squared_epsilon_insensitive, LinearSVR__tol=0.1), XGBRegressor__learning_rate=0.1, XGBRegressor__max_depth=5, XGBRegressor__min_child_weight=2, XGBRegressor__n_estimators=100, XGBRegressor__nthread=1, XGBRegressor__subsample=0.95)': (4,\n",
       "  -inf),\n",
       " 'XGBRegressor(LinearSVR(LinearSVR(CombineDFs(RandomForestRegressor(input_matrix, RandomForestRegressor__bootstrap=True, RandomForestRegressor__max_features=0.4, RandomForestRegressor__min_samples_leaf=14, RandomForestRegressor__min_samples_split=8, RandomForestRegressor__n_estimators=100), input_matrix), LinearSVR__C=0.1, LinearSVR__dual=False, LinearSVR__epsilon=0.1, LinearSVR__loss=squared_epsilon_insensitive, LinearSVR__tol=1e-05), LinearSVR__C=0.1, LinearSVR__dual=False, LinearSVR__epsilon=0.1, LinearSVR__loss=squared_epsilon_insensitive, LinearSVR__tol=0.1), XGBRegressor__learning_rate=0.1, XGBRegressor__max_depth=5, XGBRegressor__min_child_weight=2, XGBRegressor__n_estimators=100, XGBRegressor__nthread=1, XGBRegressor__subsample=0.95)': (4,\n",
       "  -881356427.79380345),\n",
       " 'XGBRegressor(LinearSVR(LinearSVR(CombineDFs(RidgeCV(input_matrix), input_matrix), LinearSVR__C=0.1, LinearSVR__dual=False, LinearSVR__epsilon=0.1, LinearSVR__loss=squared_epsilon_insensitive, LinearSVR__tol=1e-05), LinearSVR__C=0.1, LinearSVR__dual=False, LinearSVR__epsilon=0.1, LinearSVR__loss=squared_epsilon_insensitive, LinearSVR__tol=0.1), XGBRegressor__learning_rate=0.1, XGBRegressor__max_depth=5, XGBRegressor__min_child_weight=2, XGBRegressor__n_estimators=100, XGBRegressor__nthread=1, XGBRegressor__subsample=0.95)': (4,\n",
       "  -812233576.91475749),\n",
       " 'XGBRegressor(LinearSVR(LinearSVR(CombineDFs(RobustScaler(input_matrix), input_matrix), LinearSVR__C=0.1, LinearSVR__dual=False, LinearSVR__epsilon=0.1, LinearSVR__loss=squared_epsilon_insensitive, LinearSVR__tol=1e-05), LinearSVR__C=0.1, LinearSVR__dual=False, LinearSVR__epsilon=0.1, LinearSVR__loss=squared_epsilon_insensitive, LinearSVR__tol=0.1), XGBRegressor__learning_rate=0.1, XGBRegressor__max_depth=5, XGBRegressor__min_child_weight=2, XGBRegressor__n_estimators=100, XGBRegressor__nthread=1, XGBRegressor__subsample=0.95)': (4,\n",
       "  -641489339.66085601),\n",
       " 'XGBRegressor(LinearSVR(LinearSVR(CombineDFs(input_matrix, LassoLarsCV(input_matrix, LassoLarsCV__normalize=True)), LinearSVR__C=0.1, LinearSVR__dual=False, LinearSVR__epsilon=0.1, LinearSVR__loss=squared_epsilon_insensitive, LinearSVR__tol=1e-05), LinearSVR__C=0.1, LinearSVR__dual=False, LinearSVR__epsilon=0.1, LinearSVR__loss=squared_epsilon_insensitive, LinearSVR__tol=0.1), XGBRegressor__learning_rate=0.1, XGBRegressor__max_depth=5, XGBRegressor__min_child_weight=2, XGBRegressor__n_estimators=100, XGBRegressor__nthread=1, XGBRegressor__subsample=0.95)': (4,\n",
       "  -924925997.11474645),\n",
       " 'XGBRegressor(LinearSVR(LinearSVR(CombineDFs(input_matrix, SelectPercentile(input_matrix, SelectPercentile__percentile=71)), LinearSVR__C=0.1, LinearSVR__dual=False, LinearSVR__epsilon=0.1, LinearSVR__loss=squared_epsilon_insensitive, LinearSVR__tol=1e-05), LinearSVR__C=0.1, LinearSVR__dual=False, LinearSVR__epsilon=0.1, LinearSVR__loss=squared_epsilon_insensitive, LinearSVR__tol=0.1), XGBRegressor__learning_rate=0.1, XGBRegressor__max_depth=5, XGBRegressor__min_child_weight=2, XGBRegressor__n_estimators=100, XGBRegressor__nthread=1, XGBRegressor__subsample=0.95)': (4,\n",
       "  -563455653.65668797),\n",
       " 'XGBRegressor(LinearSVR(LinearSVR(CombineDFs(input_matrix, XGBRegressor(input_matrix, XGBRegressor__learning_rate=1.0, XGBRegressor__max_depth=2, XGBRegressor__min_child_weight=6, XGBRegressor__n_estimators=100, XGBRegressor__nthread=1, XGBRegressor__subsample=0.85)), LinearSVR__C=0.1, LinearSVR__dual=False, LinearSVR__epsilon=0.1, LinearSVR__loss=squared_epsilon_insensitive, LinearSVR__tol=1e-05), LinearSVR__C=0.1, LinearSVR__dual=False, LinearSVR__epsilon=0.0001, LinearSVR__loss=squared_epsilon_insensitive, LinearSVR__tol=1e-05), XGBRegressor__learning_rate=0.1, XGBRegressor__max_depth=5, XGBRegressor__min_child_weight=2, XGBRegressor__n_estimators=100, XGBRegressor__nthread=1, XGBRegressor__subsample=0.95)': (4,\n",
       "  -1267033189.0721009),\n",
       " 'XGBRegressor(LinearSVR(LinearSVR(CombineDFs(input_matrix, input_matrix), LinearSVR__C=0.1, LinearSVR__dual=False, LinearSVR__epsilon=0.0001, LinearSVR__loss=squared_epsilon_insensitive, LinearSVR__tol=1e-05), LinearSVR__C=0.1, LinearSVR__dual=False, LinearSVR__epsilon=0.1, LinearSVR__loss=squared_epsilon_insensitive, LinearSVR__tol=0.1), XGBRegressor__learning_rate=0.1, XGBRegressor__max_depth=5, XGBRegressor__min_child_weight=2, XGBRegressor__n_estimators=100, XGBRegressor__nthread=1, XGBRegressor__subsample=0.95)': (3,\n",
       "  -546582852.76714826),\n",
       " 'XGBRegressor(LinearSVR(LinearSVR(CombineDFs(input_matrix, input_matrix), LinearSVR__C=0.1, LinearSVR__dual=False, LinearSVR__epsilon=0.01, LinearSVR__loss=squared_epsilon_insensitive, LinearSVR__tol=1e-05), LinearSVR__C=1.0, LinearSVR__dual=False, LinearSVR__epsilon=0.1, LinearSVR__loss=squared_epsilon_insensitive, LinearSVR__tol=0.1), XGBRegressor__learning_rate=0.1, XGBRegressor__max_depth=5, XGBRegressor__min_child_weight=2, XGBRegressor__n_estimators=100, XGBRegressor__nthread=1, XGBRegressor__subsample=0.95)': (3,\n",
       "  -665984122.03263664),\n",
       " 'XGBRegressor(LinearSVR(LinearSVR(CombineDFs(input_matrix, input_matrix), LinearSVR__C=0.1, LinearSVR__dual=False, LinearSVR__epsilon=0.1, LinearSVR__loss=squared_epsilon_insensitive, LinearSVR__tol=1e-05), LinearSVR__C=0.1, LinearSVR__dual=False, LinearSVR__epsilon=0.0001, LinearSVR__loss=squared_epsilon_insensitive, LinearSVR__tol=0.1), XGBRegressor__learning_rate=0.1, XGBRegressor__max_depth=5, XGBRegressor__min_child_weight=2, XGBRegressor__n_estimators=100, XGBRegressor__nthread=1, XGBRegressor__subsample=0.95)': (3,\n",
       "  -538378613.81447732),\n",
       " 'XGBRegressor(LinearSVR(LinearSVR(CombineDFs(input_matrix, input_matrix), LinearSVR__C=0.1, LinearSVR__dual=False, LinearSVR__epsilon=0.1, LinearSVR__loss=squared_epsilon_insensitive, LinearSVR__tol=1e-05), LinearSVR__C=0.1, LinearSVR__dual=False, LinearSVR__epsilon=0.0001, LinearSVR__loss=squared_epsilon_insensitive, LinearSVR__tol=1e-05), XGBRegressor__learning_rate=0.1, XGBRegressor__max_depth=1, XGBRegressor__min_child_weight=2, XGBRegressor__n_estimators=100, XGBRegressor__nthread=1, XGBRegressor__subsample=0.95)': (3,\n",
       "  -705252662.27798724),\n",
       " 'XGBRegressor(LinearSVR(LinearSVR(CombineDFs(input_matrix, input_matrix), LinearSVR__C=0.1, LinearSVR__dual=False, LinearSVR__epsilon=0.1, LinearSVR__loss=squared_epsilon_insensitive, LinearSVR__tol=1e-05), LinearSVR__C=0.1, LinearSVR__dual=False, LinearSVR__epsilon=0.0001, LinearSVR__loss=squared_epsilon_insensitive, LinearSVR__tol=1e-05), XGBRegressor__learning_rate=0.1, XGBRegressor__max_depth=5, XGBRegressor__min_child_weight=2, XGBRegressor__n_estimators=100, XGBRegressor__nthread=1, XGBRegressor__subsample=0.95)': (3,\n",
       "  -532292308.12927264),\n",
       " 'XGBRegressor(LinearSVR(LinearSVR(CombineDFs(input_matrix, input_matrix), LinearSVR__C=0.1, LinearSVR__dual=False, LinearSVR__epsilon=0.1, LinearSVR__loss=squared_epsilon_insensitive, LinearSVR__tol=1e-05), LinearSVR__C=0.1, LinearSVR__dual=False, LinearSVR__epsilon=0.1, LinearSVR__loss=squared_epsilon_insensitive, LinearSVR__tol=0.1), XGBRegressor__learning_rate=0.1, XGBRegressor__max_depth=5, XGBRegressor__min_child_weight=2, XGBRegressor__n_estimators=100, XGBRegressor__nthread=1, XGBRegressor__subsample=0.95)': (3,\n",
       "  -538378613.81447732),\n",
       " 'XGBRegressor(LinearSVR(LinearSVR(CombineDFs(input_matrix, input_matrix), LinearSVR__C=0.1, LinearSVR__dual=False, LinearSVR__epsilon=0.1, LinearSVR__loss=squared_epsilon_insensitive, LinearSVR__tol=1e-05), LinearSVR__C=0.1, LinearSVR__dual=False, LinearSVR__epsilon=0.1, LinearSVR__loss=squared_epsilon_insensitive, LinearSVR__tol=0.1), XGBRegressor__learning_rate=0.1, XGBRegressor__max_depth=5, XGBRegressor__min_child_weight=5, XGBRegressor__n_estimators=100, XGBRegressor__nthread=1, XGBRegressor__subsample=0.95)': (3,\n",
       "  -637808722.83780015),\n",
       " 'XGBRegressor(LinearSVR(LinearSVR(CombineDFs(input_matrix, input_matrix), LinearSVR__C=0.1, LinearSVR__dual=False, LinearSVR__epsilon=0.1, LinearSVR__loss=squared_epsilon_insensitive, LinearSVR__tol=1e-05), LinearSVR__C=0.1, LinearSVR__dual=False, LinearSVR__epsilon=0.1, LinearSVR__loss=squared_epsilon_insensitive, LinearSVR__tol=1e-05), XGBRegressor__learning_rate=0.1, XGBRegressor__max_depth=5, XGBRegressor__min_child_weight=2, XGBRegressor__n_estimators=100, XGBRegressor__nthread=1, XGBRegressor__subsample=0.95)': (3,\n",
       "  -545674005.32031429),\n",
       " 'XGBRegressor(LinearSVR(LinearSVR(CombineDFs(input_matrix, input_matrix), LinearSVR__C=0.1, LinearSVR__dual=False, LinearSVR__epsilon=0.1, LinearSVR__loss=squared_epsilon_insensitive, LinearSVR__tol=1e-05), LinearSVR__C=1.0, LinearSVR__dual=False, LinearSVR__epsilon=0.1, LinearSVR__loss=squared_epsilon_insensitive, LinearSVR__tol=0.1), XGBRegressor__learning_rate=0.1, XGBRegressor__max_depth=5, XGBRegressor__min_child_weight=2, XGBRegressor__n_estimators=100, XGBRegressor__nthread=1, XGBRegressor__subsample=0.95)': (3,\n",
       "  -538378613.81447732),\n",
       " 'XGBRegressor(LinearSVR(LinearSVR(CombineDFs(input_matrix, input_matrix), LinearSVR__C=0.1, LinearSVR__dual=False, LinearSVR__epsilon=0.1, LinearSVR__loss=squared_epsilon_insensitive, LinearSVR__tol=1e-05), LinearSVR__C=15.0, LinearSVR__dual=False, LinearSVR__epsilon=0.1, LinearSVR__loss=squared_epsilon_insensitive, LinearSVR__tol=0.1), XGBRegressor__learning_rate=0.1, XGBRegressor__max_depth=4, XGBRegressor__min_child_weight=2, XGBRegressor__n_estimators=100, XGBRegressor__nthread=1, XGBRegressor__subsample=0.95)': (3,\n",
       "  -548034811.97545576),\n",
       " 'XGBRegressor(LinearSVR(LinearSVR(CombineDFs(input_matrix, input_matrix), LinearSVR__C=0.1, LinearSVR__dual=False, LinearSVR__epsilon=0.1, LinearSVR__loss=squared_epsilon_insensitive, LinearSVR__tol=1e-05), LinearSVR__C=15.0, LinearSVR__dual=False, LinearSVR__epsilon=0.1, LinearSVR__loss=squared_epsilon_insensitive, LinearSVR__tol=0.1), XGBRegressor__learning_rate=0.1, XGBRegressor__max_depth=5, XGBRegressor__min_child_weight=2, XGBRegressor__n_estimators=100, XGBRegressor__nthread=1, XGBRegressor__subsample=0.95)': (3,\n",
       "  -538378613.81447732),\n",
       " 'XGBRegressor(LinearSVR(LinearSVR(CombineDFs(input_matrix, input_matrix), LinearSVR__C=20.0, LinearSVR__dual=True, LinearSVR__epsilon=1.0, LinearSVR__loss=squared_epsilon_insensitive, LinearSVR__tol=1e-05), LinearSVR__C=1.0, LinearSVR__dual=False, LinearSVR__epsilon=0.1, LinearSVR__loss=squared_epsilon_insensitive, LinearSVR__tol=0.1), XGBRegressor__learning_rate=0.1, XGBRegressor__max_depth=5, XGBRegressor__min_child_weight=2, XGBRegressor__n_estimators=100, XGBRegressor__nthread=1, XGBRegressor__subsample=0.95)': (3,\n",
       "  -643210721.81819117),\n",
       " 'XGBRegressor(LinearSVR(LinearSVR(MaxAbsScaler(input_matrix), LinearSVR__C=0.1, LinearSVR__dual=False, LinearSVR__epsilon=0.1, LinearSVR__loss=squared_epsilon_insensitive, LinearSVR__tol=1e-05), LinearSVR__C=0.1, LinearSVR__dual=False, LinearSVR__epsilon=0.1, LinearSVR__loss=squared_epsilon_insensitive, LinearSVR__tol=0.1), XGBRegressor__learning_rate=0.1, XGBRegressor__max_depth=5, XGBRegressor__min_child_weight=2, XGBRegressor__n_estimators=100, XGBRegressor__nthread=1, XGBRegressor__subsample=0.95)': (4,\n",
       "  -843407707.85275638),\n",
       " 'XGBRegressor(LinearSVR(LinearSVR(MinMaxScaler(CombineDFs(input_matrix, input_matrix)), LinearSVR__C=0.1, LinearSVR__dual=False, LinearSVR__epsilon=0.1, LinearSVR__loss=squared_epsilon_insensitive, LinearSVR__tol=1e-05), LinearSVR__C=0.1, LinearSVR__dual=False, LinearSVR__epsilon=0.1, LinearSVR__loss=squared_epsilon_insensitive, LinearSVR__tol=0.1), XGBRegressor__learning_rate=0.1, XGBRegressor__max_depth=5, XGBRegressor__min_child_weight=2, XGBRegressor__n_estimators=100, XGBRegressor__nthread=1, XGBRegressor__subsample=0.95)': (4,\n",
       "  -832335195.35698473),\n",
       " 'XGBRegressor(LinearSVR(LinearSVR(OneHotEncoder(input_matrix, OneHotEncoder__minimum_fraction=0.25, OneHotEncoder__sparse=False), LinearSVR__C=0.1, LinearSVR__dual=False, LinearSVR__epsilon=0.1, LinearSVR__loss=squared_epsilon_insensitive, LinearSVR__tol=1e-05), LinearSVR__C=0.1, LinearSVR__dual=False, LinearSVR__epsilon=0.1, LinearSVR__loss=squared_epsilon_insensitive, LinearSVR__tol=0.1), XGBRegressor__learning_rate=0.1, XGBRegressor__max_depth=5, XGBRegressor__min_child_weight=2, XGBRegressor__n_estimators=100, XGBRegressor__nthread=1, XGBRegressor__subsample=0.95)': (4,\n",
       "  -682015440.04375768),\n",
       " 'XGBRegressor(LinearSVR(LinearSVR(input_matrix, LinearSVR__C=0.1, LinearSVR__dual=False, LinearSVR__epsilon=0.001, LinearSVR__loss=squared_epsilon_insensitive, LinearSVR__tol=1e-05), LinearSVR__C=10.0, LinearSVR__dual=True, LinearSVR__epsilon=0.01, LinearSVR__loss=epsilon_insensitive, LinearSVR__tol=0.001), XGBRegressor__learning_rate=0.1, XGBRegressor__max_depth=3, XGBRegressor__min_child_weight=2, XGBRegressor__n_estimators=100, XGBRegressor__nthread=1, XGBRegressor__subsample=0.95)': (3,\n",
       "  -606433871.16267514),\n",
       " 'XGBRegressor(LinearSVR(LinearSVR(input_matrix, LinearSVR__C=0.1, LinearSVR__dual=False, LinearSVR__epsilon=0.1, LinearSVR__loss=squared_epsilon_insensitive, LinearSVR__tol=1e-05), LinearSVR__C=0.1, LinearSVR__dual=False, LinearSVR__epsilon=0.0001, LinearSVR__loss=squared_epsilon_insensitive, LinearSVR__tol=0.1), XGBRegressor__learning_rate=0.1, XGBRegressor__max_depth=5, XGBRegressor__min_child_weight=2, XGBRegressor__n_estimators=100, XGBRegressor__nthread=1, XGBRegressor__subsample=0.95)': (3,\n",
       "  -601521687.28780389),\n",
       " 'XGBRegressor(LinearSVR(LinearSVR(input_matrix, LinearSVR__C=0.1, LinearSVR__dual=False, LinearSVR__epsilon=0.1, LinearSVR__loss=squared_epsilon_insensitive, LinearSVR__tol=1e-05), LinearSVR__C=0.1, LinearSVR__dual=False, LinearSVR__epsilon=0.1, LinearSVR__loss=squared_epsilon_insensitive, LinearSVR__tol=0.1), XGBRegressor__learning_rate=0.1, XGBRegressor__max_depth=5, XGBRegressor__min_child_weight=2, XGBRegressor__n_estimators=100, XGBRegressor__nthread=1, XGBRegressor__subsample=0.95)': (3,\n",
       "  -601521687.28780389),\n",
       " 'XGBRegressor(LinearSVR(LinearSVR(input_matrix, LinearSVR__C=0.1, LinearSVR__dual=True, LinearSVR__epsilon=0.0001, LinearSVR__loss=squared_epsilon_insensitive, LinearSVR__tol=1e-05), LinearSVR__C=0.1, LinearSVR__dual=False, LinearSVR__epsilon=0.01, LinearSVR__loss=squared_epsilon_insensitive, LinearSVR__tol=1e-05), XGBRegressor__learning_rate=0.1, XGBRegressor__max_depth=3, XGBRegressor__min_child_weight=2, XGBRegressor__n_estimators=100, XGBRegressor__nthread=1, XGBRegressor__subsample=0.95)': (3,\n",
       "  -591692359.18858969),\n",
       " 'XGBRegressor(LinearSVR(LinearSVR(input_matrix, LinearSVR__C=0.1, LinearSVR__dual=True, LinearSVR__epsilon=0.001, LinearSVR__loss=squared_epsilon_insensitive, LinearSVR__tol=0.01), LinearSVR__C=0.1, LinearSVR__dual=False, LinearSVR__epsilon=0.01, LinearSVR__loss=squared_epsilon_insensitive, LinearSVR__tol=1e-05), XGBRegressor__learning_rate=0.1, XGBRegressor__max_depth=3, XGBRegressor__min_child_weight=2, XGBRegressor__n_estimators=100, XGBRegressor__nthread=1, XGBRegressor__subsample=0.95)': (3,\n",
       "  -582717022.50973725),\n",
       " 'XGBRegressor(LinearSVR(LinearSVR(input_matrix, LinearSVR__C=0.1, LinearSVR__dual=True, LinearSVR__epsilon=0.001, LinearSVR__loss=squared_epsilon_insensitive, LinearSVR__tol=0.01), LinearSVR__C=0.1, LinearSVR__dual=True, LinearSVR__epsilon=0.001, LinearSVR__loss=squared_epsilon_insensitive, LinearSVR__tol=0.001), XGBRegressor__learning_rate=0.1, XGBRegressor__max_depth=3, XGBRegressor__min_child_weight=2, XGBRegressor__n_estimators=100, XGBRegressor__nthread=1, XGBRegressor__subsample=0.95)': (3,\n",
       "  -651435038.01487088),\n",
       " 'XGBRegressor(LinearSVR(LinearSVR(input_matrix, LinearSVR__C=1.0, LinearSVR__dual=True, LinearSVR__epsilon=0.001, LinearSVR__loss=squared_epsilon_insensitive, LinearSVR__tol=0.1), LinearSVR__C=5.0, LinearSVR__dual=True, LinearSVR__epsilon=0.01, LinearSVR__loss=epsilon_insensitive, LinearSVR__tol=0.0001), XGBRegressor__learning_rate=0.1, XGBRegressor__max_depth=6, XGBRegressor__min_child_weight=2, XGBRegressor__n_estimators=100, XGBRegressor__nthread=1, XGBRegressor__subsample=0.95)': (3,\n",
       "  -689941341.51186669),\n",
       " 'XGBRegressor(LinearSVR(MaxAbsScaler(input_matrix), LinearSVR__C=0.1, LinearSVR__dual=False, LinearSVR__epsilon=0.1, LinearSVR__loss=squared_epsilon_insensitive, LinearSVR__tol=0.1), XGBRegressor__learning_rate=0.1, XGBRegressor__max_depth=5, XGBRegressor__min_child_weight=2, XGBRegressor__n_estimators=100, XGBRegressor__nthread=1, XGBRegressor__subsample=0.95)': (3,\n",
       "  -757549807.99923658),\n",
       " 'XGBRegressor(LinearSVR(MaxAbsScaler(input_matrix), LinearSVR__C=0.1, LinearSVR__dual=False, LinearSVR__epsilon=0.1, LinearSVR__loss=squared_epsilon_insensitive, LinearSVR__tol=1e-05), XGBRegressor__learning_rate=0.1, XGBRegressor__max_depth=7, XGBRegressor__min_child_weight=2, XGBRegressor__n_estimators=100, XGBRegressor__nthread=1, XGBRegressor__subsample=0.95)': (3,\n",
       "  -871007437.88966334),\n",
       " 'XGBRegressor(LinearSVR(MinMaxScaler(input_matrix), LinearSVR__C=0.1, LinearSVR__dual=False, LinearSVR__epsilon=0.01, LinearSVR__loss=squared_epsilon_insensitive, LinearSVR__tol=1e-05), XGBRegressor__learning_rate=0.1, XGBRegressor__max_depth=3, XGBRegressor__min_child_weight=2, XGBRegressor__n_estimators=100, XGBRegressor__nthread=1, XGBRegressor__subsample=0.95)': (3,\n",
       "  -824830534.09968722),\n",
       " 'XGBRegressor(LinearSVR(MinMaxScaler(input_matrix), LinearSVR__C=1.0, LinearSVR__dual=True, LinearSVR__epsilon=0.001, LinearSVR__loss=squared_epsilon_insensitive, LinearSVR__tol=0.001), XGBRegressor__learning_rate=0.1, XGBRegressor__max_depth=4, XGBRegressor__min_child_weight=2, XGBRegressor__n_estimators=100, XGBRegressor__nthread=1, XGBRegressor__subsample=0.95)': (3,\n",
       "  -880061485.6791687),\n",
       " 'XGBRegressor(LinearSVR(Normalizer(input_matrix, Normalizer__norm=max), LinearSVR__C=1.0, LinearSVR__dual=True, LinearSVR__epsilon=0.001, LinearSVR__loss=squared_epsilon_insensitive, LinearSVR__tol=0.1), XGBRegressor__learning_rate=0.1, XGBRegressor__max_depth=6, XGBRegressor__min_child_weight=2, XGBRegressor__n_estimators=100, XGBRegressor__nthread=1, XGBRegressor__subsample=0.95)': (3,\n",
       "  -1055732001.4418697),\n",
       " 'XGBRegressor(LinearSVR(Nystroem(input_matrix, Nystroem__gamma=0.7, Nystroem__kernel=rbf, Nystroem__n_components=8), LinearSVR__C=0.0001, LinearSVR__dual=False, LinearSVR__epsilon=0.001, LinearSVR__loss=squared_epsilon_insensitive, LinearSVR__tol=1e-05), XGBRegressor__learning_rate=0.1, XGBRegressor__max_depth=3, XGBRegressor__min_child_weight=2, XGBRegressor__n_estimators=100, XGBRegressor__nthread=1, XGBRegressor__subsample=0.95)': (3,\n",
       "  -6381845625.9709654),\n",
       " 'XGBRegressor(LinearSVR(OneHotEncoder(CombineDFs(LinearSVR(CombineDFs(input_matrix, input_matrix), LinearSVR__C=0.1, LinearSVR__dual=False, LinearSVR__epsilon=0.1, LinearSVR__loss=squared_epsilon_insensitive, LinearSVR__tol=1e-05), MaxAbsScaler(input_matrix)), OneHotEncoder__minimum_fraction=0.15, OneHotEncoder__sparse=False), LinearSVR__C=0.1, LinearSVR__dual=False, LinearSVR__epsilon=0.1, LinearSVR__loss=squared_epsilon_insensitive, LinearSVR__tol=0.1), XGBRegressor__learning_rate=0.1, XGBRegressor__max_depth=5, XGBRegressor__min_child_weight=2, XGBRegressor__n_estimators=100, XGBRegressor__nthread=1, XGBRegressor__subsample=0.95)': (5,\n",
       "  -549997651.07357419),\n",
       " 'XGBRegressor(LinearSVR(OneHotEncoder(input_matrix, OneHotEncoder__minimum_fraction=0.05, OneHotEncoder__sparse=False), LinearSVR__C=1.0, LinearSVR__dual=True, LinearSVR__epsilon=0.001, LinearSVR__loss=squared_epsilon_insensitive, LinearSVR__tol=0.001), XGBRegressor__learning_rate=0.1, XGBRegressor__max_depth=6, XGBRegressor__min_child_weight=2, XGBRegressor__n_estimators=100, XGBRegressor__nthread=1, XGBRegressor__subsample=0.95)': (3,\n",
       "  -743352424.18458295),\n",
       " 'XGBRegressor(LinearSVR(OneHotEncoder(input_matrix, OneHotEncoder__minimum_fraction=0.15, OneHotEncoder__sparse=False), LinearSVR__C=1.0, LinearSVR__dual=True, LinearSVR__epsilon=0.0001, LinearSVR__loss=squared_epsilon_insensitive, LinearSVR__tol=0.001), XGBRegressor__learning_rate=0.1, XGBRegressor__max_depth=4, XGBRegressor__min_child_weight=2, XGBRegressor__n_estimators=100, XGBRegressor__nthread=1, XGBRegressor__subsample=0.95)': (3,\n",
       "  -788974022.97624528),\n",
       " 'XGBRegressor(LinearSVR(OneHotEncoder(input_matrix, OneHotEncoder__minimum_fraction=0.25, OneHotEncoder__sparse=False), LinearSVR__C=1.0, LinearSVR__dual=True, LinearSVR__epsilon=0.0001, LinearSVR__loss=squared_epsilon_insensitive, LinearSVR__tol=0.001), XGBRegressor__learning_rate=0.1, XGBRegressor__max_depth=4, XGBRegressor__min_child_weight=2, XGBRegressor__n_estimators=100, XGBRegressor__nthread=1, XGBRegressor__subsample=0.95)': (3,\n",
       "  -737583014.59716225),\n",
       " 'XGBRegressor(LinearSVR(PCA(input_matrix, PCA__iterated_power=5, PCA__svd_solver=randomized), LinearSVR__C=25.0, LinearSVR__dual=True, LinearSVR__epsilon=0.001, LinearSVR__loss=squared_epsilon_insensitive, LinearSVR__tol=0.001), XGBRegressor__learning_rate=0.1, XGBRegressor__max_depth=6, XGBRegressor__min_child_weight=2, XGBRegressor__n_estimators=100, XGBRegressor__nthread=1, XGBRegressor__subsample=0.95)': (3,\n",
       "  -1428480522.7143962),\n",
       " 'XGBRegressor(LinearSVR(RBFSampler(input_matrix, RBFSampler__gamma=0.65), LinearSVR__C=0.1, LinearSVR__dual=False, LinearSVR__epsilon=0.01, LinearSVR__loss=squared_epsilon_insensitive, LinearSVR__tol=1e-05), XGBRegressor__learning_rate=0.1, XGBRegressor__max_depth=3, XGBRegressor__min_child_weight=2, XGBRegressor__n_estimators=100, XGBRegressor__nthread=1, XGBRegressor__subsample=0.95)': (3,\n",
       "  -7120352411.8914948),\n",
       " 'XGBRegressor(LinearSVR(RBFSampler(input_matrix, RBFSampler__gamma=0.95), LinearSVR__C=1.0, LinearSVR__dual=True, LinearSVR__epsilon=0.001, LinearSVR__loss=squared_epsilon_insensitive, LinearSVR__tol=0.001), XGBRegressor__learning_rate=0.1, XGBRegressor__max_depth=4, XGBRegressor__min_child_weight=2, XGBRegressor__n_estimators=100, XGBRegressor__nthread=1, XGBRegressor__subsample=0.95)': (3,\n",
       "  -7552649118.7112293),\n",
       " 'XGBRegressor(LinearSVR(RidgeCV(CombineDFs(LinearSVR(CombineDFs(input_matrix, input_matrix), LinearSVR__C=0.1, LinearSVR__dual=False, LinearSVR__epsilon=0.1, LinearSVR__loss=squared_epsilon_insensitive, LinearSVR__tol=1e-05), input_matrix)), LinearSVR__C=0.1, LinearSVR__dual=False, LinearSVR__epsilon=0.1, LinearSVR__loss=squared_epsilon_insensitive, LinearSVR__tol=0.1), XGBRegressor__learning_rate=0.1, XGBRegressor__max_depth=5, XGBRegressor__min_child_weight=2, XGBRegressor__n_estimators=100, XGBRegressor__nthread=1, XGBRegressor__subsample=0.95)': (4,\n",
       "  -850918376.78168547),\n",
       " 'XGBRegressor(LinearSVR(RidgeCV(input_matrix), LinearSVR__C=1.0, LinearSVR__dual=True, LinearSVR__epsilon=0.001, LinearSVR__loss=squared_epsilon_insensitive, LinearSVR__tol=0.001), XGBRegressor__learning_rate=0.1, XGBRegressor__max_depth=4, XGBRegressor__min_child_weight=2, XGBRegressor__n_estimators=100, XGBRegressor__nthread=1, XGBRegressor__subsample=0.95)': (3,\n",
       "  -694026407.46850419),\n",
       " 'XGBRegressor(LinearSVR(SelectFwe(CombineDFs(input_matrix, input_matrix), SelectFwe__alpha=0.046), LinearSVR__C=0.1, LinearSVR__dual=False, LinearSVR__epsilon=0.1, LinearSVR__loss=squared_epsilon_insensitive, LinearSVR__tol=1e-05), XGBRegressor__learning_rate=0.1, XGBRegressor__max_depth=7, XGBRegressor__min_child_weight=2, XGBRegressor__n_estimators=100, XGBRegressor__nthread=1, XGBRegressor__subsample=0.95)': (3,\n",
       "  -628864664.5762769),\n",
       " 'XGBRegressor(LinearSVR(SelectPercentile(input_matrix, SelectPercentile__percentile=19), LinearSVR__C=1.0, LinearSVR__dual=True, LinearSVR__epsilon=0.001, LinearSVR__loss=squared_epsilon_insensitive, LinearSVR__tol=0.001), XGBRegressor__learning_rate=0.1, XGBRegressor__max_depth=4, XGBRegressor__min_child_weight=2, XGBRegressor__n_estimators=100, XGBRegressor__nthread=1, XGBRegressor__subsample=0.95)': (3,\n",
       "  -755960047.01536298),\n",
       " 'XGBRegressor(LinearSVR(StandardScaler(LinearSVR(input_matrix, LinearSVR__C=1.0, LinearSVR__dual=True, LinearSVR__epsilon=0.1, LinearSVR__loss=squared_epsilon_insensitive, LinearSVR__tol=0.001)), LinearSVR__C=0.1, LinearSVR__dual=False, LinearSVR__epsilon=0.1, LinearSVR__loss=squared_epsilon_insensitive, LinearSVR__tol=1e-05), XGBRegressor__learning_rate=0.1, XGBRegressor__max_depth=5, XGBRegressor__min_child_weight=2, XGBRegressor__n_estimators=100, XGBRegressor__nthread=1, XGBRegressor__subsample=0.95)': (4,\n",
       "  -903003891.89544928),\n",
       " 'XGBRegressor(LinearSVR(StandardScaler(input_matrix), LinearSVR__C=1.0, LinearSVR__dual=True, LinearSVR__epsilon=0.0001, LinearSVR__loss=squared_epsilon_insensitive, LinearSVR__tol=0.001), XGBRegressor__learning_rate=0.1, XGBRegressor__max_depth=4, XGBRegressor__min_child_weight=2, XGBRegressor__n_estimators=100, XGBRegressor__nthread=1, XGBRegressor__subsample=0.95)': (3,\n",
       "  -1016549468.8180542),\n",
       " 'XGBRegressor(LinearSVR(StandardScaler(input_matrix), LinearSVR__C=1.0, LinearSVR__dual=True, LinearSVR__epsilon=0.001, LinearSVR__loss=squared_epsilon_insensitive, LinearSVR__tol=0.1), XGBRegressor__learning_rate=0.1, XGBRegressor__max_depth=6, XGBRegressor__min_child_weight=2, XGBRegressor__n_estimators=100, XGBRegressor__nthread=1, XGBRegressor__subsample=0.95)': (3,\n",
       "  -990284580.94639587),\n",
       " 'XGBRegressor(LinearSVR(StandardScaler(input_matrix), LinearSVR__C=10.0, LinearSVR__dual=True, LinearSVR__epsilon=0.001, LinearSVR__loss=squared_epsilon_insensitive, LinearSVR__tol=0.1), XGBRegressor__learning_rate=0.1, XGBRegressor__max_depth=6, XGBRegressor__min_child_weight=2, XGBRegressor__n_estimators=100, XGBRegressor__nthread=1, XGBRegressor__subsample=0.95)': (3,\n",
       "  -1006262278.7568753),\n",
       " 'XGBRegressor(LinearSVR(XGBRegressor(input_matrix, XGBRegressor__learning_rate=0.5, XGBRegressor__max_depth=3, XGBRegressor__min_child_weight=5, XGBRegressor__n_estimators=100, XGBRegressor__nthread=1, XGBRegressor__subsample=0.95), LinearSVR__C=0.1, LinearSVR__dual=False, LinearSVR__epsilon=0.01, LinearSVR__loss=squared_epsilon_insensitive, LinearSVR__tol=1e-05), XGBRegressor__learning_rate=0.1, XGBRegressor__max_depth=3, XGBRegressor__min_child_weight=2, XGBRegressor__n_estimators=100, XGBRegressor__nthread=1, XGBRegressor__subsample=0.95)': (3,\n",
       "  -1147289027.8481693),\n",
       " 'XGBRegressor(LinearSVR(ZeroCount(CombineDFs(input_matrix, input_matrix)), LinearSVR__C=0.1, LinearSVR__dual=False, LinearSVR__epsilon=0.1, LinearSVR__loss=squared_epsilon_insensitive, LinearSVR__tol=1e-05), XGBRegressor__learning_rate=0.1, XGBRegressor__max_depth=7, XGBRegressor__min_child_weight=2, XGBRegressor__n_estimators=100, XGBRegressor__nthread=1, XGBRegressor__subsample=0.95)': (3,\n",
       "  -576729701.10279739),\n",
       " 'XGBRegressor(LinearSVR(ZeroCount(input_matrix), LinearSVR__C=1.0, LinearSVR__dual=True, LinearSVR__epsilon=0.0001, LinearSVR__loss=squared_epsilon_insensitive, LinearSVR__tol=0.001), XGBRegressor__learning_rate=0.1, XGBRegressor__max_depth=4, XGBRegressor__min_child_weight=2, XGBRegressor__n_estimators=100, XGBRegressor__nthread=1, XGBRegressor__subsample=0.95)': (3,\n",
       "  -677288534.5822432),\n",
       " 'XGBRegressor(LinearSVR(input_matrix, LinearSVR__C=0.0001, LinearSVR__dual=False, LinearSVR__epsilon=0.001, LinearSVR__loss=squared_epsilon_insensitive, LinearSVR__tol=1e-05), XGBRegressor__learning_rate=0.1, XGBRegressor__max_depth=3, XGBRegressor__min_child_weight=2, XGBRegressor__n_estimators=100, XGBRegressor__nthread=1, XGBRegressor__subsample=0.95)': (2,\n",
       "  -607093303.29240894),\n",
       " 'XGBRegressor(LinearSVR(input_matrix, LinearSVR__C=0.0001, LinearSVR__dual=False, LinearSVR__epsilon=0.01, LinearSVR__loss=squared_epsilon_insensitive, LinearSVR__tol=1e-05), XGBRegressor__learning_rate=0.1, XGBRegressor__max_depth=4, XGBRegressor__min_child_weight=2, XGBRegressor__n_estimators=100, XGBRegressor__nthread=1, XGBRegressor__subsample=0.7)': (2,\n",
       "  -673088945.06836569),\n",
       " 'XGBRegressor(LinearSVR(input_matrix, LinearSVR__C=0.01, LinearSVR__dual=True, LinearSVR__epsilon=0.001, LinearSVR__loss=squared_epsilon_insensitive, LinearSVR__tol=0.1), XGBRegressor__learning_rate=0.1, XGBRegressor__max_depth=6, XGBRegressor__min_child_weight=2, XGBRegressor__n_estimators=100, XGBRegressor__nthread=1, XGBRegressor__subsample=0.95)': (2,\n",
       "  -653292870.59354091),\n",
       " 'XGBRegressor(LinearSVR(input_matrix, LinearSVR__C=0.1, LinearSVR__dual=False, LinearSVR__epsilon=0.0001, LinearSVR__loss=squared_epsilon_insensitive, LinearSVR__tol=1e-05), XGBRegressor__learning_rate=0.1, XGBRegressor__max_depth=5, XGBRegressor__min_child_weight=2, XGBRegressor__n_estimators=100, XGBRegressor__nthread=1, XGBRegressor__subsample=0.95)': (2,\n",
       "  -669829797.38437366),\n",
       " 'XGBRegressor(LinearSVR(input_matrix, LinearSVR__C=0.1, LinearSVR__dual=False, LinearSVR__epsilon=0.001, LinearSVR__loss=squared_epsilon_insensitive, LinearSVR__tol=1e-05), XGBRegressor__learning_rate=0.1, XGBRegressor__max_depth=3, XGBRegressor__min_child_weight=2, XGBRegressor__n_estimators=100, XGBRegressor__nthread=1, XGBRegressor__subsample=0.55)': (2,\n",
       "  -641060290.7813853),\n",
       " 'XGBRegressor(LinearSVR(input_matrix, LinearSVR__C=0.1, LinearSVR__dual=False, LinearSVR__epsilon=0.001, LinearSVR__loss=squared_epsilon_insensitive, LinearSVR__tol=1e-05), XGBRegressor__learning_rate=0.1, XGBRegressor__max_depth=3, XGBRegressor__min_child_weight=2, XGBRegressor__n_estimators=100, XGBRegressor__nthread=1, XGBRegressor__subsample=0.95)': (2,\n",
       "  -614574737.81449199),\n",
       " 'XGBRegressor(LinearSVR(input_matrix, LinearSVR__C=0.1, LinearSVR__dual=False, LinearSVR__epsilon=0.001, LinearSVR__loss=squared_epsilon_insensitive, LinearSVR__tol=1e-05), XGBRegressor__learning_rate=0.5, XGBRegressor__max_depth=3, XGBRegressor__min_child_weight=2, XGBRegressor__n_estimators=100, XGBRegressor__nthread=1, XGBRegressor__subsample=0.95)': (2,\n",
       "  -694291166.77982819),\n",
       " 'XGBRegressor(LinearSVR(input_matrix, LinearSVR__C=0.1, LinearSVR__dual=False, LinearSVR__epsilon=0.01, LinearSVR__loss=squared_epsilon_insensitive, LinearSVR__tol=0.01), XGBRegressor__learning_rate=0.1, XGBRegressor__max_depth=3, XGBRegressor__min_child_weight=2, XGBRegressor__n_estimators=100, XGBRegressor__nthread=1, XGBRegressor__subsample=0.95)': (2,\n",
       "  -686096367.98113084),\n",
       " 'XGBRegressor(LinearSVR(input_matrix, LinearSVR__C=0.1, LinearSVR__dual=False, LinearSVR__epsilon=0.01, LinearSVR__loss=squared_epsilon_insensitive, LinearSVR__tol=0.1), XGBRegressor__learning_rate=0.1, XGBRegressor__max_depth=3, XGBRegressor__min_child_weight=2, XGBRegressor__n_estimators=100, XGBRegressor__nthread=1, XGBRegressor__subsample=0.95)': (2,\n",
       "  -773682885.39753973),\n",
       " 'XGBRegressor(LinearSVR(input_matrix, LinearSVR__C=0.1, LinearSVR__dual=False, LinearSVR__epsilon=0.01, LinearSVR__loss=squared_epsilon_insensitive, LinearSVR__tol=1e-05), XGBRegressor__learning_rate=0.1, XGBRegressor__max_depth=3, XGBRegressor__min_child_weight=18, XGBRegressor__n_estimators=100, XGBRegressor__nthread=1, XGBRegressor__subsample=0.95)': (2,\n",
       "  -802248884.75444198),\n",
       " 'XGBRegressor(LinearSVR(input_matrix, LinearSVR__C=0.1, LinearSVR__dual=False, LinearSVR__epsilon=0.01, LinearSVR__loss=squared_epsilon_insensitive, LinearSVR__tol=1e-05), XGBRegressor__learning_rate=0.1, XGBRegressor__max_depth=3, XGBRegressor__min_child_weight=2, XGBRegressor__n_estimators=100, XGBRegressor__nthread=1, XGBRegressor__subsample=0.95)': (2,\n",
       "  -592450521.32543969),\n",
       " 'XGBRegressor(LinearSVR(input_matrix, LinearSVR__C=0.1, LinearSVR__dual=False, LinearSVR__epsilon=0.01, LinearSVR__loss=squared_epsilon_insensitive, LinearSVR__tol=1e-05), XGBRegressor__learning_rate=0.1, XGBRegressor__max_depth=4, XGBRegressor__min_child_weight=2, XGBRegressor__n_estimators=100, XGBRegressor__nthread=1, XGBRegressor__subsample=0.7)': (2,\n",
       "  -609409228.39754128),\n",
       " 'XGBRegressor(LinearSVR(input_matrix, LinearSVR__C=0.1, LinearSVR__dual=False, LinearSVR__epsilon=0.01, LinearSVR__loss=squared_epsilon_insensitive, LinearSVR__tol=1e-05), XGBRegressor__learning_rate=0.1, XGBRegressor__max_depth=4, XGBRegressor__min_child_weight=2, XGBRegressor__n_estimators=100, XGBRegressor__nthread=1, XGBRegressor__subsample=0.95)': (2,\n",
       "  -594421817.55064297),\n",
       " 'XGBRegressor(LinearSVR(input_matrix, LinearSVR__C=0.1, LinearSVR__dual=False, LinearSVR__epsilon=0.01, LinearSVR__loss=squared_epsilon_insensitive, LinearSVR__tol=1e-05), XGBRegressor__learning_rate=0.1, XGBRegressor__max_depth=5, XGBRegressor__min_child_weight=2, XGBRegressor__n_estimators=100, XGBRegressor__nthread=1, XGBRegressor__subsample=0.95)': (2,\n",
       "  -620714736.7119137),\n",
       " 'XGBRegressor(LinearSVR(input_matrix, LinearSVR__C=0.1, LinearSVR__dual=False, LinearSVR__epsilon=0.1, LinearSVR__loss=squared_epsilon_insensitive, LinearSVR__tol=1e-05), XGBRegressor__learning_rate=0.1, XGBRegressor__max_depth=3, XGBRegressor__min_child_weight=2, XGBRegressor__n_estimators=100, XGBRegressor__nthread=1, XGBRegressor__subsample=0.95)': (2,\n",
       "  -614639769.98867893),\n",
       " 'XGBRegressor(LinearSVR(input_matrix, LinearSVR__C=0.1, LinearSVR__dual=False, LinearSVR__epsilon=0.1, LinearSVR__loss=squared_epsilon_insensitive, LinearSVR__tol=1e-05), XGBRegressor__learning_rate=0.1, XGBRegressor__max_depth=4, XGBRegressor__min_child_weight=2, XGBRegressor__n_estimators=100, XGBRegressor__nthread=1, XGBRegressor__subsample=0.95)': (2,\n",
       "  -609410762.37547016),\n",
       " 'XGBRegressor(LinearSVR(input_matrix, LinearSVR__C=0.1, LinearSVR__dual=False, LinearSVR__epsilon=0.1, LinearSVR__loss=squared_epsilon_insensitive, LinearSVR__tol=1e-05), XGBRegressor__learning_rate=0.1, XGBRegressor__max_depth=5, XGBRegressor__min_child_weight=2, XGBRegressor__n_estimators=100, XGBRegressor__nthread=1, XGBRegressor__subsample=0.95)': (2,\n",
       "  -616140493.12362719),\n",
       " 'XGBRegressor(LinearSVR(input_matrix, LinearSVR__C=0.1, LinearSVR__dual=False, LinearSVR__epsilon=0.1, LinearSVR__loss=squared_epsilon_insensitive, LinearSVR__tol=1e-05), XGBRegressor__learning_rate=0.1, XGBRegressor__max_depth=7, XGBRegressor__min_child_weight=2, XGBRegressor__n_estimators=100, XGBRegressor__nthread=1, XGBRegressor__subsample=0.95)': (2,\n",
       "  -632025221.4522444),\n",
       " 'XGBRegressor(LinearSVR(input_matrix, LinearSVR__C=0.1, LinearSVR__dual=True, LinearSVR__epsilon=0.0001, LinearSVR__loss=squared_epsilon_insensitive, LinearSVR__tol=0.001), XGBRegressor__learning_rate=0.1, XGBRegressor__max_depth=3, XGBRegressor__min_child_weight=2, XGBRegressor__n_estimators=100, XGBRegressor__nthread=1, XGBRegressor__subsample=0.95)': (2,\n",
       "  -620937156.40192485),\n",
       " 'XGBRegressor(LinearSVR(input_matrix, LinearSVR__C=0.1, LinearSVR__dual=True, LinearSVR__epsilon=0.0001, LinearSVR__loss=squared_epsilon_insensitive, LinearSVR__tol=0.01), XGBRegressor__learning_rate=0.1, XGBRegressor__max_depth=3, XGBRegressor__min_child_weight=2, XGBRegressor__n_estimators=100, XGBRegressor__nthread=1, XGBRegressor__subsample=0.95)': (2,\n",
       "  -620937156.40192485),\n",
       " 'XGBRegressor(LinearSVR(input_matrix, LinearSVR__C=0.1, LinearSVR__dual=True, LinearSVR__epsilon=0.0001, LinearSVR__loss=squared_epsilon_insensitive, LinearSVR__tol=0.01), XGBRegressor__learning_rate=0.1, XGBRegressor__max_depth=4, XGBRegressor__min_child_weight=2, XGBRegressor__n_estimators=100, XGBRegressor__nthread=1, XGBRegressor__subsample=0.7)': (2,\n",
       "  -674256737.93730259),\n",
       " 'XGBRegressor(LinearSVR(input_matrix, LinearSVR__C=0.1, LinearSVR__dual=True, LinearSVR__epsilon=0.0001, LinearSVR__loss=squared_epsilon_insensitive, LinearSVR__tol=1e-05), XGBRegressor__learning_rate=0.1, XGBRegressor__max_depth=3, XGBRegressor__min_child_weight=2, XGBRegressor__n_estimators=100, XGBRegressor__nthread=1, XGBRegressor__subsample=0.95)': (2,\n",
       "  -620937156.40192485),\n",
       " 'XGBRegressor(LinearSVR(input_matrix, LinearSVR__C=0.1, LinearSVR__dual=True, LinearSVR__epsilon=0.001, LinearSVR__loss=epsilon_insensitive, LinearSVR__tol=1e-05), XGBRegressor__learning_rate=0.1, XGBRegressor__max_depth=3, XGBRegressor__min_child_weight=2, XGBRegressor__n_estimators=100, XGBRegressor__nthread=1, XGBRegressor__subsample=0.95)': (2,\n",
       "  -636861054.76891255),\n",
       " 'XGBRegressor(LinearSVR(input_matrix, LinearSVR__C=0.1, LinearSVR__dual=True, LinearSVR__epsilon=0.001, LinearSVR__loss=squared_epsilon_insensitive, LinearSVR__tol=0.0001), XGBRegressor__learning_rate=0.1, XGBRegressor__max_depth=3, XGBRegressor__min_child_weight=2, XGBRegressor__n_estimators=100, XGBRegressor__nthread=1, XGBRegressor__subsample=0.95)': (2,\n",
       "  -620937156.40192485),\n",
       " 'XGBRegressor(LinearSVR(input_matrix, LinearSVR__C=0.1, LinearSVR__dual=True, LinearSVR__epsilon=0.001, LinearSVR__loss=squared_epsilon_insensitive, LinearSVR__tol=0.001), XGBRegressor__learning_rate=0.1, XGBRegressor__max_depth=3, XGBRegressor__min_child_weight=2, XGBRegressor__n_estimators=100, XGBRegressor__nthread=1, XGBRegressor__subsample=0.45)': (2,\n",
       "  -709117400.28245676),\n",
       " 'XGBRegressor(LinearSVR(input_matrix, LinearSVR__C=0.1, LinearSVR__dual=True, LinearSVR__epsilon=0.001, LinearSVR__loss=squared_epsilon_insensitive, LinearSVR__tol=0.001), XGBRegressor__learning_rate=0.1, XGBRegressor__max_depth=3, XGBRegressor__min_child_weight=2, XGBRegressor__n_estimators=100, XGBRegressor__nthread=1, XGBRegressor__subsample=0.95)': (2,\n",
       "  -620937156.40192485),\n",
       " 'XGBRegressor(LinearSVR(input_matrix, LinearSVR__C=0.1, LinearSVR__dual=True, LinearSVR__epsilon=0.001, LinearSVR__loss=squared_epsilon_insensitive, LinearSVR__tol=0.001), XGBRegressor__learning_rate=0.1, XGBRegressor__max_depth=3, XGBRegressor__min_child_weight=6, XGBRegressor__n_estimators=100, XGBRegressor__nthread=1, XGBRegressor__subsample=0.95)': (2,\n",
       "  -744447996.73111391),\n",
       " 'XGBRegressor(LinearSVR(input_matrix, LinearSVR__C=0.1, LinearSVR__dual=True, LinearSVR__epsilon=0.001, LinearSVR__loss=squared_epsilon_insensitive, LinearSVR__tol=0.001), XGBRegressor__learning_rate=0.1, XGBRegressor__max_depth=4, XGBRegressor__min_child_weight=2, XGBRegressor__n_estimators=100, XGBRegressor__nthread=1, XGBRegressor__subsample=0.7)': (2,\n",
       "  -674256737.93730259),\n",
       " 'XGBRegressor(LinearSVR(input_matrix, LinearSVR__C=0.1, LinearSVR__dual=True, LinearSVR__epsilon=0.001, LinearSVR__loss=squared_epsilon_insensitive, LinearSVR__tol=0.001), XGBRegressor__learning_rate=0.1, XGBRegressor__max_depth=6, XGBRegressor__min_child_weight=2, XGBRegressor__n_estimators=100, XGBRegressor__nthread=1, XGBRegressor__subsample=0.95)': (2,\n",
       "  -631995229.59549677),\n",
       " 'XGBRegressor(LinearSVR(input_matrix, LinearSVR__C=0.1, LinearSVR__dual=True, LinearSVR__epsilon=0.001, LinearSVR__loss=squared_epsilon_insensitive, LinearSVR__tol=0.001), XGBRegressor__learning_rate=0.1, XGBRegressor__max_depth=6, XGBRegressor__min_child_weight=2, XGBRegressor__n_estimators=100, XGBRegressor__nthread=1, XGBRegressor__subsample=1.0)': (2,\n",
       "  -673337682.42444026),\n",
       " 'XGBRegressor(LinearSVR(input_matrix, LinearSVR__C=0.1, LinearSVR__dual=True, LinearSVR__epsilon=0.001, LinearSVR__loss=squared_epsilon_insensitive, LinearSVR__tol=0.001), XGBRegressor__learning_rate=0.1, XGBRegressor__max_depth=7, XGBRegressor__min_child_weight=2, XGBRegressor__n_estimators=100, XGBRegressor__nthread=1, XGBRegressor__subsample=0.95)': (2,\n",
       "  -657753102.45623088),\n",
       " 'XGBRegressor(LinearSVR(input_matrix, LinearSVR__C=0.1, LinearSVR__dual=True, LinearSVR__epsilon=0.001, LinearSVR__loss=squared_epsilon_insensitive, LinearSVR__tol=0.001), XGBRegressor__learning_rate=0.5, XGBRegressor__max_depth=3, XGBRegressor__min_child_weight=2, XGBRegressor__n_estimators=100, XGBRegressor__nthread=1, XGBRegressor__subsample=0.95)': (2,\n",
       "  -827427533.05549109),\n",
       " 'XGBRegressor(LinearSVR(input_matrix, LinearSVR__C=0.1, LinearSVR__dual=True, LinearSVR__epsilon=0.001, LinearSVR__loss=squared_epsilon_insensitive, LinearSVR__tol=0.01), XGBRegressor__learning_rate=0.1, XGBRegressor__max_depth=3, XGBRegressor__min_child_weight=2, XGBRegressor__n_estimators=100, XGBRegressor__nthread=1, XGBRegressor__subsample=0.95)': (2,\n",
       "  -620937156.40192485),\n",
       " 'XGBRegressor(LinearSVR(input_matrix, LinearSVR__C=0.1, LinearSVR__dual=True, LinearSVR__epsilon=0.001, LinearSVR__loss=squared_epsilon_insensitive, LinearSVR__tol=0.01), XGBRegressor__learning_rate=0.1, XGBRegressor__max_depth=4, XGBRegressor__min_child_weight=2, XGBRegressor__n_estimators=100, XGBRegressor__nthread=1, XGBRegressor__subsample=0.7)': (2,\n",
       "  -674256737.93730259),\n",
       " 'XGBRegressor(LinearSVR(input_matrix, LinearSVR__C=0.1, LinearSVR__dual=True, LinearSVR__epsilon=0.001, LinearSVR__loss=squared_epsilon_insensitive, LinearSVR__tol=0.01), XGBRegressor__learning_rate=0.1, XGBRegressor__max_depth=6, XGBRegressor__min_child_weight=2, XGBRegressor__n_estimators=100, XGBRegressor__nthread=1, XGBRegressor__subsample=0.95)': (2,\n",
       "  -631995229.59549677),\n",
       " 'XGBRegressor(LinearSVR(input_matrix, LinearSVR__C=0.1, LinearSVR__dual=True, LinearSVR__epsilon=0.001, LinearSVR__loss=squared_epsilon_insensitive, LinearSVR__tol=0.1), XGBRegressor__learning_rate=0.1, XGBRegressor__max_depth=6, XGBRegressor__min_child_weight=2, XGBRegressor__n_estimators=100, XGBRegressor__nthread=1, XGBRegressor__subsample=0.95)': (2,\n",
       "  -631995229.59549677),\n",
       " 'XGBRegressor(LinearSVR(input_matrix, LinearSVR__C=0.1, LinearSVR__dual=True, LinearSVR__epsilon=0.001, LinearSVR__loss=squared_epsilon_insensitive, LinearSVR__tol=1e-05), XGBRegressor__learning_rate=0.01, XGBRegressor__max_depth=3, XGBRegressor__min_child_weight=2, XGBRegressor__n_estimators=100, XGBRegressor__nthread=1, XGBRegressor__subsample=0.95)': (2,\n",
       "  -6469320068.6925678),\n",
       " 'XGBRegressor(LinearSVR(input_matrix, LinearSVR__C=0.1, LinearSVR__dual=True, LinearSVR__epsilon=0.001, LinearSVR__loss=squared_epsilon_insensitive, LinearSVR__tol=1e-05), XGBRegressor__learning_rate=0.1, XGBRegressor__max_depth=3, XGBRegressor__min_child_weight=2, XGBRegressor__n_estimators=100, XGBRegressor__nthread=1, XGBRegressor__subsample=0.95)': (2,\n",
       "  -620937156.40192485),\n",
       " 'XGBRegressor(LinearSVR(input_matrix, LinearSVR__C=0.1, LinearSVR__dual=True, LinearSVR__epsilon=0.01, LinearSVR__loss=squared_epsilon_insensitive, LinearSVR__tol=0.001), XGBRegressor__learning_rate=0.1, XGBRegressor__max_depth=3, XGBRegressor__min_child_weight=2, XGBRegressor__n_estimators=100, XGBRegressor__nthread=1, XGBRegressor__subsample=0.95)': (2,\n",
       "  -620937156.40192485),\n",
       " 'XGBRegressor(LinearSVR(input_matrix, LinearSVR__C=0.1, LinearSVR__dual=True, LinearSVR__epsilon=0.01, LinearSVR__loss=squared_epsilon_insensitive, LinearSVR__tol=0.01), XGBRegressor__learning_rate=0.1, XGBRegressor__max_depth=3, XGBRegressor__min_child_weight=2, XGBRegressor__n_estimators=100, XGBRegressor__nthread=1, XGBRegressor__subsample=0.95)': (2,\n",
       "  -620937156.40192485),\n",
       " 'XGBRegressor(LinearSVR(input_matrix, LinearSVR__C=0.1, LinearSVR__dual=True, LinearSVR__epsilon=0.01, LinearSVR__loss=squared_epsilon_insensitive, LinearSVR__tol=1e-05), XGBRegressor__learning_rate=0.1, XGBRegressor__max_depth=3, XGBRegressor__min_child_weight=2, XGBRegressor__n_estimators=100, XGBRegressor__nthread=1, XGBRegressor__subsample=0.95)': (2,\n",
       "  -620937156.40192485),\n",
       " 'XGBRegressor(LinearSVR(input_matrix, LinearSVR__C=0.5, LinearSVR__dual=True, LinearSVR__epsilon=0.001, LinearSVR__loss=squared_epsilon_insensitive, LinearSVR__tol=1e-05), XGBRegressor__learning_rate=0.1, XGBRegressor__max_depth=3, XGBRegressor__min_child_weight=2, XGBRegressor__n_estimators=100, XGBRegressor__nthread=1, XGBRegressor__subsample=0.95)': (2,\n",
       "  -632385631.09422553),\n",
       " 'XGBRegressor(LinearSVR(input_matrix, LinearSVR__C=1.0, LinearSVR__dual=False, LinearSVR__epsilon=0.001, LinearSVR__loss=squared_epsilon_insensitive, LinearSVR__tol=0.001), XGBRegressor__learning_rate=0.1, XGBRegressor__max_depth=4, XGBRegressor__min_child_weight=2, XGBRegressor__n_estimators=100, XGBRegressor__nthread=1, XGBRegressor__subsample=0.95)': (2,\n",
       "  -711887200.6308043),\n",
       " 'XGBRegressor(LinearSVR(input_matrix, LinearSVR__C=1.0, LinearSVR__dual=False, LinearSVR__epsilon=0.001, LinearSVR__loss=squared_epsilon_insensitive, LinearSVR__tol=0.1), XGBRegressor__learning_rate=0.1, XGBRegressor__max_depth=6, XGBRegressor__min_child_weight=2, XGBRegressor__n_estimators=100, XGBRegressor__nthread=1, XGBRegressor__subsample=0.95)': (2,\n",
       "  -760617101.85089302),\n",
       " 'XGBRegressor(LinearSVR(input_matrix, LinearSVR__C=1.0, LinearSVR__dual=False, LinearSVR__epsilon=0.1, LinearSVR__loss=squared_epsilon_insensitive, LinearSVR__tol=0.01), XGBRegressor__learning_rate=0.1, XGBRegressor__max_depth=4, XGBRegressor__min_child_weight=2, XGBRegressor__n_estimators=100, XGBRegressor__nthread=1, XGBRegressor__subsample=0.7)': (2,\n",
       "  -671344002.73773217),\n",
       " 'XGBRegressor(LinearSVR(input_matrix, LinearSVR__C=1.0, LinearSVR__dual=True, LinearSVR__epsilon=0.0001, LinearSVR__loss=epsilon_insensitive, LinearSVR__tol=0.001), XGBRegressor__learning_rate=0.1, XGBRegressor__max_depth=4, XGBRegressor__min_child_weight=2, XGBRegressor__n_estimators=100, XGBRegressor__nthread=1, XGBRegressor__subsample=0.95)': (2,\n",
       "  -673416305.817173),\n",
       " 'XGBRegressor(LinearSVR(input_matrix, LinearSVR__C=1.0, LinearSVR__dual=True, LinearSVR__epsilon=0.0001, LinearSVR__loss=squared_epsilon_insensitive, LinearSVR__tol=0.001), XGBRegressor__learning_rate=0.1, XGBRegressor__max_depth=3, XGBRegressor__min_child_weight=2, XGBRegressor__n_estimators=100, XGBRegressor__nthread=1, XGBRegressor__subsample=0.95)': (2,\n",
       "  -632385631.09422553),\n",
       " 'XGBRegressor(LinearSVR(input_matrix, LinearSVR__C=1.0, LinearSVR__dual=True, LinearSVR__epsilon=0.0001, LinearSVR__loss=squared_epsilon_insensitive, LinearSVR__tol=0.001), XGBRegressor__learning_rate=0.1, XGBRegressor__max_depth=4, XGBRegressor__min_child_weight=2, XGBRegressor__n_estimators=100, XGBRegressor__nthread=1, XGBRegressor__subsample=0.4)': (2,\n",
       "  -745218946.19475818),\n",
       " 'XGBRegressor(LinearSVR(input_matrix, LinearSVR__C=1.0, LinearSVR__dual=True, LinearSVR__epsilon=0.0001, LinearSVR__loss=squared_epsilon_insensitive, LinearSVR__tol=0.001), XGBRegressor__learning_rate=0.1, XGBRegressor__max_depth=4, XGBRegressor__min_child_weight=2, XGBRegressor__n_estimators=100, XGBRegressor__nthread=1, XGBRegressor__subsample=0.95)': (2,\n",
       "  -629006653.29983449),\n",
       " 'XGBRegressor(LinearSVR(input_matrix, LinearSVR__C=1.0, LinearSVR__dual=True, LinearSVR__epsilon=0.0001, LinearSVR__loss=squared_epsilon_insensitive, LinearSVR__tol=0.001), XGBRegressor__learning_rate=0.1, XGBRegressor__max_depth=4, XGBRegressor__min_child_weight=5, XGBRegressor__n_estimators=100, XGBRegressor__nthread=1, XGBRegressor__subsample=0.95)': (2,\n",
       "  -738959326.82925904),\n",
       " 'XGBRegressor(LinearSVR(input_matrix, LinearSVR__C=1.0, LinearSVR__dual=True, LinearSVR__epsilon=0.001, LinearSVR__loss=epsilon_insensitive, LinearSVR__tol=0.001), XGBRegressor__learning_rate=0.1, XGBRegressor__max_depth=6, XGBRegressor__min_child_weight=2, XGBRegressor__n_estimators=100, XGBRegressor__nthread=1, XGBRegressor__subsample=0.95)': (2,\n",
       "  -701398589.54439104),\n",
       " 'XGBRegressor(LinearSVR(input_matrix, LinearSVR__C=1.0, LinearSVR__dual=True, LinearSVR__epsilon=0.001, LinearSVR__loss=squared_epsilon_insensitive, LinearSVR__tol=0.001), XGBRegressor__learning_rate=0.1, XGBRegressor__max_depth=3, XGBRegressor__min_child_weight=2, XGBRegressor__n_estimators=100, XGBRegressor__nthread=1, XGBRegressor__subsample=0.95)': (2,\n",
       "  -632385631.09422553),\n",
       " 'XGBRegressor(LinearSVR(input_matrix, LinearSVR__C=1.0, LinearSVR__dual=True, LinearSVR__epsilon=0.001, LinearSVR__loss=squared_epsilon_insensitive, LinearSVR__tol=0.001), XGBRegressor__learning_rate=0.1, XGBRegressor__max_depth=4, XGBRegressor__min_child_weight=2, XGBRegressor__n_estimators=100, XGBRegressor__nthread=1, XGBRegressor__subsample=0.7)': (2,\n",
       "  -680856522.00216556),\n",
       " 'XGBRegressor(LinearSVR(input_matrix, LinearSVR__C=1.0, LinearSVR__dual=True, LinearSVR__epsilon=0.001, LinearSVR__loss=squared_epsilon_insensitive, LinearSVR__tol=0.001), XGBRegressor__learning_rate=0.1, XGBRegressor__max_depth=4, XGBRegressor__min_child_weight=2, XGBRegressor__n_estimators=100, XGBRegressor__nthread=1, XGBRegressor__subsample=0.95)': (2,\n",
       "  -629006653.29983449),\n",
       " 'XGBRegressor(LinearSVR(input_matrix, LinearSVR__C=1.0, LinearSVR__dual=True, LinearSVR__epsilon=0.001, LinearSVR__loss=squared_epsilon_insensitive, LinearSVR__tol=0.001), XGBRegressor__learning_rate=0.1, XGBRegressor__max_depth=6, XGBRegressor__min_child_weight=16, XGBRegressor__n_estimators=100, XGBRegressor__nthread=1, XGBRegressor__subsample=0.95)': (2,\n",
       "  -791144318.18838453),\n",
       " 'XGBRegressor(LinearSVR(input_matrix, LinearSVR__C=1.0, LinearSVR__dual=True, LinearSVR__epsilon=0.001, LinearSVR__loss=squared_epsilon_insensitive, LinearSVR__tol=0.001), XGBRegressor__learning_rate=0.1, XGBRegressor__max_depth=6, XGBRegressor__min_child_weight=2, XGBRegressor__n_estimators=100, XGBRegressor__nthread=1, XGBRegressor__subsample=0.4)': (2,\n",
       "  -750327837.79382288),\n",
       " 'XGBRegressor(LinearSVR(input_matrix, LinearSVR__C=1.0, LinearSVR__dual=True, LinearSVR__epsilon=0.001, LinearSVR__loss=squared_epsilon_insensitive, LinearSVR__tol=0.001), XGBRegressor__learning_rate=0.1, XGBRegressor__max_depth=6, XGBRegressor__min_child_weight=2, XGBRegressor__n_estimators=100, XGBRegressor__nthread=1, XGBRegressor__subsample=0.7)': (2,\n",
       "  -669015596.6495862),\n",
       " 'XGBRegressor(LinearSVR(input_matrix, LinearSVR__C=1.0, LinearSVR__dual=True, LinearSVR__epsilon=0.001, LinearSVR__loss=squared_epsilon_insensitive, LinearSVR__tol=0.001), XGBRegressor__learning_rate=0.1, XGBRegressor__max_depth=6, XGBRegressor__min_child_weight=2, XGBRegressor__n_estimators=100, XGBRegressor__nthread=1, XGBRegressor__subsample=0.95)': (2,\n",
       "  -629221888.71076393),\n",
       " 'XGBRegressor(LinearSVR(input_matrix, LinearSVR__C=1.0, LinearSVR__dual=True, LinearSVR__epsilon=0.001, LinearSVR__loss=squared_epsilon_insensitive, LinearSVR__tol=0.001), XGBRegressor__learning_rate=0.1, XGBRegressor__max_depth=6, XGBRegressor__min_child_weight=6, XGBRegressor__n_estimators=100, XGBRegressor__nthread=1, XGBRegressor__subsample=0.7)': (2,\n",
       "  -805709802.21221983),\n",
       " 'XGBRegressor(LinearSVR(input_matrix, LinearSVR__C=1.0, LinearSVR__dual=True, LinearSVR__epsilon=0.001, LinearSVR__loss=squared_epsilon_insensitive, LinearSVR__tol=0.1), XGBRegressor__learning_rate=0.001, XGBRegressor__max_depth=6, XGBRegressor__min_child_weight=2, XGBRegressor__n_estimators=100, XGBRegressor__nthread=1, XGBRegressor__subsample=0.95)': (2,\n",
       "  -32425697664.659271),\n",
       " 'XGBRegressor(LinearSVR(input_matrix, LinearSVR__C=1.0, LinearSVR__dual=True, LinearSVR__epsilon=0.001, LinearSVR__loss=squared_epsilon_insensitive, LinearSVR__tol=0.1), XGBRegressor__learning_rate=0.1, XGBRegressor__max_depth=5, XGBRegressor__min_child_weight=2, XGBRegressor__n_estimators=100, XGBRegressor__nthread=1, XGBRegressor__subsample=0.95)': (2,\n",
       "  -649465045.26501203),\n",
       " 'XGBRegressor(LinearSVR(input_matrix, LinearSVR__C=1.0, LinearSVR__dual=True, LinearSVR__epsilon=0.001, LinearSVR__loss=squared_epsilon_insensitive, LinearSVR__tol=0.1), XGBRegressor__learning_rate=0.1, XGBRegressor__max_depth=6, XGBRegressor__min_child_weight=14, XGBRegressor__n_estimators=100, XGBRegressor__nthread=1, XGBRegressor__subsample=0.95)': (2,\n",
       "  -776725920.15449309),\n",
       " 'XGBRegressor(LinearSVR(input_matrix, LinearSVR__C=1.0, LinearSVR__dual=True, LinearSVR__epsilon=0.001, LinearSVR__loss=squared_epsilon_insensitive, LinearSVR__tol=0.1), XGBRegressor__learning_rate=0.1, XGBRegressor__max_depth=6, XGBRegressor__min_child_weight=18, XGBRegressor__n_estimators=100, XGBRegressor__nthread=1, XGBRegressor__subsample=0.95)': (2,\n",
       "  -777413620.24725592),\n",
       " 'XGBRegressor(LinearSVR(input_matrix, LinearSVR__C=1.0, LinearSVR__dual=True, LinearSVR__epsilon=0.001, LinearSVR__loss=squared_epsilon_insensitive, LinearSVR__tol=0.1), XGBRegressor__learning_rate=0.1, XGBRegressor__max_depth=6, XGBRegressor__min_child_weight=2, XGBRegressor__n_estimators=100, XGBRegressor__nthread=1, XGBRegressor__subsample=0.7)': (2,\n",
       "  -669015596.6495862),\n",
       " 'XGBRegressor(LinearSVR(input_matrix, LinearSVR__C=1.0, LinearSVR__dual=True, LinearSVR__epsilon=0.001, LinearSVR__loss=squared_epsilon_insensitive, LinearSVR__tol=0.1), XGBRegressor__learning_rate=0.1, XGBRegressor__max_depth=6, XGBRegressor__min_child_weight=2, XGBRegressor__n_estimators=100, XGBRegressor__nthread=1, XGBRegressor__subsample=0.95)': (2,\n",
       "  -629221888.71076393),\n",
       " 'XGBRegressor(LinearSVR(input_matrix, LinearSVR__C=10.0, LinearSVR__dual=True, LinearSVR__epsilon=0.001, LinearSVR__loss=squared_epsilon_insensitive, LinearSVR__tol=0.1), XGBRegressor__learning_rate=0.1, XGBRegressor__max_depth=6, XGBRegressor__min_child_weight=2, XGBRegressor__n_estimators=100, XGBRegressor__nthread=1, XGBRegressor__subsample=0.95)': (2,\n",
       "  -629221888.71076393),\n",
       " 'XGBRegressor(LinearSVR(input_matrix, LinearSVR__C=10.0, LinearSVR__dual=True, LinearSVR__epsilon=0.01, LinearSVR__loss=epsilon_insensitive, LinearSVR__tol=0.01), XGBRegressor__learning_rate=0.1, XGBRegressor__max_depth=4, XGBRegressor__min_child_weight=2, XGBRegressor__n_estimators=100, XGBRegressor__nthread=1, XGBRegressor__subsample=0.7)': (2,\n",
       "  -680856522.00216556),\n",
       " 'XGBRegressor(LinearSVR(input_matrix, LinearSVR__C=15.0, LinearSVR__dual=False, LinearSVR__epsilon=0.01, LinearSVR__loss=squared_epsilon_insensitive, LinearSVR__tol=1e-05), XGBRegressor__learning_rate=0.1, XGBRegressor__max_depth=3, XGBRegressor__min_child_weight=2, XGBRegressor__n_estimators=100, XGBRegressor__nthread=1, XGBRegressor__subsample=0.95)': (2,\n",
       "  -610367725.83098817),\n",
       " 'XGBRegressor(LinearSVR(input_matrix, LinearSVR__C=20.0, LinearSVR__dual=True, LinearSVR__epsilon=0.0001, LinearSVR__loss=squared_epsilon_insensitive, LinearSVR__tol=0.001), XGBRegressor__learning_rate=0.1, XGBRegressor__max_depth=4, XGBRegressor__min_child_weight=2, XGBRegressor__n_estimators=100, XGBRegressor__nthread=1, XGBRegressor__subsample=0.95)': (2,\n",
       "  -629006653.29983449),\n",
       " 'XGBRegressor(LinearSVR(input_matrix, LinearSVR__C=25.0, LinearSVR__dual=True, LinearSVR__epsilon=0.001, LinearSVR__loss=squared_epsilon_insensitive, LinearSVR__tol=0.001), XGBRegressor__learning_rate=0.1, XGBRegressor__max_depth=6, XGBRegressor__min_child_weight=2, XGBRegressor__n_estimators=100, XGBRegressor__nthread=1, XGBRegressor__subsample=0.95)': (2,\n",
       "  -629221888.71076393),\n",
       " 'XGBRegressor(LinearSVR(input_matrix, LinearSVR__C=25.0, LinearSVR__dual=True, LinearSVR__epsilon=1.0, LinearSVR__loss=squared_epsilon_insensitive, LinearSVR__tol=0.001), XGBRegressor__learning_rate=0.1, XGBRegressor__max_depth=6, XGBRegressor__min_child_weight=2, XGBRegressor__n_estimators=100, XGBRegressor__nthread=1, XGBRegressor__subsample=0.95)': (2,\n",
       "  -629221888.71076393),\n",
       " 'XGBRegressor(LinearSVR(input_matrix, LinearSVR__C=5.0, LinearSVR__dual=True, LinearSVR__epsilon=0.001, LinearSVR__loss=epsilon_insensitive, LinearSVR__tol=1e-05), XGBRegressor__learning_rate=0.1, XGBRegressor__max_depth=4, XGBRegressor__min_child_weight=2, XGBRegressor__n_estimators=100, XGBRegressor__nthread=1, XGBRegressor__subsample=0.75)': (2,\n",
       "  -650593690.59054506),\n",
       " 'XGBRegressor(LinearSVR(input_matrix, LinearSVR__C=5.0, LinearSVR__dual=True, LinearSVR__epsilon=0.001, LinearSVR__loss=squared_epsilon_insensitive, LinearSVR__tol=0.001), XGBRegressor__learning_rate=0.1, XGBRegressor__max_depth=6, XGBRegressor__min_child_weight=2, XGBRegressor__n_estimators=100, XGBRegressor__nthread=1, XGBRegressor__subsample=0.95)': (2,\n",
       "  -629221888.71076393),\n",
       " 'XGBRegressor(LinearSVR(input_matrix, LinearSVR__C=5.0, LinearSVR__dual=True, LinearSVR__epsilon=0.01, LinearSVR__loss=epsilon_insensitive, LinearSVR__tol=0.001), XGBRegressor__learning_rate=0.1, XGBRegressor__max_depth=4, XGBRegressor__min_child_weight=2, XGBRegressor__n_estimators=100, XGBRegressor__nthread=1, XGBRegressor__subsample=0.7)': (2,\n",
       "  -680856522.00216556),\n",
       " 'XGBRegressor(LinearSVR(input_matrix, LinearSVR__C=5.0, LinearSVR__dual=True, LinearSVR__epsilon=1.0, LinearSVR__loss=epsilon_insensitive, LinearSVR__tol=0.01), XGBRegressor__learning_rate=0.1, XGBRegressor__max_depth=4, XGBRegressor__min_child_weight=2, XGBRegressor__n_estimators=100, XGBRegressor__nthread=1, XGBRegressor__subsample=0.75)': (2,\n",
       "  -650579140.95821142),\n",
       " 'XGBRegressor(MaxAbsScaler(DecisionTreeRegressor(input_matrix, DecisionTreeRegressor__max_depth=5, DecisionTreeRegressor__min_samples_leaf=19, DecisionTreeRegressor__min_samples_split=9)), XGBRegressor__learning_rate=0.1, XGBRegressor__max_depth=9, XGBRegressor__min_child_weight=2, XGBRegressor__n_estimators=100, XGBRegressor__nthread=1, XGBRegressor__subsample=0.7)': (3,\n",
       "  -848652998.06690443),\n",
       " 'XGBRegressor(MaxAbsScaler(ElasticNetCV(LinearSVR(input_matrix, LinearSVR__C=0.1, LinearSVR__dual=True, LinearSVR__epsilon=0.0001, LinearSVR__loss=squared_epsilon_insensitive, LinearSVR__tol=0.001), ElasticNetCV__l1_ratio=0.85, ElasticNetCV__tol=0.01)), XGBRegressor__learning_rate=0.1, XGBRegressor__max_depth=3, XGBRegressor__min_child_weight=2, XGBRegressor__n_estimators=100, XGBRegressor__nthread=1, XGBRegressor__subsample=0.95)': (4,\n",
       "  -575141459.86709249),\n",
       " 'XGBRegressor(MaxAbsScaler(ElasticNetCV(LinearSVR(input_matrix, LinearSVR__C=0.1, LinearSVR__dual=True, LinearSVR__epsilon=0.0001, LinearSVR__loss=squared_epsilon_insensitive, LinearSVR__tol=0.01), ElasticNetCV__l1_ratio=0.85, ElasticNetCV__tol=0.01)), XGBRegressor__learning_rate=0.1, XGBRegressor__max_depth=3, XGBRegressor__min_child_weight=2, XGBRegressor__n_estimators=100, XGBRegressor__nthread=1, XGBRegressor__subsample=0.95)': (4,\n",
       "  -575141459.86709249),\n",
       " 'XGBRegressor(MaxAbsScaler(ElasticNetCV(input_matrix, ElasticNetCV__l1_ratio=0.8, ElasticNetCV__tol=0.0001)), XGBRegressor__learning_rate=0.1, XGBRegressor__max_depth=6, XGBRegressor__min_child_weight=2, XGBRegressor__n_estimators=100, XGBRegressor__nthread=1, XGBRegressor__subsample=0.7)': (3,\n",
       "  -700082564.44262838),\n",
       " 'XGBRegressor(MaxAbsScaler(LassoLarsCV(input_matrix, LassoLarsCV__normalize=True)), XGBRegressor__learning_rate=0.1, XGBRegressor__max_depth=6, XGBRegressor__min_child_weight=2, XGBRegressor__n_estimators=100, XGBRegressor__nthread=1, XGBRegressor__subsample=0.7)': (3,\n",
       "  -944846439.65971732),\n",
       " 'XGBRegressor(MaxAbsScaler(LinearSVR(input_matrix, LinearSVR__C=1.0, LinearSVR__dual=True, LinearSVR__epsilon=0.0001, LinearSVR__loss=squared_epsilon_insensitive, LinearSVR__tol=0.001)), XGBRegressor__learning_rate=0.1, XGBRegressor__max_depth=4, XGBRegressor__min_child_weight=2, XGBRegressor__n_estimators=100, XGBRegressor__nthread=1, XGBRegressor__subsample=0.95)': (3,\n",
       "  -629006653.29983449),\n",
       " 'XGBRegressor(MaxAbsScaler(LinearSVR(input_matrix, LinearSVR__C=1.0, LinearSVR__dual=True, LinearSVR__epsilon=0.001, LinearSVR__loss=epsilon_insensitive, LinearSVR__tol=0.001)), XGBRegressor__learning_rate=0.1, XGBRegressor__max_depth=6, XGBRegressor__min_child_weight=2, XGBRegressor__n_estimators=100, XGBRegressor__nthread=1, XGBRegressor__subsample=0.7)': (3,\n",
       "  -650996313.82832408),\n",
       " 'XGBRegressor(MaxAbsScaler(LinearSVR(input_matrix, LinearSVR__C=1.0, LinearSVR__dual=True, LinearSVR__epsilon=0.001, LinearSVR__loss=squared_epsilon_insensitive, LinearSVR__tol=0.001)), XGBRegressor__learning_rate=0.01, XGBRegressor__max_depth=6, XGBRegressor__min_child_weight=2, XGBRegressor__n_estimators=100, XGBRegressor__nthread=1, XGBRegressor__subsample=0.7)': (3,\n",
       "  -6382601824.8864927),\n",
       " 'XGBRegressor(MaxAbsScaler(LinearSVR(input_matrix, LinearSVR__C=1.0, LinearSVR__dual=True, LinearSVR__epsilon=0.001, LinearSVR__loss=squared_epsilon_insensitive, LinearSVR__tol=0.001)), XGBRegressor__learning_rate=0.1, XGBRegressor__max_depth=6, XGBRegressor__min_child_weight=2, XGBRegressor__n_estimators=100, XGBRegressor__nthread=1, XGBRegressor__subsample=0.7)': (3,\n",
       "  -677085239.36594415),\n",
       " 'XGBRegressor(MaxAbsScaler(LinearSVR(input_matrix, LinearSVR__C=1.0, LinearSVR__dual=True, LinearSVR__epsilon=0.001, LinearSVR__loss=squared_epsilon_insensitive, LinearSVR__tol=0.001)), XGBRegressor__learning_rate=0.1, XGBRegressor__max_depth=9, XGBRegressor__min_child_weight=2, XGBRegressor__n_estimators=100, XGBRegressor__nthread=1, XGBRegressor__subsample=0.7)': (3,\n",
       "  -703773200.13474536),\n",
       " 'XGBRegressor(MaxAbsScaler(LinearSVR(input_matrix, LinearSVR__C=10.0, LinearSVR__dual=True, LinearSVR__epsilon=0.001, LinearSVR__loss=squared_epsilon_insensitive, LinearSVR__tol=0.1)), XGBRegressor__learning_rate=0.1, XGBRegressor__max_depth=6, XGBRegressor__min_child_weight=2, XGBRegressor__n_estimators=100, XGBRegressor__nthread=1, XGBRegressor__subsample=0.95)': (3,\n",
       "  -629931589.6283083),\n",
       " 'XGBRegressor(MaxAbsScaler(MaxAbsScaler(LinearSVR(input_matrix, LinearSVR__C=1.0, LinearSVR__dual=True, LinearSVR__epsilon=0.001, LinearSVR__loss=squared_epsilon_insensitive, LinearSVR__tol=0.001))), XGBRegressor__learning_rate=0.1, XGBRegressor__max_depth=9, XGBRegressor__min_child_weight=2, XGBRegressor__n_estimators=100, XGBRegressor__nthread=1, XGBRegressor__subsample=0.7)': (4,\n",
       "  -703773200.13474536),\n",
       " 'XGBRegressor(MaxAbsScaler(MinMaxScaler(input_matrix)), XGBRegressor__learning_rate=0.5, XGBRegressor__max_depth=9, XGBRegressor__min_child_weight=19, XGBRegressor__n_estimators=100, XGBRegressor__nthread=1, XGBRegressor__subsample=0.8)': (3,\n",
       "  -1024125808.3645298),\n",
       " 'XGBRegressor(MaxAbsScaler(PCA(input_matrix, PCA__iterated_power=5, PCA__svd_solver=randomized)), XGBRegressor__learning_rate=0.1, XGBRegressor__max_depth=9, XGBRegressor__min_child_weight=2, XGBRegressor__n_estimators=100, XGBRegressor__nthread=1, XGBRegressor__subsample=0.7)': (3,\n",
       "  -1435978137.2247815),\n",
       " 'XGBRegressor(MaxAbsScaler(PolynomialFeatures(input_matrix, PolynomialFeatures__degree=2, PolynomialFeatures__include_bias=False, PolynomialFeatures__interaction_only=False)), XGBRegressor__learning_rate=0.1, XGBRegressor__max_depth=6, XGBRegressor__min_child_weight=2, XGBRegressor__n_estimators=100, XGBRegressor__nthread=1, XGBRegressor__subsample=0.95)': (3,\n",
       "  -inf),\n",
       " 'XGBRegressor(MaxAbsScaler(SelectPercentile(input_matrix, SelectPercentile__percentile=16)), XGBRegressor__learning_rate=0.1, XGBRegressor__max_depth=6, XGBRegressor__min_child_weight=2, XGBRegressor__n_estimators=100, XGBRegressor__nthread=1, XGBRegressor__subsample=0.7)': (3,\n",
       "  -814635747.32180321),\n",
       " 'XGBRegressor(MaxAbsScaler(StandardScaler(LinearSVR(input_matrix, LinearSVR__C=1.0, LinearSVR__dual=False, LinearSVR__epsilon=0.0001, LinearSVR__loss=squared_epsilon_insensitive, LinearSVR__tol=0.001))), XGBRegressor__learning_rate=0.1, XGBRegressor__max_depth=4, XGBRegressor__min_child_weight=2, XGBRegressor__n_estimators=100, XGBRegressor__nthread=1, XGBRegressor__subsample=0.95)': (4,\n",
       "  -710232012.93178773),\n",
       " 'XGBRegressor(MaxAbsScaler(StandardScaler(LinearSVR(input_matrix, LinearSVR__C=1.0, LinearSVR__dual=True, LinearSVR__epsilon=0.0001, LinearSVR__loss=squared_epsilon_insensitive, LinearSVR__tol=0.001))), XGBRegressor__learning_rate=0.1, XGBRegressor__max_depth=4, XGBRegressor__min_child_weight=2, XGBRegressor__n_estimators=100, XGBRegressor__nthread=1, XGBRegressor__subsample=0.95)': (4,\n",
       "  -628688279.08938432),\n",
       " 'XGBRegressor(MaxAbsScaler(StandardScaler(LinearSVR(input_matrix, LinearSVR__C=1.0, LinearSVR__dual=True, LinearSVR__epsilon=0.0001, LinearSVR__loss=squared_epsilon_insensitive, LinearSVR__tol=0.001))), XGBRegressor__learning_rate=0.1, XGBRegressor__max_depth=6, XGBRegressor__min_child_weight=2, XGBRegressor__n_estimators=100, XGBRegressor__nthread=1, XGBRegressor__subsample=0.95)': (4,\n",
       "  -628989663.73671412),\n",
       " 'XGBRegressor(MaxAbsScaler(VarianceThreshold(input_matrix, VarianceThreshold__threshold=0.4)), XGBRegressor__learning_rate=0.1, XGBRegressor__max_depth=9, XGBRegressor__min_child_weight=2, XGBRegressor__n_estimators=100, XGBRegressor__nthread=1, XGBRegressor__subsample=0.7)': (3,\n",
       "  -762448522.47810197),\n",
       " 'XGBRegressor(MaxAbsScaler(input_matrix), XGBRegressor__learning_rate=0.001, XGBRegressor__max_depth=6, XGBRegressor__min_child_weight=2, XGBRegressor__n_estimators=100, XGBRegressor__nthread=1, XGBRegressor__subsample=0.95)': (2,\n",
       "  -32526325744.437355),\n",
       " 'XGBRegressor(MaxAbsScaler(input_matrix), XGBRegressor__learning_rate=0.1, XGBRegressor__max_depth=2, XGBRegressor__min_child_weight=2, XGBRegressor__n_estimators=100, XGBRegressor__nthread=1, XGBRegressor__subsample=0.7)': (2,\n",
       "  -840199347.96636796),\n",
       " 'XGBRegressor(MaxAbsScaler(input_matrix), XGBRegressor__learning_rate=0.1, XGBRegressor__max_depth=4, XGBRegressor__min_child_weight=1, XGBRegressor__n_estimators=100, XGBRegressor__nthread=1, XGBRegressor__subsample=0.7)': (2,\n",
       "  -712819440.65266955),\n",
       " 'XGBRegressor(MaxAbsScaler(input_matrix), XGBRegressor__learning_rate=0.1, XGBRegressor__max_depth=4, XGBRegressor__min_child_weight=1, XGBRegressor__n_estimators=100, XGBRegressor__nthread=1, XGBRegressor__subsample=0.75)': (2,\n",
       "  -690767851.1066978),\n",
       " 'XGBRegressor(MaxAbsScaler(input_matrix), XGBRegressor__learning_rate=0.1, XGBRegressor__max_depth=4, XGBRegressor__min_child_weight=2, XGBRegressor__n_estimators=100, XGBRegressor__nthread=1, XGBRegressor__subsample=0.95)': (2,\n",
       "  -783794193.61645663),\n",
       " 'XGBRegressor(MaxAbsScaler(input_matrix), XGBRegressor__learning_rate=0.1, XGBRegressor__max_depth=6, XGBRegressor__min_child_weight=15, XGBRegressor__n_estimators=100, XGBRegressor__nthread=1, XGBRegressor__subsample=0.7)': (2,\n",
       "  -784858987.93261492),\n",
       " 'XGBRegressor(MaxAbsScaler(input_matrix), XGBRegressor__learning_rate=0.1, XGBRegressor__max_depth=6, XGBRegressor__min_child_weight=15, XGBRegressor__n_estimators=100, XGBRegressor__nthread=1, XGBRegressor__subsample=0.95)': (2,\n",
       "  -821419595.20925641),\n",
       " 'XGBRegressor(MaxAbsScaler(input_matrix), XGBRegressor__learning_rate=0.1, XGBRegressor__max_depth=6, XGBRegressor__min_child_weight=17, XGBRegressor__n_estimators=100, XGBRegressor__nthread=1, XGBRegressor__subsample=0.7)': (2,\n",
       "  -784037658.52718103),\n",
       " 'XGBRegressor(MaxAbsScaler(input_matrix), XGBRegressor__learning_rate=0.1, XGBRegressor__max_depth=6, XGBRegressor__min_child_weight=2, XGBRegressor__n_estimators=100, XGBRegressor__nthread=1, XGBRegressor__subsample=0.3)': (2,\n",
       "  -895882943.17460275),\n",
       " 'XGBRegressor(MaxAbsScaler(input_matrix), XGBRegressor__learning_rate=0.1, XGBRegressor__max_depth=6, XGBRegressor__min_child_weight=2, XGBRegressor__n_estimators=100, XGBRegressor__nthread=1, XGBRegressor__subsample=0.65)': (2,\n",
       "  -742736039.85851204),\n",
       " 'XGBRegressor(MaxAbsScaler(input_matrix), XGBRegressor__learning_rate=0.1, XGBRegressor__max_depth=6, XGBRegressor__min_child_weight=2, XGBRegressor__n_estimators=100, XGBRegressor__nthread=1, XGBRegressor__subsample=0.7)': (2,\n",
       "  -718172308.14593506),\n",
       " 'XGBRegressor(MaxAbsScaler(input_matrix), XGBRegressor__learning_rate=0.1, XGBRegressor__max_depth=6, XGBRegressor__min_child_weight=2, XGBRegressor__n_estimators=100, XGBRegressor__nthread=1, XGBRegressor__subsample=0.95)': (2,\n",
       "  -732242932.22712326),\n",
       " 'XGBRegressor(MaxAbsScaler(input_matrix), XGBRegressor__learning_rate=0.1, XGBRegressor__max_depth=6, XGBRegressor__min_child_weight=6, XGBRegressor__n_estimators=100, XGBRegressor__nthread=1, XGBRegressor__subsample=0.7)': (2,\n",
       "  -788662526.30195165),\n",
       " 'XGBRegressor(MaxAbsScaler(input_matrix), XGBRegressor__learning_rate=0.1, XGBRegressor__max_depth=9, XGBRegressor__min_child_weight=17, XGBRegressor__n_estimators=100, XGBRegressor__nthread=1, XGBRegressor__subsample=0.7)': (2,\n",
       "  -807340844.34807241),\n",
       " 'XGBRegressor(MaxAbsScaler(input_matrix), XGBRegressor__learning_rate=0.1, XGBRegressor__max_depth=9, XGBRegressor__min_child_weight=2, XGBRegressor__n_estimators=100, XGBRegressor__nthread=1, XGBRegressor__subsample=0.45)': (2,\n",
       "  -791603243.27365816),\n",
       " 'XGBRegressor(MaxAbsScaler(input_matrix), XGBRegressor__learning_rate=0.1, XGBRegressor__max_depth=9, XGBRegressor__min_child_weight=2, XGBRegressor__n_estimators=100, XGBRegressor__nthread=1, XGBRegressor__subsample=0.7)': (2,\n",
       "  -726461076.78186154),\n",
       " 'XGBRegressor(MaxAbsScaler(input_matrix), XGBRegressor__learning_rate=1.0, XGBRegressor__max_depth=6, XGBRegressor__min_child_weight=2, XGBRegressor__n_estimators=100, XGBRegressor__nthread=1, XGBRegressor__subsample=0.7)': (2,\n",
       "  -1929846015.2103863),\n",
       " 'XGBRegressor(MinMaxScaler(Binarizer(ElasticNetCV(LinearSVR(input_matrix, LinearSVR__C=0.1, LinearSVR__dual=True, LinearSVR__epsilon=0.001, LinearSVR__loss=squared_epsilon_insensitive, LinearSVR__tol=0.01), ElasticNetCV__l1_ratio=0.85, ElasticNetCV__tol=0.01), Binarizer__threshold=0.15)), XGBRegressor__learning_rate=0.1, XGBRegressor__max_depth=3, XGBRegressor__min_child_weight=2, XGBRegressor__n_estimators=100, XGBRegressor__nthread=1, XGBRegressor__subsample=0.95)': (5,\n",
       "  -1417173992.050071),\n",
       " 'XGBRegressor(MinMaxScaler(ElasticNetCV(LinearSVR(input_matrix, LinearSVR__C=0.1, LinearSVR__dual=True, LinearSVR__epsilon=0.001, LinearSVR__loss=squared_epsilon_insensitive, LinearSVR__tol=0.01), ElasticNetCV__l1_ratio=0.85, ElasticNetCV__tol=0.01)), XGBRegressor__learning_rate=0.1, XGBRegressor__max_depth=3, XGBRegressor__min_child_weight=2, XGBRegressor__n_estimators=100, XGBRegressor__nthread=1, XGBRegressor__subsample=0.95)': (4,\n",
       "  -575141459.86709249),\n",
       " 'XGBRegressor(MinMaxScaler(ElasticNetCV(LinearSVR(input_matrix, LinearSVR__C=0.1, LinearSVR__dual=True, LinearSVR__epsilon=0.01, LinearSVR__loss=squared_epsilon_insensitive, LinearSVR__tol=0.001), ElasticNetCV__l1_ratio=0.85, ElasticNetCV__tol=0.01)), XGBRegressor__learning_rate=0.1, XGBRegressor__max_depth=3, XGBRegressor__min_child_weight=2, XGBRegressor__n_estimators=100, XGBRegressor__nthread=1, XGBRegressor__subsample=0.95)': (4,\n",
       "  -575141459.86709249),\n",
       " 'XGBRegressor(MinMaxScaler(LinearSVR(input_matrix, LinearSVR__C=0.1, LinearSVR__dual=True, LinearSVR__epsilon=0.001, LinearSVR__loss=squared_epsilon_insensitive, LinearSVR__tol=0.01)), XGBRegressor__learning_rate=0.1, XGBRegressor__max_depth=3, XGBRegressor__min_child_weight=2, XGBRegressor__n_estimators=100, XGBRegressor__nthread=1, XGBRegressor__subsample=0.95)': (3,\n",
       "  -622485165.79647565),\n",
       " 'XGBRegressor(MinMaxScaler(MinMaxScaler(ElasticNetCV(LinearSVR(input_matrix, LinearSVR__C=0.1, LinearSVR__dual=True, LinearSVR__epsilon=0.001, LinearSVR__loss=squared_epsilon_insensitive, LinearSVR__tol=0.01), ElasticNetCV__l1_ratio=0.85, ElasticNetCV__tol=0.01))), XGBRegressor__learning_rate=0.1, XGBRegressor__max_depth=3, XGBRegressor__min_child_weight=2, XGBRegressor__n_estimators=100, XGBRegressor__nthread=1, XGBRegressor__subsample=0.95)': (5,\n",
       "  -575141459.86709249),\n",
       " 'XGBRegressor(MinMaxScaler(input_matrix), XGBRegressor__learning_rate=0.1, XGBRegressor__max_depth=4, XGBRegressor__min_child_weight=1, XGBRegressor__n_estimators=100, XGBRegressor__nthread=1, XGBRegressor__subsample=0.7)': (2,\n",
       "  -709607046.90022278),\n",
       " 'XGBRegressor(MinMaxScaler(input_matrix), XGBRegressor__learning_rate=0.1, XGBRegressor__max_depth=4, XGBRegressor__min_child_weight=2, XGBRegressor__n_estimators=100, XGBRegressor__nthread=1, XGBRegressor__subsample=0.7)': (2,\n",
       "  -664048289.08430552),\n",
       " 'XGBRegressor(Normalizer(ElasticNetCV(LinearSVR(input_matrix, LinearSVR__C=0.1, LinearSVR__dual=True, LinearSVR__epsilon=0.001, LinearSVR__loss=squared_epsilon_insensitive, LinearSVR__tol=0.01), ElasticNetCV__l1_ratio=0.85, ElasticNetCV__tol=0.01), Normalizer__norm=l2), XGBRegressor__learning_rate=0.1, XGBRegressor__max_depth=3, XGBRegressor__min_child_weight=2, XGBRegressor__n_estimators=100, XGBRegressor__nthread=1, XGBRegressor__subsample=0.95)': (4,\n",
       "  -770451487.85414946),\n",
       " 'XGBRegressor(Normalizer(MaxAbsScaler(input_matrix), Normalizer__norm=l2), XGBRegressor__learning_rate=0.1, XGBRegressor__max_depth=9, XGBRegressor__min_child_weight=2, XGBRegressor__n_estimators=100, XGBRegressor__nthread=1, XGBRegressor__subsample=0.7)': (3,\n",
       "  -783009139.2068665),\n",
       " 'XGBRegressor(Normalizer(input_matrix, Normalizer__norm=l1), XGBRegressor__learning_rate=0.1, XGBRegressor__max_depth=4, XGBRegressor__min_child_weight=2, XGBRegressor__n_estimators=100, XGBRegressor__nthread=1, XGBRegressor__subsample=0.7)': (2,\n",
       "  -1012509400.1078503),\n",
       " 'XGBRegressor(Normalizer(input_matrix, Normalizer__norm=l2), XGBRegressor__learning_rate=0.1, XGBRegressor__max_depth=4, XGBRegressor__min_child_weight=1, XGBRegressor__n_estimators=100, XGBRegressor__nthread=1, XGBRegressor__subsample=0.7)': (2,\n",
       "  -1121305128.5563731),\n",
       " 'XGBRegressor(Normalizer(input_matrix, Normalizer__norm=l2), XGBRegressor__learning_rate=0.1, XGBRegressor__max_depth=4, XGBRegressor__min_child_weight=2, XGBRegressor__n_estimators=100, XGBRegressor__nthread=1, XGBRegressor__subsample=0.7)': (2,\n",
       "  -1106600118.3395045),\n",
       " 'XGBRegressor(Nystroem(ElasticNetCV(LinearSVR(input_matrix, LinearSVR__C=0.1, LinearSVR__dual=True, LinearSVR__epsilon=0.0001, LinearSVR__loss=squared_epsilon_insensitive, LinearSVR__tol=0.001), ElasticNetCV__l1_ratio=0.85, ElasticNetCV__tol=0.01), Nystroem__gamma=0.45, Nystroem__kernel=poly, Nystroem__n_components=8), XGBRegressor__learning_rate=0.1, XGBRegressor__max_depth=3, XGBRegressor__min_child_weight=2, XGBRegressor__n_estimators=100, XGBRegressor__nthread=1, XGBRegressor__subsample=0.95)': (4,\n",
       "  -1109228306.1489024),\n",
       " 'XGBRegressor(Nystroem(LinearSVR(CombineDFs(LinearSVR(CombineDFs(input_matrix, input_matrix), LinearSVR__C=0.1, LinearSVR__dual=False, LinearSVR__epsilon=0.1, LinearSVR__loss=squared_epsilon_insensitive, LinearSVR__tol=1e-05), input_matrix), LinearSVR__C=0.1, LinearSVR__dual=False, LinearSVR__epsilon=0.01, LinearSVR__loss=squared_epsilon_insensitive, LinearSVR__tol=1e-05), Nystroem__gamma=0.9, Nystroem__kernel=rbf, Nystroem__n_components=10), XGBRegressor__learning_rate=0.1, XGBRegressor__max_depth=5, XGBRegressor__min_child_weight=2, XGBRegressor__n_estimators=100, XGBRegressor__nthread=1, XGBRegressor__subsample=0.95)': (4,\n",
       "  -6381110267.1268797),\n",
       " 'XGBRegressor(Nystroem(LinearSVR(input_matrix, LinearSVR__C=0.1, LinearSVR__dual=False, LinearSVR__epsilon=0.01, LinearSVR__loss=squared_epsilon_insensitive, LinearSVR__tol=1e-05), Nystroem__gamma=0.65, Nystroem__kernel=rbf, Nystroem__n_components=3), XGBRegressor__learning_rate=0.1, XGBRegressor__max_depth=3, XGBRegressor__min_child_weight=2, XGBRegressor__n_estimators=100, XGBRegressor__nthread=1, XGBRegressor__subsample=0.95)': (3,\n",
       "  -6380957659.8007374),\n",
       " 'XGBRegressor(Nystroem(input_matrix, Nystroem__gamma=0.05, Nystroem__kernel=rbf, Nystroem__n_components=9), XGBRegressor__learning_rate=0.1, XGBRegressor__max_depth=4, XGBRegressor__min_child_weight=2, XGBRegressor__n_estimators=100, XGBRegressor__nthread=1, XGBRegressor__subsample=0.75)': (2,\n",
       "  -6379716940.2089882),\n",
       " 'XGBRegressor(Nystroem(input_matrix, Nystroem__gamma=0.35, Nystroem__kernel=rbf, Nystroem__n_components=6), XGBRegressor__learning_rate=0.1, XGBRegressor__max_depth=9, XGBRegressor__min_child_weight=2, XGBRegressor__n_estimators=100, XGBRegressor__nthread=1, XGBRegressor__subsample=0.7)': (2,\n",
       "  -6380305086.6532412),\n",
       " 'XGBRegressor(OneHotEncoder(CombineDFs(input_matrix, input_matrix), OneHotEncoder__minimum_fraction=0.25, OneHotEncoder__sparse=False), XGBRegressor__learning_rate=0.1, XGBRegressor__max_depth=7, XGBRegressor__min_child_weight=2, XGBRegressor__n_estimators=100, XGBRegressor__nthread=1, XGBRegressor__subsample=0.95)': (2,\n",
       "  -805001901.29368734),\n",
       " 'XGBRegressor(OneHotEncoder(ElasticNetCV(LinearSVR(input_matrix, LinearSVR__C=0.1, LinearSVR__dual=True, LinearSVR__epsilon=0.0001, LinearSVR__loss=squared_epsilon_insensitive, LinearSVR__tol=0.001), ElasticNetCV__l1_ratio=0.85, ElasticNetCV__tol=0.01), OneHotEncoder__minimum_fraction=0.15, OneHotEncoder__sparse=False), XGBRegressor__learning_rate=0.1, XGBRegressor__max_depth=3, XGBRegressor__min_child_weight=2, XGBRegressor__n_estimators=100, XGBRegressor__nthread=1, XGBRegressor__subsample=0.95)': (4,\n",
       "  -648107952.58807766),\n",
       " 'XGBRegressor(OneHotEncoder(ElasticNetCV(LinearSVR(input_matrix, LinearSVR__C=0.1, LinearSVR__dual=True, LinearSVR__epsilon=0.001, LinearSVR__loss=squared_epsilon_insensitive, LinearSVR__tol=0.001), ElasticNetCV__l1_ratio=0.85, ElasticNetCV__tol=0.01), OneHotEncoder__minimum_fraction=0.1, OneHotEncoder__sparse=False), XGBRegressor__learning_rate=0.1, XGBRegressor__max_depth=3, XGBRegressor__min_child_weight=2, XGBRegressor__n_estimators=100, XGBRegressor__nthread=1, XGBRegressor__subsample=0.95)': (4,\n",
       "  -614571922.71162224),\n",
       " 'XGBRegressor(OneHotEncoder(LinearSVR(LinearSVR(CombineDFs(input_matrix, input_matrix), LinearSVR__C=0.1, LinearSVR__dual=False, LinearSVR__epsilon=0.1, LinearSVR__loss=squared_epsilon_insensitive, LinearSVR__tol=1e-05), LinearSVR__C=0.1, LinearSVR__dual=False, LinearSVR__epsilon=0.1, LinearSVR__loss=squared_epsilon_insensitive, LinearSVR__tol=0.1), OneHotEncoder__minimum_fraction=0.05, OneHotEncoder__sparse=False), XGBRegressor__learning_rate=0.1, XGBRegressor__max_depth=5, XGBRegressor__min_child_weight=2, XGBRegressor__n_estimators=100, XGBRegressor__nthread=1, XGBRegressor__subsample=0.95)': (4,\n",
       "  -590488113.97478342),\n",
       " 'XGBRegressor(OneHotEncoder(input_matrix, OneHotEncoder__minimum_fraction=0.1, OneHotEncoder__sparse=False), XGBRegressor__learning_rate=0.1, XGBRegressor__max_depth=4, XGBRegressor__min_child_weight=2, XGBRegressor__n_estimators=100, XGBRegressor__nthread=1, XGBRegressor__subsample=0.7)': (2,\n",
       "  -816726232.44130242),\n",
       " 'XGBRegressor(OneHotEncoder(input_matrix, OneHotEncoder__minimum_fraction=0.1, OneHotEncoder__sparse=False), XGBRegressor__learning_rate=0.1, XGBRegressor__max_depth=6, XGBRegressor__min_child_weight=2, XGBRegressor__n_estimators=100, XGBRegressor__nthread=1, XGBRegressor__subsample=0.7)': (2,\n",
       "  -816995706.65188956),\n",
       " 'XGBRegressor(OneHotEncoder(input_matrix, OneHotEncoder__minimum_fraction=0.1, OneHotEncoder__sparse=False), XGBRegressor__learning_rate=0.1, XGBRegressor__max_depth=6, XGBRegressor__min_child_weight=2, XGBRegressor__n_estimators=100, XGBRegressor__nthread=1, XGBRegressor__subsample=0.95)': (2,\n",
       "  -761847850.39037061),\n",
       " 'XGBRegressor(PCA(CombineDFs(input_matrix, input_matrix), PCA__iterated_power=2, PCA__svd_solver=randomized), XGBRegressor__learning_rate=0.1, XGBRegressor__max_depth=5, XGBRegressor__min_child_weight=2, XGBRegressor__n_estimators=100, XGBRegressor__nthread=1, XGBRegressor__subsample=0.95)': (2,\n",
       "  -1263309177.455925),\n",
       " 'XGBRegressor(PCA(LinearSVR(input_matrix, LinearSVR__C=1.0, LinearSVR__dual=True, LinearSVR__epsilon=0.0001, LinearSVR__loss=squared_epsilon_insensitive, LinearSVR__tol=0.001), PCA__iterated_power=3, PCA__svd_solver=randomized), XGBRegressor__learning_rate=0.1, XGBRegressor__max_depth=4, XGBRegressor__min_child_weight=2, XGBRegressor__n_estimators=100, XGBRegressor__nthread=1, XGBRegressor__subsample=0.95)': (3,\n",
       "  -1011941000.1016645),\n",
       " 'XGBRegressor(PCA(LinearSVR(input_matrix, LinearSVR__C=1.0, LinearSVR__dual=True, LinearSVR__epsilon=0.0001, LinearSVR__loss=squared_epsilon_insensitive, LinearSVR__tol=0.001), PCA__iterated_power=9, PCA__svd_solver=randomized), XGBRegressor__learning_rate=0.1, XGBRegressor__max_depth=6, XGBRegressor__min_child_weight=2, XGBRegressor__n_estimators=100, XGBRegressor__nthread=1, XGBRegressor__subsample=0.95)': (3,\n",
       "  -1088571669.4713931),\n",
       " 'XGBRegressor(PCA(RobustScaler(ElasticNetCV(LinearSVR(input_matrix, LinearSVR__C=0.1, LinearSVR__dual=True, LinearSVR__epsilon=0.001, LinearSVR__loss=squared_epsilon_insensitive, LinearSVR__tol=0.01), ElasticNetCV__l1_ratio=0.85, ElasticNetCV__tol=0.01)), PCA__iterated_power=3, PCA__svd_solver=randomized), XGBRegressor__learning_rate=0.1, XGBRegressor__max_depth=3, XGBRegressor__min_child_weight=2, XGBRegressor__n_estimators=100, XGBRegressor__nthread=1, XGBRegressor__subsample=0.95)': (5,\n",
       "  -1371885874.8569999),\n",
       " 'XGBRegressor(PCA(input_matrix, PCA__iterated_power=3, PCA__svd_solver=randomized), XGBRegressor__learning_rate=0.1, XGBRegressor__max_depth=4, XGBRegressor__min_child_weight=2, XGBRegressor__n_estimators=100, XGBRegressor__nthread=1, XGBRegressor__subsample=0.7)': (2,\n",
       "  -1263524937.6037304),\n",
       " 'XGBRegressor(PCA(input_matrix, PCA__iterated_power=4, PCA__svd_solver=randomized), XGBRegressor__learning_rate=0.1, XGBRegressor__max_depth=6, XGBRegressor__min_child_weight=2, XGBRegressor__n_estimators=100, XGBRegressor__nthread=1, XGBRegressor__subsample=0.95)': (2,\n",
       "  -1420007200.0087895),\n",
       " 'XGBRegressor(PCA(input_matrix, PCA__iterated_power=5, PCA__svd_solver=randomized), XGBRegressor__learning_rate=0.1, XGBRegressor__max_depth=4, XGBRegressor__min_child_weight=2, XGBRegressor__n_estimators=100, XGBRegressor__nthread=1, XGBRegressor__subsample=0.95)': (2,\n",
       "  -1279368666.1741154),\n",
       " 'XGBRegressor(PCA(input_matrix, PCA__iterated_power=5, PCA__svd_solver=randomized), XGBRegressor__learning_rate=0.1, XGBRegressor__max_depth=7, XGBRegressor__min_child_weight=8, XGBRegressor__n_estimators=100, XGBRegressor__nthread=1, XGBRegressor__subsample=0.7)': (2,\n",
       "  -1185573613.1714582),\n",
       " 'XGBRegressor(PolynomialFeatures(ElasticNetCV(LinearSVR(input_matrix, LinearSVR__C=0.1, LinearSVR__dual=True, LinearSVR__epsilon=0.001, LinearSVR__loss=squared_epsilon_insensitive, LinearSVR__tol=0.001), ElasticNetCV__l1_ratio=0.85, ElasticNetCV__tol=0.01), PolynomialFeatures__degree=2, PolynomialFeatures__include_bias=False, PolynomialFeatures__interaction_only=False), XGBRegressor__learning_rate=0.1, XGBRegressor__max_depth=6, XGBRegressor__min_child_weight=2, XGBRegressor__n_estimators=100, XGBRegressor__nthread=1, XGBRegressor__subsample=0.95)': (4,\n",
       "  -inf),\n",
       " 'XGBRegressor(PolynomialFeatures(LassoLarsCV(input_matrix, LassoLarsCV__normalize=False), PolynomialFeatures__degree=2, PolynomialFeatures__include_bias=False, PolynomialFeatures__interaction_only=False), XGBRegressor__learning_rate=0.5, XGBRegressor__max_depth=9, XGBRegressor__min_child_weight=19, XGBRegressor__n_estimators=100, XGBRegressor__nthread=1, XGBRegressor__subsample=0.8)': (3,\n",
       "  -inf),\n",
       " 'XGBRegressor(PolynomialFeatures(LinearSVR(input_matrix, LinearSVR__C=1.0, LinearSVR__dual=True, LinearSVR__epsilon=0.0001, LinearSVR__loss=squared_epsilon_insensitive, LinearSVR__tol=0.001), PolynomialFeatures__degree=2, PolynomialFeatures__include_bias=False, PolynomialFeatures__interaction_only=False), XGBRegressor__learning_rate=0.1, XGBRegressor__max_depth=4, XGBRegressor__min_child_weight=2, XGBRegressor__n_estimators=100, XGBRegressor__nthread=1, XGBRegressor__subsample=0.95)': (3,\n",
       "  -inf),\n",
       " 'XGBRegressor(PolynomialFeatures(input_matrix, PolynomialFeatures__degree=2, PolynomialFeatures__include_bias=False, PolynomialFeatures__interaction_only=False), XGBRegressor__learning_rate=0.1, XGBRegressor__max_depth=3, XGBRegressor__min_child_weight=2, XGBRegressor__n_estimators=100, XGBRegressor__nthread=1, XGBRegressor__subsample=0.95)': (2,\n",
       "  -inf),\n",
       " 'XGBRegressor(PolynomialFeatures(input_matrix, PolynomialFeatures__degree=2, PolynomialFeatures__include_bias=False, PolynomialFeatures__interaction_only=False), XGBRegressor__learning_rate=0.1, XGBRegressor__max_depth=4, XGBRegressor__min_child_weight=2, XGBRegressor__n_estimators=100, XGBRegressor__nthread=1, XGBRegressor__subsample=0.7)': (2,\n",
       "  -inf),\n",
       " 'XGBRegressor(PolynomialFeatures(input_matrix, PolynomialFeatures__degree=2, PolynomialFeatures__include_bias=False, PolynomialFeatures__interaction_only=False), XGBRegressor__learning_rate=0.1, XGBRegressor__max_depth=4, XGBRegressor__min_child_weight=2, XGBRegressor__n_estimators=100, XGBRegressor__nthread=1, XGBRegressor__subsample=0.75)': (2,\n",
       "  -inf),\n",
       " 'XGBRegressor(PolynomialFeatures(input_matrix, PolynomialFeatures__degree=2, PolynomialFeatures__include_bias=False, PolynomialFeatures__interaction_only=False), XGBRegressor__learning_rate=0.1, XGBRegressor__max_depth=6, XGBRegressor__min_child_weight=2, XGBRegressor__n_estimators=100, XGBRegressor__nthread=1, XGBRegressor__subsample=0.95)': (2,\n",
       "  -inf),\n",
       " 'XGBRegressor(RBFSampler(ElasticNetCV(LinearSVR(input_matrix, LinearSVR__C=0.1, LinearSVR__dual=True, LinearSVR__epsilon=0.001, LinearSVR__loss=squared_epsilon_insensitive, LinearSVR__tol=1e-05), ElasticNetCV__l1_ratio=0.85, ElasticNetCV__tol=0.01), RBFSampler__gamma=0.45), XGBRegressor__learning_rate=0.1, XGBRegressor__max_depth=3, XGBRegressor__min_child_weight=2, XGBRegressor__n_estimators=100, XGBRegressor__nthread=1, XGBRegressor__subsample=0.95)': (4,\n",
       "  -7171634043.8710175),\n",
       " 'XGBRegressor(RBFSampler(LinearSVR(input_matrix, LinearSVR__C=0.1, LinearSVR__dual=False, LinearSVR__epsilon=0.1, LinearSVR__loss=squared_epsilon_insensitive, LinearSVR__tol=1e-05), RBFSampler__gamma=0.05), XGBRegressor__learning_rate=0.1, XGBRegressor__max_depth=3, XGBRegressor__min_child_weight=2, XGBRegressor__n_estimators=100, XGBRegressor__nthread=1, XGBRegressor__subsample=0.95)': (3,\n",
       "  -7039023992.8717957),\n",
       " 'XGBRegressor(RBFSampler(MaxAbsScaler(input_matrix), RBFSampler__gamma=0.2), XGBRegressor__learning_rate=0.1, XGBRegressor__max_depth=6, XGBRegressor__min_child_weight=2, XGBRegressor__n_estimators=100, XGBRegressor__nthread=1, XGBRegressor__subsample=0.7)': (3,\n",
       "  -6196034242.6620502),\n",
       " 'XGBRegressor(RBFSampler(input_matrix, RBFSampler__gamma=0.0), XGBRegressor__learning_rate=0.1, XGBRegressor__max_depth=3, XGBRegressor__min_child_weight=1, XGBRegressor__n_estimators=100, XGBRegressor__nthread=1, XGBRegressor__subsample=0.7)': (2,\n",
       "  -6381488045.4938889),\n",
       " 'XGBRegressor(RBFSampler(input_matrix, RBFSampler__gamma=0.0), XGBRegressor__learning_rate=0.1, XGBRegressor__max_depth=4, XGBRegressor__min_child_weight=1, XGBRegressor__n_estimators=100, XGBRegressor__nthread=1, XGBRegressor__subsample=0.65)': (2,\n",
       "  -6382097034.0191298),\n",
       " 'XGBRegressor(RBFSampler(input_matrix, RBFSampler__gamma=0.1), XGBRegressor__learning_rate=0.1, XGBRegressor__max_depth=4, XGBRegressor__min_child_weight=1, XGBRegressor__n_estimators=100, XGBRegressor__nthread=1, XGBRegressor__subsample=0.65)': (2,\n",
       "  -7103161320.4770412),\n",
       " 'XGBRegressor(RBFSampler(input_matrix, RBFSampler__gamma=0.35), XGBRegressor__learning_rate=0.1, XGBRegressor__max_depth=4, XGBRegressor__min_child_weight=2, XGBRegressor__n_estimators=100, XGBRegressor__nthread=1, XGBRegressor__subsample=0.7)': (2,\n",
       "  -7219807591.9999952),\n",
       " 'XGBRegressor(RBFSampler(input_matrix, RBFSampler__gamma=0.5), XGBRegressor__learning_rate=0.1, XGBRegressor__max_depth=4, XGBRegressor__min_child_weight=2, XGBRegressor__n_estimators=100, XGBRegressor__nthread=1, XGBRegressor__subsample=0.7)': (2,\n",
       "  -7103392930.4596081),\n",
       " 'XGBRegressor(RandomForestRegressor(ElasticNetCV(LinearSVR(input_matrix, LinearSVR__C=0.1, LinearSVR__dual=True, LinearSVR__epsilon=0.0001, LinearSVR__loss=squared_epsilon_insensitive, LinearSVR__tol=0.001), ElasticNetCV__l1_ratio=0.85, ElasticNetCV__tol=0.01), RandomForestRegressor__bootstrap=False, RandomForestRegressor__max_features=0.8, RandomForestRegressor__min_samples_leaf=3, RandomForestRegressor__min_samples_split=8, RandomForestRegressor__n_estimators=100), XGBRegressor__learning_rate=0.1, XGBRegressor__max_depth=3, XGBRegressor__min_child_weight=2, XGBRegressor__n_estimators=100, XGBRegressor__nthread=1, XGBRegressor__subsample=0.95)': (4,\n",
       "  -912456247.02893674),\n",
       " 'XGBRegressor(RandomForestRegressor(ElasticNetCV(LinearSVR(input_matrix, LinearSVR__C=0.1, LinearSVR__dual=True, LinearSVR__epsilon=0.001, LinearSVR__loss=squared_epsilon_insensitive, LinearSVR__tol=0.01), ElasticNetCV__l1_ratio=0.85, ElasticNetCV__tol=0.01), RandomForestRegressor__bootstrap=False, RandomForestRegressor__max_features=0.5, RandomForestRegressor__min_samples_leaf=10, RandomForestRegressor__min_samples_split=5, RandomForestRegressor__n_estimators=100), XGBRegressor__learning_rate=0.1, XGBRegressor__max_depth=3, XGBRegressor__min_child_weight=2, XGBRegressor__n_estimators=100, XGBRegressor__nthread=1, XGBRegressor__subsample=0.95)': (4,\n",
       "  -714230606.40811968),\n",
       " 'XGBRegressor(RandomForestRegressor(LinearSVR(input_matrix, LinearSVR__C=0.1, LinearSVR__dual=False, LinearSVR__epsilon=0.001, LinearSVR__loss=squared_epsilon_insensitive, LinearSVR__tol=1e-05), RandomForestRegressor__bootstrap=False, RandomForestRegressor__max_features=0.55, RandomForestRegressor__min_samples_leaf=5, RandomForestRegressor__min_samples_split=17, RandomForestRegressor__n_estimators=100), XGBRegressor__learning_rate=0.1, XGBRegressor__max_depth=3, XGBRegressor__min_child_weight=2, XGBRegressor__n_estimators=100, XGBRegressor__nthread=1, XGBRegressor__subsample=0.95)': (3,\n",
       "  -793820423.17739224),\n",
       " 'XGBRegressor(RandomForestRegressor(input_matrix, RandomForestRegressor__bootstrap=False, RandomForestRegressor__max_features=0.55, RandomForestRegressor__min_samples_leaf=3, RandomForestRegressor__min_samples_split=13, RandomForestRegressor__n_estimators=100), XGBRegressor__learning_rate=0.1, XGBRegressor__max_depth=4, XGBRegressor__min_child_weight=1, XGBRegressor__n_estimators=100, XGBRegressor__nthread=1, XGBRegressor__subsample=0.65)': (2,\n",
       "  -849611552.60833943),\n",
       " 'XGBRegressor(RandomForestRegressor(input_matrix, RandomForestRegressor__bootstrap=False, RandomForestRegressor__max_features=0.6, RandomForestRegressor__min_samples_leaf=7, RandomForestRegressor__min_samples_split=6, RandomForestRegressor__n_estimators=100), XGBRegressor__learning_rate=0.1, XGBRegressor__max_depth=4, XGBRegressor__min_child_weight=2, XGBRegressor__n_estimators=100, XGBRegressor__nthread=1, XGBRegressor__subsample=0.7)': (2,\n",
       "  -903367136.45838547),\n",
       " 'XGBRegressor(RandomForestRegressor(input_matrix, RandomForestRegressor__bootstrap=False, RandomForestRegressor__max_features=0.9, RandomForestRegressor__min_samples_leaf=2, RandomForestRegressor__min_samples_split=5, RandomForestRegressor__n_estimators=100), XGBRegressor__learning_rate=0.1, XGBRegressor__max_depth=4, XGBRegressor__min_child_weight=2, XGBRegressor__n_estimators=100, XGBRegressor__nthread=1, XGBRegressor__subsample=0.7)': (2,\n",
       "  -1241034755.6297374),\n",
       " 'XGBRegressor(RandomForestRegressor(input_matrix, RandomForestRegressor__bootstrap=False, RandomForestRegressor__max_features=0.95, RandomForestRegressor__min_samples_leaf=6, RandomForestRegressor__min_samples_split=3, RandomForestRegressor__n_estimators=100), XGBRegressor__learning_rate=0.1, XGBRegressor__max_depth=6, XGBRegressor__min_child_weight=2, XGBRegressor__n_estimators=100, XGBRegressor__nthread=1, XGBRegressor__subsample=0.95)': (2,\n",
       "  -1228526581.1312375),\n",
       " 'XGBRegressor(RandomForestRegressor(input_matrix, RandomForestRegressor__bootstrap=True, RandomForestRegressor__max_features=0.05, RandomForestRegressor__min_samples_leaf=13, RandomForestRegressor__min_samples_split=4, RandomForestRegressor__n_estimators=100), XGBRegressor__learning_rate=0.1, XGBRegressor__max_depth=4, XGBRegressor__min_child_weight=2, XGBRegressor__n_estimators=100, XGBRegressor__nthread=1, XGBRegressor__subsample=0.7)': (2,\n",
       "  -794408388.29431796),\n",
       " 'XGBRegressor(RandomForestRegressor(input_matrix, RandomForestRegressor__bootstrap=True, RandomForestRegressor__max_features=0.45, RandomForestRegressor__min_samples_leaf=1, RandomForestRegressor__min_samples_split=8, RandomForestRegressor__n_estimators=100), XGBRegressor__learning_rate=0.1, XGBRegressor__max_depth=4, XGBRegressor__min_child_weight=2, XGBRegressor__n_estimators=100, XGBRegressor__nthread=1, XGBRegressor__subsample=0.75)': (2,\n",
       "  -767238239.93749928),\n",
       " 'XGBRegressor(RandomForestRegressor(input_matrix, RandomForestRegressor__bootstrap=True, RandomForestRegressor__max_features=0.55, RandomForestRegressor__min_samples_leaf=16, RandomForestRegressor__min_samples_split=6, RandomForestRegressor__n_estimators=100), XGBRegressor__learning_rate=0.1, XGBRegressor__max_depth=4, XGBRegressor__min_child_weight=1, XGBRegressor__n_estimators=100, XGBRegressor__nthread=1, XGBRegressor__subsample=0.7)': (2,\n",
       "  -852037143.89820027),\n",
       " 'XGBRegressor(RidgeCV(ElasticNetCV(LinearSVR(input_matrix, LinearSVR__C=1.0, LinearSVR__dual=True, LinearSVR__epsilon=0.001, LinearSVR__loss=squared_epsilon_insensitive, LinearSVR__tol=0.001), ElasticNetCV__l1_ratio=0.85, ElasticNetCV__tol=0.01)), XGBRegressor__learning_rate=0.1, XGBRegressor__max_depth=6, XGBRegressor__min_child_weight=2, XGBRegressor__n_estimators=100, XGBRegressor__nthread=1, XGBRegressor__subsample=0.95)': (4,\n",
       "  -726706485.03262866),\n",
       " 'XGBRegressor(RidgeCV(LinearSVR(input_matrix, LinearSVR__C=0.0001, LinearSVR__dual=False, LinearSVR__epsilon=0.001, LinearSVR__loss=squared_epsilon_insensitive, LinearSVR__tol=1e-05)), XGBRegressor__learning_rate=0.1, XGBRegressor__max_depth=3, XGBRegressor__min_child_weight=2, XGBRegressor__n_estimators=100, XGBRegressor__nthread=1, XGBRegressor__subsample=0.95)': (3,\n",
       "  -672930104.57574344),\n",
       " 'XGBRegressor(RidgeCV(input_matrix), XGBRegressor__learning_rate=0.1, XGBRegressor__max_depth=4, XGBRegressor__min_child_weight=2, XGBRegressor__n_estimators=100, XGBRegressor__nthread=1, XGBRegressor__subsample=0.7)': (2,\n",
       "  -768191683.57236803),\n",
       " 'XGBRegressor(RidgeCV(input_matrix), XGBRegressor__learning_rate=0.1, XGBRegressor__max_depth=4, XGBRegressor__min_child_weight=2, XGBRegressor__n_estimators=100, XGBRegressor__nthread=1, XGBRegressor__subsample=0.75)': (2,\n",
       "  -759976171.16334486),\n",
       " 'XGBRegressor(RidgeCV(input_matrix), XGBRegressor__learning_rate=0.1, XGBRegressor__max_depth=6, XGBRegressor__min_child_weight=2, XGBRegressor__n_estimators=100, XGBRegressor__nthread=1, XGBRegressor__subsample=0.7)': (2,\n",
       "  -797669438.37359202),\n",
       " 'XGBRegressor(RobustScaler(ElasticNetCV(LinearSVR(input_matrix, LinearSVR__C=0.1, LinearSVR__dual=True, LinearSVR__epsilon=0.001, LinearSVR__loss=squared_epsilon_insensitive, LinearSVR__tol=0.001), ElasticNetCV__l1_ratio=0.85, ElasticNetCV__tol=0.01)), XGBRegressor__learning_rate=0.1, XGBRegressor__max_depth=3, XGBRegressor__min_child_weight=2, XGBRegressor__n_estimators=100, XGBRegressor__nthread=1, XGBRegressor__subsample=0.95)': (4,\n",
       "  -575141459.86709249),\n",
       " 'XGBRegressor(RobustScaler(ElasticNetCV(LinearSVR(input_matrix, LinearSVR__C=0.1, LinearSVR__dual=True, LinearSVR__epsilon=0.001, LinearSVR__loss=squared_epsilon_insensitive, LinearSVR__tol=0.01), ElasticNetCV__l1_ratio=0.85, ElasticNetCV__tol=0.01)), XGBRegressor__learning_rate=0.1, XGBRegressor__max_depth=3, XGBRegressor__min_child_weight=2, XGBRegressor__n_estimators=100, XGBRegressor__nthread=1, XGBRegressor__subsample=0.95)': (4,\n",
       "  -575141459.86709249),\n",
       " 'XGBRegressor(RobustScaler(ElasticNetCV(LinearSVR(input_matrix, LinearSVR__C=0.1, LinearSVR__dual=True, LinearSVR__epsilon=0.001, LinearSVR__loss=squared_epsilon_insensitive, LinearSVR__tol=1e-05), ElasticNetCV__l1_ratio=0.85, ElasticNetCV__tol=0.01)), XGBRegressor__learning_rate=0.1, XGBRegressor__max_depth=3, XGBRegressor__min_child_weight=2, XGBRegressor__n_estimators=100, XGBRegressor__nthread=1, XGBRegressor__subsample=0.95)': (4,\n",
       "  -575141459.86709249),\n",
       " 'XGBRegressor(RobustScaler(LinearSVR(input_matrix, LinearSVR__C=1.0, LinearSVR__dual=True, LinearSVR__epsilon=0.001, LinearSVR__loss=squared_epsilon_insensitive, LinearSVR__tol=0.001)), XGBRegressor__learning_rate=0.1, XGBRegressor__max_depth=6, XGBRegressor__min_child_weight=2, XGBRegressor__n_estimators=100, XGBRegressor__nthread=1, XGBRegressor__subsample=0.95)': (3,\n",
       "  -628015083.19054878),\n",
       " 'XGBRegressor(RobustScaler(input_matrix), XGBRegressor__learning_rate=0.1, XGBRegressor__max_depth=3, XGBRegressor__min_child_weight=2, XGBRegressor__n_estimators=100, XGBRegressor__nthread=1, XGBRegressor__subsample=0.95)': (2,\n",
       "  -801100888.69319427),\n",
       " 'XGBRegressor(RobustScaler(input_matrix), XGBRegressor__learning_rate=0.1, XGBRegressor__max_depth=4, XGBRegressor__min_child_weight=2, XGBRegressor__n_estimators=100, XGBRegressor__nthread=1, XGBRegressor__subsample=0.7)': (2,\n",
       "  -667719470.35452247),\n",
       " 'XGBRegressor(SelectFromModel(StandardScaler(LinearSVR(input_matrix, LinearSVR__C=1.0, LinearSVR__dual=True, LinearSVR__epsilon=0.001, LinearSVR__loss=squared_epsilon_insensitive, LinearSVR__tol=0.001)), SelectFromModel__ExtraTreesRegressor__max_features=0.8, SelectFromModel__ExtraTreesRegressor__n_estimators=100, SelectFromModel__threshold=0.7), XGBRegressor__learning_rate=0.1, XGBRegressor__max_depth=6, XGBRegressor__min_child_weight=2, XGBRegressor__n_estimators=100, XGBRegressor__nthread=1, XGBRegressor__subsample=0.95)': (4,\n",
       "  -inf),\n",
       " 'XGBRegressor(SelectFromModel(input_matrix, SelectFromModel__ExtraTreesRegressor__max_features=0.55, SelectFromModel__ExtraTreesRegressor__n_estimators=100, SelectFromModel__threshold=0.0), XGBRegressor__learning_rate=0.1, XGBRegressor__max_depth=6, XGBRegressor__min_child_weight=2, XGBRegressor__n_estimators=100, XGBRegressor__nthread=1, XGBRegressor__subsample=0.95)': (2,\n",
       "  -730175538.8972764),\n",
       " 'XGBRegressor(SelectFwe(CombineDFs(input_matrix, input_matrix), SelectFwe__alpha=0.005), XGBRegressor__learning_rate=0.1, XGBRegressor__max_depth=4, XGBRegressor__min_child_weight=2, XGBRegressor__n_estimators=100, XGBRegressor__nthread=1, XGBRegressor__subsample=0.95)': (2,\n",
       "  -799350367.48401237),\n",
       " 'XGBRegressor(SelectFwe(ElasticNetCV(LinearSVR(input_matrix, LinearSVR__C=0.1, LinearSVR__dual=True, LinearSVR__epsilon=0.001, LinearSVR__loss=squared_epsilon_insensitive, LinearSVR__tol=0.001), ElasticNetCV__l1_ratio=0.85, ElasticNetCV__tol=0.01), SelectFwe__alpha=0.006), XGBRegressor__learning_rate=0.1, XGBRegressor__max_depth=3, XGBRegressor__min_child_weight=2, XGBRegressor__n_estimators=100, XGBRegressor__nthread=1, XGBRegressor__subsample=0.95)': (4,\n",
       "  -607138697.56836534),\n",
       " 'XGBRegressor(SelectFwe(ElasticNetCV(LinearSVR(input_matrix, LinearSVR__C=0.1, LinearSVR__dual=True, LinearSVR__epsilon=0.001, LinearSVR__loss=squared_epsilon_insensitive, LinearSVR__tol=0.001), ElasticNetCV__l1_ratio=0.85, ElasticNetCV__tol=0.01), SelectFwe__alpha=0.028), XGBRegressor__learning_rate=0.1, XGBRegressor__max_depth=3, XGBRegressor__min_child_weight=2, XGBRegressor__n_estimators=100, XGBRegressor__nthread=1, XGBRegressor__subsample=0.95)': (4,\n",
       "  -637964945.68145692),\n",
       " 'XGBRegressor(SelectFwe(LinearSVR(CombineDFs(input_matrix, input_matrix), LinearSVR__C=0.1, LinearSVR__dual=False, LinearSVR__epsilon=0.1, LinearSVR__loss=squared_epsilon_insensitive, LinearSVR__tol=1e-05), SelectFwe__alpha=0.031), XGBRegressor__learning_rate=0.1, XGBRegressor__max_depth=7, XGBRegressor__min_child_weight=2, XGBRegressor__n_estimators=100, XGBRegressor__nthread=1, XGBRegressor__subsample=0.95)': (3,\n",
       "  -555896310.55852079),\n",
       " 'XGBRegressor(SelectFwe(LinearSVR(CombineDFs(input_matrix, input_matrix), LinearSVR__C=0.1, LinearSVR__dual=False, LinearSVR__epsilon=0.1, LinearSVR__loss=squared_epsilon_insensitive, LinearSVR__tol=1e-05), SelectFwe__alpha=0.042), XGBRegressor__learning_rate=0.1, XGBRegressor__max_depth=7, XGBRegressor__min_child_weight=2, XGBRegressor__n_estimators=100, XGBRegressor__nthread=1, XGBRegressor__subsample=0.95)': (3,\n",
       "  -538546021.15398669),\n",
       " 'XGBRegressor(SelectFwe(LinearSVR(input_matrix, LinearSVR__C=0.1, LinearSVR__dual=False, LinearSVR__epsilon=0.01, LinearSVR__loss=squared_epsilon_insensitive, LinearSVR__tol=1e-05), SelectFwe__alpha=0.002), XGBRegressor__learning_rate=0.1, XGBRegressor__max_depth=3, XGBRegressor__min_child_weight=2, XGBRegressor__n_estimators=100, XGBRegressor__nthread=1, XGBRegressor__subsample=0.95)': (3,\n",
       "  -601913354.19325233),\n",
       " 'XGBRegressor(SelectFwe(LinearSVR(input_matrix, LinearSVR__C=0.5, LinearSVR__dual=True, LinearSVR__epsilon=0.001, LinearSVR__loss=squared_epsilon_insensitive, LinearSVR__tol=1e-05), SelectFwe__alpha=0.018), XGBRegressor__learning_rate=0.1, XGBRegressor__max_depth=3, XGBRegressor__min_child_weight=2, XGBRegressor__n_estimators=100, XGBRegressor__nthread=1, XGBRegressor__subsample=0.95)': (3,\n",
       "  -691926008.78888297),\n",
       " 'XGBRegressor(SelectFwe(StandardScaler(input_matrix), SelectFwe__alpha=0.012), XGBRegressor__learning_rate=0.1, XGBRegressor__max_depth=6, XGBRegressor__min_child_weight=2, XGBRegressor__n_estimators=100, XGBRegressor__nthread=1, XGBRegressor__subsample=0.7)': (3,\n",
       "  -735006731.43391919),\n",
       " 'XGBRegressor(SelectFwe(StandardScaler(input_matrix), SelectFwe__alpha=0.038), XGBRegressor__learning_rate=0.1, XGBRegressor__max_depth=6, XGBRegressor__min_child_weight=2, XGBRegressor__n_estimators=100, XGBRegressor__nthread=1, XGBRegressor__subsample=0.95)': (3,\n",
       "  -827732904.36010396),\n",
       " 'XGBRegressor(SelectFwe(input_matrix, SelectFwe__alpha=0.008), XGBRegressor__learning_rate=0.1, XGBRegressor__max_depth=4, XGBRegressor__min_child_weight=2, XGBRegressor__n_estimators=100, XGBRegressor__nthread=1, XGBRegressor__subsample=0.7)': (2,\n",
       "  -692974526.9630934),\n",
       " 'XGBRegressor(SelectFwe(input_matrix, SelectFwe__alpha=0.021), XGBRegressor__learning_rate=0.1, XGBRegressor__max_depth=4, XGBRegressor__min_child_weight=2, XGBRegressor__n_estimators=100, XGBRegressor__nthread=1, XGBRegressor__subsample=0.7)': (2,\n",
       "  -722102373.49522543),\n",
       " 'XGBRegressor(SelectFwe(input_matrix, SelectFwe__alpha=0.025), XGBRegressor__learning_rate=0.1, XGBRegressor__max_depth=4, XGBRegressor__min_child_weight=2, XGBRegressor__n_estimators=100, XGBRegressor__nthread=1, XGBRegressor__subsample=0.7)': (2,\n",
       "  -767175068.79879999),\n",
       " 'XGBRegressor(SelectPercentile(ElasticNetCV(LinearSVR(input_matrix, LinearSVR__C=0.1, LinearSVR__dual=True, LinearSVR__epsilon=0.0001, LinearSVR__loss=squared_epsilon_insensitive, LinearSVR__tol=0.01), ElasticNetCV__l1_ratio=0.85, ElasticNetCV__tol=0.01), SelectPercentile__percentile=52), XGBRegressor__learning_rate=0.1, XGBRegressor__max_depth=3, XGBRegressor__min_child_weight=2, XGBRegressor__n_estimators=100, XGBRegressor__nthread=1, XGBRegressor__subsample=0.95)': (4,\n",
       "  -610612394.3751595),\n",
       " 'XGBRegressor(SelectPercentile(ElasticNetCV(LinearSVR(input_matrix, LinearSVR__C=1.0, LinearSVR__dual=True, LinearSVR__epsilon=0.001, LinearSVR__loss=squared_epsilon_insensitive, LinearSVR__tol=0.001), ElasticNetCV__l1_ratio=0.85, ElasticNetCV__tol=0.01), SelectPercentile__percentile=19), XGBRegressor__learning_rate=0.1, XGBRegressor__max_depth=6, XGBRegressor__min_child_weight=2, XGBRegressor__n_estimators=100, XGBRegressor__nthread=1, XGBRegressor__subsample=0.95)': (4,\n",
       "  -666834470.1213975),\n",
       " 'XGBRegressor(SelectPercentile(input_matrix, SelectPercentile__percentile=36), XGBRegressor__learning_rate=0.1, XGBRegressor__max_depth=4, XGBRegressor__min_child_weight=2, XGBRegressor__n_estimators=100, XGBRegressor__nthread=1, XGBRegressor__subsample=0.7)': (2,\n",
       "  -762343098.60072052),\n",
       " 'XGBRegressor(SelectPercentile(input_matrix, SelectPercentile__percentile=50), XGBRegressor__learning_rate=0.1, XGBRegressor__max_depth=6, XGBRegressor__min_child_weight=2, XGBRegressor__n_estimators=100, XGBRegressor__nthread=1, XGBRegressor__subsample=0.95)': (2,\n",
       "  -827465489.76789975),\n",
       " 'XGBRegressor(StandardScaler(ElasticNetCV(LinearSVR(input_matrix, LinearSVR__C=0.1, LinearSVR__dual=True, LinearSVR__epsilon=0.0001, LinearSVR__loss=squared_epsilon_insensitive, LinearSVR__tol=1e-05), ElasticNetCV__l1_ratio=0.85, ElasticNetCV__tol=0.01)), XGBRegressor__learning_rate=0.1, XGBRegressor__max_depth=3, XGBRegressor__min_child_weight=2, XGBRegressor__n_estimators=100, XGBRegressor__nthread=1, XGBRegressor__subsample=0.95)': (4,\n",
       "  -575138794.69102645),\n",
       " 'XGBRegressor(StandardScaler(LassoLarsCV(input_matrix, LassoLarsCV__normalize=False)), XGBRegressor__learning_rate=0.1, XGBRegressor__max_depth=6, XGBRegressor__min_child_weight=2, XGBRegressor__n_estimators=100, XGBRegressor__nthread=1, XGBRegressor__subsample=0.95)': (3,\n",
       "  -1065557728.4371545),\n",
       " 'XGBRegressor(StandardScaler(LassoLarsCV(input_matrix, LassoLarsCV__normalize=True)), XGBRegressor__learning_rate=0.1, XGBRegressor__max_depth=6, XGBRegressor__min_child_weight=2, XGBRegressor__n_estimators=100, XGBRegressor__nthread=1, XGBRegressor__subsample=0.95)': (3,\n",
       "  -926792611.13085246),\n",
       " 'XGBRegressor(StandardScaler(LinearSVR(CombineDFs(input_matrix, input_matrix), LinearSVR__C=0.1, LinearSVR__dual=False, LinearSVR__epsilon=0.1, LinearSVR__loss=squared_epsilon_insensitive, LinearSVR__tol=1e-05)), XGBRegressor__learning_rate=0.1, XGBRegressor__max_depth=4, XGBRegressor__min_child_weight=2, XGBRegressor__n_estimators=100, XGBRegressor__nthread=1, XGBRegressor__subsample=0.95)': (3,\n",
       "  -551322642.29554808),\n",
       " 'XGBRegressor(StandardScaler(LinearSVR(CombineDFs(input_matrix, input_matrix), LinearSVR__C=0.1, LinearSVR__dual=False, LinearSVR__epsilon=0.1, LinearSVR__loss=squared_epsilon_insensitive, LinearSVR__tol=1e-05)), XGBRegressor__learning_rate=0.1, XGBRegressor__max_depth=7, XGBRegressor__min_child_weight=2, XGBRegressor__n_estimators=100, XGBRegressor__nthread=1, XGBRegressor__subsample=0.95)': (3,\n",
       "  -564332101.08733416),\n",
       " 'XGBRegressor(StandardScaler(LinearSVR(DecisionTreeRegressor(input_matrix, DecisionTreeRegressor__max_depth=8, DecisionTreeRegressor__min_samples_leaf=13, DecisionTreeRegressor__min_samples_split=5), LinearSVR__C=1.0, LinearSVR__dual=True, LinearSVR__epsilon=0.0001, LinearSVR__loss=squared_epsilon_insensitive, LinearSVR__tol=0.001)), XGBRegressor__learning_rate=0.1, XGBRegressor__max_depth=6, XGBRegressor__min_child_weight=2, XGBRegressor__n_estimators=100, XGBRegressor__nthread=1, XGBRegressor__subsample=0.95)': (4,\n",
       "  -902645813.82919729),\n",
       " 'XGBRegressor(StandardScaler(LinearSVR(ElasticNetCV(input_matrix, ElasticNetCV__l1_ratio=0.5, ElasticNetCV__tol=1e-05), LinearSVR__C=1.0, LinearSVR__dual=True, LinearSVR__epsilon=0.001, LinearSVR__loss=squared_epsilon_insensitive, LinearSVR__tol=0.1)), XGBRegressor__learning_rate=0.1, XGBRegressor__max_depth=6, XGBRegressor__min_child_weight=2, XGBRegressor__n_estimators=100, XGBRegressor__nthread=1, XGBRegressor__subsample=0.95)': (4,\n",
       "  -631777110.24008918),\n",
       " 'XGBRegressor(StandardScaler(LinearSVR(input_matrix, LinearSVR__C=0.01, LinearSVR__dual=True, LinearSVR__epsilon=0.0001, LinearSVR__loss=squared_epsilon_insensitive, LinearSVR__tol=0.001)), XGBRegressor__learning_rate=0.1, XGBRegressor__max_depth=4, XGBRegressor__min_child_weight=2, XGBRegressor__n_estimators=100, XGBRegressor__nthread=1, XGBRegressor__subsample=0.95)': (3,\n",
       "  -616323375.81701982),\n",
       " 'XGBRegressor(StandardScaler(LinearSVR(input_matrix, LinearSVR__C=0.1, LinearSVR__dual=True, LinearSVR__epsilon=0.0001, LinearSVR__loss=squared_epsilon_insensitive, LinearSVR__tol=0.001)), XGBRegressor__learning_rate=0.1, XGBRegressor__max_depth=3, XGBRegressor__min_child_weight=2, XGBRegressor__n_estimators=100, XGBRegressor__nthread=1, XGBRegressor__subsample=0.95)': (3,\n",
       "  -620930152.22012889),\n",
       " 'XGBRegressor(StandardScaler(LinearSVR(input_matrix, LinearSVR__C=0.1, LinearSVR__dual=True, LinearSVR__epsilon=0.0001, LinearSVR__loss=squared_epsilon_insensitive, LinearSVR__tol=0.01)), XGBRegressor__learning_rate=0.1, XGBRegressor__max_depth=3, XGBRegressor__min_child_weight=2, XGBRegressor__n_estimators=100, XGBRegressor__nthread=1, XGBRegressor__subsample=0.95)': (3,\n",
       "  -620930152.22012889),\n",
       " 'XGBRegressor(StandardScaler(LinearSVR(input_matrix, LinearSVR__C=0.1, LinearSVR__dual=True, LinearSVR__epsilon=0.001, LinearSVR__loss=squared_epsilon_insensitive, LinearSVR__tol=0.0001)), XGBRegressor__learning_rate=0.1, XGBRegressor__max_depth=3, XGBRegressor__min_child_weight=2, XGBRegressor__n_estimators=100, XGBRegressor__nthread=1, XGBRegressor__subsample=0.95)': (3,\n",
       "  -620930152.22012889),\n",
       " 'XGBRegressor(StandardScaler(LinearSVR(input_matrix, LinearSVR__C=0.1, LinearSVR__dual=True, LinearSVR__epsilon=0.1, LinearSVR__loss=squared_epsilon_insensitive, LinearSVR__tol=0.001)), XGBRegressor__learning_rate=0.1, XGBRegressor__max_depth=3, XGBRegressor__min_child_weight=2, XGBRegressor__n_estimators=100, XGBRegressor__nthread=1, XGBRegressor__subsample=0.95)': (3,\n",
       "  -620930152.22012889),\n",
       " 'XGBRegressor(StandardScaler(LinearSVR(input_matrix, LinearSVR__C=1.0, LinearSVR__dual=True, LinearSVR__epsilon=0.0001, LinearSVR__loss=squared_epsilon_insensitive, LinearSVR__tol=0.001)), XGBRegressor__learning_rate=0.1, XGBRegressor__max_depth=4, XGBRegressor__min_child_weight=2, XGBRegressor__n_estimators=100, XGBRegressor__nthread=1, XGBRegressor__subsample=0.95)': (3,\n",
       "  -628170352.53346944),\n",
       " 'XGBRegressor(StandardScaler(LinearSVR(input_matrix, LinearSVR__C=1.0, LinearSVR__dual=True, LinearSVR__epsilon=0.0001, LinearSVR__loss=squared_epsilon_insensitive, LinearSVR__tol=0.001)), XGBRegressor__learning_rate=0.1, XGBRegressor__max_depth=6, XGBRegressor__min_child_weight=2, XGBRegressor__n_estimators=100, XGBRegressor__nthread=1, XGBRegressor__subsample=0.95)': (3,\n",
       "  -630836638.61020529),\n",
       " 'XGBRegressor(StandardScaler(LinearSVR(input_matrix, LinearSVR__C=1.0, LinearSVR__dual=True, LinearSVR__epsilon=0.001, LinearSVR__loss=epsilon_insensitive, LinearSVR__tol=0.001)), XGBRegressor__learning_rate=0.1, XGBRegressor__max_depth=6, XGBRegressor__min_child_weight=2, XGBRegressor__n_estimators=100, XGBRegressor__nthread=1, XGBRegressor__subsample=0.95)': (3,\n",
       "  -691383192.97926426),\n",
       " 'XGBRegressor(StandardScaler(LinearSVR(input_matrix, LinearSVR__C=1.0, LinearSVR__dual=True, LinearSVR__epsilon=0.001, LinearSVR__loss=squared_epsilon_insensitive, LinearSVR__tol=0.001)), XGBRegressor__learning_rate=0.1, XGBRegressor__max_depth=6, XGBRegressor__min_child_weight=2, XGBRegressor__n_estimators=100, XGBRegressor__nthread=1, XGBRegressor__subsample=0.95)': (3,\n",
       "  -630836638.61020529),\n",
       " 'XGBRegressor(StandardScaler(LinearSVR(input_matrix, LinearSVR__C=1.0, LinearSVR__dual=True, LinearSVR__epsilon=0.001, LinearSVR__loss=squared_epsilon_insensitive, LinearSVR__tol=0.1)), XGBRegressor__learning_rate=0.1, XGBRegressor__max_depth=6, XGBRegressor__min_child_weight=2, XGBRegressor__n_estimators=100, XGBRegressor__nthread=1, XGBRegressor__subsample=0.85)': (3,\n",
       "  -647398722.37620223),\n",
       " 'XGBRegressor(StandardScaler(LinearSVR(input_matrix, LinearSVR__C=1.0, LinearSVR__dual=True, LinearSVR__epsilon=0.001, LinearSVR__loss=squared_epsilon_insensitive, LinearSVR__tol=0.1)), XGBRegressor__learning_rate=0.1, XGBRegressor__max_depth=6, XGBRegressor__min_child_weight=2, XGBRegressor__n_estimators=100, XGBRegressor__nthread=1, XGBRegressor__subsample=0.95)': (3,\n",
       "  -630836638.61020529),\n",
       " 'XGBRegressor(StandardScaler(LinearSVR(input_matrix, LinearSVR__C=5.0, LinearSVR__dual=True, LinearSVR__epsilon=0.0001, LinearSVR__loss=squared_epsilon_insensitive, LinearSVR__tol=0.001)), XGBRegressor__learning_rate=0.1, XGBRegressor__max_depth=4, XGBRegressor__min_child_weight=2, XGBRegressor__n_estimators=100, XGBRegressor__nthread=1, XGBRegressor__subsample=0.95)': (3,\n",
       "  -628170352.53346944),\n",
       " 'XGBRegressor(StandardScaler(LinearSVR(input_matrix, LinearSVR__C=5.0, LinearSVR__dual=True, LinearSVR__epsilon=0.1, LinearSVR__loss=squared_epsilon_insensitive, LinearSVR__tol=0.001)), XGBRegressor__learning_rate=0.1, XGBRegressor__max_depth=4, XGBRegressor__min_child_weight=2, XGBRegressor__n_estimators=100, XGBRegressor__nthread=1, XGBRegressor__subsample=0.95)': (3,\n",
       "  -628170352.53346944),\n",
       " 'XGBRegressor(StandardScaler(RandomForestRegressor(LinearSVR(input_matrix, LinearSVR__C=1.0, LinearSVR__dual=True, LinearSVR__epsilon=0.0001, LinearSVR__loss=squared_epsilon_insensitive, LinearSVR__tol=0.001), RandomForestRegressor__bootstrap=False, RandomForestRegressor__max_features=0.3, RandomForestRegressor__min_samples_leaf=4, RandomForestRegressor__min_samples_split=6, RandomForestRegressor__n_estimators=100)), XGBRegressor__learning_rate=0.1, XGBRegressor__max_depth=6, XGBRegressor__min_child_weight=2, XGBRegressor__n_estimators=100, XGBRegressor__nthread=1, XGBRegressor__subsample=0.95)': (4,\n",
       "  -739996618.06595778),\n",
       " 'XGBRegressor(StandardScaler(RobustScaler(LinearSVR(input_matrix, LinearSVR__C=1.0, LinearSVR__dual=True, LinearSVR__epsilon=0.001, LinearSVR__loss=squared_epsilon_insensitive, LinearSVR__tol=0.1))), XGBRegressor__learning_rate=0.1, XGBRegressor__max_depth=6, XGBRegressor__min_child_weight=2, XGBRegressor__n_estimators=100, XGBRegressor__nthread=1, XGBRegressor__subsample=0.95)': (4,\n",
       "  -630836638.61020529),\n",
       " 'XGBRegressor(StandardScaler(input_matrix), XGBRegressor__learning_rate=0.001, XGBRegressor__max_depth=6, XGBRegressor__min_child_weight=2, XGBRegressor__n_estimators=100, XGBRegressor__nthread=1, XGBRegressor__subsample=0.7)': (2,\n",
       "  -32557184561.841377),\n",
       " 'XGBRegressor(StandardScaler(input_matrix), XGBRegressor__learning_rate=0.1, XGBRegressor__max_depth=2, XGBRegressor__min_child_weight=2, XGBRegressor__n_estimators=100, XGBRegressor__nthread=1, XGBRegressor__subsample=0.7)': (2,\n",
       "  -841716914.82676613),\n",
       " 'XGBRegressor(StandardScaler(input_matrix), XGBRegressor__learning_rate=0.1, XGBRegressor__max_depth=3, XGBRegressor__min_child_weight=2, XGBRegressor__n_estimators=100, XGBRegressor__nthread=1, XGBRegressor__subsample=0.7)': (2,\n",
       "  -736624877.44301558),\n",
       " 'XGBRegressor(StandardScaler(input_matrix), XGBRegressor__learning_rate=0.1, XGBRegressor__max_depth=4, XGBRegressor__min_child_weight=2, XGBRegressor__n_estimators=100, XGBRegressor__nthread=1, XGBRegressor__subsample=0.7)': (2,\n",
       "  -662650680.00333762),\n",
       " 'XGBRegressor(StandardScaler(input_matrix), XGBRegressor__learning_rate=0.1, XGBRegressor__max_depth=4, XGBRegressor__min_child_weight=2, XGBRegressor__n_estimators=100, XGBRegressor__nthread=1, XGBRegressor__subsample=0.75)': (2,\n",
       "  -683314761.289379),\n",
       " 'XGBRegressor(StandardScaler(input_matrix), XGBRegressor__learning_rate=0.1, XGBRegressor__max_depth=6, XGBRegressor__min_child_weight=1, XGBRegressor__n_estimators=100, XGBRegressor__nthread=1, XGBRegressor__subsample=0.7)': (2,\n",
       "  -746004771.60281813),\n",
       " 'XGBRegressor(StandardScaler(input_matrix), XGBRegressor__learning_rate=0.1, XGBRegressor__max_depth=6, XGBRegressor__min_child_weight=2, XGBRegressor__n_estimators=100, XGBRegressor__nthread=1, XGBRegressor__subsample=0.4)': (2,\n",
       "  -800397819.05072355),\n",
       " 'XGBRegressor(StandardScaler(input_matrix), XGBRegressor__learning_rate=0.1, XGBRegressor__max_depth=6, XGBRegressor__min_child_weight=2, XGBRegressor__n_estimators=100, XGBRegressor__nthread=1, XGBRegressor__subsample=0.45)': (2,\n",
       "  -805899167.68548381),\n",
       " 'XGBRegressor(StandardScaler(input_matrix), XGBRegressor__learning_rate=0.1, XGBRegressor__max_depth=6, XGBRegressor__min_child_weight=2, XGBRegressor__n_estimators=100, XGBRegressor__nthread=1, XGBRegressor__subsample=0.55)': (2,\n",
       "  -782102902.47636104),\n",
       " 'XGBRegressor(StandardScaler(input_matrix), XGBRegressor__learning_rate=0.1, XGBRegressor__max_depth=6, XGBRegressor__min_child_weight=2, XGBRegressor__n_estimators=100, XGBRegressor__nthread=1, XGBRegressor__subsample=0.7)': (2,\n",
       "  -726005395.99642003),\n",
       " 'XGBRegressor(StandardScaler(input_matrix), XGBRegressor__learning_rate=0.1, XGBRegressor__max_depth=6, XGBRegressor__min_child_weight=2, XGBRegressor__n_estimators=100, XGBRegressor__nthread=1, XGBRegressor__subsample=0.85)': (2,\n",
       "  -764467482.21201384),\n",
       " 'XGBRegressor(StandardScaler(input_matrix), XGBRegressor__learning_rate=0.1, XGBRegressor__max_depth=6, XGBRegressor__min_child_weight=2, XGBRegressor__n_estimators=100, XGBRegressor__nthread=1, XGBRegressor__subsample=0.95)': (2,\n",
       "  -732184984.17165685),\n",
       " 'XGBRegressor(StandardScaler(input_matrix), XGBRegressor__learning_rate=0.1, XGBRegressor__max_depth=7, XGBRegressor__min_child_weight=2, XGBRegressor__n_estimators=100, XGBRegressor__nthread=1, XGBRegressor__subsample=0.7)': (2,\n",
       "  -726935424.29094768),\n",
       " 'XGBRegressor(StandardScaler(input_matrix), XGBRegressor__learning_rate=0.1, XGBRegressor__max_depth=8, XGBRegressor__min_child_weight=2, XGBRegressor__n_estimators=100, XGBRegressor__nthread=1, XGBRegressor__subsample=0.7)': (2,\n",
       "  -737043220.06884027),\n",
       " 'XGBRegressor(VarianceThreshold(LinearSVR(input_matrix, LinearSVR__C=0.1, LinearSVR__dual=False, LinearSVR__epsilon=0.01, LinearSVR__loss=squared_epsilon_insensitive, LinearSVR__tol=1e-05), VarianceThreshold__threshold=0.35), XGBRegressor__learning_rate=0.1, XGBRegressor__max_depth=3, XGBRegressor__min_child_weight=2, XGBRegressor__n_estimators=100, XGBRegressor__nthread=1, XGBRegressor__subsample=0.95)': (3,\n",
       "  -619809949.76135767),\n",
       " 'XGBRegressor(VarianceThreshold(LinearSVR(input_matrix, LinearSVR__C=25.0, LinearSVR__dual=True, LinearSVR__epsilon=0.001, LinearSVR__loss=squared_epsilon_insensitive, LinearSVR__tol=0.001), VarianceThreshold__threshold=0.2), XGBRegressor__learning_rate=0.1, XGBRegressor__max_depth=6, XGBRegressor__min_child_weight=2, XGBRegressor__n_estimators=100, XGBRegressor__nthread=1, XGBRegressor__subsample=0.95)': (3,\n",
       "  -733054116.35678792),\n",
       " 'XGBRegressor(VarianceThreshold(LinearSVR(input_matrix, LinearSVR__C=5.0, LinearSVR__dual=True, LinearSVR__epsilon=0.1, LinearSVR__loss=squared_epsilon_insensitive, LinearSVR__tol=0.001), VarianceThreshold__threshold=0.95), XGBRegressor__learning_rate=0.1, XGBRegressor__max_depth=4, XGBRegressor__min_child_weight=2, XGBRegressor__n_estimators=100, XGBRegressor__nthread=1, XGBRegressor__subsample=0.95)': (3,\n",
       "  -690007807.9881357),\n",
       " 'XGBRegressor(VarianceThreshold(input_matrix, VarianceThreshold__threshold=0.15), XGBRegressor__learning_rate=0.1, XGBRegressor__max_depth=6, XGBRegressor__min_child_weight=2, XGBRegressor__n_estimators=100, XGBRegressor__nthread=1, XGBRegressor__subsample=0.95)': (2,\n",
       "  -788669704.1782378),\n",
       " 'XGBRegressor(VarianceThreshold(input_matrix, VarianceThreshold__threshold=0.8), XGBRegressor__learning_rate=0.1, XGBRegressor__max_depth=7, XGBRegressor__min_child_weight=2, XGBRegressor__n_estimators=100, XGBRegressor__nthread=1, XGBRegressor__subsample=0.7)': (2,\n",
       "  -773878279.97651231),\n",
       " 'XGBRegressor(VarianceThreshold(input_matrix, VarianceThreshold__threshold=0.85), XGBRegressor__learning_rate=0.1, XGBRegressor__max_depth=6, XGBRegressor__min_child_weight=2, XGBRegressor__n_estimators=100, XGBRegressor__nthread=1, XGBRegressor__subsample=0.7)': (2,\n",
       "  -790487166.08494663),\n",
       " 'XGBRegressor(XGBRegressor(ElasticNetCV(LinearSVR(input_matrix, LinearSVR__C=0.1, LinearSVR__dual=True, LinearSVR__epsilon=0.0001, LinearSVR__loss=squared_epsilon_insensitive, LinearSVR__tol=0.01), ElasticNetCV__l1_ratio=0.85, ElasticNetCV__tol=0.01), XGBRegressor__learning_rate=0.5, XGBRegressor__max_depth=4, XGBRegressor__min_child_weight=7, XGBRegressor__n_estimators=100, XGBRegressor__nthread=1, XGBRegressor__subsample=0.5), XGBRegressor__learning_rate=0.1, XGBRegressor__max_depth=3, XGBRegressor__min_child_weight=2, XGBRegressor__n_estimators=100, XGBRegressor__nthread=1, XGBRegressor__subsample=0.95)': (4,\n",
       "  -1155281903.4264445),\n",
       " 'XGBRegressor(XGBRegressor(ElasticNetCV(LinearSVR(input_matrix, LinearSVR__C=0.1, LinearSVR__dual=True, LinearSVR__epsilon=0.001, LinearSVR__loss=squared_epsilon_insensitive, LinearSVR__tol=0.0001), ElasticNetCV__l1_ratio=0.85, ElasticNetCV__tol=0.01), XGBRegressor__learning_rate=0.001, XGBRegressor__max_depth=9, XGBRegressor__min_child_weight=1, XGBRegressor__n_estimators=100, XGBRegressor__nthread=1, XGBRegressor__subsample=0.05), XGBRegressor__learning_rate=0.1, XGBRegressor__max_depth=3, XGBRegressor__min_child_weight=2, XGBRegressor__n_estimators=100, XGBRegressor__nthread=1, XGBRegressor__subsample=0.95)': (4,\n",
       "  -609904917.68546438),\n",
       " 'XGBRegressor(XGBRegressor(ElasticNetCV(LinearSVR(input_matrix, LinearSVR__C=0.1, LinearSVR__dual=True, LinearSVR__epsilon=0.001, LinearSVR__loss=squared_epsilon_insensitive, LinearSVR__tol=0.001), ElasticNetCV__l1_ratio=0.85, ElasticNetCV__tol=0.01), XGBRegressor__learning_rate=0.01, XGBRegressor__max_depth=10, XGBRegressor__min_child_weight=19, XGBRegressor__n_estimators=100, XGBRegressor__nthread=1, XGBRegressor__subsample=0.9), XGBRegressor__learning_rate=0.1, XGBRegressor__max_depth=3, XGBRegressor__min_child_weight=2, XGBRegressor__n_estimators=100, XGBRegressor__nthread=1, XGBRegressor__subsample=0.95)': (4,\n",
       "  -671303590.30851817),\n",
       " 'XGBRegressor(XGBRegressor(input_matrix, XGBRegressor__learning_rate=0.001, XGBRegressor__max_depth=2, XGBRegressor__min_child_weight=9, XGBRegressor__n_estimators=100, XGBRegressor__nthread=1, XGBRegressor__subsample=0.45), XGBRegressor__learning_rate=0.1, XGBRegressor__max_depth=6, XGBRegressor__min_child_weight=2, XGBRegressor__n_estimators=100, XGBRegressor__nthread=1, XGBRegressor__subsample=0.95)': (2,\n",
       "  -877787801.16830504),\n",
       " 'XGBRegressor(ZeroCount(ElasticNetCV(LinearSVR(input_matrix, LinearSVR__C=0.1, LinearSVR__dual=True, LinearSVR__epsilon=0.001, LinearSVR__loss=squared_epsilon_insensitive, LinearSVR__tol=0.01), ElasticNetCV__l1_ratio=0.85, ElasticNetCV__tol=0.01)), XGBRegressor__learning_rate=0.1, XGBRegressor__max_depth=3, XGBRegressor__min_child_weight=2, XGBRegressor__n_estimators=100, XGBRegressor__nthread=1, XGBRegressor__subsample=0.95)': (4,\n",
       "  -594462014.75322807),\n",
       " 'XGBRegressor(ZeroCount(MaxAbsScaler(input_matrix)), XGBRegressor__learning_rate=0.1, XGBRegressor__max_depth=9, XGBRegressor__min_child_weight=2, XGBRegressor__n_estimators=100, XGBRegressor__nthread=1, XGBRegressor__subsample=0.7)': (3,\n",
       "  -818716164.64647555),\n",
       " 'XGBRegressor(ZeroCount(input_matrix), XGBRegressor__learning_rate=0.1, XGBRegressor__max_depth=4, XGBRegressor__min_child_weight=1, XGBRegressor__n_estimators=100, XGBRegressor__nthread=1, XGBRegressor__subsample=0.65)': (2,\n",
       "  -721738104.7443012),\n",
       " 'XGBRegressor(ZeroCount(input_matrix), XGBRegressor__learning_rate=0.1, XGBRegressor__max_depth=4, XGBRegressor__min_child_weight=1, XGBRegressor__n_estimators=100, XGBRegressor__nthread=1, XGBRegressor__subsample=0.7)': (2,\n",
       "  -727316629.16757536),\n",
       " 'XGBRegressor(ZeroCount(input_matrix), XGBRegressor__learning_rate=0.1, XGBRegressor__max_depth=4, XGBRegressor__min_child_weight=2, XGBRegressor__n_estimators=100, XGBRegressor__nthread=1, XGBRegressor__subsample=0.7)': (2,\n",
       "  -731306117.12163639),\n",
       " 'XGBRegressor(input_matrix, XGBRegressor__learning_rate=0.001, XGBRegressor__max_depth=2, XGBRegressor__min_child_weight=18, XGBRegressor__n_estimators=100, XGBRegressor__nthread=1, XGBRegressor__subsample=0.3)': (1,\n",
       "  -32671669191.609688),\n",
       " 'XGBRegressor(input_matrix, XGBRegressor__learning_rate=0.001, XGBRegressor__max_depth=3, XGBRegressor__min_child_weight=4, XGBRegressor__n_estimators=100, XGBRegressor__nthread=1, XGBRegressor__subsample=0.3)': (1,\n",
       "  -32650819324.250286),\n",
       " 'XGBRegressor(input_matrix, XGBRegressor__learning_rate=0.001, XGBRegressor__max_depth=4, XGBRegressor__min_child_weight=2, XGBRegressor__n_estimators=100, XGBRegressor__nthread=1, XGBRegressor__subsample=0.7)': (1,\n",
       "  -32559475276.35561),\n",
       " 'XGBRegressor(input_matrix, XGBRegressor__learning_rate=0.001, XGBRegressor__max_depth=4, XGBRegressor__min_child_weight=2, XGBRegressor__n_estimators=100, XGBRegressor__nthread=1, XGBRegressor__subsample=0.75)': (1,\n",
       "  -32558248928.613171),\n",
       " 'XGBRegressor(input_matrix, XGBRegressor__learning_rate=0.01, XGBRegressor__max_depth=10, XGBRegressor__min_child_weight=19, XGBRegressor__n_estimators=100, XGBRegressor__nthread=1, XGBRegressor__subsample=0.25)': (1,\n",
       "  -6962815839.67381),\n",
       " 'XGBRegressor(input_matrix, XGBRegressor__learning_rate=0.01, XGBRegressor__max_depth=3, XGBRegressor__min_child_weight=1, XGBRegressor__n_estimators=100, XGBRegressor__nthread=1, XGBRegressor__subsample=0.7)': (1,\n",
       "  -6784707410.7092533),\n",
       " 'XGBRegressor(input_matrix, XGBRegressor__learning_rate=0.01, XGBRegressor__max_depth=4, XGBRegressor__min_child_weight=1, XGBRegressor__n_estimators=100, XGBRegressor__nthread=1, XGBRegressor__subsample=0.7)': (1,\n",
       "  -6675477830.3791695),\n",
       " 'XGBRegressor(input_matrix, XGBRegressor__learning_rate=0.01, XGBRegressor__max_depth=4, XGBRegressor__min_child_weight=2, XGBRegressor__n_estimators=100, XGBRegressor__nthread=1, XGBRegressor__subsample=0.7)': (1,\n",
       "  -6668226934.7750111),\n",
       " 'XGBRegressor(input_matrix, XGBRegressor__learning_rate=0.1, XGBRegressor__max_depth=10, XGBRegressor__min_child_weight=2, XGBRegressor__n_estimators=100, XGBRegressor__nthread=1, XGBRegressor__subsample=0.7)': (1,\n",
       "  -733053549.45532453),\n",
       " 'XGBRegressor(input_matrix, XGBRegressor__learning_rate=0.1, XGBRegressor__max_depth=10, XGBRegressor__min_child_weight=2, XGBRegressor__n_estimators=100, XGBRegressor__nthread=1, XGBRegressor__subsample=0.75)': (1,\n",
       "  -750100493.52503872),\n",
       " 'XGBRegressor(input_matrix, XGBRegressor__learning_rate=0.1, XGBRegressor__max_depth=2, XGBRegressor__min_child_weight=1, XGBRegressor__n_estimators=100, XGBRegressor__nthread=1, XGBRegressor__subsample=0.7)': (1,\n",
       "  -808579142.98963475),\n",
       " 'XGBRegressor(input_matrix, XGBRegressor__learning_rate=0.1, XGBRegressor__max_depth=3, XGBRegressor__min_child_weight=1, XGBRegressor__n_estimators=100, XGBRegressor__nthread=1, XGBRegressor__subsample=0.25)': (1,\n",
       "  -900289961.29733026),\n",
       " 'XGBRegressor(input_matrix, XGBRegressor__learning_rate=0.1, XGBRegressor__max_depth=3, XGBRegressor__min_child_weight=1, XGBRegressor__n_estimators=100, XGBRegressor__nthread=1, XGBRegressor__subsample=0.7)': (1,\n",
       "  -726108527.32983708),\n",
       " 'XGBRegressor(input_matrix, XGBRegressor__learning_rate=0.1, XGBRegressor__max_depth=3, XGBRegressor__min_child_weight=1, XGBRegressor__n_estimators=100, XGBRegressor__nthread=1, XGBRegressor__subsample=0.75)': (1,\n",
       "  -715413438.16915095),\n",
       " 'XGBRegressor(input_matrix, XGBRegressor__learning_rate=0.1, XGBRegressor__max_depth=3, XGBRegressor__min_child_weight=16, XGBRegressor__n_estimators=100, XGBRegressor__nthread=1, XGBRegressor__subsample=0.7)': (1,\n",
       "  -847309213.29027462),\n",
       " 'XGBRegressor(input_matrix, XGBRegressor__learning_rate=0.1, XGBRegressor__max_depth=3, XGBRegressor__min_child_weight=2, XGBRegressor__n_estimators=100, XGBRegressor__nthread=1, XGBRegressor__subsample=0.05)': (1,\n",
       "  -950586913.23562491),\n",
       " 'XGBRegressor(input_matrix, XGBRegressor__learning_rate=0.1, XGBRegressor__max_depth=3, XGBRegressor__min_child_weight=2, XGBRegressor__n_estimators=100, XGBRegressor__nthread=1, XGBRegressor__subsample=0.7)': (1,\n",
       "  -735578036.70227849),\n",
       " 'XGBRegressor(input_matrix, XGBRegressor__learning_rate=0.1, XGBRegressor__max_depth=3, XGBRegressor__min_child_weight=2, XGBRegressor__n_estimators=100, XGBRegressor__nthread=1, XGBRegressor__subsample=0.75)': (1,\n",
       "  -710241924.17088079),\n",
       " 'XGBRegressor(input_matrix, XGBRegressor__learning_rate=0.1, XGBRegressor__max_depth=3, XGBRegressor__min_child_weight=2, XGBRegressor__n_estimators=100, XGBRegressor__nthread=1, XGBRegressor__subsample=0.95)': (1,\n",
       "  -801098473.29309058),\n",
       " 'XGBRegressor(input_matrix, XGBRegressor__learning_rate=0.1, XGBRegressor__max_depth=4, XGBRegressor__min_child_weight=1, XGBRegressor__n_estimators=100, XGBRegressor__nthread=1, XGBRegressor__subsample=0.05)': (1,\n",
       "  -973659862.46378767),\n",
       " 'XGBRegressor(input_matrix, XGBRegressor__learning_rate=0.1, XGBRegressor__max_depth=4, XGBRegressor__min_child_weight=1, XGBRegressor__n_estimators=100, XGBRegressor__nthread=1, XGBRegressor__subsample=0.6)': (1,\n",
       "  -734597553.49012446),\n",
       " 'XGBRegressor(input_matrix, XGBRegressor__learning_rate=0.1, XGBRegressor__max_depth=4, XGBRegressor__min_child_weight=1, XGBRegressor__n_estimators=100, XGBRegressor__nthread=1, XGBRegressor__subsample=0.65)': (1,\n",
       "  -709809671.28088367),\n",
       " 'XGBRegressor(input_matrix, XGBRegressor__learning_rate=0.1, XGBRegressor__max_depth=4, XGBRegressor__min_child_weight=1, XGBRegressor__n_estimators=100, XGBRegressor__nthread=1, XGBRegressor__subsample=0.7)': (1,\n",
       "  -709305674.46438253),\n",
       " 'XGBRegressor(input_matrix, XGBRegressor__learning_rate=0.1, XGBRegressor__max_depth=4, XGBRegressor__min_child_weight=1, XGBRegressor__n_estimators=100, XGBRegressor__nthread=1, XGBRegressor__subsample=0.75)': (1,\n",
       "  -687262232.72489655),\n",
       " 'XGBRegressor(input_matrix, XGBRegressor__learning_rate=0.1, XGBRegressor__max_depth=4, XGBRegressor__min_child_weight=1, XGBRegressor__n_estimators=100, XGBRegressor__nthread=1, XGBRegressor__subsample=0.8)': (1,\n",
       "  -704188835.31012821),\n",
       " 'XGBRegressor(input_matrix, XGBRegressor__learning_rate=0.1, XGBRegressor__max_depth=4, XGBRegressor__min_child_weight=11, XGBRegressor__n_estimators=100, XGBRegressor__nthread=1, XGBRegressor__subsample=0.7)': (1,\n",
       "  -800393347.79165685),\n",
       " 'XGBRegressor(input_matrix, XGBRegressor__learning_rate=0.1, XGBRegressor__max_depth=4, XGBRegressor__min_child_weight=12, XGBRegressor__n_estimators=100, XGBRegressor__nthread=1, XGBRegressor__subsample=0.65)': (1,\n",
       "  -805336974.07993579),\n",
       " 'XGBRegressor(input_matrix, XGBRegressor__learning_rate=0.1, XGBRegressor__max_depth=4, XGBRegressor__min_child_weight=14, XGBRegressor__n_estimators=100, XGBRegressor__nthread=1, XGBRegressor__subsample=0.75)': (1,\n",
       "  -817501730.54931712),\n",
       " 'XGBRegressor(input_matrix, XGBRegressor__learning_rate=0.1, XGBRegressor__max_depth=4, XGBRegressor__min_child_weight=15, XGBRegressor__n_estimators=100, XGBRegressor__nthread=1, XGBRegressor__subsample=0.7)': (1,\n",
       "  -789086217.35928845),\n",
       " 'XGBRegressor(input_matrix, XGBRegressor__learning_rate=0.1, XGBRegressor__max_depth=4, XGBRegressor__min_child_weight=15, XGBRegressor__n_estimators=100, XGBRegressor__nthread=1, XGBRegressor__subsample=0.75)': (1,\n",
       "  -800128514.11937487),\n",
       " 'XGBRegressor(input_matrix, XGBRegressor__learning_rate=0.1, XGBRegressor__max_depth=4, XGBRegressor__min_child_weight=18, XGBRegressor__n_estimators=100, XGBRegressor__nthread=1, XGBRegressor__subsample=0.7)': (1,\n",
       "  -793508850.12397552),\n",
       " 'XGBRegressor(input_matrix, XGBRegressor__learning_rate=0.1, XGBRegressor__max_depth=4, XGBRegressor__min_child_weight=2, XGBRegressor__n_estimators=100, XGBRegressor__nthread=1, XGBRegressor__subsample=0.05)': (1,\n",
       "  -953258686.85697401),\n",
       " 'XGBRegressor(input_matrix, XGBRegressor__learning_rate=0.1, XGBRegressor__max_depth=4, XGBRegressor__min_child_weight=2, XGBRegressor__n_estimators=100, XGBRegressor__nthread=1, XGBRegressor__subsample=0.1)': (1,\n",
       "  -893204247.64486432),\n",
       " 'XGBRegressor(input_matrix, XGBRegressor__learning_rate=0.1, XGBRegressor__max_depth=4, XGBRegressor__min_child_weight=2, XGBRegressor__n_estimators=100, XGBRegressor__nthread=1, XGBRegressor__subsample=0.15)': (1,\n",
       "  -903951461.33660853),\n",
       " 'XGBRegressor(input_matrix, XGBRegressor__learning_rate=0.1, XGBRegressor__max_depth=4, XGBRegressor__min_child_weight=2, XGBRegressor__n_estimators=100, XGBRegressor__nthread=1, XGBRegressor__subsample=0.2)': (1,\n",
       "  -907276202.39581966),\n",
       " 'XGBRegressor(input_matrix, XGBRegressor__learning_rate=0.1, XGBRegressor__max_depth=4, XGBRegressor__min_child_weight=2, XGBRegressor__n_estimators=100, XGBRegressor__nthread=1, XGBRegressor__subsample=0.3)': (1,\n",
       "  -802316774.2871567),\n",
       " 'XGBRegressor(input_matrix, XGBRegressor__learning_rate=0.1, XGBRegressor__max_depth=4, XGBRegressor__min_child_weight=2, XGBRegressor__n_estimators=100, XGBRegressor__nthread=1, XGBRegressor__subsample=0.5)': (1,\n",
       "  -765225980.95093489),\n",
       " 'XGBRegressor(input_matrix, XGBRegressor__learning_rate=0.1, XGBRegressor__max_depth=4, XGBRegressor__min_child_weight=2, XGBRegressor__n_estimators=100, XGBRegressor__nthread=1, XGBRegressor__subsample=0.55)': (1,\n",
       "  -763865964.96948385),\n",
       " 'XGBRegressor(input_matrix, XGBRegressor__learning_rate=0.1, XGBRegressor__max_depth=4, XGBRegressor__min_child_weight=2, XGBRegressor__n_estimators=100, XGBRegressor__nthread=1, XGBRegressor__subsample=0.65)': (1,\n",
       "  -724049430.88133001),\n",
       " 'XGBRegressor(input_matrix, XGBRegressor__learning_rate=0.1, XGBRegressor__max_depth=4, XGBRegressor__min_child_weight=2, XGBRegressor__n_estimators=100, XGBRegressor__nthread=1, XGBRegressor__subsample=0.7)': (1,\n",
       "  -662852609.06462336),\n",
       " 'XGBRegressor(input_matrix, XGBRegressor__learning_rate=0.1, XGBRegressor__max_depth=4, XGBRegressor__min_child_weight=2, XGBRegressor__n_estimators=100, XGBRegressor__nthread=1, XGBRegressor__subsample=0.75)': (1,\n",
       "  -686131162.98118663),\n",
       " 'XGBRegressor(input_matrix, XGBRegressor__learning_rate=0.1, XGBRegressor__max_depth=4, XGBRegressor__min_child_weight=2, XGBRegressor__n_estimators=100, XGBRegressor__nthread=1, XGBRegressor__subsample=0.8)': (1,\n",
       "  -742441608.02673852),\n",
       " 'XGBRegressor(input_matrix, XGBRegressor__learning_rate=0.1, XGBRegressor__max_depth=4, XGBRegressor__min_child_weight=2, XGBRegressor__n_estimators=100, XGBRegressor__nthread=1, XGBRegressor__subsample=0.95)': (1,\n",
       "  -784427363.59377694),\n",
       " 'XGBRegressor(input_matrix, XGBRegressor__learning_rate=0.1, XGBRegressor__max_depth=4, XGBRegressor__min_child_weight=2, XGBRegressor__n_estimators=100, XGBRegressor__nthread=1, XGBRegressor__subsample=1.0)': (1,\n",
       "  -805702039.01971436),\n",
       " 'XGBRegressor(input_matrix, XGBRegressor__learning_rate=0.1, XGBRegressor__max_depth=4, XGBRegressor__min_child_weight=20, XGBRegressor__n_estimators=100, XGBRegressor__nthread=1, XGBRegressor__subsample=0.7)': (1,\n",
       "  -803544049.52217436),\n",
       " 'XGBRegressor(input_matrix, XGBRegressor__learning_rate=0.1, XGBRegressor__max_depth=4, XGBRegressor__min_child_weight=3, XGBRegressor__n_estimators=100, XGBRegressor__nthread=1, XGBRegressor__subsample=0.7)': (1,\n",
       "  -716864208.03522277),\n",
       " 'XGBRegressor(input_matrix, XGBRegressor__learning_rate=0.1, XGBRegressor__max_depth=4, XGBRegressor__min_child_weight=5, XGBRegressor__n_estimators=100, XGBRegressor__nthread=1, XGBRegressor__subsample=0.2)': (1,\n",
       "  -843642774.13376677),\n",
       " 'XGBRegressor(input_matrix, XGBRegressor__learning_rate=0.1, XGBRegressor__max_depth=4, XGBRegressor__min_child_weight=5, XGBRegressor__n_estimators=100, XGBRegressor__nthread=1, XGBRegressor__subsample=0.7)': (1,\n",
       "  -792936861.18155217),\n",
       " 'XGBRegressor(input_matrix, XGBRegressor__learning_rate=0.1, XGBRegressor__max_depth=4, XGBRegressor__min_child_weight=5, XGBRegressor__n_estimators=100, XGBRegressor__nthread=1, XGBRegressor__subsample=0.75)': (1,\n",
       "  -767104984.40121973),\n",
       " 'XGBRegressor(input_matrix, XGBRegressor__learning_rate=0.1, XGBRegressor__max_depth=4, XGBRegressor__min_child_weight=7, XGBRegressor__n_estimators=100, XGBRegressor__nthread=1, XGBRegressor__subsample=0.7)': (1,\n",
       "  -816127154.33238041),\n",
       " 'XGBRegressor(input_matrix, XGBRegressor__learning_rate=0.1, XGBRegressor__max_depth=4, XGBRegressor__min_child_weight=8, XGBRegressor__n_estimators=100, XGBRegressor__nthread=1, XGBRegressor__subsample=0.7)': (1,\n",
       "  -861560848.37505913),\n",
       " 'XGBRegressor(input_matrix, XGBRegressor__learning_rate=0.1, XGBRegressor__max_depth=5, XGBRegressor__min_child_weight=2, XGBRegressor__n_estimators=100, XGBRegressor__nthread=1, XGBRegressor__subsample=0.7)': (1,\n",
       "  -706244167.12568724),\n",
       " 'XGBRegressor(input_matrix, XGBRegressor__learning_rate=0.1, XGBRegressor__max_depth=5, XGBRegressor__min_child_weight=2, XGBRegressor__n_estimators=100, XGBRegressor__nthread=1, XGBRegressor__subsample=0.95)': (1,\n",
       "  -754829136.43261492),\n",
       " 'XGBRegressor(input_matrix, XGBRegressor__learning_rate=0.1, XGBRegressor__max_depth=6, XGBRegressor__min_child_weight=1, XGBRegressor__n_estimators=100, XGBRegressor__nthread=1, XGBRegressor__subsample=0.7)': (1,\n",
       "  -738687554.19896829),\n",
       " 'XGBRegressor(input_matrix, XGBRegressor__learning_rate=0.1, XGBRegressor__max_depth=6, XGBRegressor__min_child_weight=1, XGBRegressor__n_estimators=100, XGBRegressor__nthread=1, XGBRegressor__subsample=0.95)': (1,\n",
       "  -773263707.78053248),\n",
       " 'XGBRegressor(input_matrix, XGBRegressor__learning_rate=0.1, XGBRegressor__max_depth=6, XGBRegressor__min_child_weight=13, XGBRegressor__n_estimators=100, XGBRegressor__nthread=1, XGBRegressor__subsample=0.7)': (1,\n",
       "  -802642256.57734656),\n",
       " 'XGBRegressor(input_matrix, XGBRegressor__learning_rate=0.1, XGBRegressor__max_depth=6, XGBRegressor__min_child_weight=14, XGBRegressor__n_estimators=100, XGBRegressor__nthread=1, XGBRegressor__subsample=0.7)': (1,\n",
       "  -788647336.24920774),\n",
       " 'XGBRegressor(input_matrix, XGBRegressor__learning_rate=0.1, XGBRegressor__max_depth=6, XGBRegressor__min_child_weight=15, XGBRegressor__n_estimators=100, XGBRegressor__nthread=1, XGBRegressor__subsample=0.2)': (1,\n",
       "  -882756671.42325401),\n",
       " 'XGBRegressor(input_matrix, XGBRegressor__learning_rate=0.1, XGBRegressor__max_depth=6, XGBRegressor__min_child_weight=15, XGBRegressor__n_estimators=100, XGBRegressor__nthread=1, XGBRegressor__subsample=0.95)': (1,\n",
       "  -821026672.49850178),\n",
       " 'XGBRegressor(input_matrix, XGBRegressor__learning_rate=0.1, XGBRegressor__max_depth=6, XGBRegressor__min_child_weight=2, XGBRegressor__n_estimators=100, XGBRegressor__nthread=1, XGBRegressor__subsample=0.35)': (1,\n",
       "  -864553987.77750039),\n",
       " 'XGBRegressor(input_matrix, XGBRegressor__learning_rate=0.1, XGBRegressor__max_depth=6, XGBRegressor__min_child_weight=2, XGBRegressor__n_estimators=100, XGBRegressor__nthread=1, XGBRegressor__subsample=0.7)': (1,\n",
       "  -727445024.19825804),\n",
       " 'XGBRegressor(input_matrix, XGBRegressor__learning_rate=0.1, XGBRegressor__max_depth=6, XGBRegressor__min_child_weight=2, XGBRegressor__n_estimators=100, XGBRegressor__nthread=1, XGBRegressor__subsample=0.75)': (1,\n",
       "  -726352695.11024523),\n",
       " 'XGBRegressor(input_matrix, XGBRegressor__learning_rate=0.1, XGBRegressor__max_depth=6, XGBRegressor__min_child_weight=2, XGBRegressor__n_estimators=100, XGBRegressor__nthread=1, XGBRegressor__subsample=0.8)': (1,\n",
       "  -739901983.03467727),\n",
       " 'XGBRegressor(input_matrix, XGBRegressor__learning_rate=0.1, XGBRegressor__max_depth=6, XGBRegressor__min_child_weight=2, XGBRegressor__n_estimators=100, XGBRegressor__nthread=1, XGBRegressor__subsample=0.95)': (1,\n",
       "  -730175538.8972764),\n",
       " 'XGBRegressor(input_matrix, XGBRegressor__learning_rate=0.1, XGBRegressor__max_depth=6, XGBRegressor__min_child_weight=3, XGBRegressor__n_estimators=100, XGBRegressor__nthread=1, XGBRegressor__subsample=0.7)': (1,\n",
       "  -740645951.60570109),\n",
       " 'XGBRegressor(input_matrix, XGBRegressor__learning_rate=0.1, XGBRegressor__max_depth=6, XGBRegressor__min_child_weight=5, XGBRegressor__n_estimators=100, XGBRegressor__nthread=1, XGBRegressor__subsample=0.95)': (1,\n",
       "  -847295740.30302453),\n",
       " 'XGBRegressor(input_matrix, XGBRegressor__learning_rate=0.1, XGBRegressor__max_depth=6, XGBRegressor__min_child_weight=7, XGBRegressor__n_estimators=100, XGBRegressor__nthread=1, XGBRegressor__subsample=0.7)': (1,\n",
       "  -831148581.70484233),\n",
       " 'XGBRegressor(input_matrix, XGBRegressor__learning_rate=0.1, XGBRegressor__max_depth=7, XGBRegressor__min_child_weight=2, XGBRegressor__n_estimators=100, XGBRegressor__nthread=1, XGBRegressor__subsample=0.55)': (1,\n",
       "  -780240743.51288867),\n",
       " 'XGBRegressor(input_matrix, XGBRegressor__learning_rate=0.1, XGBRegressor__max_depth=7, XGBRegressor__min_child_weight=2, XGBRegressor__n_estimators=100, XGBRegressor__nthread=1, XGBRegressor__subsample=0.7)': (1,\n",
       "  -746966585.80908501),\n",
       " 'XGBRegressor(input_matrix, XGBRegressor__learning_rate=0.1, XGBRegressor__max_depth=7, XGBRegressor__min_child_weight=2, XGBRegressor__n_estimators=100, XGBRegressor__nthread=1, XGBRegressor__subsample=0.75)': (1,\n",
       "  -727958735.1648525),\n",
       " 'XGBRegressor(input_matrix, XGBRegressor__learning_rate=0.1, XGBRegressor__max_depth=7, XGBRegressor__min_child_weight=2, XGBRegressor__n_estimators=100, XGBRegressor__nthread=1, XGBRegressor__subsample=0.95)': (1,\n",
       "  -767830660.20922601),\n",
       " 'XGBRegressor(input_matrix, XGBRegressor__learning_rate=0.1, XGBRegressor__max_depth=7, XGBRegressor__min_child_weight=8, XGBRegressor__n_estimators=100, XGBRegressor__nthread=1, XGBRegressor__subsample=0.7)': (1,\n",
       "  -788519215.33359969),\n",
       " 'XGBRegressor(input_matrix, XGBRegressor__learning_rate=0.1, XGBRegressor__max_depth=8, XGBRegressor__min_child_weight=2, XGBRegressor__n_estimators=100, XGBRegressor__nthread=1, XGBRegressor__subsample=0.7)': (1,\n",
       "  -748625868.83499753),\n",
       " 'XGBRegressor(input_matrix, XGBRegressor__learning_rate=0.1, XGBRegressor__max_depth=8, XGBRegressor__min_child_weight=2, XGBRegressor__n_estimators=100, XGBRegressor__nthread=1, XGBRegressor__subsample=0.75)': (1,\n",
       "  -742265588.60339427),\n",
       " 'XGBRegressor(input_matrix, XGBRegressor__learning_rate=0.1, XGBRegressor__max_depth=9, XGBRegressor__min_child_weight=2, XGBRegressor__n_estimators=100, XGBRegressor__nthread=1, XGBRegressor__subsample=0.7)': (1,\n",
       "  -744076376.71221423),\n",
       " 'XGBRegressor(input_matrix, XGBRegressor__learning_rate=0.5, XGBRegressor__max_depth=4, XGBRegressor__min_child_weight=1, XGBRegressor__n_estimators=100, XGBRegressor__nthread=1, XGBRegressor__subsample=0.7)': (1,\n",
       "  -972555881.52476668),\n",
       " 'XGBRegressor(input_matrix, XGBRegressor__learning_rate=0.5, XGBRegressor__max_depth=4, XGBRegressor__min_child_weight=2, XGBRegressor__n_estimators=100, XGBRegressor__nthread=1, XGBRegressor__subsample=0.7)': (1,\n",
       "  -1107635202.1382699),\n",
       " 'XGBRegressor(input_matrix, XGBRegressor__learning_rate=0.5, XGBRegressor__max_depth=5, XGBRegressor__min_child_weight=6, XGBRegressor__n_estimators=100, XGBRegressor__nthread=1, XGBRegressor__subsample=0.95)': (1,\n",
       "  -1051729014.9414301),\n",
       " 'XGBRegressor(input_matrix, XGBRegressor__learning_rate=0.5, XGBRegressor__max_depth=9, XGBRegressor__min_child_weight=19, XGBRegressor__n_estimators=100, XGBRegressor__nthread=1, XGBRegressor__subsample=0.8)': (1,\n",
       "  -1027284017.565439),\n",
       " 'XGBRegressor(input_matrix, XGBRegressor__learning_rate=1.0, XGBRegressor__max_depth=4, XGBRegressor__min_child_weight=2, XGBRegressor__n_estimators=100, XGBRegressor__nthread=1, XGBRegressor__subsample=0.75)': (1,\n",
       "  -1763659734.8980637),\n",
       " 'XGBRegressor(input_matrix, XGBRegressor__learning_rate=1.0, XGBRegressor__max_depth=7, XGBRegressor__min_child_weight=10, XGBRegressor__n_estimators=100, XGBRegressor__nthread=1, XGBRegressor__subsample=0.65)': (1,\n",
       "  -2534179193.7223825)}"
      ]
     },
     "execution_count": 43,
     "metadata": {},
     "output_type": "execute_result"
    }
   ],
   "source": [
    "tpot.evaluated_individuals_"
   ]
  },
  {
   "cell_type": "code",
   "execution_count": 129,
   "metadata": {},
   "outputs": [
    {
     "data": {
      "text/plain": [
       "Pipeline(memory=None,\n",
       "     steps=[('pca', PCA(copy=True, iterated_power=2, n_components=None, random_state=None,\n",
       "  svd_solver='randomized', tol=0.0, whiten=False)), ('fastica', FastICA(algorithm='parallel', fun='logcosh', fun_args=None, max_iter=200,\n",
       "    n_components=None, random_state=None, tol=0.45, w_init=None,\n",
       "    whiten=...inear', reg_alpha=0, reg_lambda=1,\n",
       "       scale_pos_weight=1, seed=0, silent=True, subsample=0.05))])"
      ]
     },
     "execution_count": 129,
     "metadata": {},
     "output_type": "execute_result"
    }
   ],
   "source": [
    "tpot.fitted_pipeline_"
   ]
  },
  {
   "cell_type": "markdown",
   "metadata": {},
   "source": [
    "### predict on test set"
   ]
  },
  {
   "cell_type": "code",
   "execution_count": 122,
   "metadata": {},
   "outputs": [
    {
     "name": "stdout",
     "output_type": "stream",
     "text": [
      "Imputing missing values in feature set\n"
     ]
    }
   ],
   "source": [
    "sales_pred = tpot.predict(test_array)"
   ]
  },
  {
   "cell_type": "code",
   "execution_count": 128,
   "metadata": {},
   "outputs": [],
   "source": [
    "# Create the csv file for submission\n",
    "sales_pred_df = pd.DataFrame({'Id': test_df.index, 'SalePrice': sales_pred})\n",
    "sales_pred_df.to_csv('/var/data/tpot_sales_pred.csv', index = False)"
   ]
  },
  {
   "cell_type": "code",
   "execution_count": null,
   "metadata": {},
   "outputs": [],
   "source": []
  }
 ],
 "metadata": {
  "kernelspec": {
   "display_name": "Python 3",
   "language": "python",
   "name": "python3"
  },
  "language_info": {
   "codemirror_mode": {
    "name": "ipython",
    "version": 3
   },
   "file_extension": ".py",
   "mimetype": "text/x-python",
   "name": "python",
   "nbconvert_exporter": "python",
   "pygments_lexer": "ipython3",
   "version": "3.6.2"
  }
 },
 "nbformat": 4,
 "nbformat_minor": 1
}
